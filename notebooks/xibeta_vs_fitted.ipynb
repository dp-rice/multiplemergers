{
 "cells": [
  {
   "cell_type": "code",
   "execution_count": 1,
   "metadata": {},
   "outputs": [],
   "source": [
    "import sys\n",
    "import numpy as np\n",
    "import matplotlib.pyplot as plt"
   ]
  },
  {
   "cell_type": "code",
   "execution_count": 2,
   "metadata": {},
   "outputs": [],
   "source": [
    "sys.path.insert(0, '../src/')\n",
    "import zivkovic as z\n",
    "import coalescentmoments as c\n",
    "import helpers as h"
   ]
  },
  {
   "cell_type": "code",
   "execution_count": 3,
   "metadata": {},
   "outputs": [],
   "source": [
    "def readsim(fn):\n",
    "    times = None\n",
    "    sizes = None\n",
    "    with open(fn) as infile:\n",
    "        while True:\n",
    "            line = infile.readline()\n",
    "            if not line.startswith(\"#\"):\n",
    "                break\n",
    "            elif line.startswith(\"#DEMOCHANGE_TIMES\"):\n",
    "                times = np.array(line.split(\"=\")[1].split(','), dtype=float)\n",
    "            elif line.startswith(\"#DEMOCHANGE_SIZES\"):\n",
    "                sizes = np.array(line.split(\"=\")[1].split(','), dtype=float)\n",
    "            print(line.strip())\n",
    "\n",
    "        sfs = np.array(line.split(), dtype=float)\n",
    "        twosfs = np.zeros((len(sfs), len(sfs)))\n",
    "        twosfs[np.triu_indices_from(twosfs)] = np.array(infile.readline().split(), dtype=float)\n",
    "        \n",
    "    twosfs[np.diag_indices_from(twosfs)] /= 2\n",
    "    twosfs += np.transpose(twosfs)\n",
    "    \n",
    "    # print(h.sfs2pi((sfs + sfs[::-1])[:50], 100))\n",
    "    sfs /= np.sum(sfs)\n",
    "    twosfs /= np.sum(twosfs)\n",
    "    return sfs, twosfs, times, sizes"
   ]
  },
  {
   "cell_type": "code",
   "execution_count": 4,
   "metadata": {},
   "outputs": [],
   "source": [
    "def lump_sfs(sfs, bmax):\n",
    "    sfs_lumped = np.zeros(bmax+1)\n",
    "    sfs_lumped[:bmax] = sfs[:bmax]\n",
    "    sfs_lumped[bmax] = sum(sfs[bmax:])\n",
    "    return(sfs_lumped)\n",
    "\n",
    "def lump_2sfs(twosfs, bmax):\n",
    "    lumped = np.zeros((bmax+1, bmax+1))\n",
    "    lumped[:bmax,:bmax] = twosfs[:bmax,:bmax]\n",
    "    lumped[bmax,:bmax] = np.sum(twosfs[bmax:,:bmax],axis=0)\n",
    "    lumped[:bmax, bmax] = np.sum(twosfs[:bmax:, bmax:],axis=1)\n",
    "    lumped[bmax, bmax] = np.sum(twosfs[bmax:,bmax:])\n",
    "    return(lumped)\n",
    "\n",
    "def kldiv(p, q):\n",
    "    return - np.sum(p*np.log2(q/p))\n"
   ]
  },
  {
   "cell_type": "code",
   "execution_count": 5,
   "metadata": {},
   "outputs": [
    {
     "name": "stdout",
     "output_type": "stream",
     "text": [
      "#N_SAMPLES=100\n",
      "#N_LOCI=100000\n",
      "#Tc=1\n",
      "#SFS_FROM=TREES\n",
      "#RECOMBINATION_RATE=0.0\n",
      "#GROWTH_RATE=0.0\n",
      "#ALPHA=2.0\n",
      "#N_SAMPLES=100\n",
      "#N_LOCI=100000\n",
      "#Tc=1\n",
      "#SFS_FROM=TREES\n",
      "#RECOMBINATION_RATE=0.0\n",
      "#GROWTH_RATE=0.0\n",
      "#ALPHA=2.0\n",
      "#DEMOCHANGE_TIMES=0.0,0.011344741692743894,0.4766063224638619,0.6913860170475844\n",
      "#DEMOCHANGE_SIZES=1.0,0.1662508802089224,0.9772907335993951,7.468952737961113\n"
     ]
    }
   ],
   "source": [
    "n = 100\n",
    "alpha = 1.5\n",
    "model = \"4EpochConst\"\n",
    "xibeta_fn = \"../simulations/msprime/jsfs_n-{}_xibeta-{}_r-0.0.txt\".format(n, alpha)\n",
    "kingman_fn = \"../simulations/msprime/jsfs_fastNeutrino-xibeta_n-{}_alpha-{}_{}_r-0.0.txt\".format(n,alpha,model)\n",
    "\n",
    "sfs_xibeta, twosfs_xibeta, _, _ = readsim(xibeta_fn)\n",
    "sfs_kingman, twosfs_kingman, times, sizes = readsim(kingman_fn)"
   ]
  },
  {
   "cell_type": "code",
   "execution_count": 6,
   "metadata": {},
   "outputs": [
    {
     "name": "stdout",
     "output_type": "stream",
     "text": [
      "[0.         0.01134474 0.47660632 0.69138602] [1.         0.16625088 0.97729073 7.46895274]\n"
     ]
    },
    {
     "data": {
      "text/plain": [
       "Text(0.5, 0, 'Time ($t / N_0)$')"
      ]
     },
     "execution_count": 6,
     "metadata": {},
     "output_type": "execute_result"
    },
    {
     "data": {
      "image/png": "[encoded data removed]",
      "text/plain": [
       "<Figure size 432x288 with 1 Axes>"
      ]
     },
     "metadata": {
      "needs_background": "light"
     },
     "output_type": "display_data"
    }
   ],
   "source": [
    "print(times, sizes)\n",
    "plt.loglog(list(times) + [5.0] , list(sizes) + [sizes[-1]], drawstyle=\"steps-post\")\n",
    "plt.xlim([1/500, 5])\n",
    "plt.ylim([1/12,12])\n",
    "plt.ylabel('Relative size, $N(t)/N_0$')\n",
    "plt.xlabel('Time ($t / N_0)$')"
   ]
  },
  {
   "cell_type": "code",
   "execution_count": 7,
   "metadata": {},
   "outputs": [
    {
     "data": {
      "text/plain": [
       "Text(0.5, 0, 'Derived allele count')"
      ]
     },
     "execution_count": 7,
     "metadata": {},
     "output_type": "execute_result"
    },
    {
     "data": {
      "image/png": "[encoded data removed]",
      "text/plain": [
       "<Figure size 432x288 with 1 Axes>"
      ]
     },
     "metadata": {
      "needs_background": "light"
     },
     "output_type": "display_data"
    }
   ],
   "source": [
    "plt.loglog(np.arange(1,n), sfs_xibeta/np.sum(sfs_xibeta), label=\"Xi-Beta coalescent\")\n",
    "plt.loglog(np.arange(1,n), sfs_kingman/np.sum(sfs_kingman), label=\"Kingman with variable $N(t)$\")\n",
    "plt.legend()\n",
    "plt.ylabel(\"Fraction of segregating sites\")\n",
    "plt.xlabel(\"Derived allele count\")"
   ]
  },
  {
   "cell_type": "code",
   "execution_count": 8,
   "metadata": {},
   "outputs": [],
   "source": [
    "lump_cutoff = 10\n",
    "lumped_sfs_xibeta = lump_sfs(sfs_xibeta, lump_cutoff)\n",
    "lumped_sfs_kingman = lump_sfs(sfs_kingman, lump_cutoff)\n",
    "lumped_2sfs_xibeta = lump_2sfs(twosfs_xibeta, lump_cutoff)\n",
    "lumped_2sfs_kingman = lump_2sfs(twosfs_kingman, lump_cutoff)"
   ]
  },
  {
   "cell_type": "code",
   "execution_count": 9,
   "metadata": {},
   "outputs": [
    {
     "name": "stdout",
     "output_type": "stream",
     "text": [
      "2.7909543861620327e-05\n"
     ]
    }
   ],
   "source": [
    "print(np.min(lumped_2sfs_kingman))"
   ]
  },
  {
   "cell_type": "code",
   "execution_count": 10,
   "metadata": {},
   "outputs": [],
   "source": [
    "pmi_xibeta = np.log2(lumped_2sfs_xibeta / (lumped_sfs_xibeta[:,None]*lumped_sfs_xibeta[None,:]))\n",
    "pmi_kingman = np.log2(lumped_2sfs_kingman / (lumped_sfs_kingman[:,None]*lumped_sfs_kingman[None,:]))"
   ]
  },
  {
   "cell_type": "code",
   "execution_count": 11,
   "metadata": {},
   "outputs": [
    {
     "data": {
      "text/plain": [
       "Text(0.5, 0, 'Derived allele count')"
      ]
     },
     "execution_count": 11,
     "metadata": {},
     "output_type": "execute_result"
    },
    {
     "data": {
      "image/png": "[encoded data removed]",
      "text/plain": [
       "<Figure size 432x288 with 1 Axes>"
      ]
     },
     "metadata": {
      "needs_background": "light"
     },
     "output_type": "display_data"
    }
   ],
   "source": [
    "ax = plt.subplot(111)\n",
    "ax.semilogy(np.arange(1,12), lumped_sfs_xibeta, 'x', label=\"Xi-Beta coalescent\")\n",
    "ax.semilogy(np.arange(1,12), lumped_sfs_kingman, '.', label=\"Kingman with fitted $N(t)$\")\n",
    "ax.set_xticks([1,3,5,7,9,11])\n",
    "ax.set_xticklabels([1,3,5,7,9,\">10\"])\n",
    "plt.legend()\n",
    "plt.ylabel(\"Fraction of segregating sites\")\n",
    "plt.xlabel(\"Derived allele count\")"
   ]
  },
  {
   "cell_type": "code",
   "execution_count": 12,
   "metadata": {},
   "outputs": [
    {
     "data": {
      "text/plain": [
       "0.3999480538827186"
      ]
     },
     "execution_count": 12,
     "metadata": {},
     "output_type": "execute_result"
    }
   ],
   "source": [
    "kldiv(lumped_2sfs_kingman, lumped_2sfs_xibeta)"
   ]
  },
  {
   "cell_type": "code",
   "execution_count": 13,
   "metadata": {},
   "outputs": [
    {
     "data": {
      "text/plain": [
       "<matplotlib.colorbar.Colorbar at 0x11af7b860>"
      ]
     },
     "execution_count": 13,
     "metadata": {},
     "output_type": "execute_result"
    },
    {
     "data": {
      "image/png": "[encoded data removed]",
      "text/plain": [
       "<Figure size 432x288 with 2 Axes>"
      ]
     },
     "metadata": {
      "needs_background": "light"
     },
     "output_type": "display_data"
    }
   ],
   "source": [
    "import matplotlib.colors as colors\n",
    "plt.pcolormesh(lumped_2sfs_xibeta/lumped_2sfs_kingman,\n",
    "               norm=colors.LogNorm(vmin=0.1, vmax=10),\n",
    "               cmap=\"PuOr_r\")\n",
    "plt.ylabel(\"Derived allele count\")\n",
    "plt.xlabel(\"Derived allele count\")\n",
    "plt.title(\"Xi-Beta 2-SFS / Fitted Kingman 2-SFS\")\n",
    "plt.colorbar()"
   ]
  },
  {
   "cell_type": "code",
   "execution_count": 14,
   "metadata": {},
   "outputs": [
    {
     "name": "stdout",
     "output_type": "stream",
     "text": [
      "0.3999480538827186\n"
     ]
    }
   ],
   "source": [
    "print(kldiv(lumped_2sfs_kingman, lumped_2sfs_xibeta))"
   ]
  },
  {
   "cell_type": "code",
   "execution_count": 15,
   "metadata": {},
   "outputs": [
    {
     "data": {
      "text/plain": [
       "<matplotlib.colorbar.Colorbar at 0x11b14cdd8>"
      ]
     },
     "execution_count": 15,
     "metadata": {},
     "output_type": "execute_result"
    },
    {
     "data": {
      "image/png": "[encoded data removed]",
      "text/plain": [
       "<Figure size 432x288 with 2 Axes>"
      ]
     },
     "metadata": {
      "needs_background": "light"
     },
     "output_type": "display_data"
    }
   ],
   "source": [
    "plt.pcolormesh(pmi_xibeta, vmin=-0.5, vmax=0.5, cmap='PuOr_r')\n",
    "plt.colorbar()"
   ]
  },
  {
   "cell_type": "code",
   "execution_count": 16,
   "metadata": {},
   "outputs": [
    {
     "data": {
      "text/plain": [
       "<matplotlib.colorbar.Colorbar at 0x11b1a0320>"
      ]
     },
     "execution_count": 16,
     "metadata": {},
     "output_type": "execute_result"
    },
    {
     "data": {
      "image/png": "[encoded data removed]",
      "text/plain": [
       "<Figure size 432x288 with 2 Axes>"
      ]
     },
     "metadata": {
      "needs_background": "light"
     },
     "output_type": "display_data"
    }
   ],
   "source": [
    "plt.pcolormesh(pmi_kingman, vmin=-2.5, vmax=2.5, cmap='PuOr_r')\n",
    "plt.colorbar()"
   ]
  },
  {
   "cell_type": "code",
   "execution_count": 17,
   "metadata": {},
   "outputs": [
    {
     "name": "stdout",
     "output_type": "stream",
     "text": [
      "#N_SAMPLES=100\n",
      "#N_LOCI=100000\n",
      "#Tc=1\n",
      "#SFS_FROM=TREES\n",
      "#RECOMBINATION_RATE=1.0\n",
      "#GROWTH_RATE=0.0\n",
      "#ALPHA=2.0\n",
      "#N_SAMPLES=100\n",
      "#N_LOCI=100000\n",
      "#Tc=1\n",
      "#SFS_FROM=TREES\n",
      "#RECOMBINATION_RATE=3.0\n",
      "#GROWTH_RATE=0.0\n",
      "#ALPHA=2.0\n",
      "#DEMOCHANGE_TIMES=0.0,0.011344741692743894,0.4766063224638619,0.6913860170475844\n",
      "#DEMOCHANGE_SIZES=1.0,0.1662508802089224,0.9772907335993951,7.468952737961113\n"
     ]
    }
   ],
   "source": [
    "xibeta_fn = \"../simulations/msprime/jsfs_n-{}_xibeta-{}_r-1.0.txt\".format(n, alpha)\n",
    "kingman_fn = \"../simulations/msprime/jsfs_fastNeutrino-xibeta_n-{}_alpha-{}_{}_r-3.0.txt\".format(n,alpha,model)\n",
    "\n",
    "sfs_xibeta, twosfs_xibeta, _, _ = readsim(xibeta_fn)\n",
    "sfs_kingman, twosfs_kingman, times, sizes = readsim(kingman_fn)\n",
    "\n",
    "lumped_sfs_xibeta = lump_sfs(sfs_xibeta, lump_cutoff)\n",
    "lumped_sfs_kingman = lump_sfs(sfs_kingman, lump_cutoff)\n",
    "lumped_2sfs_xibeta = lump_2sfs(twosfs_xibeta, lump_cutoff)\n",
    "lumped_2sfs_kingman = lump_2sfs(twosfs_kingman, lump_cutoff)"
   ]
  },
  {
   "cell_type": "code",
   "execution_count": 18,
   "metadata": {},
   "outputs": [
    {
     "data": {
      "text/plain": [
       "<matplotlib.colorbar.Colorbar at 0x11b400048>"
      ]
     },
     "execution_count": 18,
     "metadata": {},
     "output_type": "execute_result"
    },
    {
     "data": {
      "image/png": "[encoded data removed]",
      "text/plain": [
       "<Figure size 432x288 with 2 Axes>"
      ]
     },
     "metadata": {
      "needs_background": "light"
     },
     "output_type": "display_data"
    }
   ],
   "source": [
    "plt.pcolormesh(lumped_2sfs_xibeta/lumped_2sfs_kingman,\n",
    "               norm=colors.LogNorm(vmin=0.5, vmax=2),\n",
    "               cmap=\"PuOr_r\")\n",
    "plt.ylabel(\"Derived allele count\")\n",
    "plt.xlabel(\"Derived allele count\")\n",
    "plt.title(\"Xi-Beta 2-SFS / Fitted Kingman 2-SFS\")\n",
    "plt.colorbar()"
   ]
  },
  {
   "cell_type": "code",
   "execution_count": 19,
   "metadata": {},
   "outputs": [
    {
     "name": "stdout",
     "output_type": "stream",
     "text": [
      "0.09691475273919559\n"
     ]
    }
   ],
   "source": [
    "print(kldiv(lumped_2sfs_kingman, lumped_2sfs_xibeta))"
   ]
  },
  {
   "cell_type": "code",
   "execution_count": 20,
   "metadata": {},
   "outputs": [
    {
     "name": "stdout",
     "output_type": "stream",
     "text": [
      "[0.00000000e+00 3.00000000e-01 6.46330407e-01 1.39247665e+00\n",
      " 3.00000000e+00 6.46330407e+00 1.39247665e+01 3.00000000e+01\n",
      " 6.46330407e+01 1.39247665e+02 3.00000000e+02 6.46330407e+02\n",
      " 1.39247665e+03 3.00000000e+03]\n",
      "#N_SAMPLES=100\n",
      "#N_LOCI=100000\n",
      "#Tc=1\n",
      "#SFS_FROM=TREES\n",
      "#RECOMBINATION_RATE=0.0\n",
      "#GROWTH_RATE=0.0\n",
      "#ALPHA=2.0\n",
      "#N_SAMPLES=100\n",
      "#N_LOCI=100000\n",
      "#Tc=1\n",
      "#SFS_FROM=TREES\n",
      "#RECOMBINATION_RATE=0.0\n",
      "#GROWTH_RATE=0.0\n",
      "#ALPHA=2.0\n",
      "#DEMOCHANGE_TIMES=0.0,0.011344741692743894,0.4766063224638619,0.6913860170475844\n",
      "#DEMOCHANGE_SIZES=1.0,0.1662508802089224,0.9772907335993951,7.468952737961113\n",
      "#N_SAMPLES=100\n",
      "#N_LOCI=100000\n",
      "#Tc=1\n",
      "#SFS_FROM=TREES\n",
      "#RECOMBINATION_RATE=0.1\n",
      "#GROWTH_RATE=0.0\n",
      "#ALPHA=2.0\n",
      "#N_SAMPLES=100\n",
      "#N_LOCI=100000\n",
      "#Tc=1\n",
      "#SFS_FROM=TREES\n",
      "#RECOMBINATION_RATE=0.30000000000000004\n",
      "#GROWTH_RATE=0.0\n",
      "#ALPHA=2.0\n",
      "#DEMOCHANGE_TIMES=0.0,0.011344741692743894,0.4766063224638619,0.6913860170475844\n",
      "#DEMOCHANGE_SIZES=1.0,0.1662508802089224,0.9772907335993951,7.468952737961113\n",
      "#N_SAMPLES=100\n",
      "#N_LOCI=100000\n",
      "#Tc=1\n",
      "#SFS_FROM=TREES\n",
      "#RECOMBINATION_RATE=0.21544346900318834\n",
      "#GROWTH_RATE=0.0\n",
      "#ALPHA=2.0\n",
      "#N_SAMPLES=100\n",
      "#N_LOCI=100000\n",
      "#Tc=1\n",
      "#SFS_FROM=TREES\n",
      "#RECOMBINATION_RATE=0.646330407009565\n",
      "#GROWTH_RATE=0.0\n",
      "#ALPHA=2.0\n",
      "#DEMOCHANGE_TIMES=0.0,0.011344741692743894,0.4766063224638619,0.6913860170475844\n",
      "#DEMOCHANGE_SIZES=1.0,0.1662508802089224,0.9772907335993951,7.468952737961113\n",
      "#N_SAMPLES=100\n",
      "#N_LOCI=100000\n",
      "#Tc=1\n",
      "#SFS_FROM=TREES\n",
      "#RECOMBINATION_RATE=0.46415888336127786\n",
      "#GROWTH_RATE=0.0\n",
      "#ALPHA=2.0\n",
      "#N_SAMPLES=100\n",
      "#N_LOCI=100000\n",
      "#Tc=1\n",
      "#SFS_FROM=TREES\n",
      "#RECOMBINATION_RATE=1.3924766500838337\n",
      "#GROWTH_RATE=0.0\n",
      "#ALPHA=2.0\n",
      "#DEMOCHANGE_TIMES=0.0,0.011344741692743894,0.4766063224638619,0.6913860170475844\n",
      "#DEMOCHANGE_SIZES=1.0,0.1662508802089224,0.9772907335993951,7.468952737961113\n",
      "#N_SAMPLES=100\n",
      "#N_LOCI=100000\n",
      "#Tc=1\n",
      "#SFS_FROM=TREES\n",
      "#RECOMBINATION_RATE=1.0\n",
      "#GROWTH_RATE=0.0\n",
      "#ALPHA=2.0\n",
      "#N_SAMPLES=100\n",
      "#N_LOCI=100000\n",
      "#Tc=1\n",
      "#SFS_FROM=TREES\n",
      "#RECOMBINATION_RATE=3.0\n",
      "#GROWTH_RATE=0.0\n",
      "#ALPHA=2.0\n",
      "#DEMOCHANGE_TIMES=0.0,0.011344741692743894,0.4766063224638619,0.6913860170475844\n",
      "#DEMOCHANGE_SIZES=1.0,0.1662508802089224,0.9772907335993951,7.468952737961113\n",
      "#N_SAMPLES=100\n",
      "#N_LOCI=100000\n",
      "#Tc=1\n",
      "#SFS_FROM=TREES\n",
      "#RECOMBINATION_RATE=2.1544346900318834\n",
      "#GROWTH_RATE=0.0\n",
      "#ALPHA=2.0\n",
      "#N_SAMPLES=100\n",
      "#N_LOCI=100000\n",
      "#Tc=1\n",
      "#SFS_FROM=TREES\n",
      "#RECOMBINATION_RATE=6.46330407009565\n",
      "#GROWTH_RATE=0.0\n",
      "#ALPHA=2.0\n",
      "#DEMOCHANGE_TIMES=0.0,0.011344741692743894,0.4766063224638619,0.6913860170475844\n",
      "#DEMOCHANGE_SIZES=1.0,0.1662508802089224,0.9772907335993951,7.468952737961113\n",
      "#N_SAMPLES=100\n",
      "#N_LOCI=100000\n",
      "#Tc=1\n",
      "#SFS_FROM=TREES\n",
      "#RECOMBINATION_RATE=4.6415888336127775\n",
      "#GROWTH_RATE=0.0\n",
      "#ALPHA=2.0\n",
      "#N_SAMPLES=100\n",
      "#N_LOCI=100000\n",
      "#Tc=1\n",
      "#SFS_FROM=TREES\n",
      "#RECOMBINATION_RATE=13.924766500838333\n",
      "#GROWTH_RATE=0.0\n",
      "#ALPHA=2.0\n",
      "#DEMOCHANGE_TIMES=0.0,0.011344741692743894,0.4766063224638619,0.6913860170475844\n",
      "#DEMOCHANGE_SIZES=1.0,0.1662508802089224,0.9772907335993951,7.468952737961113\n",
      "#N_SAMPLES=100\n",
      "#N_LOCI=100000\n",
      "#Tc=1\n",
      "#SFS_FROM=TREES\n",
      "#RECOMBINATION_RATE=10.0\n",
      "#GROWTH_RATE=0.0\n",
      "#ALPHA=2.0\n",
      "#N_SAMPLES=100\n",
      "#N_LOCI=100000\n",
      "#Tc=1\n",
      "#SFS_FROM=TREES\n",
      "#RECOMBINATION_RATE=30.0\n",
      "#GROWTH_RATE=0.0\n",
      "#ALPHA=2.0\n",
      "#DEMOCHANGE_TIMES=0.0,0.011344741692743894,0.4766063224638619,0.6913860170475844\n",
      "#DEMOCHANGE_SIZES=1.0,0.1662508802089224,0.9772907335993951,7.468952737961113\n"
     ]
    }
   ],
   "source": [
    "RS = np.insert(np.logspace(-1, 3, 13), 0, 0.0)\n",
    "print(3*RS)\n",
    "n_rs = 8\n",
    "kldivs = np.zeros(n_rs)\n",
    "for i, r in enumerate(RS[:n_rs]):\n",
    "    xibeta_fn = \"../simulations/msprime/jsfs_n-{}_xibeta-{}_r-{}.txt\".format(n, alpha, r)\n",
    "    kingman_fn = \"../simulations/msprime/jsfs_fastNeutrino-xibeta_n-{}_alpha-{}_{}_r-{}.txt\".format(n,alpha,model,3*r)\n",
    "\n",
    "    sfs_xibeta, twosfs_xibeta, _, _ = readsim(xibeta_fn)\n",
    "    try:\n",
    "        sfs_kingman, twosfs_kingman, times, sizes = readsim(kingman_fn)\n",
    "\n",
    "        lumped_2sfs_xibeta = lump_2sfs(twosfs_xibeta, lump_cutoff)\n",
    "        lumped_2sfs_kingman = lump_2sfs(twosfs_kingman, lump_cutoff)\n",
    "    \n",
    "        kldivs[i] = kldiv(lumped_2sfs_kingman, lumped_2sfs_xibeta)\n",
    "    except:\n",
    "        pass"
   ]
  },
  {
   "cell_type": "code",
   "execution_count": 21,
   "metadata": {},
   "outputs": [
    {
     "data": {
      "text/plain": [
       "Text(0.5, 1.0, 'Xi-Beta vs. Kingman 2-SFS')"
      ]
     },
     "execution_count": 21,
     "metadata": {},
     "output_type": "execute_result"
    },
    {
     "data": {
      "image/png": "[encoded data removed]",
      "text/plain": [
       "<Figure size 432x288 with 1 Axes>"
      ]
     },
     "metadata": {
      "needs_background": "light"
     },
     "output_type": "display_data"
    }
   ],
   "source": [
    "plt.semilogx(3*RS[:8], kldivs, 'o')\n",
    "plt.hlines(kldivs[0], 0, 30, color=\"C0\", label=\"$r T_2=0$\")\n",
    "plt.ylim([0,0.45])\n",
    "plt.legend()\n",
    "plt.ylabel(\"KL Divergence\")\n",
    "plt.xlabel(\"Scaled recombination rate, $r T_2$\")\n",
    "plt.title(\"Xi-Beta vs. Kingman 2-SFS\")"
   ]
  },
  {
   "cell_type": "code",
   "execution_count": null,
   "metadata": {},
   "outputs": [],
   "source": []
  }
 ],
 "metadata": {
  "kernelspec": {
   "display_name": "Python 3",
   "language": "python",
   "name": "python3"
  },
  "language_info": {
   "codemirror_mode": {
    "name": "ipython",
    "version": 3
   },
   "file_extension": ".py",
   "mimetype": "text/x-python",
   "name": "python",
   "nbconvert_exporter": "python",
   "pygments_lexer": "ipython3",
   "version": "3.6.8"
  }
 },
 "nbformat": 4,
 "nbformat_minor": 2
}
