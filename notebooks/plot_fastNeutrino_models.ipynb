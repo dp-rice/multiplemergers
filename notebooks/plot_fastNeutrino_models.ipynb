{
 "cells": [
  {
   "cell_type": "code",
   "execution_count": 1,
   "metadata": {
    "collapsed": true
   },
   "outputs": [],
   "source": [
    "import numpy as np\n",
    "import matplotlib.pyplot as plt\n",
    "import functools\n",
    "%matplotlib inline"
   ]
  },
  {
   "cell_type": "markdown",
   "metadata": {},
   "source": [
    "# Reading model files and plotting population size"
   ]
  },
  {
   "cell_type": "code",
   "execution_count": null,
   "metadata": {
    "collapsed": true
   },
   "outputs": [],
   "source": [
    "chroms = ['Chr' + x for x in ['2L','2R','3L','3R']]"
   ]
  },
  {
   "cell_type": "code",
   "execution_count": null,
   "metadata": {
    "collapsed": true
   },
   "outputs": [],
   "source": [
    "models = ['2EpochC', '2EpochE']"
   ]
  },
  {
   "cell_type": "code",
   "execution_count": null,
   "metadata": {},
   "outputs": [],
   "source": [
    "for c in chroms:\n",
    "    model = import_fastNeutrino_fit('../fastNeutrino/fitted_params/{}.2EpochC.txt'.format(c))\n",
    "    print(model)"
   ]
  },
  {
   "cell_type": "markdown",
   "metadata": {},
   "source": [
    "## Exploring numpy.piecewise"
   ]
  },
  {
   "cell_type": "code",
   "execution_count": null,
   "metadata": {
    "collapsed": true
   },
   "outputs": [],
   "source": [
    "x = np.arange(1,100)"
   ]
  },
  {
   "cell_type": "code",
   "execution_count": null,
   "metadata": {},
   "outputs": [],
   "source": [
    "y = np.piecewise(x, [x<50, x>=50], [5,lambda x: x])"
   ]
  },
  {
   "cell_type": "code",
   "execution_count": null,
   "metadata": {},
   "outputs": [],
   "source": [
    "plt.plot(x,y)"
   ]
  },
  {
   "cell_type": "code",
   "execution_count": null,
   "metadata": {},
   "outputs": [],
   "source": [
    "z = np.piecewise(x, [10<x<50, x<80], [5,10])\n",
    "plt.plot(x,z)"
   ]
  },
  {
   "cell_type": "code",
   "execution_count": null,
   "metadata": {
    "collapsed": true
   },
   "outputs": [],
   "source": [
    "f = lambda x: np.piecewise(x, [x<50, x>=50], [1, lambda v: np.exp(v/100.0)])"
   ]
  },
  {
   "cell_type": "code",
   "execution_count": null,
   "metadata": {},
   "outputs": [],
   "source": [
    "plt.plot(x,f(x))"
   ]
  },
  {
   "cell_type": "code",
   "execution_count": null,
   "metadata": {},
   "outputs": [],
   "source": [
    "a = np.arange(0,6,0.01)\n",
    "b = np.piecewise(a, [a<3,a>=3], [0,lambda c: np.exp(c)])\n",
    "plt.plot(a,b)"
   ]
  },
  {
   "cell_type": "code",
   "execution_count": null,
   "metadata": {
    "collapsed": true
   },
   "outputs": [],
   "source": [
    "f = lambda x: np.piecewise(x, [x>=0,x>=3,x>=5], [1,lambda c: np.exp(c), 100])"
   ]
  },
  {
   "cell_type": "code",
   "execution_count": null,
   "metadata": {},
   "outputs": [],
   "source": [
    "plt.semilogy(a,f(a))\n",
    "plt.semilogy(a,f(2*a))"
   ]
  },
  {
   "cell_type": "code",
   "execution_count": null,
   "metadata": {},
   "outputs": [],
   "source": [
    "f = lambda x: np.piecewise(x, [x<=1, x<=2, x<=3, np.ones_like(x, dtype=bool)], [0, 1, 2, 3])"
   ]
  },
  {
   "cell_type": "code",
   "execution_count": null,
   "metadata": {},
   "outputs": [],
   "source": [
    "x = np.arange(0,6,0.1)\n",
    "y = f(x)\n",
    "plt.plot(x, f(x))"
   ]
  },
  {
   "cell_type": "code",
   "execution_count": null,
   "metadata": {
    "collapsed": true
   },
   "outputs": [],
   "source": [
    "f = lambda x: np.piecewise(x, [np.ones_like(x, dtype=bool), x<=2, x<=1], [0,1,2])"
   ]
  },
  {
   "cell_type": "code",
   "execution_count": null,
   "metadata": {},
   "outputs": [],
   "source": [
    "x = np.arange(0,6,0.1)\n",
    "y = f(x)\n",
    "plt.plot(x, f(x))"
   ]
  },
  {
   "cell_type": "code",
   "execution_count": null,
   "metadata": {
    "collapsed": true
   },
   "outputs": [],
   "source": [
    "f = lambda x: np.piecewise(x, [x>=0, x>=1, x>=2], [0,1,2])"
   ]
  },
  {
   "cell_type": "code",
   "execution_count": null,
   "metadata": {},
   "outputs": [],
   "source": [
    "x = np.arange(0,6,0.1)\n",
    "y = f(x)\n",
    "plt.plot(x, f(x))"
   ]
  },
  {
   "cell_type": "code",
   "execution_count": null,
   "metadata": {
    "collapsed": true
   },
   "outputs": [],
   "source": [
    "## Reading fastNeutrino fitted model files"
   ]
  },
  {
   "cell_type": "markdown",
   "metadata": {},
   "source": [
    "Model file specification:\n",
    "1. First line gives the ancestral (i.e., oldest) population size.\n",
    "2. Subsequent lines give demographic epochs *from most recent to most ancient*\n",
    "3. Each epoch is either \"c\" (constant size) or \"e\" (exponential growth/decline).\n",
    "5. \"c\" epochs have two parameters: $N$, the population size during the epoch; and $t$, the start time of the epoch.\n",
    "6. \"e\" epochs have three parameters: $N$, the population size at the *end* of the epoch; $t$, the start time of the epoch; and $r$, the growth rate per generation.\n",
    "7. All times are in generations."
   ]
  },
  {
   "cell_type": "code",
   "execution_count": 2,
   "metadata": {
    "collapsed": true
   },
   "outputs": [],
   "source": [
    "def exponential_growth(n0, t0, r, T):\n",
    "    '''Calculate N(t) for exponentially-growing population back in time'''\n",
    "    return n0*np.exp(-(T-t0)*r)"
   ]
  },
  {
   "cell_type": "code",
   "execution_count": 7,
   "metadata": {},
   "outputs": [],
   "source": [
    "class DemographicModel:\n",
    "    '''Simple data structure to store fastNeutrino demographic models.'''\n",
    "    \n",
    "    def __init__(self):\n",
    "        # Number of epochs. Must equal the lengths of the following lists:\n",
    "        self.num_epochs = 0\n",
    "        # Epoch start times\n",
    "        self.times = []\n",
    "        # Epoch final sizes\n",
    "        self.sizes = []\n",
    "        # Epoch growth rates\n",
    "        self.rates = []\n",
    "        \n",
    "    def add_epoch(self, time, size, rate):\n",
    "        '''Add new epoch to the demographic model. Must be added from most recent to most ancient.'''\n",
    "        # WARNING: Should only add epochs from most recent to least\n",
    "        self.num_epochs += 1\n",
    "        self.times.append(time)\n",
    "        self.sizes.append(size)\n",
    "        self.rates.append(rate)\n",
    "    \n",
    "    def population_size(self, T):\n",
    "        '''Return the population size at time T'''\n",
    "        \n",
    "        if self.num_epochs == 0:\n",
    "            # No epochs have been added.\n",
    "            return np.empty_like(T)\n",
    "        else:\n",
    "            # Evalute piecewise exponential growth during each epoch.\n",
    "            conditions = [T>=t0 for t0 in self.times]\n",
    "            functions = [functools.partial(exponential_growth, *args)\n",
    "                         for args in zip(self.sizes, self.times, self.rates)]\n",
    "            return np.piecewise(t, conditions, functions)"
   ]
  },
  {
   "cell_type": "code",
   "execution_count": 4,
   "metadata": {
    "collapsed": true
   },
   "outputs": [],
   "source": [
    "def import_fastNeutrino_model(model_fn):\n",
    "    '''Read a fastNeutrino output file and return a DemographicModel object.'''\n",
    "    \n",
    "    model = DemographicModel()\n",
    "    with open(model_fn) as modelfile:\n",
    "        header = modelfile.readline()\n",
    "        n_anc = float(modelfile.readline())\n",
    "        start_time = 0.0\n",
    "        \n",
    "        for line in modelfile:\n",
    "            if line.startswith('c'):\n",
    "                n, t = map(float, line.split()[-2:])\n",
    "                g = 0.0\n",
    "            elif line.startswith('e'):\n",
    "                n, t, g = map(float, line.split()[-3:])\n",
    "            else:\n",
    "                print('Warning, bad line: ' + line.strip())\n",
    "                break\n",
    "                \n",
    "            model.add_epoch(start_time, n, g)\n",
    "            start_time = t\n",
    "    model.add_epoch(start_time, n_anc, 0.0)\n",
    "    return model"
   ]
  },
  {
   "cell_type": "code",
   "execution_count": 5,
   "metadata": {},
   "outputs": [
    {
     "name": "stdout",
     "output_type": "stream",
     "text": [
      "[0.0, 2941.84, 47460.9] [8430405.247, 610238.9257, 300000.0] [0.000892952, 0.0, 0.0] 3\n"
     ]
    }
   ],
   "source": [
    "test_fn = '../fastNeutrino/fitted_params/Chr2L.3EpochCE.txt'\n",
    "model = import_fastNeutrino_model(test_fn)\n",
    "print(model.times, model.sizes, model.rates, model.num_epochs)"
   ]
  },
  {
   "cell_type": "code",
   "execution_count": 6,
   "metadata": {},
   "outputs": [
    {
     "data": {
      "text/plain": [
       "[<matplotlib.lines.Line2D at 0x106f34f60>]"
      ]
     },
     "execution_count": 6,
     "metadata": {},
     "output_type": "execute_result"
    },
    {
     "data": {
      "image/png": "[encoded data removed]",
      "text/plain": [
       "<matplotlib.figure.Figure at 0x10ccd2f60>"
      ]
     },
     "metadata": {},
     "output_type": "display_data"
    }
   ],
   "source": [
    "t = np.arange(100000)\n",
    "plt.hlines(model.sizes, 1, 1e5, linestyle='dashed', color='0.5')\n",
    "plt.vlines(model.times, 1e4, 1e7, linestyle='dotted', color='0.5')\n",
    "plt.loglog(t, model.population_size(t), lw=2)"
   ]
  },
  {
   "cell_type": "code",
   "execution_count": null,
   "metadata": {
    "collapsed": true
   },
   "outputs": [],
   "source": []
  }
 ],
 "metadata": {
  "kernelspec": {
   "display_name": "Python 3",
   "language": "python",
   "name": "python3"
  },
  "language_info": {
   "codemirror_mode": {
    "name": "ipython",
    "version": 3
   },
   "file_extension": ".py",
   "mimetype": "text/x-python",
   "name": "python",
   "nbconvert_exporter": "python",
   "pygments_lexer": "ipython3",
   "version": "3.5.3"
  }
 },
 "nbformat": 4,
 "nbformat_minor": 2
}
