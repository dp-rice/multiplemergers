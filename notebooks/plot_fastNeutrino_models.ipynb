{
 "cells": [
  {
   "cell_type": "code",
   "execution_count": 6,
   "metadata": {
    "collapsed": true
   },
   "outputs": [],
   "source": [
    "import numpy as np\n",
    "import matplotlib.pyplot as plt\n",
    "%matplotlib inline"
   ]
  },
  {
   "cell_type": "markdown",
   "metadata": {},
   "source": [
    "# Plotting models fitted with fastNeutrino"
   ]
  },
  {
   "cell_type": "code",
   "execution_count": 2,
   "metadata": {
    "collapsed": true
   },
   "outputs": [],
   "source": [
    "def import_fastNeutrino_fit(fn):\n",
    "    times = []\n",
    "    functions = []\n",
    "    with open(fn) as f:\n",
    "        header = f.readline()\n",
    "        n_anc = int(f.readline())\n",
    "        for line in f:\n",
    "            if line.startswith('c'):\n",
    "                n, t = list(map(float, line.split()[-2:]))\n",
    "                print(n,t)\n",
    "            elif line.startswith('e'):\n",
    "                pass\n",
    "            else:\n",
    "                break\n",
    "        #return n_anc, params"
   ]
  },
  {
   "cell_type": "code",
   "execution_count": 72,
   "metadata": {
    "collapsed": true
   },
   "outputs": [],
   "source": [
    "chroms = ['Chr' + x for x in ['2L','2R','3L','3R']]"
   ]
  },
  {
   "cell_type": "code",
   "execution_count": 73,
   "metadata": {
    "collapsed": true
   },
   "outputs": [],
   "source": [
    "models = ['2EpochC', '2EpochE']"
   ]
  },
  {
   "cell_type": "code",
   "execution_count": 74,
   "metadata": {},
   "outputs": [
    {
     "name": "stdout",
     "output_type": "stream",
     "text": [
      "758086.516 33169.7\n",
      "None\n",
      "772058.4796 26249.9\n",
      "None\n",
      "635450.7226 23552.5\n",
      "None\n",
      "825823.0018 46596.9\n",
      "None\n"
     ]
    }
   ],
   "source": [
    "for c in chroms:\n",
    "    model = import_fastNeutrino_fit('../fastNeutrino/fitted_params/{}.2EpochC.txt'.format(c))\n",
    "    print(model)"
   ]
  },
  {
   "cell_type": "markdown",
   "metadata": {},
   "source": [
    "# numpy.piecewise"
   ]
  },
  {
   "cell_type": "code",
   "execution_count": 22,
   "metadata": {
    "collapsed": true
   },
   "outputs": [],
   "source": [
    "x = np.arange(1,100)"
   ]
  },
  {
   "cell_type": "code",
   "execution_count": 18,
   "metadata": {},
   "outputs": [],
   "source": [
    "y = np.piecewise(x, [x<50, x>=50], [5,lambda x: x])"
   ]
  },
  {
   "cell_type": "code",
   "execution_count": 19,
   "metadata": {},
   "outputs": [
    {
     "data": {
      "text/plain": [
       "[<matplotlib.lines.Line2D at 0x10a915fd0>]"
      ]
     },
     "execution_count": 19,
     "metadata": {},
     "output_type": "execute_result"
    },
    {
     "data": {
      "image/png": "[encoded data removed]",
      "text/plain": [
       "<matplotlib.figure.Figure at 0x10a6f0eb8>"
      ]
     },
     "metadata": {},
     "output_type": "display_data"
    }
   ],
   "source": [
    "plt.plot(x,y)"
   ]
  },
  {
   "cell_type": "code",
   "execution_count": 11,
   "metadata": {},
   "outputs": [
    {
     "ename": "ValueError",
     "evalue": "The truth value of an array with more than one element is ambiguous. Use a.any() or a.all()",
     "output_type": "error",
     "traceback": [
      "\u001b[0;31m---------------------------------------------------------------------------\u001b[0m",
      "\u001b[0;31mValueError\u001b[0m                                Traceback (most recent call last)",
      "\u001b[0;32m<ipython-input-11-784474588bbc>\u001b[0m in \u001b[0;36m<module>\u001b[0;34m()\u001b[0m\n\u001b[0;32m----> 1\u001b[0;31m \u001b[0mz\u001b[0m \u001b[0;34m=\u001b[0m \u001b[0mnp\u001b[0m\u001b[0;34m.\u001b[0m\u001b[0mpiecewise\u001b[0m\u001b[0;34m(\u001b[0m\u001b[0mx\u001b[0m\u001b[0;34m,\u001b[0m \u001b[0;34m[\u001b[0m\u001b[0;36m10\u001b[0m\u001b[0;34m<\u001b[0m\u001b[0mx\u001b[0m\u001b[0;34m<\u001b[0m\u001b[0;36m50\u001b[0m\u001b[0;34m,\u001b[0m \u001b[0mx\u001b[0m\u001b[0;34m<\u001b[0m\u001b[0;36m80\u001b[0m\u001b[0;34m]\u001b[0m\u001b[0;34m,\u001b[0m \u001b[0;34m[\u001b[0m\u001b[0;36m5\u001b[0m\u001b[0;34m,\u001b[0m\u001b[0;36m10\u001b[0m\u001b[0;34m]\u001b[0m\u001b[0;34m)\u001b[0m\u001b[0;34m\u001b[0m\u001b[0m\n\u001b[0m\u001b[1;32m      2\u001b[0m \u001b[0mplt\u001b[0m\u001b[0;34m.\u001b[0m\u001b[0mplot\u001b[0m\u001b[0;34m(\u001b[0m\u001b[0mx\u001b[0m\u001b[0;34m,\u001b[0m\u001b[0mz\u001b[0m\u001b[0;34m)\u001b[0m\u001b[0;34m\u001b[0m\u001b[0m\n",
      "\u001b[0;31mValueError\u001b[0m: The truth value of an array with more than one element is ambiguous. Use a.any() or a.all()"
     ]
    }
   ],
   "source": [
    "z = np.piecewise(x, [10<x<50, x<80], [5,10])\n",
    "plt.plot(x,z)"
   ]
  },
  {
   "cell_type": "code",
   "execution_count": 31,
   "metadata": {
    "collapsed": true
   },
   "outputs": [],
   "source": [
    "f = lambda x: np.piecewise(x, [x<50, x>=50], [1, lambda v: np.exp(v/100.0)])"
   ]
  },
  {
   "cell_type": "code",
   "execution_count": 32,
   "metadata": {},
   "outputs": [
    {
     "data": {
      "text/plain": [
       "[<matplotlib.lines.Line2D at 0x10add5fd0>]"
      ]
     },
     "execution_count": 32,
     "metadata": {},
     "output_type": "execute_result"
    },
    {
     "data": {
      "image/png": "[encoded data removed]",
      "text/plain": [
       "<matplotlib.figure.Figure at 0x10ac876a0>"
      ]
     },
     "metadata": {},
     "output_type": "display_data"
    }
   ],
   "source": [
    "plt.plot(x,f(x))"
   ]
  },
  {
   "cell_type": "code",
   "execution_count": 40,
   "metadata": {},
   "outputs": [
    {
     "data": {
      "text/plain": [
       "[<matplotlib.lines.Line2D at 0x10b430a58>]"
      ]
     },
     "execution_count": 40,
     "metadata": {},
     "output_type": "execute_result"
    },
    {
     "data": {
      "image/png": "[encoded data removed]",
      "text/plain": [
       "<matplotlib.figure.Figure at 0x10b3892e8>"
      ]
     },
     "metadata": {},
     "output_type": "display_data"
    }
   ],
   "source": [
    "a = np.arange(0,6,0.01)\n",
    "b = np.piecewise(a, [a<3,a>=3], [0,lambda c: np.exp(c)])\n",
    "plt.plot(a,b)"
   ]
  },
  {
   "cell_type": "code",
   "execution_count": 48,
   "metadata": {
    "collapsed": true
   },
   "outputs": [],
   "source": [
    "f = lambda x: np.piecewise(x, [x>=0,x>=3,x>=5], [1,lambda c: np.exp(c), 100])"
   ]
  },
  {
   "cell_type": "code",
   "execution_count": 49,
   "metadata": {},
   "outputs": [
    {
     "data": {
      "text/plain": [
       "[<matplotlib.lines.Line2D at 0x10b71c0b8>]"
      ]
     },
     "execution_count": 49,
     "metadata": {},
     "output_type": "execute_result"
    },
    {
     "data": {
      "image/png": "[encoded data removed]",
      "text/plain": [
       "<matplotlib.figure.Figure at 0x10b7812b0>"
      ]
     },
     "metadata": {},
     "output_type": "display_data"
    }
   ],
   "source": [
    "plt.semilogy(a,f(a))\n",
    "plt.semilogy(a,f(2*a))"
   ]
  },
  {
   "cell_type": "code",
   "execution_count": 79,
   "metadata": {},
   "outputs": [],
   "source": [
    "f = lambda x: np.piecewise(x, [x<=1, x<=2, x<=3, np.ones_like(x, dtype=bool)], [0, 1, 2, 3])"
   ]
  },
  {
   "cell_type": "code",
   "execution_count": 81,
   "metadata": {},
   "outputs": [
    {
     "data": {
      "text/plain": [
       "[<matplotlib.lines.Line2D at 0x1112005f8>]"
      ]
     },
     "execution_count": 81,
     "metadata": {},
     "output_type": "execute_result"
    },
    {
     "data": {
      "image/png": "[encoded data removed]",
      "text/plain": [
       "<matplotlib.figure.Figure at 0x11119db00>"
      ]
     },
     "metadata": {},
     "output_type": "display_data"
    }
   ],
   "source": [
    "x = np.arange(0,6,0.1)\n",
    "y = f(x)\n",
    "plt.plot(x, f(x))"
   ]
  },
  {
   "cell_type": "code",
   "execution_count": 82,
   "metadata": {
    "collapsed": true
   },
   "outputs": [],
   "source": [
    "f = lambda x: np.piecewise(x, [np.ones_like(x, dtype=bool), x<=2, x<=1], [0,1,2])"
   ]
  },
  {
   "cell_type": "code",
   "execution_count": 83,
   "metadata": {},
   "outputs": [
    {
     "data": {
      "text/plain": [
       "[<matplotlib.lines.Line2D at 0x11126ff98>]"
      ]
     },
     "execution_count": 83,
     "metadata": {},
     "output_type": "execute_result"
    },
    {
     "data": {
      "image/png": "[encoded data removed]",
      "text/plain": [
       "<matplotlib.figure.Figure at 0x111227390>"
      ]
     },
     "metadata": {},
     "output_type": "display_data"
    }
   ],
   "source": [
    "x = np.arange(0,6,0.1)\n",
    "y = f(x)\n",
    "plt.plot(x, f(x))"
   ]
  },
  {
   "cell_type": "code",
   "execution_count": 97,
   "metadata": {
    "collapsed": true
   },
   "outputs": [],
   "source": [
    "f = lambda x: np.piecewise(x, [x>=0, x>=1, x>=2], [0,1,2])"
   ]
  },
  {
   "cell_type": "code",
   "execution_count": 98,
   "metadata": {},
   "outputs": [
    {
     "data": {
      "text/plain": [
       "[<matplotlib.lines.Line2D at 0x1121ff940>]"
      ]
     },
     "execution_count": 98,
     "metadata": {},
     "output_type": "execute_result"
    },
    {
     "data": {
      "image/png": "[encoded data removed]",
      "text/plain": [
       "<matplotlib.figure.Figure at 0x1125ab4a8>"
      ]
     },
     "metadata": {},
     "output_type": "display_data"
    }
   ],
   "source": [
    "x = np.arange(0,6,0.1)\n",
    "y = f(x)\n",
    "plt.plot(x, f(x))"
   ]
  },
  {
   "cell_type": "markdown",
   "metadata": {},
   "source": [
    "Model file specification:\n",
    "1. First line gives the ancestral (i.e., oldest) population size.\n",
    "2. Subsequent lines give demographic epochs *from most recent to most ancient*\n",
    "3. Each epoch is either \"c\" (constant size) or \"e\" (exponential growth/decline).\n",
    "5. \"c\" epochs have two parameters: $N$, the population size during the epoch; and $t$, the start time of the epoch.\n",
    "6. \"e\" epochs have three parameters: $N$, the population size at the *end* of the epoch; $t$, the start time of the epoch; and $r$, the growth rate per generation.\n",
    "7. All times are in generations."
   ]
  },
  {
   "cell_type": "code",
   "execution_count": 64,
   "metadata": {},
   "outputs": [],
   "source": [
    "class DemographicModel:\n",
    "    '''Simple data structure to store fastNeutrino demographic models.'''\n",
    "    \n",
    "    def __init__(self):\n",
    "        self.num_epochs = 0\n",
    "        # Epoch start times\n",
    "        self.times = []\n",
    "        # Epoch final sizes\n",
    "        self.sizes = []\n",
    "        # Epoch growth rates\n",
    "        self.rates = []\n",
    "        \n",
    "    def add_epoch(self, time, size, rate):\n",
    "        '''Add new epoch to the demographic model. Must be added from most recent to most ancient.'''\n",
    "        # WARNING: Should only add epochs from most recent to least\n",
    "        self.num_epochs += 1\n",
    "        self.times.append(time)\n",
    "        self.sizes.append(size)\n",
    "        self.rates.append(rate)"
   ]
  },
  {
   "cell_type": "code",
   "execution_count": 118,
   "metadata": {
    "collapsed": true
   },
   "outputs": [],
   "source": [
    "def import_fastNeutrino_model(model_fn):\n",
    "    '''Read a fastNeutrino output file and return a DemographicModel object.'''\n",
    "    \n",
    "    model = DemographicModel()\n",
    "    with open(model_fn) as modelfile:\n",
    "        header = modelfile.readline()\n",
    "        n_anc = float(modelfile.readline())\n",
    "        start_time = 0.0\n",
    "        \n",
    "        for line in modelfile:\n",
    "            if line.startswith('c'):\n",
    "                n, t = map(float, line.split()[-2:])\n",
    "                g = 0.0\n",
    "            elif line.startswith('e'):\n",
    "                n, t, g = map(float, line.split()[-3:])\n",
    "            else:\n",
    "                print('Warning, bad line: ' + line.strip())\n",
    "                break\n",
    "                \n",
    "            model.add_epoch(start_time, n, g)\n",
    "            start_time = t\n",
    "    model.add_epoch(start_time, n_anc, 0.0)\n",
    "    return model"
   ]
  },
  {
   "cell_type": "code",
   "execution_count": 119,
   "metadata": {},
   "outputs": [
    {
     "name": "stdout",
     "output_type": "stream",
     "text": [
      "[0.0, 2941.84, 47460.9] [8430405.247, 610238.9257, 300000.0] [0.000892952, 0.0, 0.0] 3\n"
     ]
    }
   ],
   "source": [
    "test_fn = '../fastNeutrino/fitted_params/Chr2L.3EpochCE.txt'\n",
    "model = import_fastNeutrino_model(test_fn)\n",
    "print(model.times, model.sizes, model.rates, model.num_epochs)"
   ]
  },
  {
   "cell_type": "code",
   "execution_count": 136,
   "metadata": {
    "collapsed": true
   },
   "outputs": [],
   "source": [
    "def exponential_growth(t, n0, t0, r):\n",
    "    '''Calculate N(t) for exponentially-growing population back in time'''\n",
    "    return n0*np.exp(-(t-t0)*r)\n",
    "def n_t_exp(n0, t0, r):\n",
    "    def h(t):\n",
    "        return exponential_growth(t, n0, t0, r)\n",
    "    return h"
   ]
  },
  {
   "cell_type": "code",
   "execution_count": 137,
   "metadata": {},
   "outputs": [],
   "source": [
    "def n_t_pw(t, model):\n",
    "    conditions = [t>=t0 for t0 in model.times]\n",
    "    functions = [n_t_exp(n0, t0, r) for n0, t0, r in zip(model.sizes, model.times, model.rates)]\n",
    "    return np.piecewise(t, conditions, functions)"
   ]
  },
  {
   "cell_type": "code",
   "execution_count": 152,
   "metadata": {},
   "outputs": [
    {
     "data": {
      "text/plain": [
       "[<matplotlib.lines.Line2D at 0x11c3805f8>]"
      ]
     },
     "execution_count": 152,
     "metadata": {},
     "output_type": "execute_result"
    },
    {
     "data": {
      "image/png": "[encoded data removed]",
      "text/plain": [
       "<matplotlib.figure.Figure at 0x11ae2d208>"
      ]
     },
     "metadata": {},
     "output_type": "display_data"
    }
   ],
   "source": [
    "t = np.arange(100000)\n",
    "plt.hlines(model.sizes, 1, 1e5, linestyle='dashed', color='0.5')\n",
    "plt.vlines(model.times, 1e4, 1e7, linestyle='dotted', color='0.5')\n",
    "plt.loglog(t, n_t_pw(t, model), lw=2)"
   ]
  },
  {
   "cell_type": "code",
   "execution_count": null,
   "metadata": {
    "collapsed": true
   },
   "outputs": [],
   "source": []
  }
 ],
 "metadata": {
  "kernelspec": {
   "display_name": "Python 3",
   "language": "python",
   "name": "python3"
  }
 },
 "nbformat": 4,
 "nbformat_minor": 2
}
