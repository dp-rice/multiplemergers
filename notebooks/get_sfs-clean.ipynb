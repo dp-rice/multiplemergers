{
 "cells": [
  {
   "cell_type": "code",
   "execution_count": 1,
   "metadata": {},
   "outputs": [],
   "source": [
    "import numpy as np\n",
    "import matplotlib.pyplot as plt\n",
    "import msprime, tskit"
   ]
  },
  {
   "cell_type": "code",
   "execution_count": 2,
   "metadata": {},
   "outputs": [],
   "source": [
    "import pandas as pd"
   ]
  },
  {
   "cell_type": "code",
   "execution_count": 3,
   "metadata": {},
   "outputs": [],
   "source": [
    "n = 100\n",
    "L = 16e6\n",
    "r = 2e-8\n",
    "N = 1.67e5"
   ]
  },
  {
   "cell_type": "code",
   "execution_count": 4,
   "metadata": {},
   "outputs": [],
   "source": [
    "fourD_sites = pd.read_csv('../data/dmel-4Dsites.txt.gz', header=None, names=['chr', 'pos'], sep='\\t')\n",
    "start = int(1e6) + 1"
   ]
  },
  {
   "cell_type": "code",
   "execution_count": 5,
   "metadata": {},
   "outputs": [],
   "source": [
    "positions = np.array(fourD_sites.pos[fourD_sites.chr == '2L'] - start)\n",
    "positions = positions[np.logical_and(positions>=0, positions<L)]"
   ]
  },
  {
   "cell_type": "code",
   "execution_count": 6,
   "metadata": {},
   "outputs": [
    {
     "name": "stdout",
     "output_type": "stream",
     "text": [
      "[   13961    13970    13973 ... 15993026 15993029 15993035]\n"
     ]
    }
   ],
   "source": [
    "print(positions)"
   ]
  },
  {
   "cell_type": "code",
   "execution_count": 7,
   "metadata": {},
   "outputs": [
    {
     "data": {
      "image/png": "[encoded data removed]",
      "text/plain": [
       "<Figure size 432x288 with 1 Axes>"
      ]
     },
     "metadata": {
      "needs_background": "light"
     },
     "output_type": "display_data"
    }
   ],
   "source": [
    "plt.hist(positions, bins=np.linspace(0,L,100));"
   ]
  },
  {
   "cell_type": "code",
   "execution_count": 6,
   "metadata": {},
   "outputs": [],
   "source": [
    "def sites(self, sample_set, site_positions):\n",
    "    '''\n",
    "    Computes the expected *derived* (unfolded) site frequency spectrum,\n",
    "    based on tree lengths, separately in each window.\n",
    "\n",
    "    :param list sample_set: A list of IDs of samples of length n.\n",
    "    :param iterable windows: The breakpoints of the windows (including start\n",
    "        and end, so has one more entry than number of windows).\n",
    "    :return: A list of lists of length n, one for each window, whose kth\n",
    "        entry gives the total length of any branches in the marginal trees\n",
    "        over that window that are ancestral to exactly k of the samples,\n",
    "        divided by the length of the window.\n",
    "    '''\n",
    "    if ((not isinstance(sample_set, list)) or\n",
    "       len(sample_set) != len(set(sample_set))):\n",
    "        raise ValueError(\n",
    "            \"elements of sample_sets must be lists without repeated elements.\")\n",
    "    if len(sample_set) == 0:\n",
    "        raise ValueError(\"elements of sample_sets cannot be empty.\")\n",
    "    for u in sample_set:\n",
    "        if not self.tree_sequence.node(u).is_sample():\n",
    "            raise ValueError(\"Not all elements of sample_sets are samples.\")\n",
    "            \n",
    "    num_sites = len(site_positions) \n",
    "    \n",
    "    for k in range(num_sites-1):\n",
    "        if site_positions[k + 1] <= site_positions[k]:\n",
    "            raise ValueError(\"Site positions must be increasing.\")\n",
    "    n_out = len(sample_set)\n",
    "    S = [[0.0 for j in range(n_out)] for _ in range(num_sites)]\n",
    "    L = [0.0 for j in range(n_out)]\n",
    "    N = self.tree_sequence.num_nodes\n",
    "    X = [int(u in sample_set) for u in range(N)]\n",
    "    # we will essentially construct the tree\n",
    "    pi = [-1 for j in range(N)]\n",
    "    node_time = [self.tree_sequence.node(u).time for u in range(N)]\n",
    "    # keep track of where we are for the windows\n",
    "    chrom_pos = 0.0\n",
    "    # index of *left-hand* end of the current window\n",
    "    site_num = 0\n",
    "    for interval, records_out, records_in in self.tree_sequence.edge_diffs():\n",
    "        length = interval[1] - interval[0]\n",
    "        for sign, records in ((-1, records_out), (+1, records_in)):\n",
    "            for edge in records:\n",
    "                dx = 0\n",
    "                if sign == +1:\n",
    "                    pi[edge.child] = edge.parent\n",
    "                dx += sign * X[edge.child]\n",
    "                dt = (node_time[pi[edge.child]] - node_time[edge.child])\n",
    "                if X[edge.child] > 0:\n",
    "                    L[X[edge.child] - 1] += sign * dt\n",
    "                if sign == -1:\n",
    "                    pi[edge.child] = -1\n",
    "                old_X = X[edge.parent]\n",
    "                X[edge.parent] += dx\n",
    "                if pi[edge.parent] != -1:\n",
    "                    dt = (node_time[pi[edge.parent]] - node_time[edge.parent])\n",
    "                    if X[edge.parent] > 0:\n",
    "                        L[X[edge.parent] - 1] += dt\n",
    "                    if old_X > 0:\n",
    "                        L[old_X - 1] -= dt\n",
    "                # propagate change up the tree\n",
    "                u = pi[edge.parent]\n",
    "                if u != -1:\n",
    "                    next_u = pi[u]\n",
    "                    while u != -1:\n",
    "                        old_X = X[u]\n",
    "                        X[u] += dx\n",
    "                        # need to update X for the root,\n",
    "                        # but the root does not have a branch length\n",
    "                        if next_u != -1:\n",
    "                            dt = (node_time[pi[u]] - node_time[u])\n",
    "                            if X[u] > 0:\n",
    "                                L[X[u] - 1] += dt\n",
    "                            if old_X > 0:\n",
    "                                L[old_X - 1] -= dt\n",
    "                        u = next_u\n",
    "                        next_u = pi[next_u]\n",
    "        while chrom_pos + length >= site_positions[site_num]:\n",
    "            for j in range(n_out):\n",
    "                S[site_num][j] += L[j]\n",
    "            site_num += 1\n",
    "            if site_num == num_sites:\n",
    "                return S\n",
    "        else:\n",
    "            chrom_pos += length\n",
    "    return S"
   ]
  },
  {
   "cell_type": "code",
   "execution_count": 7,
   "metadata": {},
   "outputs": [],
   "source": [
    "np.random.seed(100)\n",
    "length = int(5e5)\n",
    "sim = msprime.simulate(model=msprime.StandardCoalescent(), Ne=1/2, recombination_rate=0.067, length=length, sample_size=n)"
   ]
  },
  {
   "cell_type": "code",
   "execution_count": 8,
   "metadata": {},
   "outputs": [],
   "source": [
    "sample_set = list(range(n))\n",
    "windows = np.arange(0, length+1)\n",
    "calculator = tskit.BranchLengthStatCalculator(sim)"
   ]
  },
  {
   "cell_type": "code",
   "execution_count": 9,
   "metadata": {},
   "outputs": [],
   "source": [
    "positions2 = positions - positions[0]\n",
    "mytimes = np.array(sites(calculator, sample_set, positions2[positions2<length]))"
   ]
  },
  {
   "cell_type": "code",
   "execution_count": 13,
   "metadata": {},
   "outputs": [
    {
     "data": {
      "text/plain": [
       "[<matplotlib.lines.Line2D at 0x11c79d0f0>]"
      ]
     },
     "execution_count": 13,
     "metadata": {},
     "output_type": "execute_result"
    },
    {
     "data": {
      "image/png": "[encoded data removed]",
      "text/plain": [
       "<Figure size 432x288 with 1 Axes>"
      ]
     },
     "metadata": {
      "needs_background": "light"
     },
     "output_type": "display_data"
    }
   ],
   "source": [
    "plt.loglog(np.arange(1, n+1), np.mean(mytimes,axis=0))"
   ]
  },
  {
   "cell_type": "code",
   "execution_count": 135,
   "metadata": {},
   "outputs": [
    {
     "name": "stdout",
     "output_type": "stream",
     "text": [
      "Size of sfs array: 18.8168 MB\n"
     ]
    }
   ],
   "source": [
    "print('Size of sfs array:', mytimes.nbytes / 1e6, 'MB')"
   ]
  },
  {
   "cell_type": "code",
   "execution_count": 136,
   "metadata": {},
   "outputs": [
    {
     "data": {
      "text/plain": [
       "(23521, 100)"
      ]
     },
     "execution_count": 136,
     "metadata": {},
     "output_type": "execute_result"
    }
   ],
   "source": [
    "mytimes.shape"
   ]
  },
  {
   "cell_type": "markdown",
   "metadata": {},
   "source": [
    "## Check saving and loading"
   ]
  },
  {
   "cell_type": "code",
   "execution_count": 146,
   "metadata": {},
   "outputs": [],
   "source": [
    "np.save('test_save', mytimes)\n",
    "np.savez_compressed('test_save', times=mytimes)"
   ]
  },
  {
   "cell_type": "code",
   "execution_count": 147,
   "metadata": {},
   "outputs": [
    {
     "name": "stdout",
     "output_type": "stream",
     "text": [
      "True\n"
     ]
    }
   ],
   "source": [
    "X = np.load('test_save.npy')\n",
    "print(np.all(np.isclose(X, mytimes)))"
   ]
  },
  {
   "cell_type": "code",
   "execution_count": 148,
   "metadata": {},
   "outputs": [
    {
     "name": "stdout",
     "output_type": "stream",
     "text": [
      "True\n"
     ]
    }
   ],
   "source": [
    "with np.load('test_save.npz') as data:\n",
    "    X = data['times']\n",
    "print(np.all(np.isclose(X, mytimes)))"
   ]
  },
  {
   "cell_type": "code",
   "execution_count": 154,
   "metadata": {},
   "outputs": [
    {
     "name": "stdout",
     "output_type": "stream",
     "text": [
      "Uncompressed size:\t18.0\tMB\n",
      "Compressed size:\t3.0\tMB\n"
     ]
    }
   ],
   "source": [
    "import os\n",
    "print(\"Uncompressed size:\\t{}\\tMB\".format(os.path.getsize('test_save.npy')//1e6))\n",
    "print(\"Compressed size:\\t{}\\tMB\".format(os.path.getsize('test_save.npz')//1e6))"
   ]
  },
  {
   "cell_type": "code",
   "execution_count": 16,
   "metadata": {},
   "outputs": [
    {
     "data": {
      "text/plain": [
       "[<matplotlib.lines.Line2D at 0x11b0e2470>]"
      ]
     },
     "execution_count": 16,
     "metadata": {},
     "output_type": "execute_result"
    },
    {
     "data": {
      "image/png": "[encoded data removed]",
      "text/plain": [
       "<Figure size 432x288 with 1 Axes>"
      ]
     },
     "metadata": {
      "needs_background": "light"
     },
     "output_type": "display_data"
    }
   ],
   "source": [
    "with np.load('../test2.npz') as data:\n",
    "    X = data['branch_lengths']\n",
    "plt.loglog(np.arange(1,n+1), np.mean(X, axis=0))"
   ]
  },
  {
   "cell_type": "code",
   "execution_count": 19,
   "metadata": {},
   "outputs": [
    {
     "name": "stdout",
     "output_type": "stream",
     "text": [
      "(558, 100)\n",
      "558\n"
     ]
    }
   ],
   "source": [
    "print(X.shape)\n",
    "print(np.sum(positions<2e4))"
   ]
  },
  {
   "cell_type": "markdown",
   "metadata": {},
   "source": [
    "## Old checks"
   ]
  },
  {
   "cell_type": "code",
   "execution_count": 102,
   "metadata": {},
   "outputs": [],
   "source": [
    "times = np.array(calculator.site_frequency_spectrum(sample_set, windows=windows))"
   ]
  },
  {
   "cell_type": "code",
   "execution_count": 107,
   "metadata": {},
   "outputs": [],
   "source": [
    "times4d = times[positions[positions<length]]"
   ]
  },
  {
   "cell_type": "code",
   "execution_count": 125,
   "metadata": {},
   "outputs": [
    {
     "data": {
      "text/plain": [
       "0.905920666013712"
      ]
     },
     "execution_count": 125,
     "metadata": {},
     "output_type": "execute_result"
    }
   ],
   "source": [
    "np.mean(np.isclose(mytimes, times4d))"
   ]
  },
  {
   "cell_type": "code",
   "execution_count": 128,
   "metadata": {},
   "outputs": [
    {
     "data": {
      "text/plain": [
       "[<matplotlib.lines.Line2D at 0x122a08ac8>]"
      ]
     },
     "execution_count": 128,
     "metadata": {},
     "output_type": "execute_result"
    },
    {
     "data": {
      "image/png": "[encoded data removed]",
      "text/plain": [
       "<Figure size 432x288 with 1 Axes>"
      ]
     },
     "metadata": {
      "needs_background": "light"
     },
     "output_type": "display_data"
    }
   ],
   "source": [
    "plt.loglog(np.arange(1, n+1), np.mean(mytimes,axis=0))\n",
    "plt.loglog(np.arange(1, n+1), np.mean(times4d,axis=0))"
   ]
  },
  {
   "cell_type": "code",
   "execution_count": null,
   "metadata": {},
   "outputs": [],
   "source": []
  }
 ],
 "metadata": {
  "kernelspec": {
   "display_name": "Python 3",
   "language": "python",
   "name": "python3"
  },
  "language_info": {
   "codemirror_mode": {
    "name": "ipython",
    "version": 3
   },
   "file_extension": ".py",
   "mimetype": "text/x-python",
   "name": "python",
   "nbconvert_exporter": "python",
   "pygments_lexer": "ipython3",
   "version": "3.6.8"
  }
 },
 "nbformat": 4,
 "nbformat_minor": 2
}
