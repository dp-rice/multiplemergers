{
 "cells": [
  {
   "cell_type": "markdown",
   "metadata": {},
   "source": [
    "# DPGP3 diversity analysis"
   ]
  },
  {
   "cell_type": "code",
   "execution_count": 1,
   "metadata": {
    "collapsed": true
   },
   "outputs": [],
   "source": [
    "import numpy as np\n",
    "import matplotlib.pyplot as plt\n",
    "import pandas as pd\n",
    "%matplotlib inline"
   ]
  },
  {
   "cell_type": "code",
   "execution_count": 2,
   "metadata": {
    "collapsed": true
   },
   "outputs": [],
   "source": [
    "import sys\n",
    "import os\n",
    "module_path = os.path.abspath(os.path.join('../src'))\n",
    "if module_path not in sys.path:\n",
    "    sys.path.append(module_path)\n",
    "import helpers as h"
   ]
  },
  {
   "cell_type": "code",
   "execution_count": 3,
   "metadata": {
    "collapsed": true
   },
   "outputs": [],
   "source": [
    "import matplotlib as mpl\n",
    "single_col_width = 3.5\n",
    "mpl.rcParams['font.size'] = 10\n",
    "mpl.rcParams['axes.titlesize'] = 10\n",
    "mpl.rcParams['text.usetex'] = True\n",
    "mpl.rcParams['font.family'] ='serif'"
   ]
  },
  {
   "cell_type": "markdown",
   "metadata": {},
   "source": [
    "# Data"
   ]
  },
  {
   "cell_type": "markdown",
   "metadata": {},
   "source": [
    "## Diversity"
   ]
  },
  {
   "cell_type": "code",
   "execution_count": 4,
   "metadata": {
    "collapsed": true
   },
   "outputs": [],
   "source": [
    "data_dir = '../data/DPGP3/minor_allele_counts/'\n",
    "chromosomes = ['2L', '2R', '3L', '3R']\n",
    "files = {c : data_dir + 'Chr' + c + '.mac.txt.gz' for c in chromosomes}\n",
    "chrom_lengths = {'2L':23011544,\n",
    "                 '2R':21146708,\n",
    "                 '3L':24543557,\n",
    "                 '3R':27905053}"
   ]
  },
  {
   "cell_type": "code",
   "execution_count": 5,
   "metadata": {
    "collapsed": true
   },
   "outputs": [],
   "source": [
    "data = {c : h.loadints(files[c], chrom_lengths[c], 2) for c in chromosomes}"
   ]
  },
  {
   "cell_type": "code",
   "execution_count": 6,
   "metadata": {
    "collapsed": true
   },
   "outputs": [],
   "source": [
    "# nobs = number (of genotypes) observed (i.e. ACGT, not N)\n",
    "nobs = {c:data[c][:,0] for c in chromosomes}\n",
    "# mac = minor allele count\n",
    "mac = {c:data[c][:,1] for c in chromosomes}"
   ]
  },
  {
   "cell_type": "markdown",
   "metadata": {},
   "source": [
    "## 4-fold degenerate sites"
   ]
  },
  {
   "cell_type": "code",
   "execution_count": null,
   "metadata": {},
   "outputs": [],
   "source": [
    "fourD_sites = pd.read_table('../data/dmel-4Dsites.txt.gz', header=None, names=['chr', 'pos'])\n",
    "fourD_sites.head()"
   ]
  },
  {
   "cell_type": "code",
   "execution_count": 8,
   "metadata": {
    "collapsed": true
   },
   "outputs": [],
   "source": [
    "#Convert from one-index to zero-index\n",
    "fourD_pos = {chrom : np.array(fourD_sites.pos[fourD_sites.chr == chrom] - 1) for chrom in chromosomes}"
   ]
  },
  {
   "cell_type": "code",
   "execution_count": 9,
   "metadata": {},
   "outputs": [
    {
     "name": "stdout",
     "output_type": "stream",
     "text": [
      "Fraction of sites that are 4-fold degenerate:\n",
      "2L\t0.028\n",
      "2R\t0.032\n",
      "3L\t0.028\n",
      "3R\t0.030\n"
     ]
    }
   ],
   "source": [
    "print('Fraction of sites that are 4-fold degenerate:')\n",
    "for chrom in chromosomes:\n",
    "    print('{}\\t{:.3f}'.format(chrom, len(fourD_pos[chrom]) / data[chrom].shape[0]))"
   ]
  },
  {
   "cell_type": "markdown",
   "metadata": {},
   "source": [
    "# Coverage and diversity"
   ]
  },
  {
   "cell_type": "code",
   "execution_count": 10,
   "metadata": {
    "collapsed": true
   },
   "outputs": [],
   "source": [
    "# The boundaries of the \"central\" regions of each chromosome.\n",
    "start = {'2L':int(1e6),\n",
    "        '2R':int(6e6),\n",
    "        '3L':int(1e6),\n",
    "        '3R':int(10e6)}\n",
    "end = {'2L':int(17e6),\n",
    "        '2R':int(19e6),\n",
    "        '3L':int(17e6),\n",
    "        '3R':int(26e6)}"
   ]
  },
  {
   "cell_type": "code",
   "execution_count": 11,
   "metadata": {},
   "outputs": [
    {
     "name": "stderr",
     "output_type": "stream",
     "text": [
      "/Users/dpr/mmc_genomics/src/helpers.py:6: RuntimeWarning: invalid value encountered in true_divide\n",
      "  f = allele_counts / sample_size\n",
      "/Users/dpr/mmc_genomics/src/helpers.py:7: RuntimeWarning: divide by zero encountered in true_divide\n",
      "  return 2*f*(1-f) / (1 - (1/sample_size))\n",
      "/Users/dpr/mmc_genomics/src/helpers.py:7: RuntimeWarning: invalid value encountered in true_divide\n",
      "  return 2*f*(1-f) / (1 - (1/sample_size))\n",
      "/Users/dpr/miniconda3/envs/mmc_py35/lib/python3.5/site-packages/ipykernel_launcher.py:16: RuntimeWarning: invalid value encountered in true_divide\n",
      "  app.launch_new_instance()\n"
     ]
    },
    {
     "data": {
      "image/png": "[encoded data removed]",
      "text/plain": [
       "<Figure size 378x252 with 4 Axes>"
      ]
     },
     "metadata": {},
     "output_type": "display_data"
    }
   ],
   "source": [
    "window_size = 10000\n",
    "\n",
    "fig = plt.figure(figsize=(1.5*single_col_width, single_col_width))\n",
    "for i, chrom in enumerate(chromosomes):\n",
    "    n_w = chrom_lengths[chrom] // window_size\n",
    "    pos = np.arange(n_w)*window_size / 1e6\n",
    "    \n",
    "    hascov = nobs[chrom] > 0\n",
    "    hascov_w = np.sum(hascov[:n_w*window_size].reshape(n_w, window_size), axis=1)\n",
    "\n",
    "    \n",
    "    pi = h.pairwise_diversity(mac[chrom], nobs[chrom])\n",
    "    pi_w = np.nansum(pi[:n_w*window_size].reshape(n_w, window_size), axis=1)\n",
    "                             \n",
    "    ax = plt.subplot(2,2,i+1)\n",
    "    ax.plot(pos, pi_w/hascov_w, '.', ms=1, alpha=1)#, linestyle='steps-pre')\n",
    "    ax.vlines([start[chrom]/1e6,end[chrom]/1e6], -0.001, 0.021)\n",
    "    \n",
    "    ax.set_ylim([-0.001, 0.021])\n",
    "\n",
    "    ax.set_title(chrom)\n",
    "    if i%2 != 0:\n",
    "        ax.set_yticklabels([])\n",
    "    if i >= 2:\n",
    "        ax.set_xlabel('Position (Mb)')\n",
    "    else:\n",
    "        ax.set_xticklabels([])\n",
    "fig.text(0,0.5, r'Average pairwise diversity, $\\Pi$', rotation=90, va='center')\n",
    "fig.savefig('../manuscript/figures/pi_vs_position.pdf')"
   ]
  },
  {
   "cell_type": "markdown",
   "metadata": {},
   "source": [
    "# Called genotypes in the central regions"
   ]
  },
  {
   "cell_type": "code",
   "execution_count": 12,
   "metadata": {
    "collapsed": true
   },
   "outputs": [],
   "source": [
    "nobs_c = {c:nobs[c][start[c]:end[c]] for c in chromosomes}\n",
    "mac_c = {c:mac[c][start[c]:end[c]] for c in chromosomes}"
   ]
  },
  {
   "cell_type": "code",
   "execution_count": 13,
   "metadata": {},
   "outputs": [
    {
     "data": {
      "image/png": "[encoded data removed]",
      "text/plain": [
       "<Figure size 1080x720 with 4 Axes>"
      ]
     },
     "metadata": {},
     "output_type": "display_data"
    }
   ],
   "source": [
    "# Plot histograms of the number of alleles called at each site\n",
    "plt.figure(figsize=(15,10))\n",
    "for i, chrom in enumerate(chromosomes):\n",
    "    plt.subplot(2,2,i+1)\n",
    "    plt.hist(nobs_c[chrom], bins=np.arange(0,101,1), cumulative=True, histtype='step')\n",
    "    plt.xlim([0,100])\n",
    "    plt.title(chrom)\n",
    "    if i%2 == 0:\n",
    "        plt.ylabel('Number of sites')\n",
    "    if i >= 2:\n",
    "        plt.xlabel('Number of genotypes')\n",
    "plt.show()"
   ]
  },
  {
   "cell_type": "code",
   "execution_count": 14,
   "metadata": {},
   "outputs": [
    {
     "name": "stdout",
     "output_type": "stream",
     "text": [
      "Fraction of sites with >= 90 genotypes\n",
      "Chrom.\tAll\tPolymorphic\n",
      "2L\t0.913\t0.924\n",
      "2R\t0.922\t0.925\n",
      "3L\t0.919\t0.920\n",
      "3R\t0.933\t0.936\n"
     ]
    }
   ],
   "source": [
    "# Set the coverage cutoff at 90/100 genotypes called\n",
    "cov_cutoff = 90\n",
    "print('Fraction of sites with >= 90 genotypes')\n",
    "print('Chrom.\\tAll\\tPolymorphic')\n",
    "for c in chromosomes:\n",
    "    f_suf = np.mean(nobs_c[c] >= cov_cutoff)\n",
    "    f_seg_suf = np.sum((nobs_c[c] >= cov_cutoff) & (mac_c[c]>0)) / np.sum(mac_c[c]>0)\n",
    "    print('{}\\t{:.3f}\\t{:.3f}'.format(c, f_suf, f_seg_suf))"
   ]
  },
  {
   "cell_type": "code",
   "execution_count": 15,
   "metadata": {
    "collapsed": true
   },
   "outputs": [],
   "source": [
    "# Get the positions of sites with at least 90 genotypes called\n",
    "sufficient_cov = {c:(nobs_c[c] >= cov_cutoff) for c in chromosomes}"
   ]
  },
  {
   "cell_type": "markdown",
   "metadata": {},
   "source": [
    "# Diversity data"
   ]
  },
  {
   "cell_type": "code",
   "execution_count": 18,
   "metadata": {},
   "outputs": [
    {
     "name": "stderr",
     "output_type": "stream",
     "text": [
      "/Users/dpr/miniconda3/envs/mmc_py35/lib/python3.5/site-packages/ipykernel_launcher.py:14: RuntimeWarning: invalid value encountered in true_divide\n",
      "  \n",
      "/Users/dpr/mmc_genomics/src/helpers.py:6: RuntimeWarning: invalid value encountered in true_divide\n",
      "  f = allele_counts / sample_size\n",
      "/Users/dpr/mmc_genomics/src/helpers.py:7: RuntimeWarning: divide by zero encountered in true_divide\n",
      "  return 2*f*(1-f) / (1 - (1/sample_size))\n"
     ]
    }
   ],
   "source": [
    "# Get number of genotypes (nobs), minor allele count (mac), minor allele frequency (maf),\n",
    "# and pairwise diversity (pi) at sites with at least 90 called genotypes\n",
    "nobs_suf = {}\n",
    "mac_suf = {}\n",
    "maf = {}\n",
    "pi = {}\n",
    "for c in chromosomes:\n",
    "    n = np.zeros_like(nobs_c[c])\n",
    "    n[sufficient_cov[c]] = nobs_c[c][sufficient_cov[c]]\n",
    "    nobs_suf[c] = n\n",
    "    \n",
    "    m = np.zeros_like(mac_c[c])\n",
    "    m[sufficient_cov[c]] = mac_c[c][sufficient_cov[c]]\n",
    "    mac_suf[c] = m\n",
    "    \n",
    "    f = m/n\n",
    "    f[np.isnan(f)] = 0\n",
    "    maf[c] = f\n",
    "    \n",
    "    p = h.pairwise_diversity(m,n)\n",
    "    p[np.isnan(p)] = 0\n",
    "    pi[c] = p"
   ]
  },
  {
   "cell_type": "code",
   "execution_count": 19,
   "metadata": {},
   "outputs": [
    {
     "name": "stdout",
     "output_type": "stream",
     "text": [
      "2L\t0.0101\t0.088\n",
      "2R\t0.0091\t0.076\n",
      "3L\t0.0092\t0.070\n",
      "3R\t0.0086\t0.075\n"
     ]
    }
   ],
   "source": [
    "for c in chromosomes:\n",
    "    print('{}\\t{:.4f}\\t{:.3f}'.format(c,\n",
    "                                      np.sum(pi[c])/np.sum(sufficient_cov[c]),\n",
    "                                      np.sum(mac_suf[c]>0)/np.sum(sufficient_cov[c])))"
   ]
  },
  {
   "cell_type": "code",
   "execution_count": 20,
   "metadata": {},
   "outputs": [
    {
     "name": "stdout",
     "output_type": "stream",
     "text": [
      "0.03022025\n"
     ]
    },
    {
     "name": "stderr",
     "output_type": "stream",
     "text": [
      "/Users/dpr/miniconda3/envs/mmc_py35/lib/python3.5/site-packages/ipykernel_launcher.py:26: RuntimeWarning: invalid value encountered in true_divide\n",
      "/Users/dpr/mmc_genomics/src/helpers.py:6: RuntimeWarning: invalid value encountered in true_divide\n",
      "  f = allele_counts / sample_size\n",
      "/Users/dpr/mmc_genomics/src/helpers.py:7: RuntimeWarning: divide by zero encountered in true_divide\n",
      "  return 2*f*(1-f) / (1 - (1/sample_size))\n"
     ]
    },
    {
     "name": "stdout",
     "output_type": "stream",
     "text": [
      "0.0338060769231\n",
      "0.0304045625\n",
      "0.03126825\n"
     ]
    }
   ],
   "source": [
    "# Get number of genotypes (nobs), minor allele count (mac), minor allele frequency (maf),\n",
    "# and pairwise diversity (pi) at 4-fold degenerate sites with at least 90 called genotypes\n",
    "\n",
    "sufcov4d = {}\n",
    "nobs4d = {}\n",
    "mac4d = {}\n",
    "maf4d = {}\n",
    "pi4d = {}\n",
    "for c in chromosomes:\n",
    "    # Adjust the positions\n",
    "    pos4d = fourD_pos[c][(fourD_pos[c]>start[c]) & (fourD_pos[c]<end[c])] - start[c]\n",
    "    is4d = np.zeros_like(sufficient_cov[c])\n",
    "    is4d[pos4d] = True\n",
    "    print(np.mean(is4d))\n",
    "    \n",
    "    # This holds boolean values: True for sufficient coverage and 4d\n",
    "    s = np.zeros_like(sufficient_cov[c])\n",
    "    s[is4d] = sufficient_cov[c][is4d]\n",
    "    sufcov4d[c] = s.astype(int)\n",
    "    \n",
    "    n = np.zeros_like(nobs_c[c])\n",
    "    n[s] = nobs_c[c][s]\n",
    "    nobs4d[c] = n\n",
    "    \n",
    "    m = np.zeros_like(mac_c[c])\n",
    "    m[s] = mac_c[c][s]\n",
    "    mac4d[c] = m\n",
    "    \n",
    "    f = m/n\n",
    "    f[np.isnan(f)] = 0\n",
    "    maf4d[c] = f\n",
    "    \n",
    "    p = h.pairwise_diversity(m,n)\n",
    "    p[np.isnan(p)] = 0\n",
    "    pi4d[c] = p"
   ]
  },
  {
   "cell_type": "code",
   "execution_count": 22,
   "metadata": {
    "collapsed": true
   },
   "outputs": [],
   "source": [
    "lag_max = 5000"
   ]
  },
  {
   "cell_type": "code",
   "execution_count": 23,
   "metadata": {
    "collapsed": true
   },
   "outputs": [],
   "source": [
    "# Number of valid comparisons (i.e. pairs of 4-fold degenerate sites with at least 90 genotypes) at a function of distance.\n",
    "comparisons4d = {}\n",
    "for c in chromosomes:\n",
    "    comparisons4d[c] = np.correlate(sufcov4d[c], sufcov4d[c][:-lag_max])"
   ]
  },
  {
   "cell_type": "code",
   "execution_count": 24,
   "metadata": {},
   "outputs": [
    {
     "name": "stdout",
     "output_type": "stream",
     "text": [
      "{'2R': 0.020445331568658166, '2L': 0.022934785130634457, '3R': 0.018239839104114676, '3L': 0.019899829309177618}\n"
     ]
    }
   ],
   "source": [
    "pi_mean = {c: np.sum(pi4d[c])/np.sum(sufcov4d[c])\n",
    "           for c in chromosomes}\n",
    "print(pi_mean)"
   ]
  },
  {
   "cell_type": "code",
   "execution_count": 25,
   "metadata": {
    "collapsed": true
   },
   "outputs": [],
   "source": [
    "# Identify the high- and low- frequency mutations\n",
    "freq_cutoff = 0.05\n",
    "hi_freq4d = {c: ((mac4d[c]>0) & (maf4d[c] > freq_cutoff)).astype(int) for c in chromosomes}\n",
    "lo_freq4d = {c: ((mac4d[c]>0) & (maf4d[c] <= freq_cutoff)).astype(int) for c in chromosomes}"
   ]
  },
  {
   "cell_type": "code",
   "execution_count": 26,
   "metadata": {},
   "outputs": [
    {
     "name": "stdout",
     "output_type": "stream",
     "text": [
      "{'2R': 0.074980235316002425, '2L': 0.087152208618195101, '3R': 0.075515666377823309, '3L': 0.066284095295050749} {'2R': 0.057366413988745757, '2L': 0.064464424246180416, '3R': 0.050898518800463227, '3L': 0.055916071814838847}\n"
     ]
    }
   ],
   "source": [
    "# Calculate the number of high- and low- frequency mutations\n",
    "f_hi4d = {c: np.sum(hi_freq4d[c]) / np.sum(sufcov4d[c]) for c in chromosomes}\n",
    "f_lo4d = {c: np.sum(lo_freq4d[c]) / np.sum(sufcov4d[c]) for c in chromosomes}\n",
    "print(f_lo4d, f_hi4d)"
   ]
  },
  {
   "cell_type": "code",
   "execution_count": 27,
   "metadata": {
    "collapsed": true
   },
   "outputs": [],
   "source": [
    "# Calculate the correlation between high- and low-frequency mutations (related to hiloPMI)\n",
    "hilo_corr4d = {c: np.correlate(hi_freq4d[c], lo_freq4d[c][:-lag_max]) for c in chromosomes}"
   ]
  },
  {
   "cell_type": "markdown",
   "metadata": {},
   "source": [
    "# Comparison w/ `fastNeutrino`-fitted models"
   ]
  },
  {
   "cell_type": "code",
   "execution_count": 41,
   "metadata": {
    "collapsed": true
   },
   "outputs": [],
   "source": [
    "def wpmi(eta, eta2, n):\n",
    "    '''Calculate weighted pointwise mutual information from folded SFS (eta) and 2-SFS (eta2)'''\n",
    "    pi = h.sfs2pi(eta, n)\n",
    "    ret = eta2 * np.log2(eta2 / np.outer(eta, eta)) / pi**2\n",
    "    ret[np.diag_indices_from(ret)] = np.nan\n",
    "    return ret\n",
    "\n",
    "def wpmi_pcolor(ax, mac, wpmi, scale, vm, **kwargs):\n",
    "    '''Plot heatmaps of weighted PMI on an arcsinh scale'''\n",
    "    ax.set_xscale('log')\n",
    "    ax.set_yscale('log')\n",
    "    np.fill_diagonal(wpmi, np.nan)\n",
    "    return ax.pcolormesh(mac, mac, np.arcsinh(wpmi/scale), vmin=-vm, vmax=vm, **kwargs)\n",
    "\n",
    "def wpmi_colorbar(ax, scale, vm, cmap):\n",
    "    '''Plot colorbar heatmaps of weighted PMI'''\n",
    "    yticks = np.array([-15, -3, 0, 3, 15])\n",
    "    yticks_transformed = 256 * (np.arcsinh(yticks) + vm)/(2*vm)\n",
    "    ax.set_xticks([])\n",
    "    ax.set_yticks(yticks_transformed)\n",
    "    ax.set_yticklabels(yticks*scale)\n",
    "    val = np.linspace(-vm, vm, 256)\n",
    "    return ax.pcolormesh(val[:,None], cmap=cmap, vmin=-vm, vmax=vm)\n",
    "\n",
    "cmap = 'PuOr_r'\n",
    "n_sim = 100\n",
    "mac_sim = np.arange(1, (n_sim+1)//2 + 1)"
   ]
  },
  {
   "cell_type": "code",
   "execution_count": 30,
   "metadata": {
    "collapsed": true
   },
   "outputs": [],
   "source": [
    "n_samples = 100"
   ]
  },
  {
   "cell_type": "code",
   "execution_count": 31,
   "metadata": {},
   "outputs": [],
   "source": [
    "# Compute SFS from data\n",
    "sfs_data = {c : np.histogram(mac4d[c], bins=np.arange(1,n_samples//2+2))[0] / np.sum(sufcov4d[c]) for c in chromosomes}"
   ]
  },
  {
   "cell_type": "code",
   "execution_count": 33,
   "metadata": {},
   "outputs": [],
   "source": [
    "# Compute 2-SFS (jsfs=joint SFS, which I use synonymously)\n",
    "jsfs_data = {}\n",
    "dmax = 200\n",
    "\n",
    "for c in chromosomes:\n",
    "    jsfs = np.zeros((n_samples//2, n_samples//2))\n",
    "    for i in range(len(mac4d[c]) - dmax):\n",
    "        mac_i = mac4d[c][i]\n",
    "        if mac_i > 0:\n",
    "            hist = np.histogram(mac4d[c][i+1:i+dmax], bins=np.arange(1,n_samples//2+2))[0]\n",
    "            jsfs[mac_i - 1] += hist\n",
    "    jsfs_data[c] = jsfs / np.sum(comparisons4d[c][1:dmax])"
   ]
  },
  {
   "cell_type": "code",
   "execution_count": 34,
   "metadata": {},
   "outputs": [
    {
     "name": "stdout",
     "output_type": "stream",
     "text": [
      "14.7203528363\n"
     ]
    }
   ],
   "source": [
    "# Calculate the critical distance using D. melanogaster measurements\n",
    "mu_dmel = 3e-9\n",
    "r_dmel = 2e-8\n",
    "pi_dmel = np.mean([pi_mean[chrom] for chrom in chromosomes])\n",
    "d_crit = 2*mu_dmel / (r_dmel*pi_dmel)\n",
    "print(d_crit)"
   ]
  },
  {
   "cell_type": "code",
   "execution_count": 35,
   "metadata": {},
   "outputs": [
    {
     "data": {
      "image/png": "[encoded data removed]",
      "text/plain": [
       "<Figure size 432x288 with 1 Axes>"
      ]
     },
     "metadata": {},
     "output_type": "display_data"
    }
   ],
   "source": [
    "# Get the recombination distances and hi-lo correlations for msprime simulations of fastNeutrino-fitted models\n",
    "\n",
    "cutoff = 5\n",
    "r_list = np.insert(np.logspace(-1,3,13), 0, 0.0)\n",
    "filename_fn = '../simulations/msprime/jsfs_fastNeutrino_n-{}_Chr{}_3EpochConstConst_r-{}.txt'\n",
    "files_fn = {c: [filename_fn.format(n_samples,c,r) for r in r_list] for c in chromosomes}\n",
    "data_fn = {c: h.import_msprime_corr(files_fn[c], n_samples) for c in chromosomes}\n",
    "\n",
    "sfs_fn = {c: np.mean(data_fn[c][1], axis=0)/np.mean(data_fn[c][0]) for c in chromosomes}\n",
    "\n",
    "d_fn = {c : r_list * data_fn[c][0] /2 for c in chromosomes}\n",
    "hlc_fn = {c:data_fn[c][5][:,cutoff-1] for c in chromosomes}\n",
    "\n",
    "plt.show()\n",
    "for c in chromosomes:\n",
    "    plt.semilogx(d_fn[c], hlc_fn[c])"
   ]
  },
  {
   "cell_type": "code",
   "execution_count": 36,
   "metadata": {},
   "outputs": [
    {
     "data": {
      "text/plain": [
       "[<matplotlib.lines.Line2D at 0x1688d2a90>]"
      ]
     },
     "execution_count": 36,
     "metadata": {},
     "output_type": "execute_result"
    },
    {
     "data": {
      "image/png": "[encoded data removed]",
      "text/plain": [
       "<Figure size 432x288 with 1 Axes>"
      ]
     },
     "metadata": {},
     "output_type": "display_data"
    }
   ],
   "source": [
    "# Get the recombination distances and hi-lo correlations for Kingman simulations\n",
    "cutoff = 5\n",
    "\n",
    "r_list_k = r_list[:-3]\n",
    "head = '../simulations/msprime/jsfs_n-{}_'.format(n_samples)\n",
    "files_k = [head + 'a-{}_r-{}.txt'.format(2.0, r) for r in r_list_k]\n",
    "\n",
    "data_k = h.import_msprime_corr(files_k, n_samples)\n",
    "sfs_k = np.mean(data_k[1], axis=0)/np.mean(data_k[0])\n",
    "\n",
    "d_k = r_list_k * data_k[0] /2\n",
    "hlc_k = data_k[5][:,cutoff-1]"
   ]
  },
  {
   "cell_type": "code",
   "execution_count": 37,
   "metadata": {
    "collapsed": true
   },
   "outputs": [],
   "source": [
    "from scipy import interpolate"
   ]
  },
  {
   "cell_type": "code",
   "execution_count": null,
   "metadata": {},
   "outputs": [],
   "source": [
    "# Plot comparisons of data to fitted models.\n",
    "\n",
    "smoothing_factor = 2e-5\n",
    "c_data = 'C0'\n",
    "c_fn = 'C1'\n",
    "c_k = 'k'\n",
    "style_k = 'dotted'\n",
    "vm_sim = 5\n",
    "scale_sim = 1e-3\n",
    "\n",
    "xscale = 1.75\n",
    "yscale = 1.5\n",
    "fig = plt.figure(figsize=(xscale*single_col_width, yscale*single_col_width))\n",
    "\n",
    "x_text = 0.025 / xscale\n",
    "x_panel = 0.12\n",
    "x_cb = 0.9\n",
    "panel_size = 0.265\n",
    "panel_buffer = 0.05\n",
    "panel_bottom = 0.1\n",
    "panel_width = panel_size / xscale\n",
    "panel_height = panel_size / yscale\n",
    "panel_xbuffer = panel_buffer / xscale\n",
    "panel_ybuffer = 2.5 * panel_buffer / yscale    \n",
    "\n",
    "for i_c, c in enumerate(chromosomes):\n",
    "    ax = fig.add_axes([x_panel + i_c*(panel_width+panel_xbuffer),\n",
    "                      panel_bottom + 2*(panel_height+panel_ybuffer),\n",
    "                      panel_width,\n",
    "                      panel_height])\n",
    "    x_sfs = np.arange(1, n_samples//2 + 1)\n",
    "    ax.loglog(x_sfs, sfs_data[c] / sfs_data[c][0], c=c_data, label='Data')\n",
    "    ax.loglog(x_sfs, sfs_fn[c] / sfs_fn[c][0], c=c_fn, label='Model')\n",
    "    ax.loglog(x_sfs, ((1/x_sfs) + (1/(n_samples-x_sfs)))/ (1 + 1/(n_samples-1)), c_k, linestyle=style_k, label='Constant-$N$')\n",
    "    if i_c == 3:\n",
    "        ax.legend(loc=(1,0.1), frameon=False)\n",
    "    if i_c != 0:\n",
    "        ax.set_yticklabels([])\n",
    "    ax.set_title(\"Chr\"+c)   \n",
    "    ax.spines['right'].set_visible(False)\n",
    "    ax.spines['top'].set_visible(False)\n",
    "    \n",
    "    ax = fig.add_axes([x_panel + i_c*(panel_width+panel_xbuffer),\n",
    "                  panel_bottom + 1*(panel_height+panel_ybuffer),\n",
    "                  panel_width,\n",
    "                  panel_height])\n",
    "    w_data = wpmi(sfs_data[c], jsfs_data[c], n_sim)\n",
    "    w_data[np.tril_indices_from(w_data)] = 0\n",
    "    # Chosen to match the typical recombination rate in the data.\n",
    "    i_0 = 8\n",
    "    print(d_fn[c][i_0])\n",
    "    w_sim = wpmi(data_fn[c][1][i_0], data_fn[c][2][i_0], n_sim)\n",
    "    w_sim[np.triu_indices_from(w_sim)] = 0\n",
    "    w_tot = w_data + w_sim\n",
    "    wpmi_pcolor(ax, mac_sim, w_tot, scale_sim, vm_sim, cmap=cmap)\n",
    "    ax.set_yticklabels([])\n",
    "    ax.set_xticklabels([])\n",
    "    if i_c == 0:\n",
    "        # ax.set_ylabel('Minor allele count, $j$')\n",
    "        ax.set_ylabel('Model')\n",
    "        ax.set_xlabel('Data')\n",
    "    ax = fig.add_axes([x_panel + i_c*(panel_width+panel_xbuffer),\n",
    "                  panel_bottom,\n",
    "                  panel_width,\n",
    "                  panel_height])\n",
    "    x = np.arange(3,lag_max,3)\n",
    "    y = np.log2(hilo_corr4d[c][3::3]/comparisons4d[c][3::3]/(f_lo4d[c]*f_hi4d[c]))\n",
    "\n",
    "    x = x[:len(x)]\n",
    "    y = y[:len(y)]\n",
    "    # Smooth on a log x-scale. Use adaptive weights\n",
    "    x_sm = np.log(x)\n",
    "    w = 1/x\n",
    "    yinterp = interpolate.UnivariateSpline(x_sm, y, w, s=smoothing_factor)(x_sm)\n",
    "    ax.semilogx(x/d_crit, y, '.', alpha=0.2, c=c_data, ms=1)\n",
    "    ax.semilogx(x/d_crit, yinterp, c=c_data)\n",
    "    ax.semilogx(d_fn[c], np.log2(hlc_fn[c]+1), c=c_fn)\n",
    "    ax.semilogx(d_k, np.log2(hlc_k+1), c=c_k, linestyle=style_k)\n",
    "    if i_c != 0:\n",
    "        ax.set_yticklabels([])\n",
    "    plt.ylim([-0.11,0.21])\n",
    "    plt.xlim([2e-1, (1/8)*1e3])\n",
    "    ax.set_xticks([1,10,100])\n",
    "    ax.set_yticks([-0.1,0,0.1,0.2])\n",
    "    ax.spines['right'].set_visible(False)\n",
    "    ax.spines['top'].set_visible(False)\n",
    "\n",
    "\n",
    "ax = fig.add_axes([x_panel + 4*(panel_width+panel_xbuffer)+ panel_width/2,\n",
    "                  panel_bottom + panel_height + panel_ybuffer,\n",
    "                  0.02,\n",
    "                  panel_height])\n",
    "wpmi_colorbar(ax, scale_sim, vm_sim, cmap=cmap)\n",
    "ax.set_title('wfPMI')\n",
    "\n",
    "fig.text(x_text,\n",
    "         panel_bottom + panel_height/2 + 2*(panel_height + panel_ybuffer),\n",
    "         'Normalized SFS, $\\eta_i / \\eta_1$',\n",
    "         va='center', rotation=90)\n",
    "fig.text(x_text,\n",
    "          panel_bottom + panel_height/2 + 1*(panel_height + panel_ybuffer),\n",
    "          'Minor allele count, $j$',\n",
    "          va='center', rotation=90)\n",
    "fig.text(x_text,\n",
    "         panel_bottom + panel_height/2,\n",
    "         'hiloPMI$(d;i_c=5)$',\n",
    "         va='center', rotation=90)\n",
    "\n",
    "fig.text(x_panel + 2*(panel_width+panel_xbuffer),\n",
    "         panel_bottom + 2*panel_height + 1.25*panel_ybuffer,\n",
    "         'Minor allele count, $i$', ha='center')\n",
    "fig.text(x_panel + 2*(panel_width+panel_xbuffer),\n",
    "         panel_bottom + panel_height + panel_ybuffer/2,\n",
    "         'Minor allele count, $i$', ha='center')\n",
    "\n",
    "fig.text(x_panel + 2*(panel_width+panel_xbuffer),\n",
    "         panel_bottom - panel_ybuffer,\n",
    "         r'Genomic distance, $d r \\left<T_2\\right>$', ha='center')\n",
    "fig.savefig('../manuscript/figures/dpgp3_analysis.pdf')\n"
   ]
  },
  {
   "cell_type": "code",
   "execution_count": null,
   "metadata": {
    "collapsed": true
   },
   "outputs": [],
   "source": []
  }
 ],
 "metadata": {
  "kernelspec": {
   "display_name": "Python 3",
   "language": "python",
   "name": "python3"
  },
  "language_info": {
   "codemirror_mode": {
    "name": "ipython",
    "version": 3
   },
   "file_extension": ".py",
   "mimetype": "text/x-python",
   "name": "python",
   "nbconvert_exporter": "python",
   "pygments_lexer": "ipython3",
   "version": "3.5.3"
  }
 },
 "nbformat": 4,
 "nbformat_minor": 2
}
