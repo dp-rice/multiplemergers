{
 "cells": [
  {
   "cell_type": "code",
   "execution_count": 358,
   "metadata": {
    "collapsed": true
   },
   "outputs": [],
   "source": [
    "import sys\n",
    "import numpy as np\n",
    "import matplotlib as mpl\n",
    "import matplotlib.pyplot as plt\n",
    "%matplotlib inline"
   ]
  },
  {
   "cell_type": "code",
   "execution_count": 187,
   "metadata": {},
   "outputs": [
    {
     "name": "stdout",
     "output_type": "stream",
     "text": [
      "The autoreload extension is already loaded. To reload it, use:\n",
      "  %reload_ext autoreload\n"
     ]
    }
   ],
   "source": [
    "%load_ext autoreload\n",
    "%autoreload 2"
   ]
  },
  {
   "cell_type": "code",
   "execution_count": 182,
   "metadata": {},
   "outputs": [],
   "source": [
    "sys.path.insert(0, '../src/')\n",
    "import zivkovic as z\n",
    "import coalescentmoments as c\n",
    "import helpers as h"
   ]
  },
  {
   "cell_type": "code",
   "execution_count": 4,
   "metadata": {
    "collapsed": true
   },
   "outputs": [],
   "source": [
    "def fold(n, X):\n",
    "    i_max = n//2\n",
    "    k = np.arange(1, n-1)\n",
    "    multiplicity = 1 + (k == n - k).astype(float)[:i_max]\n",
    "    if X.ndim == 1:\n",
    "        folded = (X + X[::-1])[:i_max]\n",
    "        divisor = multiplicity\n",
    "    elif X.ndim == 2:\n",
    "        folded = (X + X[:,::-1] + X[::-1,:] + X[::-1,::-1])[:i_max,:i_max]\n",
    "        folded[np.diag_indices(i_max)] = 0\n",
    "        divisor = np.outer(multiplicity, multiplicity)\n",
    "    return folded / divisor"
   ]
  },
  {
   "cell_type": "code",
   "execution_count": 240,
   "metadata": {
    "collapsed": true
   },
   "outputs": [],
   "source": [
    "def stats(n, mode, **params):\n",
    "    if mode == \"kingman\":\n",
    "        xi, xi2 = c.fu_moments(n)\n",
    "    elif mode in [\"exponential\", \"two-epoch\"]:\n",
    "        xi = z.sigma_i(n, mode, **params)[1:-1]\n",
    "        xi2 = z.sigma_ij(n, mode, **params)[1:-1,1:-1] + np.outer(xi, xi)\n",
    "    elif mode == \"beta\":\n",
    "        xi, xi2 = c.sfs_moments(n, params[\"alpha\"])\n",
    "    eta = fold(n, xi)\n",
    "    eta2 = fold(n, xi2)\n",
    "    pi = h.sfs2pi(eta, n)\n",
    "    return eta / pi, eta2 / (pi**2)"
   ]
  },
  {
   "cell_type": "code",
   "execution_count": 195,
   "metadata": {
    "collapsed": true
   },
   "outputs": [],
   "source": [
    "def wpmi(eta, eta2):\n",
    "    ret = eta2 * np.log2(eta2 / np.outer(eta, eta))\n",
    "    ret[np.diag_indices_from(ret)] = 0\n",
    "    return ret"
   ]
  },
  {
   "cell_type": "code",
   "execution_count": 117,
   "metadata": {
    "collapsed": true
   },
   "outputs": [],
   "source": [
    "def lohi_cov(eta, eta2, cutoff=1):\n",
    "    lo = np.sum(eta[:cutoff])\n",
    "    hi = np.sum(eta[cutoff:])\n",
    "    lohi = np.sum(eta2[:cutoff, cutoff:])\n",
    "    return lohi / (lo*hi) - 1"
   ]
  },
  {
   "cell_type": "code",
   "execution_count": 411,
   "metadata": {
    "collapsed": true
   },
   "outputs": [],
   "source": [
    "def lohi_pmi(eta, eta2, cutoff=1):\n",
    "    return np.log2(lohi_cov(eta, eta2, cutoff=cutoff) + 1)"
   ]
  },
  {
   "cell_type": "code",
   "execution_count": 125,
   "metadata": {
    "collapsed": true
   },
   "outputs": [],
   "source": [
    "def tajimasD(n, eta):\n",
    "    theta_pi = h.sfs2pi(eta, n)\n",
    "    theta_w  = np.sum(eta) / np.sum(1/np.arange(1,n))\n",
    "    return theta_pi - theta_w"
   ]
  },
  {
   "cell_type": "code",
   "execution_count": 235,
   "metadata": {
    "collapsed": true
   },
   "outputs": [],
   "source": [
    "n = 39\n",
    "mac = np.arange(1, n//2+1)\n",
    "\n",
    "alphas = np.linspace(1.25, 1.75, 6)\n",
    "gs = np.array([0.25, 0.5, 1.0, 2.0, 4.0, 8.0])"
   ]
  },
  {
   "cell_type": "code",
   "execution_count": 191,
   "metadata": {},
   "outputs": [],
   "source": [
    "eta_kingman, eta2_kingman = stats(n, \"kingman\")"
   ]
  },
  {
   "cell_type": "code",
   "execution_count": 192,
   "metadata": {},
   "outputs": [
    {
     "name": "stderr",
     "output_type": "stream",
     "text": [
      "../src/zivkovic.py:17: RuntimeWarning: invalid value encountered in log\n",
      "  alpha[np.isnan(alpha)] = 0\n",
      "../src/zivkovic.py:17: RuntimeWarning: divide by zero encountered in log\n",
      "  alpha[np.isnan(alpha)] = 0\n",
      "../src/zivkovic.py:73: RuntimeWarning: divide by zero encountered in true_divide\n",
      "  \n",
      "../src/zivkovic.py:73: RuntimeWarning: invalid value encountered in true_divide\n",
      "  \n",
      "../src/zivkovic.py:54: RuntimeWarning: divide by zero encountered in true_divide\n",
      "  def marginal_leaf_prob(n):\n",
      "../src/zivkovic.py:44: RuntimeWarning: invalid value encountered in log\n",
      "  lag_x, lag_w = laggauss(degree)\n",
      "../src/zivkovic.py:135: RuntimeWarning: divide by zero encountered in true_divide\n",
      "  j_vec = r[:,None]\n",
      "../src/zivkovic.py:135: RuntimeWarning: invalid value encountered in true_divide\n",
      "  j_vec = r[:,None]\n",
      "../src/zivkovic.py:64: RuntimeWarning: divide by zero encountered in true_divide\n",
      "  \n",
      "../src/zivkovic.py:34: RuntimeWarning: invalid value encountered in add\n",
      "  \n",
      "../src/zivkovic.py:34: RuntimeWarning: invalid value encountered in subtract\n",
      "  \n",
      "../src/zivkovic.py:145: RuntimeWarning: invalid value encountered in multiply\n",
      "  # k' = k = n\n",
      "../src/zivkovic.py:159: RuntimeWarning: divide by zero encountered in true_divide\n",
      "  A_kpk = prefactor_kpk * Ett_kpk\n",
      "../src/zivkovic.py:159: RuntimeWarning: invalid value encountered in true_divide\n",
      "  A_kpk = prefactor_kpk * Ett_kpk\n",
      "../src/zivkovic.py:30: RuntimeWarning: invalid value encountered in add\n",
      "  return lambda_inv(x,g) * (lambda_inv(y+x,g) - lambda_inv(x,g))\n",
      "../src/zivkovic.py:30: RuntimeWarning: invalid value encountered in subtract\n",
      "  return lambda_inv(x,g) * (lambda_inv(y+x,g) - lambda_inv(x,g))\n",
      "../src/zivkovic.py:173: RuntimeWarning: invalid value encountered in multiply\n",
      "  for j in range(1, n):\n",
      "../src/zivkovic.py:188: RuntimeWarning: divide by zero encountered in true_divide\n",
      "  r = np.arange(n+1)\n",
      "../src/zivkovic.py:188: RuntimeWarning: invalid value encountered in true_divide\n",
      "  r = np.arange(n+1)\n",
      "../src/zivkovic.py:222: RuntimeWarning: invalid value encountered in true_divide\n",
      "  Sigma_ij2 = sigma_ij2(n, Ett_kpk)\n"
     ]
    }
   ],
   "source": [
    "stats_exp = [stats(n, \"exponential\", g=g) for g in gs]"
   ]
  },
  {
   "cell_type": "code",
   "execution_count": 109,
   "metadata": {},
   "outputs": [],
   "source": [
    "stats_beta = [stats(n, \"beta\", alpha=a) for a in alphas]"
   ]
  },
  {
   "cell_type": "code",
   "execution_count": 196,
   "metadata": {},
   "outputs": [
    {
     "name": "stderr",
     "output_type": "stream",
     "text": [
      "/Users/dpr/miniconda3/envs/mmc_py35/lib/python3.5/site-packages/ipykernel_launcher.py:2: RuntimeWarning: divide by zero encountered in log2\n",
      "  \n",
      "/Users/dpr/miniconda3/envs/mmc_py35/lib/python3.5/site-packages/ipykernel_launcher.py:2: RuntimeWarning: invalid value encountered in multiply\n",
      "  \n"
     ]
    }
   ],
   "source": [
    "wpmi_kingman = wpmi(eta_kingman, eta2_kingman)\n",
    "wpmi_exp = [wpmi(eta, eta2) for eta, eta2 in stats_exp]\n",
    "wpmi_beta = [wpmi(eta, eta2) for eta, eta2 in stats_beta]"
   ]
  },
  {
   "cell_type": "code",
   "execution_count": 416,
   "metadata": {},
   "outputs": [
    {
     "data": {
      "image/png": "[encoded data removed]",
      "text/plain": [
       "<matplotlib.figure.Figure at 0x12962fbe0>"
      ]
     },
     "metadata": {},
     "output_type": "display_data"
    }
   ],
   "source": [
    "v = 0.05\n",
    "cmap = 'PuOr_r'\n",
    "def wpmi_pcolor(ax, mac, wpmi):\n",
    "    ax.set_xscale('log')\n",
    "    ax.set_yscale('log')\n",
    "    ax.set_yticklabels([])\n",
    "    ax.set_xticklabels([])\n",
    "    return ax.pcolor(mac, mac, wpmi, cmap=cmap, vmin=-v, vmax=v)\n",
    "\n",
    "\n",
    "fig = plt.figure(figsize=(5,5))\n",
    "\n",
    "ax = fig.add_subplot(2,2,1)\n",
    "wpmi_pcolor(ax, mac, wpmi_kingman)\n",
    "ax.set_title('Kingman coalescent')\n",
    "ax.set_ylabel('Minor allele count, $j$')\n",
    "\n",
    "ax = fig.add_subplot(2,2,2)\n",
    "wpmi_pcolor(ax, mac, wpmi_exp[-2])\n",
    "ax.set_title('Exp. growth, $gN_0=4$')\n",
    "ax.set_xlabel('Minor allele count, $i$')\n",
    "\n",
    "ax = fig.add_subplot(2,2,3)\n",
    "wpmi_pcolor(ax, mac, wpmi_beta[1])\n",
    "ax.set_title(r'Beta coalescent, $\\alpha=1.5$')\n",
    "ax.set_xlabel('Minor allele count, $i$')\n",
    "ax.set_ylabel('Minor allele count, $j$')\n",
    "\n",
    "ax = fig.add_subplot(2,2,4)\n",
    "norm = mpl.colors.Normalize(vmin=-v, vmax=v)\n",
    "gradient = np.linspace(-v, v, 256)\n",
    "gradient = np.vstack((gradient, gradient))\n",
    "ax.imshow(gradient, aspect=20, norm=norm, cmap=plt.get_cmap(cmap))\n",
    "ax.set_yticks([])\n",
    "ax.set_xticks([0,256//2,256])\n",
    "ax.set_xticklabels([-v, 0, v])\n",
    "ax.set_xlim([0,256])\n",
    "ax.set_title('$wPMI_{ij}$')\n",
    "\n",
    "fig.savefig('../manuscript/figures/Figure1.pdf')"
   ]
  },
  {
   "cell_type": "code",
   "execution_count": 422,
   "metadata": {},
   "outputs": [
    {
     "data": {
      "image/png": "[encoded data removed]",
      "text/plain": [
       "<matplotlib.figure.Figure at 0x1230ea2b0>"
      ]
     },
     "metadata": {},
     "output_type": "display_data"
    }
   ],
   "source": [
    "cutoff = 1\n",
    "fig = plt.figure(figsize=(6,4))\n",
    "ax = fig.add_subplot(111)\n",
    "\n",
    "ax.plot(-tajimasD(n, eta_kingman), lohi_pmi(eta_kingman, eta2_kingman, cutoff=cutoff), 'o', c='k',\n",
    "        label='Kingman coalescent')\n",
    "for i, g in enumerate(gs):\n",
    "    l = ax.plot(-tajimasD(n, stats_exp[i][0]), lohi_pmi(*stats_exp[i], cutoff=cutoff), 'o', c='C1')\n",
    "    if i == 0:\n",
    "        l[0].set_label('Exponential growth')\n",
    "for i, a in enumerate(alphas):\n",
    "    l = ax.plot(-tajimasD(n, stats_beta[i][0]), lohi_pmi(*stats_beta[i], cutoff=cutoff), 'o', c='C0')\n",
    "    if i == 0:\n",
    "        l[0].set_label(\"Beta coalescent\")\n",
    "\n",
    "ax.hlines(0, 0, 0.7, linestyle='dashed')\n",
    "#plt.ylim([-0.031, 0.051])\n",
    "ax.set_ylabel(r\"Singleton/non-singleton PMI, $\\log_2(\\eta_{1,>1}/\\eta_{1}\\eta_{>1})$\")\n",
    "ax.set_xlabel(r\"Normalized Tajima's D, $(\\hat{\\theta}_W - \\pi) / \\pi$\")\n",
    "ax.legend(frameon=False)\n",
    "\n",
    "fig.savefig('../manuscript/figures/Figure2.pdf')"
   ]
  },
  {
   "cell_type": "code",
   "execution_count": 396,
   "metadata": {},
   "outputs": [
    {
     "name": "stderr",
     "output_type": "stream",
     "text": [
      "../src/zivkovic.py:17: RuntimeWarning: invalid value encountered in log\n",
      "  alpha[np.isnan(alpha)] = 0\n",
      "../src/zivkovic.py:17: RuntimeWarning: divide by zero encountered in log\n",
      "  alpha[np.isnan(alpha)] = 0\n",
      "../src/zivkovic.py:73: RuntimeWarning: divide by zero encountered in true_divide\n",
      "  \n",
      "../src/zivkovic.py:73: RuntimeWarning: invalid value encountered in true_divide\n",
      "  \n",
      "../src/zivkovic.py:54: RuntimeWarning: divide by zero encountered in true_divide\n",
      "  def marginal_leaf_prob(n):\n",
      "../src/zivkovic.py:44: RuntimeWarning: invalid value encountered in log\n",
      "  lag_x, lag_w = laggauss(degree)\n",
      "../src/zivkovic.py:135: RuntimeWarning: divide by zero encountered in true_divide\n",
      "  j_vec = r[:,None]\n",
      "../src/zivkovic.py:135: RuntimeWarning: invalid value encountered in true_divide\n",
      "  j_vec = r[:,None]\n",
      "../src/zivkovic.py:64: RuntimeWarning: divide by zero encountered in true_divide\n",
      "  \n",
      "../src/zivkovic.py:34: RuntimeWarning: invalid value encountered in add\n",
      "  \n",
      "../src/zivkovic.py:34: RuntimeWarning: invalid value encountered in subtract\n",
      "  \n",
      "../src/zivkovic.py:145: RuntimeWarning: invalid value encountered in multiply\n",
      "  # k' = k = n\n",
      "../src/zivkovic.py:159: RuntimeWarning: divide by zero encountered in true_divide\n",
      "  A_kpk = prefactor_kpk * Ett_kpk\n",
      "../src/zivkovic.py:159: RuntimeWarning: invalid value encountered in true_divide\n",
      "  A_kpk = prefactor_kpk * Ett_kpk\n",
      "../src/zivkovic.py:30: RuntimeWarning: invalid value encountered in add\n",
      "  return lambda_inv(x,g) * (lambda_inv(y+x,g) - lambda_inv(x,g))\n",
      "../src/zivkovic.py:30: RuntimeWarning: invalid value encountered in subtract\n",
      "  return lambda_inv(x,g) * (lambda_inv(y+x,g) - lambda_inv(x,g))\n",
      "../src/zivkovic.py:173: RuntimeWarning: invalid value encountered in multiply\n",
      "  for j in range(1, n):\n",
      "../src/zivkovic.py:188: RuntimeWarning: divide by zero encountered in true_divide\n",
      "  r = np.arange(n+1)\n",
      "../src/zivkovic.py:188: RuntimeWarning: invalid value encountered in true_divide\n",
      "  r = np.arange(n+1)\n",
      "../src/zivkovic.py:222: RuntimeWarning: invalid value encountered in true_divide\n",
      "  Sigma_ij2 = sigma_ij2(n, Ett_kpk)\n",
      "../src/zivkovic.py:47: RuntimeWarning: invalid value encountered in greater\n",
      "  F = f(scaled_x[:,None], scaled_x[None,:])\n"
     ]
    }
   ],
   "source": [
    "sd_kingman, sd2_kingman = stats(4, \"kingman\")\n",
    "sd_exp = [stats(4, \"exponential\", g=g) for g in gs]\n",
    "sd_beta = [stats(4, \"beta\", alpha=a) for a in alphas]\n",
    "\n",
    "taus = np.logspace(-4, 1, 5, base=2)\n",
    "fs = np.logspace(-4, -1, 5, base=2)\n",
    "sd_2ep = [stats(4, \"two-epoch\", tau=tau, f=f) for f in fs for tau in taus]"
   ]
  },
  {
   "cell_type": "code",
   "execution_count": 420,
   "metadata": {},
   "outputs": [
    {
     "data": {
      "image/png": "[encoded data removed]",
      "text/plain": [
       "<matplotlib.figure.Figure at 0x128a718d0>"
      ]
     },
     "metadata": {},
     "output_type": "display_data"
    }
   ],
   "source": [
    "fig = plt.figure(figsize=(6,4))\n",
    "ax = fig.add_subplot(111)\n",
    "\n",
    "ax.plot(sd_kingman[0]/sd_kingman[1], np.log2(sd2_kingman[0,1] / (sd_kingman[1]*sd_kingman[0])), 'o', c='k', label='Kingman coalescent')\n",
    "\n",
    "for i, (sd, sd2) in enumerate(sd_exp):\n",
    "    l = ax.plot(sd[0]/sd[1], np.log2(sd2[0,1] / (sd[1]*sd[0])), 'o', c='C1')\n",
    "    if i == 0:\n",
    "        l[0].set_label(\"Exponential growth\")\n",
    "for i, (sd, sd2) in enumerate(sd_2ep):\n",
    "    l = ax.plot(sd[0]/sd[1], np.log2(sd2[0,1] / (sd[1]*sd[0])), 's', c='C1')\n",
    "    if i == 0:\n",
    "        l[0].set_label(\"2-epoch growth\")\n",
    "\n",
    "for i, (sd, sd2) in enumerate(sd_beta):\n",
    "    l = ax.plot(sd[0]/sd[1], np.log2(sd2[0,1] / (sd[1]*sd[0])), 'o', c='C0')\n",
    "    if i == 0:\n",
    "        l[0].set_label(\"Beta coalescent\")\n",
    "\n",
    "ax.set_xlim([2.5,4.3])\n",
    "ax.set_xlabel('Singleton-doubleton ratio, $\\eta_1 / \\eta_2$')\n",
    "ax.set_ylabel('Singleton-doubleton PMI, $\\log_2(\\eta_{12} / \\eta_1 \\eta_2)$')\n",
    "\n",
    "ax.legend(frameon=False)\n",
    "\n",
    "fig.savefig('../manuscript/figures/Figure3.pdf')"
   ]
  },
  {
   "cell_type": "code",
   "execution_count": null,
   "metadata": {
    "collapsed": true
   },
   "outputs": [],
   "source": []
  }
 ],
 "metadata": {
  "kernelspec": {
   "display_name": "Python 3",
   "language": "python",
   "name": "python3"
  },
  "language_info": {
   "codemirror_mode": {
    "name": "ipython",
    "version": 3
   },
   "file_extension": ".py",
   "mimetype": "text/x-python",
   "name": "python",
   "nbconvert_exporter": "python",
   "pygments_lexer": "ipython3",
   "version": "3.5.3"
  }
 },
 "nbformat": 4,
 "nbformat_minor": 2
}
