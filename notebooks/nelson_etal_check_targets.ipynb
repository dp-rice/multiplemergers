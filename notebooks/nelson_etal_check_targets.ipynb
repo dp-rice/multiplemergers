{
 "cells": [
  {
   "cell_type": "markdown",
   "metadata": {},
   "source": [
    "# Analyzing the sequencing targets in the Nelson *et al*. 2012 dataset"
   ]
  },
  {
   "cell_type": "markdown",
   "metadata": {},
   "source": [
    "Daniel P. Rice\n",
    "\n",
    "28 February 2018"
   ]
  },
  {
   "cell_type": "markdown",
   "metadata": {},
   "source": [
    "# Introduction"
   ]
  },
  {
   "cell_type": "markdown",
   "metadata": {},
   "source": [
    "We'd like to use the snp data from Nelson et al. 2012 to demonstrate our two-site frequency spectrum model checking method. In order to use this data, we need to know the number of sites sequenced in each exon target.\n",
    "\n",
    "The purpose of this notebook is to check data file S1--which contains information about the sequencing targets from the study--for consistency with the data description in the supplemental information.\n",
    "\n",
    "We'll check the following quantitative statements (page numbers refer to SI):\n",
    "- \"202 genes [were selected]\" (p5)\n",
    "- \"The genes selected had [...] coding regions with median of 1,756 [...] bp\" (p5)\n",
    "- \"Coding and noncoding exon boundaries were obtained via an Ensembl BioMart query of human genes against NCBI genome build 36.6\" (p6)\n",
    "- \"Fifty bases of flanking sequence were added [...]\" (p6)\n",
    "- \"[...] covering a total of 863,883 bases.\" (p6)\n",
    "- \"A total of [...] 351 kb of coding and 323 kb of untranslated (UTR) exons [were targeted].\" (Main text p100)\n",
    "- \"Over 93% of target bases were successfully sequenced in at least half of the study samples.\" (p6)\n",
    "\n",
    "We'll also sanity-check some other features of the data, including the counts of bases in each of the five categories: coding, UTR, intron, upstream, and downstream."
   ]
  },
  {
   "cell_type": "markdown",
   "metadata": {},
   "source": [
    "## Importing the data"
   ]
  },
  {
   "cell_type": "code",
   "execution_count": 1,
   "metadata": {
    "collapsed": true
   },
   "outputs": [],
   "source": [
    "import numpy as np\n",
    "import pandas as pd\n",
    "import matplotlib.pyplot as plt\n",
    "%matplotlib inline"
   ]
  },
  {
   "cell_type": "code",
   "execution_count": 2,
   "metadata": {},
   "outputs": [
    {
     "data": {
      "text/html": [
       "<div>\n",
       "<style scoped>\n",
       "    .dataframe tbody tr th:only-of-type {\n",
       "        vertical-align: middle;\n",
       "    }\n",
       "\n",
       "    .dataframe tbody tr th {\n",
       "        vertical-align: top;\n",
       "    }\n",
       "\n",
       "    .dataframe thead th {\n",
       "        text-align: right;\n",
       "    }\n",
       "</style>\n",
       "<table border=\"1\" class=\"dataframe\">\n",
       "  <thead>\n",
       "    <tr style=\"text-align: right;\">\n",
       "      <th></th>\n",
       "      <th>Gene</th>\n",
       "      <th>Gene37</th>\n",
       "      <th>Chromosome</th>\n",
       "      <th>Exon.NCBI.36.Start</th>\n",
       "      <th>Exon.NCBI.36.Stop</th>\n",
       "      <th>Exon.plus.50.bp.flanking.sequence.NCBI.36.Start</th>\n",
       "      <th>Exon.plus.50.bp.flanking.sequence.NCBI.36.Stop</th>\n",
       "      <th>Entrez.Gene.ID</th>\n",
       "      <th>Transcript</th>\n",
       "      <th>Ensembl.Gene.ID</th>\n",
       "      <th>...</th>\n",
       "      <th>intron</th>\n",
       "      <th>upstream</th>\n",
       "      <th>downstream</th>\n",
       "      <th>code.cover</th>\n",
       "      <th>utr.cover</th>\n",
       "      <th>intron.cover</th>\n",
       "      <th>upstream.cover</th>\n",
       "      <th>downstream.cover</th>\n",
       "      <th>TargetLength</th>\n",
       "      <th>CoverLength</th>\n",
       "    </tr>\n",
       "  </thead>\n",
       "  <tbody>\n",
       "    <tr>\n",
       "      <th>0</th>\n",
       "      <td>ABCB1</td>\n",
       "      <td>ABCB1</td>\n",
       "      <td>7</td>\n",
       "      <td>86970884</td>\n",
       "      <td>86971701</td>\n",
       "      <td>86970834</td>\n",
       "      <td>86971751</td>\n",
       "      <td>5243</td>\n",
       "      <td>NM_000927</td>\n",
       "      <td>ENSG00000085563</td>\n",
       "      <td>...</td>\n",
       "      <td>50</td>\n",
       "      <td>0</td>\n",
       "      <td>50</td>\n",
       "      <td>207</td>\n",
       "      <td>611</td>\n",
       "      <td>50</td>\n",
       "      <td>0</td>\n",
       "      <td>50</td>\n",
       "      <td>918</td>\n",
       "      <td>918</td>\n",
       "    </tr>\n",
       "    <tr>\n",
       "      <th>1</th>\n",
       "      <td>ABCB1</td>\n",
       "      <td>ABCB1</td>\n",
       "      <td>7</td>\n",
       "      <td>86973149</td>\n",
       "      <td>86973295</td>\n",
       "      <td>86973099</td>\n",
       "      <td>86973345</td>\n",
       "      <td>5243</td>\n",
       "      <td>NM_000927</td>\n",
       "      <td>ENSG00000085563</td>\n",
       "      <td>...</td>\n",
       "      <td>100</td>\n",
       "      <td>0</td>\n",
       "      <td>0</td>\n",
       "      <td>147</td>\n",
       "      <td>0</td>\n",
       "      <td>100</td>\n",
       "      <td>0</td>\n",
       "      <td>0</td>\n",
       "      <td>247</td>\n",
       "      <td>247</td>\n",
       "    </tr>\n",
       "    <tr>\n",
       "      <th>2</th>\n",
       "      <td>ABCB1</td>\n",
       "      <td>ABCB1</td>\n",
       "      <td>7</td>\n",
       "      <td>86976527</td>\n",
       "      <td>86976733</td>\n",
       "      <td>86976477</td>\n",
       "      <td>86976783</td>\n",
       "      <td>5243</td>\n",
       "      <td>NM_000927</td>\n",
       "      <td>ENSG00000085563</td>\n",
       "      <td>...</td>\n",
       "      <td>100</td>\n",
       "      <td>0</td>\n",
       "      <td>0</td>\n",
       "      <td>207</td>\n",
       "      <td>0</td>\n",
       "      <td>100</td>\n",
       "      <td>0</td>\n",
       "      <td>0</td>\n",
       "      <td>307</td>\n",
       "      <td>307</td>\n",
       "    </tr>\n",
       "    <tr>\n",
       "      <th>3</th>\n",
       "      <td>ABCB1</td>\n",
       "      <td>ABCB1</td>\n",
       "      <td>7</td>\n",
       "      <td>86982483</td>\n",
       "      <td>86982680</td>\n",
       "      <td>86982433</td>\n",
       "      <td>86982730</td>\n",
       "      <td>5243</td>\n",
       "      <td>NM_000927</td>\n",
       "      <td>ENSG00000085563</td>\n",
       "      <td>...</td>\n",
       "      <td>100</td>\n",
       "      <td>0</td>\n",
       "      <td>0</td>\n",
       "      <td>198</td>\n",
       "      <td>0</td>\n",
       "      <td>100</td>\n",
       "      <td>0</td>\n",
       "      <td>0</td>\n",
       "      <td>298</td>\n",
       "      <td>298</td>\n",
       "    </tr>\n",
       "    <tr>\n",
       "      <th>4</th>\n",
       "      <td>ABCB1</td>\n",
       "      <td>ABCB1</td>\n",
       "      <td>7</td>\n",
       "      <td>86983761</td>\n",
       "      <td>86983917</td>\n",
       "      <td>86983711</td>\n",
       "      <td>86983967</td>\n",
       "      <td>5243</td>\n",
       "      <td>NM_000927</td>\n",
       "      <td>ENSG00000085563</td>\n",
       "      <td>...</td>\n",
       "      <td>100</td>\n",
       "      <td>0</td>\n",
       "      <td>0</td>\n",
       "      <td>157</td>\n",
       "      <td>0</td>\n",
       "      <td>100</td>\n",
       "      <td>0</td>\n",
       "      <td>0</td>\n",
       "      <td>257</td>\n",
       "      <td>257</td>\n",
       "    </tr>\n",
       "  </tbody>\n",
       "</table>\n",
       "<p>5 rows × 23 columns</p>\n",
       "</div>"
      ],
      "text/plain": [
       "    Gene Gene37 Chromosome  Exon.NCBI.36.Start  Exon.NCBI.36.Stop  \\\n",
       "0  ABCB1  ABCB1          7            86970884           86971701   \n",
       "1  ABCB1  ABCB1          7            86973149           86973295   \n",
       "2  ABCB1  ABCB1          7            86976527           86976733   \n",
       "3  ABCB1  ABCB1          7            86982483           86982680   \n",
       "4  ABCB1  ABCB1          7            86983761           86983917   \n",
       "\n",
       "   Exon.plus.50.bp.flanking.sequence.NCBI.36.Start  \\\n",
       "0                                         86970834   \n",
       "1                                         86973099   \n",
       "2                                         86976477   \n",
       "3                                         86982433   \n",
       "4                                         86983711   \n",
       "\n",
       "   Exon.plus.50.bp.flanking.sequence.NCBI.36.Stop  Entrez.Gene.ID Transcript  \\\n",
       "0                                        86971751            5243  NM_000927   \n",
       "1                                        86973345            5243  NM_000927   \n",
       "2                                        86976783            5243  NM_000927   \n",
       "3                                        86982730            5243  NM_000927   \n",
       "4                                        86983967            5243  NM_000927   \n",
       "\n",
       "   Ensembl.Gene.ID     ...      intron  upstream  downstream  code.cover  \\\n",
       "0  ENSG00000085563     ...          50         0          50         207   \n",
       "1  ENSG00000085563     ...         100         0           0         147   \n",
       "2  ENSG00000085563     ...         100         0           0         207   \n",
       "3  ENSG00000085563     ...         100         0           0         198   \n",
       "4  ENSG00000085563     ...         100         0           0         157   \n",
       "\n",
       "   utr.cover  intron.cover  upstream.cover  downstream.cover  TargetLength  \\\n",
       "0        611            50               0                50           918   \n",
       "1          0           100               0                 0           247   \n",
       "2          0           100               0                 0           307   \n",
       "3          0           100               0                 0           298   \n",
       "4          0           100               0                 0           257   \n",
       "\n",
       "   CoverLength  \n",
       "0          918  \n",
       "1          247  \n",
       "2          307  \n",
       "3          298  \n",
       "4          257  \n",
       "\n",
       "[5 rows x 23 columns]"
      ]
     },
     "execution_count": 2,
     "metadata": {},
     "output_type": "execute_result"
    }
   ],
   "source": [
    "targets = pd.read_table('../data/NelsonEtal/S1_targets.txt')\n",
    "targets.head()"
   ]
  },
  {
   "cell_type": "markdown",
   "metadata": {},
   "source": [
    "Column definitions are given on p72."
   ]
  },
  {
   "cell_type": "markdown",
   "metadata": {},
   "source": [
    "# Consistency with the SI"
   ]
  },
  {
   "cell_type": "markdown",
   "metadata": {},
   "source": [
    "## Number of genes should be 202"
   ]
  },
  {
   "cell_type": "code",
   "execution_count": 3,
   "metadata": {},
   "outputs": [
    {
     "name": "stdout",
     "output_type": "stream",
     "text": [
      "The number of unique gene names = 202\n"
     ]
    }
   ],
   "source": [
    "genes = set(targets.Gene)\n",
    "print('The number of unique gene names =', len(genes))"
   ]
  },
  {
   "cell_type": "markdown",
   "metadata": {},
   "source": [
    "## The median coding length per gene should be 1,756"
   ]
  },
  {
   "cell_type": "code",
   "execution_count": 4,
   "metadata": {},
   "outputs": [
    {
     "data": {
      "text/plain": [
       "count     202.000000\n",
       "mean     1738.881188\n",
       "std      1167.744126\n",
       "min       294.000000\n",
       "25%      1061.250000\n",
       "50%      1401.000000\n",
       "75%      2173.500000\n",
       "max      7584.000000\n",
       "Name: code, dtype: float64"
      ]
     },
     "execution_count": 4,
     "metadata": {},
     "output_type": "execute_result"
    }
   ],
   "source": [
    "targets.groupby('Gene').sum()['code'].describe()"
   ]
  },
  {
   "cell_type": "code",
   "execution_count": 5,
   "metadata": {},
   "outputs": [
    {
     "name": "stdout",
     "output_type": "stream",
     "text": [
      "The median coding length per gene = 1401.0\n"
     ]
    }
   ],
   "source": [
    "print('The median coding length per gene =', targets.groupby('Gene').sum()['code'].median())"
   ]
  },
  {
   "cell_type": "markdown",
   "metadata": {},
   "source": [
    "This is 350 bp less than reported."
   ]
  },
  {
   "cell_type": "markdown",
   "metadata": {},
   "source": [
    "## 50 basepairs of flanking sequence were added"
   ]
  },
  {
   "cell_type": "markdown",
   "metadata": {},
   "source": [
    "The flanking region should start 50 bp upstream of the exon:"
   ]
  },
  {
   "cell_type": "code",
   "execution_count": 6,
   "metadata": {},
   "outputs": [
    {
     "data": {
      "text/plain": [
       "count    1989.0\n",
       "mean       50.0\n",
       "std         0.0\n",
       "min        50.0\n",
       "25%        50.0\n",
       "50%        50.0\n",
       "75%        50.0\n",
       "max        50.0\n",
       "dtype: float64"
      ]
     },
     "execution_count": 6,
     "metadata": {},
     "output_type": "execute_result"
    }
   ],
   "source": [
    "(targets['Exon.NCBI.36.Start'] - targets['Exon.plus.50.bp.flanking.sequence.NCBI.36.Start']).describe()"
   ]
  },
  {
   "cell_type": "markdown",
   "metadata": {},
   "source": [
    "This is true for all targets.\n",
    "\n",
    "The flanking region should stop 50 bp downstream of the exon:"
   ]
  },
  {
   "cell_type": "code",
   "execution_count": 7,
   "metadata": {},
   "outputs": [
    {
     "data": {
      "text/plain": [
       "count    1989.000000\n",
       "mean       73.684766\n",
       "std       220.405317\n",
       "min        50.000000\n",
       "25%        50.000000\n",
       "50%        50.000000\n",
       "75%        50.000000\n",
       "max      6131.000000\n",
       "dtype: float64"
      ]
     },
     "execution_count": 7,
     "metadata": {},
     "output_type": "execute_result"
    }
   ],
   "source": [
    "(targets['Exon.plus.50.bp.flanking.sequence.NCBI.36.Stop'] - targets['Exon.NCBI.36.Stop']).describe()"
   ]
  },
  {
   "cell_type": "code",
   "execution_count": 8,
   "metadata": {
    "collapsed": true
   },
   "outputs": [],
   "source": [
    "overhang = targets['Exon.plus.50.bp.flanking.sequence.NCBI.36.Stop'] - targets['Exon.NCBI.36.Stop']"
   ]
  },
  {
   "cell_type": "code",
   "execution_count": 9,
   "metadata": {},
   "outputs": [
    {
     "data": {
      "text/plain": [
       "129"
      ]
     },
     "execution_count": 9,
     "metadata": {},
     "output_type": "execute_result"
    }
   ],
   "source": [
    "np.sum(overhang>50)"
   ]
  },
  {
   "cell_type": "markdown",
   "metadata": {},
   "source": [
    "There are 129 targets where the flanking region stops more than 50bp downstream of the exon."
   ]
  },
  {
   "cell_type": "code",
   "execution_count": 10,
   "metadata": {},
   "outputs": [
    {
     "data": {
      "text/plain": [
       "<matplotlib.text.Text at 0x1182af278>"
      ]
     },
     "execution_count": 10,
     "metadata": {},
     "output_type": "execute_result"
    },
    {
     "data": {
      "image/png": "[encoded data removed]",
      "text/plain": [
       "<matplotlib.figure.Figure at 0x117fcec50>"
      ]
     },
     "metadata": {},
     "output_type": "display_data"
    }
   ],
   "source": [
    "overhang[overhang!=50].hist(bins=np.arange(0,6300,100))\n",
    "plt.xlabel('Length of right flanking sequence')\n",
    "plt.ylabel('Number of targets')"
   ]
  },
  {
   "cell_type": "code",
   "execution_count": 11,
   "metadata": {},
   "outputs": [
    {
     "data": {
      "text/plain": [
       "<matplotlib.text.Text at 0x1187cc8d0>"
      ]
     },
     "execution_count": 11,
     "metadata": {},
     "output_type": "execute_result"
    },
    {
     "data": {
      "image/png": "[encoded data removed]",
      "text/plain": [
       "<matplotlib.figure.Figure at 0x117fcea90>"
      ]
     },
     "metadata": {},
     "output_type": "display_data"
    }
   ],
   "source": [
    "overhang[overhang!=50].hist(bins=np.arange(0,1100,10))\n",
    "plt.xlabel('Length of right flanking sequence')\n",
    "plt.ylabel('Number of targets')"
   ]
  },
  {
   "cell_type": "markdown",
   "metadata": {},
   "source": [
    "The right flanking regions of a few targets are thousands of bp long. Most are distributed bimodally with peaks around ~50bp and ~250bp."
   ]
  },
  {
   "cell_type": "markdown",
   "metadata": {},
   "source": [
    "## Total size of regions should be 863,883 bases"
   ]
  },
  {
   "cell_type": "markdown",
   "metadata": {},
   "source": [
    "We can calculate the total size of the regions two ways:\n",
    "- using the TargetLength column\n",
    "- taking the difference between the stop and start bases of the flanking sequence."
   ]
  },
  {
   "cell_type": "code",
   "execution_count": 12,
   "metadata": {},
   "outputs": [
    {
     "data": {
      "text/plain": [
       "count    1989.000000\n",
       "mean      429.665661\n",
       "std       612.814942\n",
       "min       106.000000\n",
       "25%       202.000000\n",
       "50%       247.000000\n",
       "75%       335.000000\n",
       "max      6210.000000\n",
       "Name: TargetLength, dtype: float64"
      ]
     },
     "execution_count": 12,
     "metadata": {},
     "output_type": "execute_result"
    }
   ],
   "source": [
    "targets['TargetLength'].describe()"
   ]
  },
  {
   "cell_type": "code",
   "execution_count": 13,
   "metadata": {},
   "outputs": [
    {
     "data": {
      "text/plain": [
       "854605"
      ]
     },
     "execution_count": 13,
     "metadata": {},
     "output_type": "execute_result"
    }
   ],
   "source": [
    "targets['TargetLength'].sum()"
   ]
  },
  {
   "cell_type": "code",
   "execution_count": 14,
   "metadata": {},
   "outputs": [
    {
     "data": {
      "text/plain": [
       "count    1989.000000\n",
       "mean      429.665661\n",
       "std       612.814942\n",
       "min       106.000000\n",
       "25%       202.000000\n",
       "50%       247.000000\n",
       "75%       335.000000\n",
       "max      6210.000000\n",
       "dtype: float64"
      ]
     },
     "execution_count": 14,
     "metadata": {},
     "output_type": "execute_result"
    }
   ],
   "source": [
    "(1 + targets['Exon.plus.50.bp.flanking.sequence.NCBI.36.Stop'] - targets['Exon.plus.50.bp.flanking.sequence.NCBI.36.Start']).describe()"
   ]
  },
  {
   "cell_type": "code",
   "execution_count": 15,
   "metadata": {},
   "outputs": [
    {
     "data": {
      "text/plain": [
       "854605"
      ]
     },
     "execution_count": 15,
     "metadata": {},
     "output_type": "execute_result"
    }
   ],
   "source": [
    "(1 + targets['Exon.plus.50.bp.flanking.sequence.NCBI.36.Stop'] - targets['Exon.plus.50.bp.flanking.sequence.NCBI.36.Start']).sum()"
   ]
  },
  {
   "cell_type": "markdown",
   "metadata": {},
   "source": [
    "The two methods give the same descriptive statistics (if we add one to the difference between stop and start, which we didn't do when checking the length of the flanking regions.\n",
    "\n",
    "The total length including the flanking sequences is about 10kb smaller than reported."
   ]
  },
  {
   "cell_type": "markdown",
   "metadata": {},
   "source": [
    "## The main text says that there should be 351kb of coding and 323kb of UTR"
   ]
  },
  {
   "cell_type": "code",
   "execution_count": 16,
   "metadata": {},
   "outputs": [
    {
     "data": {
      "text/plain": [
       "351254"
      ]
     },
     "execution_count": 16,
     "metadata": {},
     "output_type": "execute_result"
    }
   ],
   "source": [
    "targets['code'].sum()"
   ]
  },
  {
   "cell_type": "code",
   "execution_count": 17,
   "metadata": {},
   "outputs": [
    {
     "data": {
      "text/plain": [
       "322917"
      ]
     },
     "execution_count": 17,
     "metadata": {},
     "output_type": "execute_result"
    }
   ],
   "source": [
    "targets['utr'].sum()"
   ]
  },
  {
   "cell_type": "markdown",
   "metadata": {},
   "source": [
    "Both numbers match."
   ]
  },
  {
   "cell_type": "markdown",
   "metadata": {},
   "source": [
    "## The covered bases should be >93% of the total bases."
   ]
  },
  {
   "cell_type": "code",
   "execution_count": 18,
   "metadata": {},
   "outputs": [
    {
     "data": {
      "text/plain": [
       "0.93099736135407585"
      ]
     },
     "execution_count": 18,
     "metadata": {},
     "output_type": "execute_result"
    }
   ],
   "source": [
    "targets['CoverLength'].sum() / targets['TargetLength'].sum()"
   ]
  },
  {
   "cell_type": "markdown",
   "metadata": {},
   "source": [
    "This checks out. One possibility is that "
   ]
  },
  {
   "cell_type": "markdown",
   "metadata": {},
   "source": [
    "## Coding and non-coding boundaries should match Ensembl BioMart query"
   ]
  },
  {
   "cell_type": "markdown",
   "metadata": {},
   "source": [
    "**TODO**"
   ]
  },
  {
   "cell_type": "markdown",
   "metadata": {},
   "source": [
    "## Summary"
   ]
  },
  {
   "cell_type": "markdown",
   "metadata": {},
   "source": [
    "We were able verify:\n",
    "- \"202 genes [were selected]\"\n",
    "- \"A total of [...] 351 kb of coding and 323 kb of untranslated (UTR) exons [were targeted].\"\n",
    "- \"Over 93% of target bases were successfully sequenced in at least half of the study samples.\"\n",
    "\n",
    "and unable to verify:\n",
    "- \"The genes selected had [...] coding regions with median of 1,756 [...] bp\" [Actual: 1,401]\n",
    "- \"Fifty bases of flanking sequence were added [...]\" [Right flanking regions are greater than 50bp and somtimes much longer] \n",
    "- \"[...] covering a total of 863,883 bases.\" [Actual: 854,605]\n",
    "\n",
    "We have not yet checked:\n",
    "- \"Coding and noncoding exon boundaries were obtained via an Ensembl BioMart query of human genes against NCBI genome build 36.6\"\n",
    "\n",
    "One possible explanation for the disagreement about number of bases and median coding length per gene is that some exons were included in these calculations but excluded from data file S1 for some reason."
   ]
  },
  {
   "cell_type": "markdown",
   "metadata": {},
   "source": [
    "# Plausibility/self-consistency checks"
   ]
  },
  {
   "cell_type": "markdown",
   "metadata": {},
   "source": [
    "## Exon lengths"
   ]
  },
  {
   "cell_type": "markdown",
   "metadata": {},
   "source": [
    "One possible explanation for the long right flanking region is some miscoding of the exon stop position. This might show up as negative exon lengths:"
   ]
  },
  {
   "cell_type": "code",
   "execution_count": 19,
   "metadata": {},
   "outputs": [
    {
     "data": {
      "text/plain": [
       "count    1989.000000\n",
       "mean      305.980895\n",
       "std       571.579225\n",
       "min         6.000000\n",
       "25%       100.000000\n",
       "50%       142.000000\n",
       "75%       215.000000\n",
       "max      5275.000000\n",
       "dtype: float64"
      ]
     },
     "execution_count": 19,
     "metadata": {},
     "output_type": "execute_result"
    },
    {
     "data": {
      "image/png": "[encoded data removed]",
      "text/plain": [
       "<matplotlib.figure.Figure at 0x118916160>"
      ]
     },
     "metadata": {},
     "output_type": "display_data"
    }
   ],
   "source": [
    "exonlengths = (1 + targets['Exon.NCBI.36.Stop'] - targets['Exon.NCBI.36.Start'])\n",
    "exonlengths.hist(bins=np.arange(0,5100,100))\n",
    "plt.yscale('log')\n",
    "exonlengths.describe()"
   ]
  },
  {
   "cell_type": "markdown",
   "metadata": {},
   "source": [
    "No exon lengths are negative, but some are very short (min 6bp.)"
   ]
  },
  {
   "cell_type": "code",
   "execution_count": 20,
   "metadata": {},
   "outputs": [
    {
     "data": {
      "text/plain": [
       "<matplotlib.axes._subplots.AxesSubplot at 0x11c03bc18>"
      ]
     },
     "execution_count": 20,
     "metadata": {},
     "output_type": "execute_result"
    },
    {
     "data": {
      "image/png": "[encoded data removed]",
      "text/plain": [
       "<matplotlib.figure.Figure at 0x11bfd4588>"
      ]
     },
     "metadata": {},
     "output_type": "display_data"
    }
   ],
   "source": [
    "exonlengths.hist(bins=np.arange(0,1000,10))"
   ]
  },
  {
   "cell_type": "code",
   "execution_count": 21,
   "metadata": {},
   "outputs": [
    {
     "data": {
      "text/plain": [
       "<matplotlib.axes._subplots.AxesSubplot at 0x11c3677b8>"
      ]
     },
     "execution_count": 21,
     "metadata": {},
     "output_type": "execute_result"
    },
    {
     "data": {
      "image/png": "[encoded data removed]",
      "text/plain": [
       "<matplotlib.figure.Figure at 0x11c00e7f0>"
      ]
     },
     "metadata": {},
     "output_type": "display_data"
    }
   ],
   "source": [
    "exonlengths.hist(bins=np.arange(0,201,1))"
   ]
  },
  {
   "cell_type": "markdown",
   "metadata": {},
   "source": [
    "Exon lengths are peaked around 100bp, with a few as short as 6bp."
   ]
  },
  {
   "cell_type": "code",
   "execution_count": 22,
   "metadata": {},
   "outputs": [
    {
     "data": {
      "text/plain": [
       "[<matplotlib.lines.Line2D at 0x11c4ec8d0>]"
      ]
     },
     "execution_count": 22,
     "metadata": {},
     "output_type": "execute_result"
    },
    {
     "data": {
      "image/png": "[encoded data removed]",
      "text/plain": [
       "<matplotlib.figure.Figure at 0x11c338d68>"
      ]
     },
     "metadata": {},
     "output_type": "display_data"
    }
   ],
   "source": [
    "plt.loglog(overhang, exonlengths, '.')"
   ]
  },
  {
   "cell_type": "code",
   "execution_count": 23,
   "metadata": {},
   "outputs": [
    {
     "data": {
      "text/plain": [
       "<matplotlib.axes._subplots.AxesSubplot at 0x11c7478d0>"
      ]
     },
     "execution_count": 23,
     "metadata": {},
     "output_type": "execute_result"
    },
    {
     "data": {
      "image/png": "[encoded data removed]",
      "text/plain": [
       "<matplotlib.figure.Figure at 0x11c6b0198>"
      ]
     },
     "metadata": {},
     "output_type": "display_data"
    }
   ],
   "source": [
    "exonlengths[overhang>50].hist(bins=np.arange(0,1000,10))"
   ]
  },
  {
   "cell_type": "markdown",
   "metadata": {},
   "source": [
    "There's nothing notable about the distribution of exon lengths of exons with right flanking regions longer than 50bp."
   ]
  },
  {
   "cell_type": "markdown",
   "metadata": {},
   "source": [
    "## Exon lengths vs. coding and UTR"
   ]
  },
  {
   "cell_type": "markdown",
   "metadata": {},
   "source": [
    "The table provides the number of bases in each of five categories:\n",
    "- coding\n",
    "- utr\n",
    "- upstream\n",
    "- downstream\n",
    "- intron.\n",
    "\n",
    "My interpretation is that each exon base should be either coding or utr. There should not be coding bases outside of exons."
   ]
  },
  {
   "cell_type": "code",
   "execution_count": 24,
   "metadata": {},
   "outputs": [
    {
     "data": {
      "text/plain": [
       "<matplotlib.text.Text at 0x11cb55358>"
      ]
     },
     "execution_count": 24,
     "metadata": {},
     "output_type": "execute_result"
    },
    {
     "data": {
      "image/png": "[encoded data removed]",
      "text/plain": [
       "<matplotlib.figure.Figure at 0x11c9038d0>"
      ]
     },
     "metadata": {},
     "output_type": "display_data"
    }
   ],
   "source": [
    "plt.figure(figsize=(4,12))\n",
    "x = np.logspace(0,4,4)\n",
    "\n",
    "plt.subplot(311)\n",
    "plt.loglog(exonlengths, targets['code'], '.', alpha=0.5)\n",
    "plt.loglog(x,x,'--k')\n",
    "plt.ylabel('Coding bases')\n",
    "\n",
    "plt.subplot(312)\n",
    "plt.loglog(exonlengths, targets['utr'], '.', alpha=0.5)\n",
    "plt.loglog(x,x,'--k')\n",
    "plt.ylabel('UTR bases')\n",
    "\n",
    "plt.subplot(313)\n",
    "plt.loglog(exonlengths, targets['code'] + targets['utr'], '.', alpha=0.5)\n",
    "plt.loglog(x,x,'--k')\n",
    "plt.ylabel('Coding + UTR bases')\n",
    "plt.xlabel('Exon bases')"
   ]
  },
  {
   "cell_type": "code",
   "execution_count": 25,
   "metadata": {},
   "outputs": [
    {
     "data": {
      "text/plain": [
       "count    1989.000000\n",
       "mean      -32.968829\n",
       "std       254.457612\n",
       "min     -6081.000000\n",
       "25%         0.000000\n",
       "50%         0.000000\n",
       "75%         0.000000\n",
       "max        66.000000\n",
       "dtype: float64"
      ]
     },
     "execution_count": 25,
     "metadata": {},
     "output_type": "execute_result"
    }
   ],
   "source": [
    "(exonlengths - (targets['code'] + targets['utr'])).describe()"
   ]
  },
  {
   "cell_type": "code",
   "execution_count": 26,
   "metadata": {},
   "outputs": [
    {
     "data": {
      "text/plain": [
       "2"
      ]
     },
     "execution_count": 26,
     "metadata": {},
     "output_type": "execute_result"
    }
   ],
   "source": [
    "np.sum((exonlengths - (targets['code'] + targets['utr'])) > 0)"
   ]
  },
  {
   "cell_type": "code",
   "execution_count": 27,
   "metadata": {},
   "outputs": [
    {
     "data": {
      "text/plain": [
       "252"
      ]
     },
     "execution_count": 27,
     "metadata": {},
     "output_type": "execute_result"
    }
   ],
   "source": [
    "np.sum((exonlengths - (targets['code'] + targets['utr'])) < 0)"
   ]
  },
  {
   "cell_type": "markdown",
   "metadata": {},
   "source": [
    "For most targets, the exon length equals the sum of coding and UTR bases. For 2 targets, the exon is longer. For 252 targets, the exon is shorter. This is anomalous.\n",
    "\n",
    "Maybe there are coding and UTR bases in the flanking regions:"
   ]
  },
  {
   "cell_type": "code",
   "execution_count": 28,
   "metadata": {},
   "outputs": [
    {
     "data": {
      "text/plain": [
       "<matplotlib.text.Text at 0x11ccdeb38>"
      ]
     },
     "execution_count": 28,
     "metadata": {},
     "output_type": "execute_result"
    },
    {
     "data": {
      "image/png": "[encoded data removed]",
      "text/plain": [
       "<matplotlib.figure.Figure at 0x11cfe2c18>"
      ]
     },
     "metadata": {},
     "output_type": "display_data"
    }
   ],
   "source": [
    "plt.figure(figsize=(4,12))\n",
    "x = np.logspace(2,4,4)\n",
    "\n",
    "plt.subplot(311)\n",
    "plt.loglog(targets['TargetLength'], targets['code'], '.', alpha=0.5)\n",
    "plt.loglog(x,x,'--k')\n",
    "plt.ylabel('Coding bases')\n",
    "\n",
    "plt.subplot(312)\n",
    "plt.loglog(targets['TargetLength'], targets['utr'], '.', alpha=0.5)\n",
    "plt.loglog(x,x,'--k')\n",
    "plt.ylabel('UTR bases')\n",
    "\n",
    "plt.subplot(313)\n",
    "plt.loglog(targets['TargetLength'], targets['code'] + targets['utr'], '.', alpha=0.5)\n",
    "plt.loglog(x,x,'--k')\n",
    "plt.ylabel('Coding + UTR bases')\n",
    "plt.xlabel('Target length')"
   ]
  },
  {
   "cell_type": "markdown",
   "metadata": {},
   "source": [
    "The curve away from the 1-1 line is because the target length is usually 100 bp longer than the exon. However, there are still targets where the coding plus UTR base count is larger than the coding length."
   ]
  },
  {
   "cell_type": "code",
   "execution_count": 29,
   "metadata": {},
   "outputs": [
    {
     "data": {
      "text/plain": [
       "count    1989.000000\n",
       "mean       90.715938\n",
       "std       131.555304\n",
       "min     -3080.000000\n",
       "25%       100.000000\n",
       "50%       100.000000\n",
       "75%       100.000000\n",
       "max       430.000000\n",
       "dtype: float64"
      ]
     },
     "execution_count": 29,
     "metadata": {},
     "output_type": "execute_result"
    }
   ],
   "source": [
    "(targets['TargetLength'] - (targets['code'] + targets['utr'])).describe()"
   ]
  },
  {
   "cell_type": "code",
   "execution_count": 30,
   "metadata": {},
   "outputs": [
    {
     "data": {
      "text/plain": [
       "38"
      ]
     },
     "execution_count": 30,
     "metadata": {},
     "output_type": "execute_result"
    }
   ],
   "source": [
    "(targets['TargetLength'] < (targets['code'] + targets['utr'])).sum()"
   ]
  },
  {
   "cell_type": "markdown",
   "metadata": {},
   "source": [
    "There are 38 such targets."
   ]
  },
  {
   "cell_type": "code",
   "execution_count": 31,
   "metadata": {},
   "outputs": [
    {
     "data": {
      "text/plain": [
       "252"
      ]
     },
     "execution_count": 31,
     "metadata": {},
     "output_type": "execute_result"
    }
   ],
   "source": [
    "(exonlengths < (targets['code'] + targets['utr'])).sum()"
   ]
  },
  {
   "cell_type": "code",
   "execution_count": 32,
   "metadata": {},
   "outputs": [
    {
     "name": "stdout",
     "output_type": "stream",
     "text": [
      "{'MME', 'PSEN2', 'NFKBIL1', 'SIRT2', 'ZAP70', 'KCNN4', 'PTGER1', 'IL28B', 'GLP1R', 'SIRT6', 'HCRTR1', 'PRKAG1', 'CCR9', 'GRIN2B', 'RORC', 'CCR5', 'ITGA4', 'LRRK2', 'MMP12', 'SCD', 'TNFSF11', 'CCL7', 'APH1B', 'CHRM3', 'CHRNA5', 'KCNMA1', 'CD3E', 'CAMKK2', 'SYK', 'APH1A', 'MIF', 'SIRT7', 'GSK3B', 'SIRT5', 'DYRK3', 'GPR109A', 'CACNA1B', 'HCRTR2', 'CCR3', 'P4HA2', 'TRPC3', 'SLC10A1', 'IL6', 'JAK3', 'OPRM1', 'APCS', 'OXTR', 'APP', 'P2RX7', 'MAG', 'CCL8', 'BRD4', 'CD3D', 'SIRT3', 'IL7R', 'GABRA3', 'KIAA1967', 'DPP4', 'CXCL3', 'TRPV1', 'CDH2', 'MMP9', 'PDE4A', 'PSEN1', 'CHRNB2', 'SP110', 'GRIN1', 'OSM', 'MAPK14', 'TACR1', 'ADIPOQ', 'BDKRB2', 'HTR4', 'IL18', 'RORA', 'SLC6A9', 'CHRNA6', 'GABRA2', 'TBXA2R', 'MAPK11', 'CD3G', 'P4HA1', 'GHSR', 'PDE5A', 'STIM1', 'ITGB1', 'MS4A1', 'PTHR1', 'NTRK2', 'FAAH', 'CHRNA3', 'NOS2A', 'NRXN1', 'CHRM4', 'ELA2', 'SLC6A4', 'PGK1', 'TNNI3K', 'DPP3', 'HTR2C', 'CYSLTR1', 'EDG1', 'BICD1', 'CTSK', 'GPBAR1', 'DRD2', 'ADORA1', 'CHRNA7', 'HRH1', 'IL23A', 'CXCL5', 'PTGIR', 'NR1D1', 'DRD3', 'SIRT1', 'TNFRSF1A', 'ADORA2A', 'PTGS1', 'NLRP3', 'CXCL1', 'IL8', 'CXCL2', 'NCSTN', 'NLRP1', 'PPARD', 'ITGAV', 'STK39', 'PTGDR', 'L1CAM', 'RTN4', 'SDHB', 'MCHR2', 'GRM5', 'PIK3CA', 'EDNRB', 'HRH3'} 136\n"
     ]
    }
   ],
   "source": [
    "exon_mismatch_genes = set(targets[(exonlengths < (targets['code'] + targets['utr']))]['Gene'])\n",
    "print(exon_mismatch_genes, len(exon_mismatch_genes))"
   ]
  },
  {
   "cell_type": "markdown",
   "metadata": {},
   "source": [
    "There are 252 targets where coding + UTR bases is longer than the exon length. They are in 136 genes."
   ]
  },
  {
   "cell_type": "markdown",
   "metadata": {},
   "source": [
    "## Upstream and downstream regions"
   ]
  },
  {
   "cell_type": "markdown",
   "metadata": {},
   "source": [
    "My understanding is that upstream and downstream regions are 50bp flanking regions that are upstream or downstream of the gene. If so, there should be 50bp of each per gene."
   ]
  },
  {
   "cell_type": "code",
   "execution_count": 33,
   "metadata": {},
   "outputs": [
    {
     "data": {
      "text/html": [
       "<div>\n",
       "<style scoped>\n",
       "    .dataframe tbody tr th:only-of-type {\n",
       "        vertical-align: middle;\n",
       "    }\n",
       "\n",
       "    .dataframe tbody tr th {\n",
       "        vertical-align: top;\n",
       "    }\n",
       "\n",
       "    .dataframe thead th {\n",
       "        text-align: right;\n",
       "    }\n",
       "</style>\n",
       "<table border=\"1\" class=\"dataframe\">\n",
       "  <thead>\n",
       "    <tr style=\"text-align: right;\">\n",
       "      <th></th>\n",
       "      <th>upstream</th>\n",
       "      <th>downstream</th>\n",
       "    </tr>\n",
       "  </thead>\n",
       "  <tbody>\n",
       "    <tr>\n",
       "      <th>count</th>\n",
       "      <td>202.000000</td>\n",
       "      <td>202.000000</td>\n",
       "    </tr>\n",
       "    <tr>\n",
       "      <th>mean</th>\n",
       "      <td>46.247525</td>\n",
       "      <td>46.866337</td>\n",
       "    </tr>\n",
       "    <tr>\n",
       "      <th>std</th>\n",
       "      <td>12.802678</td>\n",
       "      <td>9.214252</td>\n",
       "    </tr>\n",
       "    <tr>\n",
       "      <th>min</th>\n",
       "      <td>0.000000</td>\n",
       "      <td>0.000000</td>\n",
       "    </tr>\n",
       "    <tr>\n",
       "      <th>25%</th>\n",
       "      <td>50.000000</td>\n",
       "      <td>49.000000</td>\n",
       "    </tr>\n",
       "    <tr>\n",
       "      <th>50%</th>\n",
       "      <td>50.000000</td>\n",
       "      <td>50.000000</td>\n",
       "    </tr>\n",
       "    <tr>\n",
       "      <th>75%</th>\n",
       "      <td>50.000000</td>\n",
       "      <td>50.000000</td>\n",
       "    </tr>\n",
       "    <tr>\n",
       "      <th>max</th>\n",
       "      <td>50.000000</td>\n",
       "      <td>51.000000</td>\n",
       "    </tr>\n",
       "  </tbody>\n",
       "</table>\n",
       "</div>"
      ],
      "text/plain": [
       "         upstream  downstream\n",
       "count  202.000000  202.000000\n",
       "mean    46.247525   46.866337\n",
       "std     12.802678    9.214252\n",
       "min      0.000000    0.000000\n",
       "25%     50.000000   49.000000\n",
       "50%     50.000000   50.000000\n",
       "75%     50.000000   50.000000\n",
       "max     50.000000   51.000000"
      ]
     },
     "execution_count": 33,
     "metadata": {},
     "output_type": "execute_result"
    }
   ],
   "source": [
    "ud_bygene = targets.groupby('Gene').sum()\n",
    "ud_bygene[['upstream', 'downstream']].describe()"
   ]
  },
  {
   "cell_type": "code",
   "execution_count": 34,
   "metadata": {},
   "outputs": [
    {
     "data": {
      "text/html": [
       "<div>\n",
       "<style scoped>\n",
       "    .dataframe tbody tr th:only-of-type {\n",
       "        vertical-align: middle;\n",
       "    }\n",
       "\n",
       "    .dataframe tbody tr th {\n",
       "        vertical-align: top;\n",
       "    }\n",
       "\n",
       "    .dataframe thead th {\n",
       "        text-align: right;\n",
       "    }\n",
       "</style>\n",
       "<table border=\"1\" class=\"dataframe\">\n",
       "  <thead>\n",
       "    <tr style=\"text-align: right;\">\n",
       "      <th></th>\n",
       "      <th>Exon.NCBI.36.Start</th>\n",
       "      <th>Exon.NCBI.36.Stop</th>\n",
       "      <th>Exon.plus.50.bp.flanking.sequence.NCBI.36.Start</th>\n",
       "      <th>Exon.plus.50.bp.flanking.sequence.NCBI.36.Stop</th>\n",
       "      <th>Entrez.Gene.ID</th>\n",
       "      <th>code</th>\n",
       "      <th>utr</th>\n",
       "      <th>intron</th>\n",
       "      <th>upstream</th>\n",
       "      <th>downstream</th>\n",
       "      <th>code.cover</th>\n",
       "      <th>utr.cover</th>\n",
       "      <th>intron.cover</th>\n",
       "      <th>upstream.cover</th>\n",
       "      <th>downstream.cover</th>\n",
       "      <th>TargetLength</th>\n",
       "      <th>CoverLength</th>\n",
       "    </tr>\n",
       "    <tr>\n",
       "      <th>Gene</th>\n",
       "      <th></th>\n",
       "      <th></th>\n",
       "      <th></th>\n",
       "      <th></th>\n",
       "      <th></th>\n",
       "      <th></th>\n",
       "      <th></th>\n",
       "      <th></th>\n",
       "      <th></th>\n",
       "      <th></th>\n",
       "      <th></th>\n",
       "      <th></th>\n",
       "      <th></th>\n",
       "      <th></th>\n",
       "      <th></th>\n",
       "      <th></th>\n",
       "      <th></th>\n",
       "    </tr>\n",
       "  </thead>\n",
       "  <tbody>\n",
       "    <tr>\n",
       "      <th>IL6</th>\n",
       "      <td>136406984</td>\n",
       "      <td>136408491</td>\n",
       "      <td>136406684</td>\n",
       "      <td>136408805</td>\n",
       "      <td>21414</td>\n",
       "      <td>639</td>\n",
       "      <td>887</td>\n",
       "      <td>500</td>\n",
       "      <td>50</td>\n",
       "      <td>51</td>\n",
       "      <td>639</td>\n",
       "      <td>808</td>\n",
       "      <td>500</td>\n",
       "      <td>50</td>\n",
       "      <td>0</td>\n",
       "      <td>2127</td>\n",
       "      <td>1997</td>\n",
       "    </tr>\n",
       "  </tbody>\n",
       "</table>\n",
       "</div>"
      ],
      "text/plain": [
       "      Exon.NCBI.36.Start  Exon.NCBI.36.Stop  \\\n",
       "Gene                                          \n",
       "IL6            136406984          136408491   \n",
       "\n",
       "      Exon.plus.50.bp.flanking.sequence.NCBI.36.Start  \\\n",
       "Gene                                                    \n",
       "IL6                                         136406684   \n",
       "\n",
       "      Exon.plus.50.bp.flanking.sequence.NCBI.36.Stop  Entrez.Gene.ID  code  \\\n",
       "Gene                                                                         \n",
       "IL6                                        136408805           21414   639   \n",
       "\n",
       "      utr  intron  upstream  downstream  code.cover  utr.cover  intron.cover  \\\n",
       "Gene                                                                           \n",
       "IL6   887     500        50          51         639        808           500   \n",
       "\n",
       "      upstream.cover  downstream.cover  TargetLength  CoverLength  \n",
       "Gene                                                               \n",
       "IL6               50                 0          2127         1997  "
      ]
     },
     "execution_count": 34,
     "metadata": {},
     "output_type": "execute_result"
    }
   ],
   "source": [
    "ud_bygene[ud_bygene.downstream>50]"
   ]
  },
  {
   "cell_type": "markdown",
   "metadata": {},
   "source": [
    "This appears to be mostly correct, although there are some genes with less than 50 bp of either and one gene with more than 50bp of downstream.\n",
    "\n",
    "Here are some distributions of upstream and downstream lengths:"
   ]
  },
  {
   "cell_type": "code",
   "execution_count": 35,
   "metadata": {},
   "outputs": [
    {
     "data": {
      "image/png": "[encoded data removed]",
      "text/plain": [
       "<matplotlib.figure.Figure at 0x11d312ba8>"
      ]
     },
     "metadata": {},
     "output_type": "display_data"
    },
    {
     "data": {
      "text/plain": [
       "<matplotlib.axes._subplots.AxesSubplot at 0x11d0dfc88>"
      ]
     },
     "execution_count": 35,
     "metadata": {},
     "output_type": "execute_result"
    },
    {
     "data": {
      "image/png": "[encoded data removed]",
      "text/plain": [
       "<matplotlib.figure.Figure at 0x11d1961d0>"
      ]
     },
     "metadata": {},
     "output_type": "display_data"
    }
   ],
   "source": [
    "ud_bygene.upstream.hist(bins=np.arange(0,53,1))\n",
    "plt.show()\n",
    "ud_bygene.downstream.hist(bins=np.arange(0,53,1))"
   ]
  },
  {
   "cell_type": "markdown",
   "metadata": {},
   "source": [
    "And distributions by target rather than gene:"
   ]
  },
  {
   "cell_type": "code",
   "execution_count": 36,
   "metadata": {},
   "outputs": [
    {
     "data": {
      "image/png": "[encoded data removed]",
      "text/plain": [
       "<matplotlib.figure.Figure at 0x11d6b55c0>"
      ]
     },
     "metadata": {},
     "output_type": "display_data"
    },
    {
     "data": {
      "text/plain": [
       "<matplotlib.axes._subplots.AxesSubplot at 0x11d7abb38>"
      ]
     },
     "execution_count": 36,
     "metadata": {},
     "output_type": "execute_result"
    },
    {
     "data": {
      "image/png": "[encoded data removed]",
      "text/plain": [
       "<matplotlib.figure.Figure at 0x11cf32898>"
      ]
     },
     "metadata": {},
     "output_type": "display_data"
    }
   ],
   "source": [
    "targets.upstream[targets.upstream>0].hist(bins=np.arange(0,53,1))\n",
    "plt.show()\n",
    "targets.downstream[targets.downstream>0].hist(bins=np.arange(0,53,1))"
   ]
  },
  {
   "cell_type": "code",
   "execution_count": 37,
   "metadata": {},
   "outputs": [
    {
     "data": {
      "text/plain": [
       "6"
      ]
     },
     "execution_count": 37,
     "metadata": {},
     "output_type": "execute_result"
    }
   ],
   "source": [
    "np.sum((targets.downstream > 0) & (targets.upstream > 0))"
   ]
  },
  {
   "cell_type": "markdown",
   "metadata": {},
   "source": [
    "Six targets have both upstream and downstream regions:"
   ]
  },
  {
   "cell_type": "code",
   "execution_count": 38,
   "metadata": {},
   "outputs": [
    {
     "data": {
      "text/html": [
       "<div>\n",
       "<style scoped>\n",
       "    .dataframe tbody tr th:only-of-type {\n",
       "        vertical-align: middle;\n",
       "    }\n",
       "\n",
       "    .dataframe tbody tr th {\n",
       "        vertical-align: top;\n",
       "    }\n",
       "\n",
       "    .dataframe thead th {\n",
       "        text-align: right;\n",
       "    }\n",
       "</style>\n",
       "<table border=\"1\" class=\"dataframe\">\n",
       "  <thead>\n",
       "    <tr style=\"text-align: right;\">\n",
       "      <th></th>\n",
       "      <th>Gene</th>\n",
       "      <th>Gene37</th>\n",
       "      <th>Chromosome</th>\n",
       "      <th>Exon.NCBI.36.Start</th>\n",
       "      <th>Exon.NCBI.36.Stop</th>\n",
       "      <th>Exon.plus.50.bp.flanking.sequence.NCBI.36.Start</th>\n",
       "      <th>Exon.plus.50.bp.flanking.sequence.NCBI.36.Stop</th>\n",
       "      <th>Entrez.Gene.ID</th>\n",
       "      <th>Transcript</th>\n",
       "      <th>Ensembl.Gene.ID</th>\n",
       "      <th>...</th>\n",
       "      <th>intron</th>\n",
       "      <th>upstream</th>\n",
       "      <th>downstream</th>\n",
       "      <th>code.cover</th>\n",
       "      <th>utr.cover</th>\n",
       "      <th>intron.cover</th>\n",
       "      <th>upstream.cover</th>\n",
       "      <th>downstream.cover</th>\n",
       "      <th>TargetLength</th>\n",
       "      <th>CoverLength</th>\n",
       "    </tr>\n",
       "  </thead>\n",
       "  <tbody>\n",
       "    <tr>\n",
       "      <th>323</th>\n",
       "      <td>CHRM4</td>\n",
       "      <td>CHRM4</td>\n",
       "      <td>11</td>\n",
       "      <td>46363224</td>\n",
       "      <td>46364734</td>\n",
       "      <td>46363174</td>\n",
       "      <td>46364784</td>\n",
       "      <td>1132</td>\n",
       "      <td>NM_000741</td>\n",
       "      <td>ENSG00000222006</td>\n",
       "      <td>...</td>\n",
       "      <td>0</td>\n",
       "      <td>50</td>\n",
       "      <td>42</td>\n",
       "      <td>1420</td>\n",
       "      <td>79</td>\n",
       "      <td>0</td>\n",
       "      <td>50</td>\n",
       "      <td>42</td>\n",
       "      <td>1611</td>\n",
       "      <td>1591</td>\n",
       "    </tr>\n",
       "    <tr>\n",
       "      <th>436</th>\n",
       "      <td>CYSLTR2</td>\n",
       "      <td>CYSLTR2</td>\n",
       "      <td>13</td>\n",
       "      <td>48178952</td>\n",
       "      <td>48181499</td>\n",
       "      <td>48178902</td>\n",
       "      <td>48181549</td>\n",
       "      <td>57105</td>\n",
       "      <td>NM_020377</td>\n",
       "      <td>ENSG00000152207</td>\n",
       "      <td>...</td>\n",
       "      <td>0</td>\n",
       "      <td>50</td>\n",
       "      <td>50</td>\n",
       "      <td>1041</td>\n",
       "      <td>1507</td>\n",
       "      <td>0</td>\n",
       "      <td>50</td>\n",
       "      <td>50</td>\n",
       "      <td>2648</td>\n",
       "      <td>2648</td>\n",
       "    </tr>\n",
       "    <tr>\n",
       "      <th>604</th>\n",
       "      <td>GPR119</td>\n",
       "      <td>GPR119</td>\n",
       "      <td>X</td>\n",
       "      <td>129346095</td>\n",
       "      <td>129347102</td>\n",
       "      <td>129346045</td>\n",
       "      <td>129347152</td>\n",
       "      <td>139760</td>\n",
       "      <td>NM_178471</td>\n",
       "      <td>ENSG00000147262</td>\n",
       "      <td>...</td>\n",
       "      <td>0</td>\n",
       "      <td>50</td>\n",
       "      <td>50</td>\n",
       "      <td>1008</td>\n",
       "      <td>0</td>\n",
       "      <td>0</td>\n",
       "      <td>50</td>\n",
       "      <td>50</td>\n",
       "      <td>1108</td>\n",
       "      <td>1108</td>\n",
       "    </tr>\n",
       "    <tr>\n",
       "      <th>689</th>\n",
       "      <td>HTR1A</td>\n",
       "      <td>HTR1A</td>\n",
       "      <td>5</td>\n",
       "      <td>63292034</td>\n",
       "      <td>63293302</td>\n",
       "      <td>63291984</td>\n",
       "      <td>63293352</td>\n",
       "      <td>3350</td>\n",
       "      <td>NM_000524</td>\n",
       "      <td>ENSG00000178394</td>\n",
       "      <td>...</td>\n",
       "      <td>0</td>\n",
       "      <td>50</td>\n",
       "      <td>50</td>\n",
       "      <td>1269</td>\n",
       "      <td>0</td>\n",
       "      <td>0</td>\n",
       "      <td>50</td>\n",
       "      <td>50</td>\n",
       "      <td>1369</td>\n",
       "      <td>1369</td>\n",
       "    </tr>\n",
       "    <tr>\n",
       "      <th>690</th>\n",
       "      <td>HTR1B</td>\n",
       "      <td>HTR1B</td>\n",
       "      <td>6</td>\n",
       "      <td>78228641</td>\n",
       "      <td>78229900</td>\n",
       "      <td>78228591</td>\n",
       "      <td>78229950</td>\n",
       "      <td>3351</td>\n",
       "      <td>NM_000863</td>\n",
       "      <td>ENSG00000135312</td>\n",
       "      <td>...</td>\n",
       "      <td>0</td>\n",
       "      <td>50</td>\n",
       "      <td>50</td>\n",
       "      <td>1173</td>\n",
       "      <td>87</td>\n",
       "      <td>0</td>\n",
       "      <td>50</td>\n",
       "      <td>50</td>\n",
       "      <td>1360</td>\n",
       "      <td>1360</td>\n",
       "    </tr>\n",
       "    <tr>\n",
       "      <th>1977</th>\n",
       "      <td>UTS2R</td>\n",
       "      <td>UTS2R</td>\n",
       "      <td>17</td>\n",
       "      <td>77925490</td>\n",
       "      <td>77926659</td>\n",
       "      <td>77925440</td>\n",
       "      <td>77926709</td>\n",
       "      <td>2837</td>\n",
       "      <td>NM_018949</td>\n",
       "      <td>ENSG00000181408</td>\n",
       "      <td>...</td>\n",
       "      <td>0</td>\n",
       "      <td>50</td>\n",
       "      <td>50</td>\n",
       "      <td>490</td>\n",
       "      <td>0</td>\n",
       "      <td>0</td>\n",
       "      <td>50</td>\n",
       "      <td>0</td>\n",
       "      <td>1270</td>\n",
       "      <td>540</td>\n",
       "    </tr>\n",
       "  </tbody>\n",
       "</table>\n",
       "<p>6 rows × 23 columns</p>\n",
       "</div>"
      ],
      "text/plain": [
       "         Gene   Gene37 Chromosome  Exon.NCBI.36.Start  Exon.NCBI.36.Stop  \\\n",
       "323     CHRM4    CHRM4         11            46363224           46364734   \n",
       "436   CYSLTR2  CYSLTR2         13            48178952           48181499   \n",
       "604    GPR119   GPR119          X           129346095          129347102   \n",
       "689     HTR1A    HTR1A          5            63292034           63293302   \n",
       "690     HTR1B    HTR1B          6            78228641           78229900   \n",
       "1977    UTS2R    UTS2R         17            77925490           77926659   \n",
       "\n",
       "      Exon.plus.50.bp.flanking.sequence.NCBI.36.Start  \\\n",
       "323                                          46363174   \n",
       "436                                          48178902   \n",
       "604                                         129346045   \n",
       "689                                          63291984   \n",
       "690                                          78228591   \n",
       "1977                                         77925440   \n",
       "\n",
       "      Exon.plus.50.bp.flanking.sequence.NCBI.36.Stop  Entrez.Gene.ID  \\\n",
       "323                                         46364784            1132   \n",
       "436                                         48181549           57105   \n",
       "604                                        129347152          139760   \n",
       "689                                         63293352            3350   \n",
       "690                                         78229950            3351   \n",
       "1977                                        77926709            2837   \n",
       "\n",
       "     Transcript  Ensembl.Gene.ID     ...      intron  upstream  downstream  \\\n",
       "323   NM_000741  ENSG00000222006     ...           0        50          42   \n",
       "436   NM_020377  ENSG00000152207     ...           0        50          50   \n",
       "604   NM_178471  ENSG00000147262     ...           0        50          50   \n",
       "689   NM_000524  ENSG00000178394     ...           0        50          50   \n",
       "690   NM_000863  ENSG00000135312     ...           0        50          50   \n",
       "1977  NM_018949  ENSG00000181408     ...           0        50          50   \n",
       "\n",
       "      code.cover  utr.cover  intron.cover  upstream.cover  downstream.cover  \\\n",
       "323         1420         79             0              50                42   \n",
       "436         1041       1507             0              50                50   \n",
       "604         1008          0             0              50                50   \n",
       "689         1269          0             0              50                50   \n",
       "690         1173         87             0              50                50   \n",
       "1977         490          0             0              50                 0   \n",
       "\n",
       "      TargetLength  CoverLength  \n",
       "323           1611         1591  \n",
       "436           2648         2648  \n",
       "604           1108         1108  \n",
       "689           1369         1369  \n",
       "690           1360         1360  \n",
       "1977          1270          540  \n",
       "\n",
       "[6 rows x 23 columns]"
      ]
     },
     "execution_count": 38,
     "metadata": {},
     "output_type": "execute_result"
    }
   ],
   "source": [
    "targets[(targets.downstream > 0) & (targets.upstream > 0)]"
   ]
  },
  {
   "cell_type": "markdown",
   "metadata": {},
   "source": [
    "Are they the only targets in those genes?"
   ]
  },
  {
   "cell_type": "code",
   "execution_count": 39,
   "metadata": {},
   "outputs": [
    {
     "data": {
      "text/html": [
       "<div>\n",
       "<style scoped>\n",
       "    .dataframe tbody tr th:only-of-type {\n",
       "        vertical-align: middle;\n",
       "    }\n",
       "\n",
       "    .dataframe tbody tr th {\n",
       "        vertical-align: top;\n",
       "    }\n",
       "\n",
       "    .dataframe thead th {\n",
       "        text-align: right;\n",
       "    }\n",
       "</style>\n",
       "<table border=\"1\" class=\"dataframe\">\n",
       "  <thead>\n",
       "    <tr style=\"text-align: right;\">\n",
       "      <th></th>\n",
       "      <th>Gene</th>\n",
       "      <th>Gene37</th>\n",
       "      <th>Chromosome</th>\n",
       "      <th>Exon.NCBI.36.Start</th>\n",
       "      <th>Exon.NCBI.36.Stop</th>\n",
       "      <th>Exon.plus.50.bp.flanking.sequence.NCBI.36.Start</th>\n",
       "      <th>Exon.plus.50.bp.flanking.sequence.NCBI.36.Stop</th>\n",
       "      <th>Entrez.Gene.ID</th>\n",
       "      <th>Transcript</th>\n",
       "      <th>Ensembl.Gene.ID</th>\n",
       "      <th>...</th>\n",
       "      <th>intron</th>\n",
       "      <th>upstream</th>\n",
       "      <th>downstream</th>\n",
       "      <th>code.cover</th>\n",
       "      <th>utr.cover</th>\n",
       "      <th>intron.cover</th>\n",
       "      <th>upstream.cover</th>\n",
       "      <th>downstream.cover</th>\n",
       "      <th>TargetLength</th>\n",
       "      <th>CoverLength</th>\n",
       "    </tr>\n",
       "  </thead>\n",
       "  <tbody>\n",
       "    <tr>\n",
       "      <th>323</th>\n",
       "      <td>CHRM4</td>\n",
       "      <td>CHRM4</td>\n",
       "      <td>11</td>\n",
       "      <td>46363224</td>\n",
       "      <td>46364734</td>\n",
       "      <td>46363174</td>\n",
       "      <td>46364784</td>\n",
       "      <td>1132</td>\n",
       "      <td>NM_000741</td>\n",
       "      <td>ENSG00000222006</td>\n",
       "      <td>...</td>\n",
       "      <td>0</td>\n",
       "      <td>50</td>\n",
       "      <td>42</td>\n",
       "      <td>1420</td>\n",
       "      <td>79</td>\n",
       "      <td>0</td>\n",
       "      <td>50</td>\n",
       "      <td>42</td>\n",
       "      <td>1611</td>\n",
       "      <td>1591</td>\n",
       "    </tr>\n",
       "    <tr>\n",
       "      <th>436</th>\n",
       "      <td>CYSLTR2</td>\n",
       "      <td>CYSLTR2</td>\n",
       "      <td>13</td>\n",
       "      <td>48178952</td>\n",
       "      <td>48181499</td>\n",
       "      <td>48178902</td>\n",
       "      <td>48181549</td>\n",
       "      <td>57105</td>\n",
       "      <td>NM_020377</td>\n",
       "      <td>ENSG00000152207</td>\n",
       "      <td>...</td>\n",
       "      <td>0</td>\n",
       "      <td>50</td>\n",
       "      <td>50</td>\n",
       "      <td>1041</td>\n",
       "      <td>1507</td>\n",
       "      <td>0</td>\n",
       "      <td>50</td>\n",
       "      <td>50</td>\n",
       "      <td>2648</td>\n",
       "      <td>2648</td>\n",
       "    </tr>\n",
       "    <tr>\n",
       "      <th>604</th>\n",
       "      <td>GPR119</td>\n",
       "      <td>GPR119</td>\n",
       "      <td>X</td>\n",
       "      <td>129346095</td>\n",
       "      <td>129347102</td>\n",
       "      <td>129346045</td>\n",
       "      <td>129347152</td>\n",
       "      <td>139760</td>\n",
       "      <td>NM_178471</td>\n",
       "      <td>ENSG00000147262</td>\n",
       "      <td>...</td>\n",
       "      <td>0</td>\n",
       "      <td>50</td>\n",
       "      <td>50</td>\n",
       "      <td>1008</td>\n",
       "      <td>0</td>\n",
       "      <td>0</td>\n",
       "      <td>50</td>\n",
       "      <td>50</td>\n",
       "      <td>1108</td>\n",
       "      <td>1108</td>\n",
       "    </tr>\n",
       "    <tr>\n",
       "      <th>689</th>\n",
       "      <td>HTR1A</td>\n",
       "      <td>HTR1A</td>\n",
       "      <td>5</td>\n",
       "      <td>63292034</td>\n",
       "      <td>63293302</td>\n",
       "      <td>63291984</td>\n",
       "      <td>63293352</td>\n",
       "      <td>3350</td>\n",
       "      <td>NM_000524</td>\n",
       "      <td>ENSG00000178394</td>\n",
       "      <td>...</td>\n",
       "      <td>0</td>\n",
       "      <td>50</td>\n",
       "      <td>50</td>\n",
       "      <td>1269</td>\n",
       "      <td>0</td>\n",
       "      <td>0</td>\n",
       "      <td>50</td>\n",
       "      <td>50</td>\n",
       "      <td>1369</td>\n",
       "      <td>1369</td>\n",
       "    </tr>\n",
       "    <tr>\n",
       "      <th>690</th>\n",
       "      <td>HTR1B</td>\n",
       "      <td>HTR1B</td>\n",
       "      <td>6</td>\n",
       "      <td>78228641</td>\n",
       "      <td>78229900</td>\n",
       "      <td>78228591</td>\n",
       "      <td>78229950</td>\n",
       "      <td>3351</td>\n",
       "      <td>NM_000863</td>\n",
       "      <td>ENSG00000135312</td>\n",
       "      <td>...</td>\n",
       "      <td>0</td>\n",
       "      <td>50</td>\n",
       "      <td>50</td>\n",
       "      <td>1173</td>\n",
       "      <td>87</td>\n",
       "      <td>0</td>\n",
       "      <td>50</td>\n",
       "      <td>50</td>\n",
       "      <td>1360</td>\n",
       "      <td>1360</td>\n",
       "    </tr>\n",
       "    <tr>\n",
       "      <th>1977</th>\n",
       "      <td>UTS2R</td>\n",
       "      <td>UTS2R</td>\n",
       "      <td>17</td>\n",
       "      <td>77925490</td>\n",
       "      <td>77926659</td>\n",
       "      <td>77925440</td>\n",
       "      <td>77926709</td>\n",
       "      <td>2837</td>\n",
       "      <td>NM_018949</td>\n",
       "      <td>ENSG00000181408</td>\n",
       "      <td>...</td>\n",
       "      <td>0</td>\n",
       "      <td>50</td>\n",
       "      <td>50</td>\n",
       "      <td>490</td>\n",
       "      <td>0</td>\n",
       "      <td>0</td>\n",
       "      <td>50</td>\n",
       "      <td>0</td>\n",
       "      <td>1270</td>\n",
       "      <td>540</td>\n",
       "    </tr>\n",
       "  </tbody>\n",
       "</table>\n",
       "<p>6 rows × 23 columns</p>\n",
       "</div>"
      ],
      "text/plain": [
       "         Gene   Gene37 Chromosome  Exon.NCBI.36.Start  Exon.NCBI.36.Stop  \\\n",
       "323     CHRM4    CHRM4         11            46363224           46364734   \n",
       "436   CYSLTR2  CYSLTR2         13            48178952           48181499   \n",
       "604    GPR119   GPR119          X           129346095          129347102   \n",
       "689     HTR1A    HTR1A          5            63292034           63293302   \n",
       "690     HTR1B    HTR1B          6            78228641           78229900   \n",
       "1977    UTS2R    UTS2R         17            77925490           77926659   \n",
       "\n",
       "      Exon.plus.50.bp.flanking.sequence.NCBI.36.Start  \\\n",
       "323                                          46363174   \n",
       "436                                          48178902   \n",
       "604                                         129346045   \n",
       "689                                          63291984   \n",
       "690                                          78228591   \n",
       "1977                                         77925440   \n",
       "\n",
       "      Exon.plus.50.bp.flanking.sequence.NCBI.36.Stop  Entrez.Gene.ID  \\\n",
       "323                                         46364784            1132   \n",
       "436                                         48181549           57105   \n",
       "604                                        129347152          139760   \n",
       "689                                         63293352            3350   \n",
       "690                                         78229950            3351   \n",
       "1977                                        77926709            2837   \n",
       "\n",
       "     Transcript  Ensembl.Gene.ID     ...      intron  upstream  downstream  \\\n",
       "323   NM_000741  ENSG00000222006     ...           0        50          42   \n",
       "436   NM_020377  ENSG00000152207     ...           0        50          50   \n",
       "604   NM_178471  ENSG00000147262     ...           0        50          50   \n",
       "689   NM_000524  ENSG00000178394     ...           0        50          50   \n",
       "690   NM_000863  ENSG00000135312     ...           0        50          50   \n",
       "1977  NM_018949  ENSG00000181408     ...           0        50          50   \n",
       "\n",
       "      code.cover  utr.cover  intron.cover  upstream.cover  downstream.cover  \\\n",
       "323         1420         79             0              50                42   \n",
       "436         1041       1507             0              50                50   \n",
       "604         1008          0             0              50                50   \n",
       "689         1269          0             0              50                50   \n",
       "690         1173         87             0              50                50   \n",
       "1977         490          0             0              50                 0   \n",
       "\n",
       "      TargetLength  CoverLength  \n",
       "323           1611         1591  \n",
       "436           2648         2648  \n",
       "604           1108         1108  \n",
       "689           1369         1369  \n",
       "690           1360         1360  \n",
       "1977          1270          540  \n",
       "\n",
       "[6 rows x 23 columns]"
      ]
     },
     "execution_count": 39,
     "metadata": {},
     "output_type": "execute_result"
    }
   ],
   "source": [
    "ud_genes = targets[(targets.downstream > 0) & (targets.upstream > 0)]['Gene']\n",
    "targets[targets.Gene.isin(ud_genes)]"
   ]
  },
  {
   "cell_type": "markdown",
   "metadata": {},
   "source": [
    "Yes. This supports my interpretation of the upstream and downstream categories."
   ]
  },
  {
   "cell_type": "markdown",
   "metadata": {},
   "source": [
    "## Introns"
   ]
  },
  {
   "cell_type": "markdown",
   "metadata": {},
   "source": [
    "If the flanking regions that are not upstream or downstream are introns, we'd expect most targets to have 100bp of intronic sequence, and a smaller number to have 50bp."
   ]
  },
  {
   "cell_type": "code",
   "execution_count": 40,
   "metadata": {},
   "outputs": [
    {
     "data": {
      "text/plain": [
       "count    1989.000000\n",
       "mean       81.259427\n",
       "std       135.118995\n",
       "min     -3128.000000\n",
       "25%       100.000000\n",
       "50%       100.000000\n",
       "75%       100.000000\n",
       "max       430.000000\n",
       "Name: intron, dtype: float64"
      ]
     },
     "execution_count": 40,
     "metadata": {},
     "output_type": "execute_result"
    }
   ],
   "source": [
    "targets.intron.describe()"
   ]
  },
  {
   "cell_type": "code",
   "execution_count": 41,
   "metadata": {},
   "outputs": [
    {
     "data": {
      "text/plain": [
       "<matplotlib.text.Text at 0x11d9d0da0>"
      ]
     },
     "execution_count": 41,
     "metadata": {},
     "output_type": "execute_result"
    },
    {
     "data": {
      "image/png": "[encoded data removed]",
      "text/plain": [
       "<matplotlib.figure.Figure at 0x11d840320>"
      ]
     },
     "metadata": {},
     "output_type": "display_data"
    }
   ],
   "source": [
    "targets.intron.hist(bins=np.arange(-200,210,10))\n",
    "plt.ylabel('Number of targets')\n",
    "plt.xlabel('Intron bp')"
   ]
  },
  {
   "cell_type": "markdown",
   "metadata": {},
   "source": [
    "We do see peaks at 50bp and 100bp, as expected. However, we also see some targets with negative intron bp, which should not be possible."
   ]
  },
  {
   "cell_type": "code",
   "execution_count": 42,
   "metadata": {},
   "outputs": [
    {
     "data": {
      "text/plain": [
       "40"
      ]
     },
     "execution_count": 42,
     "metadata": {},
     "output_type": "execute_result"
    }
   ],
   "source": [
    "np.sum(targets.intron<0)"
   ]
  },
  {
   "cell_type": "code",
   "execution_count": 43,
   "metadata": {},
   "outputs": [
    {
     "name": "stdout",
     "output_type": "stream",
     "text": [
      "{'GRIN1', 'SIRT5', 'MAPK14', 'TACR1', 'DYRK3', 'HTR4', 'SIRT2', 'BICD1', 'ZAP70', 'GPBAR1', 'SLC10A1', 'TBXA2R', 'OPRM1', 'PRKAG1', 'MAG', 'CCR9', 'NR1D1', 'DRD3', 'GHSR', 'PTGS1', 'ITGB1', 'SIRT3', 'NTRK2', 'KCNMA1', 'CAMKK2', 'APH1A', 'PPARD', 'RTN4', 'PDE5A', 'EDNRB'} 30\n"
     ]
    }
   ],
   "source": [
    "negative_intron_genes = set(targets[targets.intron<0]['Gene'])\n",
    "print(negative_intron_genes, len(negative_intron_genes))"
   ]
  },
  {
   "cell_type": "code",
   "execution_count": 44,
   "metadata": {},
   "outputs": [
    {
     "data": {
      "text/plain": [
       "30"
      ]
     },
     "execution_count": 44,
     "metadata": {},
     "output_type": "execute_result"
    }
   ],
   "source": [
    "len(negative_intron_genes.intersection(exon_mismatch_genes))"
   ]
  },
  {
   "cell_type": "markdown",
   "metadata": {},
   "source": [
    "There are 40 such sites in 30 genes. All 30 genes belong to the set with exon lengths that don't match the coding + UTR bases.\n",
    "\n",
    "One possibility, given our observations about excess coding and UTR bases is that the intron category was calculated by subtracting the other categories from TargetLength:"
   ]
  },
  {
   "cell_type": "code",
   "execution_count": 45,
   "metadata": {},
   "outputs": [
    {
     "data": {
      "text/plain": [
       "count    1989.0\n",
       "mean        0.0\n",
       "std         0.0\n",
       "min         0.0\n",
       "25%         0.0\n",
       "50%         0.0\n",
       "75%         0.0\n",
       "max         0.0\n",
       "dtype: float64"
      ]
     },
     "execution_count": 45,
     "metadata": {},
     "output_type": "execute_result"
    }
   ],
   "source": [
    "(targets.TargetLength - (targets.code + targets.utr + targets.upstream + targets.downstream + targets.intron)).describe()"
   ]
  },
  {
   "cell_type": "markdown",
   "metadata": {},
   "source": [
    "In fact, the TargetLength column is the sum of all five catories, which supports this interpretation."
   ]
  },
  {
   "cell_type": "markdown",
   "metadata": {},
   "source": [
    "# Conclusions"
   ]
  },
  {
   "cell_type": "markdown",
   "metadata": {},
   "source": [
    "I've identified 4 types of inconsistencies in supplimentary data file S1:\n",
    "1. There are fewer total bases in targets and fewer coding bases per gene than reported in the SI.\n",
    "2. The right flanking region of some targets extends more than 50bp beyond the exon stop position.\n",
    "3. For some targets, the number of coding and UTR bases excedes the exon length and even the target length.\n",
    "4. For some targets, the number of intron bases is negative.\n",
    "\n",
    "The first inconsistency could be due to file S1 excluding some targets that were used to calculate the numbers reported in the SI. The second could be due to either an error in identifying exons, or the fact that some targets truly extend beyond 50bp past the exon for an unknown reason.\n",
    "\n",
    "The third and fourth inconsistencies are potentially more problematic. I believe that either: (1) coding and UTR bases are not mutually exclusive, (2) these bases were misidentified/misreported, or (3) the target regions were misreported. In any case, the negative values for intron bases are an error. A further complication is that the total number of coding and UTR bases match the numbers reported in the main text.\n",
    "\n",
    "The next step will be to compare the exon start positions with an Ensembl BioMart query to check consistency with that database."
   ]
  }
 ],
 "metadata": {
  "kernelspec": {
   "display_name": "Python 3",
   "language": "python",
   "name": "python3"
  },
  "language_info": {
   "codemirror_mode": {
    "name": "ipython",
    "version": 3
   },
   "file_extension": ".py",
   "mimetype": "text/x-python",
   "name": "python",
   "nbconvert_exporter": "python",
   "pygments_lexer": "ipython3",
   "version": "3.5.3"
  }
 },
 "nbformat": 4,
 "nbformat_minor": 2
}
