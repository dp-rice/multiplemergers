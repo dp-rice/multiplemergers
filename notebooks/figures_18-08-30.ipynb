{
 "cells": [
  {
   "cell_type": "code",
   "execution_count": 1,
   "metadata": {
    "collapsed": true
   },
   "outputs": [],
   "source": [
    "import sys\n",
    "import numpy as np\n",
    "import matplotlib as mpl\n",
    "import matplotlib.pyplot as plt\n",
    "%matplotlib inline"
   ]
  },
  {
   "cell_type": "code",
   "execution_count": 41,
   "metadata": {
    "collapsed": true
   },
   "outputs": [],
   "source": [
    "sys.path.insert(0, '../src/')\n",
    "import zivkovic as z\n",
    "import coalescentmoments as c\n",
    "import helpers as h"
   ]
  },
  {
   "cell_type": "code",
   "execution_count": 3,
   "metadata": {
    "collapsed": true
   },
   "outputs": [],
   "source": [
    "def fold(n, X):\n",
    "    i_max = n//2\n",
    "    k = np.arange(1, n-1)\n",
    "    multiplicity = 1 + (k == n - k).astype(float)[:i_max]\n",
    "    if X.ndim == 1:\n",
    "        folded = (X + X[::-1])[:i_max]\n",
    "        divisor = multiplicity\n",
    "    elif X.ndim == 2:\n",
    "        folded = (X + X[:,::-1] + X[::-1,:] + X[::-1,::-1])[:i_max,:i_max]\n",
    "        folded[np.diag_indices(i_max)] = 0\n",
    "        divisor = np.outer(multiplicity, multiplicity)\n",
    "    return folded / divisor"
   ]
  },
  {
   "cell_type": "code",
   "execution_count": 38,
   "metadata": {
    "collapsed": true
   },
   "outputs": [],
   "source": [
    "def stats(n, mode, **params):\n",
    "    if mode == \"kingman\":\n",
    "        xi, xi2 = c.fu_moments(n)\n",
    "    elif mode in [\"exponential\", \"two-epoch\"]:\n",
    "        xi = z.sigma_i(n, mode, **params)[1:-1]\n",
    "        xi2 = z.sigma_ij(n, mode, **params)[1:-1,1:-1] + np.outer(xi, xi)\n",
    "    elif mode == \"beta\":\n",
    "        xi, xi2 = c.sfs_moments(n, params[\"alpha\"])\n",
    "    eta = fold(n, xi)\n",
    "    eta2 = fold(n, xi2)\n",
    "    pi = h.sfs2pi(eta, n)\n",
    "    return eta / pi, eta2 / (pi**2)"
   ]
  },
  {
   "cell_type": "code",
   "execution_count": 5,
   "metadata": {
    "collapsed": true
   },
   "outputs": [],
   "source": [
    "def wpmi(eta, eta2, n):\n",
    "    pi = h.sfs2pi(eta, n)\n",
    "    ret = eta2 * np.log2(eta2 / np.outer(eta, eta)) / pi**2\n",
    "    ret[np.diag_indices_from(ret)] = np.nan\n",
    "    return ret"
   ]
  },
  {
   "cell_type": "code",
   "execution_count": 6,
   "metadata": {
    "collapsed": true
   },
   "outputs": [],
   "source": [
    "def lohi_cov(eta, eta2, cutoff=1):\n",
    "    lo = np.sum(eta[:cutoff])\n",
    "    hi = np.sum(eta[cutoff:])\n",
    "    lohi = np.sum(eta2[:cutoff, cutoff:])\n",
    "    return lohi / (lo*hi) - 1"
   ]
  },
  {
   "cell_type": "code",
   "execution_count": 7,
   "metadata": {
    "collapsed": true
   },
   "outputs": [],
   "source": [
    "def lohi_pmi(eta, eta2, cutoff=1):\n",
    "    return np.log2(lohi_cov(eta, eta2, cutoff=cutoff) + 1)"
   ]
  },
  {
   "cell_type": "code",
   "execution_count": 8,
   "metadata": {
    "collapsed": true
   },
   "outputs": [],
   "source": [
    "def tajimasD(n, eta):\n",
    "    theta_pi = h.sfs2pi(eta, n)\n",
    "    theta_w  = np.sum(eta) / np.sum(1/np.arange(1,n))\n",
    "    return (theta_pi - theta_w) / theta_pi"
   ]
  },
  {
   "cell_type": "code",
   "execution_count": 9,
   "metadata": {
    "collapsed": true
   },
   "outputs": [],
   "source": [
    "def wpmi_pcolor(ax, mac, wpmi, scale, vm, **kwargs):\n",
    "    ax.set_xscale('log')\n",
    "    ax.set_yscale('log')\n",
    "    ax.set_yticklabels([])\n",
    "    ax.set_xticklabels([])\n",
    "    np.fill_diagonal(wpmi, np.nan)\n",
    "    return ax.pcolormesh(mac, mac, np.arcsinh(wpmi/scale), vmin=-vm, vmax=vm, **kwargs)\n",
    "\n",
    "def wpmi_colorbar(ax, scale, vm, cmap):\n",
    "    yticks = np.array([-9, -3, -1, 0, 1, 3, 9])\n",
    "    yticks_transformed = 256 * (np.arcsinh(yticks) + vm)/(2*vm)\n",
    "    ax.set_xticks([])\n",
    "    ax.set_yticks(yticks_transformed)\n",
    "    ax.set_yticklabels(yticks*scale)\n",
    "    val = np.linspace(-vm, vm, 256)\n",
    "    return ax.pcolormesh(val[:,None], cmap=cmap, vmin=-vm, vmax=vm)"
   ]
  },
  {
   "cell_type": "markdown",
   "metadata": {},
   "source": [
    "# Configuration"
   ]
  },
  {
   "cell_type": "code",
   "execution_count": 66,
   "metadata": {},
   "outputs": [],
   "source": [
    "single_col_width = 3.5\n",
    "# mpl.rcParams['lines.linewidth'] = 2\n",
    "mpl.rcParams['font.size'] = 10\n",
    "mpl.rcParams['axes.titlesize'] = 10\n",
    "mpl.rcParams['text.usetex'] = True\n",
    "#mpl.rcParams['font.sans-serif'] = ['Computer Modern']\n",
    "mpl.rcParams['font.family'] ='serif'"
   ]
  },
  {
   "cell_type": "code",
   "execution_count": 67,
   "metadata": {},
   "outputs": [
    {
     "name": "stdout",
     "output_type": "stream",
     "text": [
      "['DejaVu Serif', 'Bitstream Vera Serif', 'Computer Modern Roman', 'New Century Schoolbook', 'Century Schoolbook L', 'Utopia', 'ITC Bookman', 'Bookman', 'Nimbus Roman No9 L', 'Times New Roman', 'Times', 'Palatino', 'Charter', 'serif']\n"
     ]
    }
   ],
   "source": [
    "print(mpl.rcParams['font.serif'])"
   ]
  },
  {
   "cell_type": "markdown",
   "metadata": {},
   "source": [
    "# Schematic"
   ]
  },
  {
   "cell_type": "code",
   "execution_count": 89,
   "metadata": {
    "collapsed": true
   },
   "outputs": [],
   "source": [
    "def multic_text(x, y, dx, dy, strings, colored=[], ax=None, C0='0.5', C1='0.0'):\n",
    "    if ax is None:\n",
    "        ax = plt.gca()\n",
    "    for i, s in enumerate(strings):\n",
    "        y_s = y + i*dy\n",
    "        ax.text(x - 1.5*dx, y_s, r'$\\ldots$', fontproperties='monospace', ha='center', va='center', color=C0)\n",
    "        ax.text(x + (len(s)+.5)*dx, y_s, r'$\\ldots$', fontproperties='monospace', ha='center', va='center', color=C0)\n",
    "        for j, ch in enumerate(s):\n",
    "            x_c = x + j*dx\n",
    "            if j in colored:\n",
    "                col = C1\n",
    "            else:\n",
    "                col = C0\n",
    "            ax.text(x_c, y_s, ch, color=col, fontproperties='monospace', ha='center', va='center')"
   ]
  },
  {
   "cell_type": "code",
   "execution_count": 92,
   "metadata": {},
   "outputs": [
    {
     "name": "stdout",
     "output_type": "stream",
     "text": [
      "13\n"
     ]
    },
    {
     "name": "stderr",
     "output_type": "stream",
     "text": [
      "/Users/dpr/miniconda3/envs/mmc_py35/lib/python3.5/site-packages/ipykernel_launcher.py:73: RuntimeWarning: divide by zero encountered in log\n"
     ]
    },
    {
     "data": {
      "image/png": "[encoded data removed]",
      "text/plain": [
       "<Figure size 252x252 with 3 Axes>"
      ]
     },
     "metadata": {},
     "output_type": "display_data"
    }
   ],
   "source": [
    "\n",
    "seq = 'ACG{}C{}AATA{}CA'\n",
    "alleles1 = 'TTTTATTAT'\n",
    "alleles2 = 'CCCCCCCGC'\n",
    "alleles3 = 'GGGGAGAAG'\n",
    "sequences = [seq.format(*als) for als in zip(alleles1, alleles2, alleles3)]\n",
    "\n",
    "n_seq = len(alleles1)\n",
    "len_seq = len(sequences[0])\n",
    "print(len_seq)\n",
    "\n",
    "\n",
    "fig = plt.figure(figsize=(single_col_width, single_col_width))\n",
    "\n",
    "ax = fig.add_axes([0, 0, 1, 1])\n",
    "ax.spines['right'].set_visible(False)\n",
    "ax.spines['top'].set_visible(False)\n",
    "ax.spines['left'].set_visible(False)\n",
    "ax.spines['bottom'].set_visible(False)\n",
    "ax.set_xticks([])\n",
    "ax.set_yticks([])\n",
    "\n",
    "x = 0.1\n",
    "y = 0.3\n",
    "# dx = 0.025\n",
    "dx = 0.0275\n",
    "dy = 0.05\n",
    "x_c = x + (len_seq-1)/2*dx\n",
    "arrow_props = {\"head_width\":dy/3, \"head_length\":dy/3, \"fc\":'k', \"ec\":'k'}\n",
    "arrow_length = .75*dy\n",
    "\n",
    "\n",
    "t = ax.text(x_c, y + (4.25+n_seq)*dy, 'Sequence alignment', ha='center', va='center')#, fontsize=14)\n",
    "multic_text(x, y + 4*dy, dx, dy, sequences, [3,5, 10], ax=ax)\n",
    "\n",
    "ax.text(x_c, y + 1.25*dy, 'Minor allele counts', ha='center', va='center')#, fontsize=14)\n",
    "\n",
    "counts = '0002010000300'\n",
    "multic_text(x, y, dx, dy, [counts] , [3,5, 10], ax=ax)\n",
    "\n",
    "ax.plot([x + 3*dx, x + 5*dx], [y - dy/2, y - dy/2], 'k')\n",
    "ax.text(x + 4*dx, y - 1*dy, '$d=2$', va='center', ha='center')\n",
    "\n",
    "ax.plot([x + 3*dx, x + 10*dx], [y - 1.5*dy, y - 1.5*dy], 'k')\n",
    "ax.text(x + (13/2)*dx, y - 2*dy, '$d=7$', va='center', ha='center')\n",
    "\n",
    "ax.plot([x + 5*dx, x + 10*dx], [y - 2.5*dy, y - 2.5*dy], 'k')\n",
    "ax.text(x + (15/2)*dx, y - 3*dy, '$d=5$', va='center', ha='center')\n",
    "\n",
    "ax.set_xlim([0,1])\n",
    "ax.set_ylim([0,1])\n",
    "\n",
    "eta_schem, eta2_schem = stats(8, \"kingman\")\n",
    "x2 = 0.65\n",
    "size = 0.25\n",
    "\n",
    "ax.arrow(x_c, y + 3.25*dy, 0, -arrow_length, **arrow_props)\n",
    "ax.arrow(x2+size/2, 0.2+1.2*size, 0, arrow_length, **arrow_props)\n",
    "ax.arrow(0.475, 0.32, arrow_length, 0, **arrow_props)\n",
    "\n",
    "ax = fig.add_axes((x2, 0.18, size, size))\n",
    "ax.pcolormesh(eta2_schem, cmap='Greys', vmin=0, vmax=1.2)\n",
    "ax.set_yticks(0.5 + np.arange(4))\n",
    "ax.set_yticklabels(range(1,5))\n",
    "ax.set_xticks(0.5 + np.arange(4))\n",
    "ax.set_xticklabels(range(1,5))\n",
    "ax.set_ylabel('Minor allele count, $j$')\n",
    "ax.set_xlabel('Minor allele count, $i$')\n",
    "ax.set_title('2-SFS, $\\eta_{ij}(d)$')# , fontsize=14)\n",
    "\n",
    "\n",
    "ax = fig.add_axes((x2, 0.68, size, size))\n",
    "fpmi = np.log(eta2_schem/np.outer(eta_schem, eta_schem))\n",
    "fpmi[np.diag_indices_from(fpmi)] = 0\n",
    "ax.pcolormesh(fpmi, cmap='PuOr_r', vmin=-0.5, vmax=0.5)\n",
    "ax.set_yticks(0.5 + np.arange(4))\n",
    "ax.set_yticklabels(range(1,5))\n",
    "ax.set_xticks(0.5 + np.arange(4))\n",
    "ax.set_xticklabels(range(1,5))\n",
    "ax.set_ylabel('Minor allele count, $j$')\n",
    "ax.set_xlabel('Minor allele count, $i$')\n",
    "ax.set_title('fPMI$(i,j;d)$')# , fontsize=14)\n",
    "\n",
    "fig.savefig('../manuscript/figures/schematic.pdf')"
   ]
  },
  {
   "cell_type": "markdown",
   "metadata": {},
   "source": [
    "# Theory"
   ]
  },
  {
   "cell_type": "markdown",
   "metadata": {},
   "source": [
    "## Calculations"
   ]
  },
  {
   "cell_type": "code",
   "execution_count": 14,
   "metadata": {
    "collapsed": true
   },
   "outputs": [],
   "source": [
    "n_theory = 39\n",
    "mac_theory = np.arange(1, n_theory//2+1)\n",
    "alphas = np.linspace(1.25, 1.75, 6)\n",
    "gs = np.array([0.25, 0.5, 1.0, 2.0, 4.0, 8.0])"
   ]
  },
  {
   "cell_type": "code",
   "execution_count": 15,
   "metadata": {},
   "outputs": [
    {
     "name": "stdout",
     "output_type": "stream",
     "text": [
      "1.35\n",
      "4.0\n"
     ]
    }
   ],
   "source": [
    "print(alphas[1])\n",
    "print(gs[-2])"
   ]
  },
  {
   "cell_type": "code",
   "execution_count": 16,
   "metadata": {
    "collapsed": true
   },
   "outputs": [],
   "source": [
    "eta_kingman, eta2_kingman = stats(n_theory, \"kingman\")"
   ]
  },
  {
   "cell_type": "code",
   "execution_count": 17,
   "metadata": {},
   "outputs": [
    {
     "name": "stderr",
     "output_type": "stream",
     "text": [
      "../src/zivkovic.py:17: RuntimeWarning: invalid value encountered in log\n",
      "  - loggamma(vec_n + vec_j)\n",
      "../src/zivkovic.py:17: RuntimeWarning: divide by zero encountered in log\n",
      "  - loggamma(vec_n + vec_j)\n",
      "../src/zivkovic.py:73: RuntimeWarning: divide by zero encountered in true_divide\n",
      "  p = binom(vec_n-vec_i-1, vec_k-2) / binom(vec_n-1, vec_k-1)\n",
      "../src/zivkovic.py:73: RuntimeWarning: invalid value encountered in true_divide\n",
      "  p = binom(vec_n-vec_i-1, vec_k-2) / binom(vec_n-1, vec_k-1)\n",
      "../src/zivkovic.py:54: RuntimeWarning: divide by zero encountered in true_divide\n",
      "  scaled_x = lag_x[:,None] / x_scale[None,:]\n",
      "../src/zivkovic.py:44: RuntimeWarning: invalid value encountered in log\n",
      "  return np.log(1+x*g)/g\n",
      "../src/zivkovic.py:135: RuntimeWarning: divide by zero encountered in true_divide\n",
      "  prefactor_ji = sign_ji * (B[:,None] - B[None,:]) / B[:,None]\n",
      "../src/zivkovic.py:135: RuntimeWarning: invalid value encountered in true_divide\n",
      "  prefactor_ji = sign_ji * (B[:,None] - B[None,:]) / B[:,None]\n",
      "../src/zivkovic.py:64: RuntimeWarning: divide by zero encountered in true_divide\n",
      "  scaled_x = lag_x[None,:] / x_scale[:,None]\n",
      "../src/zivkovic.py:34: RuntimeWarning: invalid value encountered in add\n",
      "  return lambda x, y: func(x) * (func(y+x) - func(x))\n",
      "../src/zivkovic.py:34: RuntimeWarning: invalid value encountered in subtract\n",
      "  return lambda x, y: func(x) * (func(y+x) - func(x))\n",
      "../src/zivkovic.py:145: RuntimeWarning: invalid value encountered in multiply\n",
      "  I_ji = prefactor_ji * G_ji\n",
      "../src/zivkovic.py:159: RuntimeWarning: divide by zero encountered in true_divide\n",
      "  prefactor_jk = (-1)**(j_vec+k_vec+1) * binom(k_vec+1, 2) / binom(j_vec, 2)\n",
      "../src/zivkovic.py:159: RuntimeWarning: invalid value encountered in true_divide\n",
      "  prefactor_jk = (-1)**(j_vec+k_vec+1) * binom(k_vec+1, 2) / binom(j_vec, 2)\n",
      "../src/zivkovic.py:30: RuntimeWarning: invalid value encountered in add\n",
      "  return lambda x, y: (func(y+x) - func(x))**2\n",
      "../src/zivkovic.py:30: RuntimeWarning: invalid value encountered in subtract\n",
      "  return lambda x, y: (func(y+x) - func(x))**2\n",
      "../src/zivkovic.py:173: RuntimeWarning: invalid value encountered in multiply\n",
      "  return np.nansum(G_jk*alpha_jk*prefactor_jk, axis=0)\n",
      "../src/zivkovic.py:188: RuntimeWarning: divide by zero encountered in true_divide\n",
      "  prefactor_kpk = (-1)**u * k_vec*(k_vec-1)/binom(kp_vec-1, k_vec-u)\n",
      "../src/zivkovic.py:188: RuntimeWarning: invalid value encountered in true_divide\n",
      "  prefactor_kpk = (-1)**u * k_vec*(k_vec-1)/binom(kp_vec-1, k_vec-u)\n",
      "../src/zivkovic.py:222: RuntimeWarning: invalid value encountered in true_divide\n",
      "  A_kpk = Ett_kpk * k * (k-1) / binom(kp-1, k-1)\n"
     ]
    }
   ],
   "source": [
    "stats_exp = [stats(n_theory, \"exponential\", g=g) for g in gs]"
   ]
  },
  {
   "cell_type": "code",
   "execution_count": 18,
   "metadata": {
    "collapsed": true
   },
   "outputs": [],
   "source": [
    "stats_beta = [stats(n_theory, \"beta\", alpha=a) for a in alphas]"
   ]
  },
  {
   "cell_type": "code",
   "execution_count": 19,
   "metadata": {},
   "outputs": [
    {
     "name": "stderr",
     "output_type": "stream",
     "text": [
      "/Users/dpr/miniconda3/envs/mmc_py35/lib/python3.5/site-packages/ipykernel_launcher.py:3: RuntimeWarning: divide by zero encountered in log2\n",
      "  This is separate from the ipykernel package so we can avoid doing imports until\n",
      "/Users/dpr/miniconda3/envs/mmc_py35/lib/python3.5/site-packages/ipykernel_launcher.py:3: RuntimeWarning: invalid value encountered in multiply\n",
      "  This is separate from the ipykernel package so we can avoid doing imports until\n"
     ]
    }
   ],
   "source": [
    "wpmi_kingman = wpmi(eta_kingman, eta2_kingman, n_theory)\n",
    "wpmi_exp = [wpmi(eta, eta2, n_theory) for eta, eta2 in stats_exp]\n",
    "wpmi_beta = [wpmi(eta, eta2, n_theory) for eta, eta2 in stats_beta]"
   ]
  },
  {
   "cell_type": "code",
   "execution_count": 20,
   "metadata": {},
   "outputs": [
    {
     "name": "stderr",
     "output_type": "stream",
     "text": [
      "../src/zivkovic.py:17: RuntimeWarning: invalid value encountered in log\n",
      "  - loggamma(vec_n + vec_j)\n",
      "../src/zivkovic.py:17: RuntimeWarning: divide by zero encountered in log\n",
      "  - loggamma(vec_n + vec_j)\n",
      "../src/zivkovic.py:73: RuntimeWarning: divide by zero encountered in true_divide\n",
      "  p = binom(vec_n-vec_i-1, vec_k-2) / binom(vec_n-1, vec_k-1)\n",
      "../src/zivkovic.py:73: RuntimeWarning: invalid value encountered in true_divide\n",
      "  p = binom(vec_n-vec_i-1, vec_k-2) / binom(vec_n-1, vec_k-1)\n",
      "../src/zivkovic.py:54: RuntimeWarning: divide by zero encountered in true_divide\n",
      "  scaled_x = lag_x[:,None] / x_scale[None,:]\n",
      "../src/zivkovic.py:44: RuntimeWarning: invalid value encountered in log\n",
      "  return np.log(1+x*g)/g\n",
      "../src/zivkovic.py:135: RuntimeWarning: divide by zero encountered in true_divide\n",
      "  prefactor_ji = sign_ji * (B[:,None] - B[None,:]) / B[:,None]\n",
      "../src/zivkovic.py:135: RuntimeWarning: invalid value encountered in true_divide\n",
      "  prefactor_ji = sign_ji * (B[:,None] - B[None,:]) / B[:,None]\n",
      "../src/zivkovic.py:64: RuntimeWarning: divide by zero encountered in true_divide\n",
      "  scaled_x = lag_x[None,:] / x_scale[:,None]\n",
      "../src/zivkovic.py:34: RuntimeWarning: invalid value encountered in add\n",
      "  return lambda x, y: func(x) * (func(y+x) - func(x))\n",
      "../src/zivkovic.py:34: RuntimeWarning: invalid value encountered in subtract\n",
      "  return lambda x, y: func(x) * (func(y+x) - func(x))\n",
      "../src/zivkovic.py:145: RuntimeWarning: invalid value encountered in multiply\n",
      "  I_ji = prefactor_ji * G_ji\n",
      "../src/zivkovic.py:159: RuntimeWarning: divide by zero encountered in true_divide\n",
      "  prefactor_jk = (-1)**(j_vec+k_vec+1) * binom(k_vec+1, 2) / binom(j_vec, 2)\n",
      "../src/zivkovic.py:159: RuntimeWarning: invalid value encountered in true_divide\n",
      "  prefactor_jk = (-1)**(j_vec+k_vec+1) * binom(k_vec+1, 2) / binom(j_vec, 2)\n",
      "../src/zivkovic.py:30: RuntimeWarning: invalid value encountered in add\n",
      "  return lambda x, y: (func(y+x) - func(x))**2\n",
      "../src/zivkovic.py:30: RuntimeWarning: invalid value encountered in subtract\n",
      "  return lambda x, y: (func(y+x) - func(x))**2\n",
      "../src/zivkovic.py:173: RuntimeWarning: invalid value encountered in multiply\n",
      "  return np.nansum(G_jk*alpha_jk*prefactor_jk, axis=0)\n",
      "../src/zivkovic.py:188: RuntimeWarning: divide by zero encountered in true_divide\n",
      "  prefactor_kpk = (-1)**u * k_vec*(k_vec-1)/binom(kp_vec-1, k_vec-u)\n",
      "../src/zivkovic.py:188: RuntimeWarning: invalid value encountered in true_divide\n",
      "  prefactor_kpk = (-1)**u * k_vec*(k_vec-1)/binom(kp_vec-1, k_vec-u)\n",
      "../src/zivkovic.py:222: RuntimeWarning: invalid value encountered in true_divide\n",
      "  A_kpk = Ett_kpk * k * (k-1) / binom(kp-1, k-1)\n",
      "../src/zivkovic.py:47: RuntimeWarning: invalid value encountered in greater\n",
      "  return np.piecewise(x, [x>tau], [lambda y: tau + f*(y-tau), lambda y: y])\n"
     ]
    }
   ],
   "source": [
    "# n = 4\n",
    "sd_kingman, sd2_kingman = stats(4, \"kingman\")\n",
    "sd_exp = [stats(4, \"exponential\", g=g) for g in gs]\n",
    "sd_beta = [stats(4, \"beta\", alpha=a) for a in alphas]\n",
    "\n",
    "taus = np.logspace(-4, 1, 5, base=2)\n",
    "fs = np.logspace(-4, -1, 5, base=2)\n",
    "sd_2ep = [stats(4, \"two-epoch\", tau=tau, f=f) for f in fs for tau in taus]"
   ]
  },
  {
   "cell_type": "markdown",
   "metadata": {},
   "source": [
    "## Figures"
   ]
  },
  {
   "cell_type": "code",
   "execution_count": 21,
   "metadata": {
    "collapsed": true
   },
   "outputs": [],
   "source": [
    "cmap = 'PuOr_r'\n",
    "scale = 0.01\n",
    "vm = 3\n"
   ]
  },
  {
   "cell_type": "code",
   "execution_count": 155,
   "metadata": {},
   "outputs": [
    {
     "data": {
      "image/png": "[encoded data removed]",
      "text/plain": [
       "<Figure size 252x252 with 4 Axes>"
      ]
     },
     "metadata": {},
     "output_type": "display_data"
    }
   ],
   "source": [
    "fig = plt.figure(figsize=(single_col_width, single_col_width))\n",
    "\n",
    "x_text = 0.05\n",
    "x_panel = 0.4\n",
    "x_cb = 0.8\n",
    "panel_size = 0.25\n",
    "panel_buffer = 0.05\n",
    "panel_bottom = 0.1\n",
    "\n",
    "ax = fig.add_axes([x_panel, panel_bottom + 2*(panel_size + panel_buffer), panel_size, panel_size])\n",
    "wpmi_pcolor(ax, mac_theory, wpmi_kingman, scale, vm, cmap=cmap)\n",
    "\n",
    "ax = fig.add_axes([x_panel, panel_bottom + panel_size + panel_buffer, panel_size, panel_size])\n",
    "wpmi_pcolor(ax, mac_theory, wpmi_exp[-2], scale, vm, cmap=cmap)\n",
    "ax.set_ylabel('Minor allele count, $j$')\n",
    "\n",
    "ax = fig.add_axes([x_panel, panel_bottom, panel_size, panel_size])\n",
    "wpmi_pcolor(ax, mac_theory, wpmi_beta[2], scale, vm, cmap=cmap)\n",
    "ax.set_xlabel('Minor allele count, $i$')\n",
    "\n",
    "ax = fig.add_axes([x_cb, panel_bottom + panel_size/2, 0.025*1.5, 2*(panel_size+panel_buffer)])\n",
    "wpmi_colorbar(ax, scale, vm, cmap)\n",
    "ax.set_title('wfPMI')\n",
    "\n",
    "fig.text(x_text, panel_bottom + (2.5*panel_size) + 2*panel_buffer, \"Kingman\\ncoalescent\", va='center')\n",
    "fig.text(x_text, panel_bottom + (1.5*panel_size) + panel_buffer, \"Exp. growth,\\n$gN_0=4$\", va='center')\n",
    "fig.text(x_text, panel_bottom + panel_size/2, \"Beta coalescent,\\n\"+r\"$\\alpha=1.5$\", va='center')\n",
    "\n",
    "fig.savefig('../manuscript/figures/wfpmi_no_recombination.pdf')\n",
    "#fig.savefig('../manuscript/figures/wfpmi_no_recombination.pdf', bbox_inches=\"tight\")"
   ]
  },
  {
   "cell_type": "code",
   "execution_count": 23,
   "metadata": {},
   "outputs": [
    {
     "name": "stdout",
     "output_type": "stream",
     "text": [
      "-0.391494128487\n",
      "-0.418698125124\n",
      "1.45\n"
     ]
    }
   ],
   "source": [
    "print(tajimasD(n_theory, stats_exp[-2][0]))\n",
    "print(tajimasD(n_theory, stats_beta[2][0]))\n",
    "print(alphas[2])"
   ]
  },
  {
   "cell_type": "code",
   "execution_count": 126,
   "metadata": {},
   "outputs": [
    {
     "data": {
      "image/png": "[encoded data removed]",
      "text/plain": [
       "<Figure size 252x201.6 with 1 Axes>"
      ]
     },
     "metadata": {},
     "output_type": "display_data"
    }
   ],
   "source": [
    "cutoff = 1\n",
    "fig = plt.figure(figsize=(single_col_width, 0.8*single_col_width))\n",
    "ax = fig.add_axes([0.2, 0.2, 0.75, 0.75])\n",
    "\n",
    "ax.plot(tajimasD(n_theory, eta_kingman), lohi_pmi(eta_kingman, eta2_kingman, cutoff=cutoff), 'o', c='k',\n",
    "        label='Kingman coalescent')\n",
    "\n",
    "for i, st in enumerate(stats_exp):\n",
    "    l = ax.plot(tajimasD(n_theory, st[0]), lohi_pmi(*st, cutoff=cutoff), 'o', c='C1')\n",
    "    if i == 0:\n",
    "        l[0].set_label('Exponential growth')\n",
    "        \n",
    "for i, st in enumerate(stats_beta):\n",
    "    l = ax.plot(tajimasD(n_theory, st[0]), lohi_pmi(*st, cutoff=cutoff), 'o', c='C0')\n",
    "    if i == 0:\n",
    "        l[0].set_label(\"Beta coalescent\")\n",
    "\n",
    "ax.hlines(0, -0.7, 0, linestyle='dashed')\n",
    "ax.set_ylabel(\"Singleton/non-singleton hiloPMI\")\n",
    "ax.set_xlabel(r\"Normalized Tajima's D, $(\\Pi - \\hat{\\theta}_W) / \\Pi$\")\n",
    "ax.legend(frameon=False, loc=(0.4, 0.7))\n",
    "\n",
    "ax.spines['right'].set_visible(False)\n",
    "ax.spines['top'].set_visible(False)\n",
    "fig.savefig('../manuscript/figures/hilopmi_vs_tajimasD_no_recombination.pdf')"
   ]
  },
  {
   "cell_type": "code",
   "execution_count": 135,
   "metadata": {},
   "outputs": [
    {
     "data": {
      "image/png": "[encoded data removed]",
      "text/plain": [
       "<Figure size 252x201.6 with 1 Axes>"
      ]
     },
     "metadata": {},
     "output_type": "display_data"
    }
   ],
   "source": [
    "def plot_sd(ax, sd, sd2, *args, **kwargs):\n",
    "    return ax.plot(sd[0]/sd[1], np.log2(sd2[0,1] / (sd[1]*sd[0])), *args, **kwargs)\n",
    "\n",
    "fig = plt.figure(figsize=(single_col_width, 0.8*single_col_width))\n",
    "ax = fig.add_axes([0.2, 0.2, 0.75, 0.75])\n",
    "\n",
    "# fig = plt.figure(figsize=(6,4))\n",
    "# ax = fig.add_subplot(111)\n",
    "plot_sd(ax, sd_kingman, sd2_kingman, 'o', c='k', label='Kingman coal.')\n",
    "\n",
    "for i, (sd, sd2) in enumerate(sd_exp):\n",
    "    l = plot_sd(ax, sd, sd2, 'o', c='C1')\n",
    "    if i == 0:\n",
    "        l[0].set_label(\"Exponential gr.\")\n",
    "for i, (sd, sd2) in enumerate(sd_2ep):\n",
    "    l = plot_sd(ax, sd, sd2, 's', c='C1')\n",
    "    if i == 0:\n",
    "        l[0].set_label(\"2-epoch growth\")\n",
    "\n",
    "for i, (sd, sd2) in enumerate(sd_beta):\n",
    "    l = plot_sd(ax, sd, sd2, 'o', c='C0')\n",
    "    if i == 0:\n",
    "        l[0].set_label(\"Beta coalescent\")\n",
    "\n",
    "ax.set_xlim([2.6,4.4])\n",
    "ax.set_ylim([-0.46,-0.04])\n",
    "ax.set_xlabel('Singleton/doubleton ratio, $\\eta_1 / \\eta_2$')\n",
    "ax.set_ylabel('Singleton/doubleton fPMI')\n",
    "\n",
    "ax.legend(frameon=False, loc=(0.5,0.0))\n",
    "\n",
    "ax.spines['right'].set_visible(False)\n",
    "ax.spines['top'].set_visible(False)\n",
    "fig.savefig('../manuscript/figures/singleton-doubleton.pdf')"
   ]
  },
  {
   "cell_type": "markdown",
   "metadata": {},
   "source": [
    "# Simulations"
   ]
  },
  {
   "cell_type": "code",
   "execution_count": 26,
   "metadata": {
    "collapsed": true
   },
   "outputs": [],
   "source": [
    "n_sim = 100\n",
    "mac_sim = np.arange(1, (n_sim+1)//2 + 1)\n",
    "\n",
    "# Recombination rates\n",
    "r_list = np.insert(np.logspace(-1,3,13), 0, 0.0)\n",
    "# Beta coalescent alpha parameter\n",
    "a_list = [2.0, 1.75, 1.5, 1.25]\n",
    "# Exp growth parameter\n",
    "g_list = [1.0, 2.0, 4.0, 8.0]\n",
    "# Piecewise-constant growth time and factor\n",
    "t_list = [0.01, 0.1, 1.0]\n",
    "s_list = [0.2, 0.1, 0.05, 0.01]"
   ]
  },
  {
   "cell_type": "code",
   "execution_count": 27,
   "metadata": {
    "collapsed": true
   },
   "outputs": [],
   "source": [
    "prefix = '../simulations/msprime/jsfs_n-{}_'.format(n_sim)"
   ]
  },
  {
   "cell_type": "code",
   "execution_count": 28,
   "metadata": {
    "collapsed": true
   },
   "outputs": [],
   "source": [
    "a_kingman = 2.0\n",
    "a_beta = 1.5\n",
    "g = 4.0\n",
    "\n",
    "r_list_kingman = r_list[:-3]\n",
    "r_list_beta = r_list[:-3]\n",
    "r_list_exp = r_list[:-3]\n",
    "\n",
    "file_list_kingman = [prefix + 'a-{}_r-{}.txt'.format(a_kingman, r) for r in r_list_kingman]\n",
    "file_list_beta = [prefix + 'a-{}_r-{}.txt'.format(a_beta, r) for r in r_list_beta]\n",
    "file_list_exp = [prefix + 'g-{}_r-{}.txt'.format(g, r) for r in r_list_exp]\n",
    "\n",
    "data_kingman = h.import_msprime_corr(file_list_kingman, n_sim)\n",
    "data_beta = h.import_msprime_corr(file_list_beta, n_sim)\n",
    "data_exp = h.import_msprime_corr(file_list_exp, n_sim)\n"
   ]
  },
  {
   "cell_type": "code",
   "execution_count": 153,
   "metadata": {},
   "outputs": [
    {
     "data": {
      "image/png": "[encoded data removed]",
      "text/plain": [
       "<Figure size 378x252 with 10 Axes>"
      ]
     },
     "metadata": {},
     "output_type": "display_data"
    }
   ],
   "source": [
    "scale_sim = 0.001\n",
    "vm_sim = 4\n",
    "\n",
    "xscale = 1.5\n",
    "yscale = 1\n",
    "fig = plt.figure(figsize=(xscale*single_col_width, yscale*single_col_width))\n",
    "x_text = 0.05 / xscale\n",
    "x_panel = 0.4 / xscale\n",
    "x_cb = 0.8 / xscale\n",
    "panel_size = 0.25\n",
    "panel_buffer = 0.05\n",
    "panel_bottom = 0.08 / yscale\n",
    "\n",
    "panel_width = panel_size / xscale\n",
    "panel_height = panel_size / yscale\n",
    "panel_xbuffer = panel_buffer / xscale\n",
    "panel_ybuffer = panel_buffer / yscale\n",
    "\n",
    "\n",
    "# rT2 = 0\n",
    "i_0 = 0\n",
    "# rT2 = 1\n",
    "i_1 = 4\n",
    "i_1_exp = 5\n",
    "# rT2 = 10\n",
    "i_10 = 7\n",
    "i_10_exp = 8\n",
    "\n",
    "ax = fig.add_axes([x_panel, panel_bottom + 2*(panel_height+panel_ybuffer), panel_width, panel_height])\n",
    "wpmi_pcolor(ax, mac_sim, wpmi(data_kingman[1][i_0], data_kingman[2][i_0], n_sim), scale_sim, vm_sim, cmap=cmap)\n",
    "ax.set_title('$rT_2 = 0$', fontsize=10)\n",
    "\n",
    "ax = fig.add_axes([x_panel+panel_xbuffer+panel_width, panel_bottom + 2*(panel_height+panel_ybuffer), panel_width, panel_height])\n",
    "wpmi_pcolor(ax, mac_sim, wpmi(data_kingman[1][i_1], data_kingman[2][i_1], n_sim), scale_sim, vm_sim, cmap=cmap)\n",
    "ax.set_title('$rT_2 = 1$')\n",
    "\n",
    "ax = fig.add_axes([x_panel+2*(panel_xbuffer+panel_width), panel_bottom + 2*(panel_height+panel_ybuffer), panel_width, panel_height])\n",
    "wpmi_pcolor(ax, mac_sim, wpmi(data_kingman[1][i_10], data_kingman[2][i_10], n_sim), scale_sim, vm_sim, cmap=cmap)\n",
    "ax.set_title('$rT_2 = 10$')\n",
    "\n",
    "\n",
    "ax = fig.add_axes([x_panel, panel_bottom + 1*(panel_height+panel_ybuffer), panel_width, panel_height])\n",
    "wpmi_pcolor(ax, mac_sim, wpmi(data_exp[1][i_0], data_exp[2][i_0], n_sim), scale_sim, vm_sim, cmap=cmap)\n",
    "ax.set_ylabel('Minor allele count, $j$')\n",
    "ax = fig.add_axes([x_panel+panel_xbuffer+panel_width, panel_bottom + 1*(panel_height+panel_ybuffer), panel_width, panel_height])\n",
    "wpmi_pcolor(ax, mac_sim, wpmi(data_exp[1][i_1_exp], data_exp[2][i_1_exp], n_sim), scale_sim, vm_sim, cmap=cmap)\n",
    "ax = fig.add_axes([x_panel+2*(panel_xbuffer+panel_width), panel_bottom + 1*(panel_height+panel_ybuffer), panel_width, panel_height])\n",
    "wpmi_pcolor(ax, mac_sim, wpmi(data_exp[1][i_10_exp], data_exp[2][i_10_exp], n_sim), scale_sim, vm_sim, cmap=cmap)\n",
    "\n",
    "ax = fig.add_axes([x_panel, panel_bottom, panel_width, panel_height])\n",
    "wpmi_pcolor(ax, mac_sim, wpmi(data_beta[1][i_0], data_beta[2][i_0], n_sim), scale_sim, vm_sim, cmap=cmap)\n",
    "ax = fig.add_axes([x_panel+1*(panel_xbuffer+panel_width), panel_bottom, panel_width, panel_height])\n",
    "wpmi_pcolor(ax, mac_sim, wpmi(data_beta[1][i_1], data_beta[2][i_1], n_sim), scale_sim, vm_sim, cmap=cmap)\n",
    "ax.set_xlabel('Minor allele count, $i$')\n",
    "ax = fig.add_axes([x_panel+2*(panel_xbuffer+panel_width), panel_bottom , panel_width, panel_height])\n",
    "wpmi_pcolor(ax, mac_sim, wpmi(data_beta[1][i_10], data_beta[2][i_10], n_sim), scale_sim, vm_sim, cmap=cmap)\n",
    "\n",
    "ax = fig.add_axes([0.94, panel_bottom+panel_height/2, 0.025, 2*(panel_height+panel_ybuffer)])\n",
    "wpmi_colorbar(ax, scale_sim, vm_sim, cmap=cmap)\n",
    "ax.set_title('wfPMI')\n",
    "\n",
    "fig.text(x_text, panel_bottom + (2.5*panel_size) + 2*panel_buffer, \"Kingman\\ncoalescent\", va='center')\n",
    "fig.text(x_text, panel_bottom + (1.5*panel_size) + panel_buffer, \"Exp. growth,\\n$gN_0=4$\", va='center')\n",
    "fig.text(x_text, panel_bottom + panel_size/2, \"Beta coalescent,\\n\"+r\"$\\alpha=1.5$\", va='center')\n",
    "\n",
    "fig.savefig('../manuscript/figures/wfpmi_with_recombination.pdf')#, bbox_inches=\"tight\")"
   ]
  },
  {
   "cell_type": "code",
   "execution_count": 30,
   "metadata": {
    "collapsed": true
   },
   "outputs": [],
   "source": [
    "def plot_lohi_vs_td(axes, r_list, file_list, cutoff_list, n_samples, **kwargs):\n",
    "    pi, sfs, jsfs, pi_corr, lolo_corr, lohi_corr, hihi_corr = h.import_msprime_corr(file_list, n_samples)\n",
    "    i_r = np.nanargmin(np.abs(np.log(pi*r_list/2)))\n",
    "    td = tajimasD(n_samples, sfs[i_r])\n",
    "    for i_cutoff, cutoff in enumerate(cutoffs):\n",
    "        axes[i_cutoff].plot(td, lohi_corr[i_r][cutoff-1], **kwargs)"
   ]
  },
  {
   "cell_type": "code",
   "execution_count": 185,
   "metadata": {},
   "outputs": [
    {
     "name": "stderr",
     "output_type": "stream",
     "text": [
      "/Users/dpr/miniconda3/envs/mmc_py35/lib/python3.5/site-packages/ipykernel_launcher.py:3: RuntimeWarning: divide by zero encountered in log\n",
      "  This is separate from the ipykernel package so we can avoid doing imports until\n"
     ]
    },
    {
     "data": {
      "image/png": "[encoded data removed]",
      "text/plain": [
       "<Figure size 378x126 with 4 Axes>"
      ]
     },
     "metadata": {},
     "output_type": "display_data"
    }
   ],
   "source": [
    "#fig = plt.figure(figsize=(8,2))\n",
    "\n",
    "xscale = 1.5\n",
    "yscale = 0.5\n",
    "fig = plt.figure(figsize=(xscale*single_col_width, yscale*single_col_width))\n",
    "x_text = 0.05 / xscale\n",
    "x_panel = 0.12\n",
    "x_cb = 0.8 / xscale\n",
    "panel_size = 0.25\n",
    "panel_buffer = 0.05\n",
    "panel_bottom = 0.3\n",
    "\n",
    "panel_width = panel_size / xscale\n",
    "panel_height = panel_size / yscale\n",
    "panel_xbuffer = panel_buffer / xscale\n",
    "panel_ybuffer = panel_buffer / yscale\n",
    "\n",
    "cutoffs = [4, 20, 40]\n",
    "axes = [fig.add_axes([x_panel+i*(panel_width+panel_xbuffer), panel_bottom, panel_width, panel_height]) for i in range(len(cutoffs))]\n",
    "\n",
    "ms = 4.0\n",
    "\n",
    "for i_a, alpha in enumerate(a_list):\n",
    "    if i_a == 0:\n",
    "        col = 'k'\n",
    "    else:\n",
    "        col = 'C0'\n",
    "    rl = r_list_beta\n",
    "    files = [prefix + 'a-{}_r-{}.txt'.format(alpha, r) for r in rl]\n",
    "    plot_lohi_vs_td(axes, rl, files, cutoffs, n_sim, color=col, marker='o', ms=ms)\n",
    "    \n",
    "for g in g_list:\n",
    "    rl = r_list_exp\n",
    "    files = [prefix + 'g-{}_r-{}.txt'.format(g, r) for r in rl]\n",
    "    plot_lohi_vs_td(axes, rl, files, cutoffs, n_sim, color='C1', marker='o', ms=ms)\n",
    "    \n",
    "for t in t_list:\n",
    "    for s in s_list:\n",
    "        rl = r_list\n",
    "        files = [prefix + 'T-{}_S-{}_r-{}.txt'.format(t,s,r) for r in rl]\n",
    "        plot_lohi_vs_td(axes, rl, files, cutoffs, n_sim, color='C1', marker='s', ms=ms)\n",
    "\n",
    "for i_ax, ax in enumerate(axes):\n",
    "    xlims = [-2.1,0.1]\n",
    "    ax.set_xticks([-2,-1,0])\n",
    "    ax.hlines(0, xlims[0], xlims[1], linestyle='dashed', color='k')\n",
    "    ax.set_xlim(xlims)\n",
    "    ax.set_ylim([-0.02,0.08])\n",
    "    if i_ax == 0:\n",
    "        ax.set_title('Cutoff, $i_c = {}$'.format(cutoffs[i_ax]))\n",
    "    else:\n",
    "        ax.set_title('$i_c = {}$'.format(cutoffs[i_ax]))\n",
    "    if i_ax == 0:\n",
    "        ax.set_ylabel('hiloPMI')\n",
    "    else:\n",
    "        ax.set_yticklabels([])\n",
    "    ax.spines['right'].set_visible(False)\n",
    "    ax.spines['top'].set_visible(False)\n",
    "axes[1].set_xlabel(r\"Normalized Tajima's D, $(\\Pi - \\hat{\\theta}_W) / \\Pi$\")\n",
    "\n",
    "legend_axes = fig.add_axes([x_panel+ 3*panel_width + 2.25*panel_xbuffer, panel_bottom, panel_width, panel_height])\n",
    "legend_axes.plot([],[], 'ok', label='Kingman coal.', ms=ms)\n",
    "legend_axes.plot([],[], 'C1o', label='Exponential gr.', ms=ms)\n",
    "legend_axes.plot([],[], 'C1s', label='2-epoch growth', ms=ms)\n",
    "legend_axes.plot([],[], 'C0o', label='Beta coalescent', ms=ms)\n",
    "legend_axes.legend(loc='center left', frameon=False)\n",
    "legend_axes.set_xticks([])\n",
    "legend_axes.set_yticks([])\n",
    "legend_axes.spines['right'].set_visible(False)\n",
    "legend_axes.spines['top'].set_visible(False)\n",
    "legend_axes.spines['left'].set_visible(False)\n",
    "legend_axes.spines['bottom'].set_visible(False)\n",
    "\n",
    "fig.savefig('../manuscript/figures/hilopmi_vs_tajimasD_recombination.pdf')"
   ]
  },
  {
   "cell_type": "code",
   "execution_count": null,
   "metadata": {
    "collapsed": true
   },
   "outputs": [],
   "source": []
  }
 ],
 "metadata": {
  "kernelspec": {
   "display_name": "Python 3",
   "language": "python",
   "name": "python3"
  },
  "language_info": {
   "codemirror_mode": {
    "name": "ipython",
    "version": 3
   },
   "file_extension": ".py",
   "mimetype": "text/x-python",
   "name": "python",
   "nbconvert_exporter": "python",
   "pygments_lexer": "ipython3",
   "version": "3.5.3"
  }
 },
 "nbformat": 4,
 "nbformat_minor": 2
}
