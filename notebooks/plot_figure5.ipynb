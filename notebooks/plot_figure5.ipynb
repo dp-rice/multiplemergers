{
 "cells": [
  {
   "cell_type": "code",
   "execution_count": 1,
   "metadata": {
    "collapsed": true
   },
   "outputs": [],
   "source": [
    "import numpy as np\n",
    "import matplotlib as mpl\n",
    "import matplotlib.pyplot as plt\n",
    "import sys\n",
    "sys.path.insert(0, '../src/')\n",
    "import helpers as h\n",
    "%matplotlib inline"
   ]
  },
  {
   "cell_type": "code",
   "execution_count": 2,
   "metadata": {
    "collapsed": true
   },
   "outputs": [],
   "source": [
    "def get_data_msp(file_list, r_list, n_samples):\n",
    "    '''Import msprime simulation data and scale distances and SFS by pi'''\n",
    "    num_r = len(r_list)\n",
    "    \n",
    "    data = h.import_msprime_corr(file_list, n_samples)\n",
    "    pi, sfs, jsfs, pi_corr, lolo_corr, lohi_corr, hihi_corr = data\n",
    "    \n",
    "    d = np.tile(r_list, len(file_list)//len(r_list)) * pi / 2\n",
    "    d = d.reshape((-1,num_r))\n",
    "    \n",
    "    sfs /= pi[:,None]\n",
    "    sfs = sfs.reshape((-1, num_r, sfs.shape[-1]))\n",
    "    \n",
    "    lohi_corr = lohi_corr.reshape((-1, num_r, lohi_corr.shape[-1]))\n",
    "    \n",
    "    return d, sfs, lohi_corr"
   ]
  },
  {
   "cell_type": "code",
   "execution_count": 3,
   "metadata": {
    "collapsed": true
   },
   "outputs": [],
   "source": [
    "def get_data_slim(fn):\n",
    "    '''Import slim simulation data and scale distances and SFS by pi'''\n",
    "    data = h.readcorr_normed(fn, n_samples)\n",
    "    pi, sfs, _, _, lohi_corr, _ = data\n",
    "    sfs /= pi\n",
    "    d = dist*r_slim*pi / (2*mu)\n",
    "    return d, sfs, lohi_corr"
   ]
  },
  {
   "cell_type": "markdown",
   "metadata": {},
   "source": [
    "## Import msprime data"
   ]
  },
  {
   "cell_type": "code",
   "execution_count": 4,
   "metadata": {
    "collapsed": true
   },
   "outputs": [],
   "source": [
    "# Sample size\n",
    "n_samples = 100\n",
    "# Beta coalescent alpha parameter\n",
    "a_list = [2.0, 1.75, 1.5, 1.25]\n",
    "# Exp growth parameter\n",
    "g_list = [1.0, 2.0, 4.0, 8.0]\n",
    "# Piecewise-constant growth time and inverse growth factor\n",
    "t_list = [0.01, 0.1, 1.0]\n",
    "s_list = [0.2, 0.1, 0.05, 0.01]"
   ]
  },
  {
   "cell_type": "code",
   "execution_count": 5,
   "metadata": {
    "collapsed": true
   },
   "outputs": [],
   "source": [
    "# Recombination rates (Piecewise-constant uses higher recombination rates because it has higher coalescent rates.)\n",
    "r_list = np.insert(np.logspace(-1,3,13), 0, 0.0)\n",
    "r_list_beta = r_list[:-3]\n",
    "r_list_exp = r_list[:-3]\n",
    "r_list_pwc = r_list"
   ]
  },
  {
   "cell_type": "code",
   "execution_count": 6,
   "metadata": {
    "collapsed": true
   },
   "outputs": [],
   "source": [
    "head = '../simulations/msprime/jsfs_n-{}_'.format(n_samples)"
   ]
  },
  {
   "cell_type": "code",
   "execution_count": 7,
   "metadata": {},
   "outputs": [],
   "source": [
    "# Get the beta coalescent results\n",
    "r_list_beta = r_list[:-3]\n",
    "file_list_beta = [head + 'a-{}_r-{}.txt'.format(a, r) for a in a_list for r in r_list_beta]\n",
    "data_beta = get_data_msp(file_list_beta, r_list_beta, n_samples)\n",
    "\n",
    "# The first entries in data_beta are for the Kingman coalescent with no growth.\n",
    "# This will be used as a global variable for plotting\n",
    "d_kingman = data_beta[0][0]\n",
    "lhc_kingman = data_beta[2][0]\n",
    "data_beta = tuple(datum[1:] for datum in data_beta)"
   ]
  },
  {
   "cell_type": "code",
   "execution_count": 8,
   "metadata": {},
   "outputs": [],
   "source": [
    "file_list_exp = [head + 'g-{}_r-{}.txt'.format(g, r) for g in g_list for r in r_list_exp]\n",
    "data_exp = get_data_msp(file_list_exp, r_list_exp, n_samples)"
   ]
  },
  {
   "cell_type": "code",
   "execution_count": 9,
   "metadata": {},
   "outputs": [],
   "source": [
    "file_list_pwc = [head + 'T-{}_S-{}_r-{}.txt'.format(t,s,r) for t in t_list for s in s_list for r in r_list_pwc]\n",
    "data_pwc = get_data_msp(file_list_pwc, r_list_pwc, n_samples)"
   ]
  },
  {
   "cell_type": "markdown",
   "metadata": {},
   "source": [
    "### Import SLiM data"
   ]
  },
  {
   "cell_type": "code",
   "execution_count": 10,
   "metadata": {},
   "outputs": [],
   "source": [
    "r_slim = 1e-8\n",
    "mu = 1e-7\n",
    "N = 1e3\n",
    "L = int(1e8)\n",
    "w = int(1e3)\n",
    "lim = L//(10*w)\n",
    "dist = w*np.arange(lim + 1)\n",
    "fsels_sweeps = np.array([0.0, 1e-6, 1e-5, 1e-4, 1e-3])[:-1]\n",
    "fn_pattern = '../simulations/slim/sweeps_fsel-{}_corrmerged.txt.gz'\n",
    "slim_data = [get_data_slim(fn_pattern)) for fsel in fsels_sweeps]"
   ]
  },
  {
   "cell_type": "markdown",
   "metadata": {},
   "source": [
    "## Make plots"
   ]
  },
  {
   "cell_type": "code",
   "execution_count": 11,
   "metadata": {
    "collapsed": true
   },
   "outputs": [],
   "source": [
    "# Colormap\n",
    "cmap = 'viridis'\n",
    "    \n",
    "def plot_ax(ax, x, y, cutoff, tajD):\n",
    "    '''Helper function to make plots in plot_row_msp and plot_row_slim'''\n",
    "    # The axis limits\n",
    "    d_lim = [8e-2, (1/8)*1e3]\n",
    "    lhc_lim = [-0.11,0.11]\n",
    "    sfs_lim = [2e-3, 2e1]\n",
    "    # Y-tick locations\n",
    "    yticks = [-0.1,0,0.1]\n",
    "    \n",
    "    color = plt.get_cmap(cmap)(-tajD)\n",
    "\n",
    "    ax.semilogx(x,y, color=color)\n",
    "    # Plot Kingman curve for reference\n",
    "    ax.semilogx(d_kingman, lhc_kingman[:,cutoff-1], ':', color='k')\n",
    "    ax.hlines(0, d_lim[0], d_lim[1], linestyle='dashed', color='.5')\n",
    "    ax.set_xlim(d_lim)\n",
    "    ax.set_ylim(lhc_lim)\n",
    "    ax.set_yticks(yticks)\n",
    "    \n",
    "def plot_row_msp(axes, d, sfs, lhc, cutoffs, n_samples=100):\n",
    "    '''\n",
    "    Plot lo-hi correlation vs. scaled distance for various cutoffs from msprime simulation output\n",
    "    '''\n",
    "\n",
    "    for i in range(d.shape[0]):\n",
    "        tajD = h.tajimasD(n_samples, np.mean(sfs[i,:,:],axis=0))\n",
    "                \n",
    "        # Plot LoHi-Correlations for different cutoffs\n",
    "        for j, cutoff in enumerate(cutoffs):\n",
    "            ax = axes[j]\n",
    "            x = d[i,:]\n",
    "            y = lhc[i,:, cutoff-1]\n",
    "\n",
    "            plot_ax(ax, x, y, cutoff, tajD)\n",
    "            \n",
    "            if j > 0:\n",
    "                ax.set_yticklabels([])\n",
    "    return axes\n",
    "\n",
    "def plot_row_slim(axes, d, sfs, lhc, cutoffs, n_samples=100):\n",
    "    '''\n",
    "    Plot lo-hi correlation vs. scaled distance for various cutoffs from slim simulation output\n",
    "    '''\n",
    "\n",
    "    tajD = h.tajimasD(n_samples, sfs)\n",
    "\n",
    "    # Plot LoHi-Correlations for different cutoffs\n",
    "    for j, cutoff in enumerate(cutoffs):\n",
    "        ax = axes[j]\n",
    "        x = d\n",
    "        y = h.smooth(lhc[cutoff-1], 101)\n",
    "        \n",
    "        plot_ax(ax, x, y, cutoff, tajD)\n",
    "        \n",
    "        if j > 0:\n",
    "            ax.set_yticklabels([])\n",
    "    \n",
    "    return axes"
   ]
  },
  {
   "cell_type": "code",
   "execution_count": 12,
   "metadata": {
    "collapsed": true
   },
   "outputs": [],
   "source": [
    "single_col_width = 3.5\n",
    "mpl.rcParams['font.size'] = 10\n",
    "mpl.rcParams['axes.titlesize'] = 10\n",
    "mpl.rcParams['text.usetex'] = True\n",
    "mpl.rcParams['font.family'] ='serif'"
   ]
  },
  {
   "cell_type": "code",
   "execution_count": 13,
   "metadata": {
    "scrolled": false
   },
   "outputs": [
    {
     "data": {
      "image/png": "[encoded data removed]",
      "text/plain": [
       "<Figure size 378x378 with 13 Axes>"
      ]
     },
     "metadata": {},
     "output_type": "display_data"
    }
   ],
   "source": [
    "cutoffs = [4, 20, 40]\n",
    "n_rows = 4\n",
    "n_cols = len(cutoffs)\n",
    "\n",
    "xscale = 1.5\n",
    "yscale = 1.5\n",
    "fig = plt.figure(figsize=(xscale*single_col_width, yscale*single_col_width))\n",
    "\n",
    "x_text = 0.025 / xscale\n",
    "x_panel = 0.25\n",
    "x_cb = 0.9\n",
    "panel_size = 0.265\n",
    "panel_buffer = 0.05\n",
    "panel_bottom = 0.1\n",
    "panel_width = panel_size / xscale\n",
    "panel_height = panel_size / yscale\n",
    "panel_xbuffer = panel_buffer / xscale\n",
    "panel_ybuffer = panel_buffer / yscale    \n",
    "\n",
    "# EXP\n",
    "axes = [fig.add_axes([x_panel + i*(panel_width+panel_xbuffer),\n",
    "                      panel_bottom + 3*(panel_height+panel_ybuffer),\n",
    "                      panel_width,\n",
    "                      panel_height]) for i in range(n_cols)]\n",
    "axes[0].set_title('Cutoff, $i_c = 4$')\n",
    "axes[1].set_title('$i_c = 20$')\n",
    "axes[2].set_title('$i_c = 40$')\n",
    "\n",
    "axes = plot_row_msp(axes, *data_exp, cutoffs)\n",
    "axes[-1].lines[-1].set_label('Constant-$N$')\n",
    "axes[-1].legend(frameon=False, loc=(0.1,0.75))\n",
    "\n",
    "# PWC\n",
    "axes = [fig.add_axes([x_panel + i*(panel_width+panel_xbuffer),\n",
    "                  panel_bottom + 2*(panel_height+panel_ybuffer),\n",
    "                  panel_width,\n",
    "                  panel_height]) for i in range(n_cols)]\n",
    "#for i_t, t in enumerate(t_list):\n",
    "axes = plot_row_msp(axes, *data_pwc, cutoffs)\n",
    "\n",
    "# BETA\n",
    "axes = [fig.add_axes([x_panel + i*(panel_width+panel_xbuffer),\n",
    "                  panel_bottom + 1*(panel_height+panel_ybuffer),\n",
    "                  panel_width,\n",
    "                  panel_height]) for i in range(n_cols)]\n",
    "axes = plot_row_msp(axes, *data_beta, cutoffs)\n",
    "\n",
    "for ax in fig.get_axes():\n",
    "    ax.set_xticklabels([])\n",
    "    \n",
    "# Sweeps\n",
    "axes = [fig.add_axes([x_panel + i*(panel_width+panel_xbuffer),\n",
    "                  panel_bottom,\n",
    "                  panel_width,\n",
    "                  panel_height]) for i in range(n_cols)]\n",
    "for fsel, data in zip(fsels_sweeps, slim_data):\n",
    "    axes = plot_row_slim(axes, *data, cutoffs)\n",
    "axes[1].set_xlabel(r'Genomic distance, $d\\,r \\left< T_2 \\right>$')\n",
    "    \n",
    "for ax in fig.get_axes():\n",
    "    ax.spines['right'].set_visible(False)\n",
    "    ax.spines['top'].set_visible(False)\n",
    "    \n",
    "ax = fig.add_axes([x_cb,0.33,0.05,0.33])\n",
    "v = 1\n",
    "norm = mpl.colors.Normalize(vmin=-v, vmax=v)\n",
    "gradient = np.linspace(-v, v, 256)\n",
    "gradient = np.vstack((gradient, gradient))\n",
    "ax.imshow(gradient.T, aspect=0.1, norm=norm, cmap=plt.get_cmap('viridis_r'))\n",
    "ax.set_xticks([])\n",
    "ax.set_yticks([0,256//2,256])\n",
    "ax.set_yticklabels([-1.0, -0.5, 0.0])\n",
    "ax.set_ylim([0,256])\n",
    "ax.set_title(\"Normalized\\nTajima's D\")\n",
    "\n",
    "\n",
    "fig.text(x_text, panel_bottom + panel_height/2 + 3*(panel_height+panel_ybuffer), \"Exponential\\ngrowth\", va='center')\n",
    "fig.text(x_text, panel_bottom + panel_height/2 + 2*(panel_height+panel_ybuffer), \"2-epoch\\ngrowth\", va='center')\n",
    "fig.text(x_text, panel_bottom + panel_height/2 + (panel_height+panel_ybuffer), \"Beta\\ncoalescent\", va='center')\n",
    "fig.text(x_text, panel_bottom + panel_height/2, \"Linked\\nsweeps\", va='center')\n",
    "\n",
    "fig.text(0.15, panel_bottom + 2*panel_height + 1.5*panel_ybuffer, r\"hiloPMI$(d;i_c)$\", rotation=90, va=\"center\")\n",
    "fig.savefig('../manuscript/figures/hilopmi_vs_distance.pdf')\n"
   ]
  }
 ],
 "metadata": {
  "kernelspec": {
   "display_name": "Python 3",
   "language": "python",
   "name": "python3"
  },
  "language_info": {
   "codemirror_mode": {
    "name": "ipython",
    "version": 3
   },
   "file_extension": ".py",
   "mimetype": "text/x-python",
   "name": "python",
   "nbconvert_exporter": "python",
   "pygments_lexer": "ipython3",
   "version": "3.5.3"
  }
 },
 "nbformat": 4,
 "nbformat_minor": 2
}
