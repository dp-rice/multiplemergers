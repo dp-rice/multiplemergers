{
 "cells": [
  {
   "cell_type": "code",
   "execution_count": 2,
   "metadata": {
    "collapsed": true
   },
   "outputs": [],
   "source": [
    "import sys\n",
    "import numpy as np\n",
    "import matplotlib.pyplot as plt\n",
    "%matplotlib inline"
   ]
  },
  {
   "cell_type": "code",
   "execution_count": 187,
   "metadata": {},
   "outputs": [
    {
     "name": "stdout",
     "output_type": "stream",
     "text": [
      "The autoreload extension is already loaded. To reload it, use:\n",
      "  %reload_ext autoreload\n"
     ]
    }
   ],
   "source": [
    "%load_ext autoreload\n",
    "%autoreload 2"
   ]
  },
  {
   "cell_type": "code",
   "execution_count": 182,
   "metadata": {},
   "outputs": [],
   "source": [
    "sys.path.insert(0, '../src/')\n",
    "import zivkovic as z\n",
    "import coalescentmoments as c\n",
    "import helpers as h"
   ]
  },
  {
   "cell_type": "code",
   "execution_count": 4,
   "metadata": {
    "collapsed": true
   },
   "outputs": [],
   "source": [
    "def fold(n, X):\n",
    "    i_max = n//2\n",
    "    #i_max = (n+1)//2 + 1\n",
    "    k = np.arange(1, n-1)\n",
    "    multiplicity = 1 + (k == n - k).astype(float)[:i_max]\n",
    "    if X.ndim == 1:\n",
    "        folded = (X + X[::-1])[:i_max]\n",
    "        divisor = multiplicity\n",
    "    elif X.ndim == 2:\n",
    "        folded = (X + X[:,::-1] + X[::-1,:] + X[::-1,::-1])[:i_max,:i_max]\n",
    "        folded[np.diag_indices(i_max)] = 0\n",
    "        divisor = np.outer(multiplicity, multiplicity)\n",
    "    return folded / divisor"
   ]
  },
  {
   "cell_type": "code",
   "execution_count": 210,
   "metadata": {
    "collapsed": true
   },
   "outputs": [],
   "source": [
    "def stats(n, mode, **params):\n",
    "    if mode == \"kingman\":\n",
    "        xi, xi2 = c.fu_moments(n)\n",
    "    elif mode in [\"exponential\", \"two-epoch\"]:\n",
    "        xi = z.sigma_i(n, mode, **params)[1:-1]\n",
    "        xi2 = z.sigma_ij(n, mode, **params)[1:-1,1:-1] + np.outer(xi, xi)\n",
    "    elif mode == \"beta\":\n",
    "        xi, xi2 = c.sfs_moments(n, params[alpha])\n",
    "    eta = fold(n, xi)\n",
    "    eta2 = fold(n, xi2)\n",
    "    pi = h.sfs2pi(eta, n)\n",
    "    return eta / pi, eta2 / (pi**2)"
   ]
  },
  {
   "cell_type": "code",
   "execution_count": 195,
   "metadata": {
    "collapsed": true
   },
   "outputs": [],
   "source": [
    "def wpmi(eta, eta2):\n",
    "    ret = eta2 * np.log2(eta2 / np.outer(eta, eta))\n",
    "    ret[np.diag_indices_from(ret)] = 0\n",
    "    return ret"
   ]
  },
  {
   "cell_type": "code",
   "execution_count": 117,
   "metadata": {
    "collapsed": true
   },
   "outputs": [],
   "source": [
    "def lohi_cov(eta, eta2, cutoff=1):\n",
    "    lo = np.sum(eta[:cutoff])\n",
    "    hi = np.sum(eta[cutoff:])\n",
    "    lohi = np.sum(eta2[:cutoff, cutoff:])\n",
    "    return lohi / (lo*hi) - 1"
   ]
  },
  {
   "cell_type": "code",
   "execution_count": 125,
   "metadata": {
    "collapsed": true
   },
   "outputs": [],
   "source": [
    "def tajimasD(n, eta):\n",
    "    theta_pi = h.sfs2pi(eta, n)\n",
    "    theta_w  = np.sum(eta) / np.sum(1/np.arange(1,n))\n",
    "    return theta_pi - theta_w"
   ]
  },
  {
   "cell_type": "code",
   "execution_count": 88,
   "metadata": {},
   "outputs": [
    {
     "name": "stdout",
     "output_type": "stream",
     "text": [
      "[ 1.25  1.35  1.45  1.55  1.65  1.75]\n"
     ]
    }
   ],
   "source": [
    "print(np.linspace(1.25,1.75, 6))"
   ]
  },
  {
   "cell_type": "code",
   "execution_count": 89,
   "metadata": {
    "collapsed": true
   },
   "outputs": [],
   "source": [
    "n = 39\n",
    "alphas = np.linspace(1.25, 1.75, 6)\n",
    "gs = np.array([0.25, 0.5, 1.0, 2.0, 4.0, 8.0])"
   ]
  },
  {
   "cell_type": "code",
   "execution_count": 191,
   "metadata": {},
   "outputs": [],
   "source": [
    "eta_kingman, eta2_kingman = stats(n, \"kingman\")"
   ]
  },
  {
   "cell_type": "code",
   "execution_count": 192,
   "metadata": {},
   "outputs": [
    {
     "name": "stderr",
     "output_type": "stream",
     "text": [
      "../src/zivkovic.py:17: RuntimeWarning: invalid value encountered in log\n",
      "  alpha[np.isnan(alpha)] = 0\n",
      "../src/zivkovic.py:17: RuntimeWarning: divide by zero encountered in log\n",
      "  alpha[np.isnan(alpha)] = 0\n",
      "../src/zivkovic.py:73: RuntimeWarning: divide by zero encountered in true_divide\n",
      "  \n",
      "../src/zivkovic.py:73: RuntimeWarning: invalid value encountered in true_divide\n",
      "  \n",
      "../src/zivkovic.py:54: RuntimeWarning: divide by zero encountered in true_divide\n",
      "  def marginal_leaf_prob(n):\n",
      "../src/zivkovic.py:44: RuntimeWarning: invalid value encountered in log\n",
      "  lag_x, lag_w = laggauss(degree)\n",
      "../src/zivkovic.py:135: RuntimeWarning: divide by zero encountered in true_divide\n",
      "  j_vec = r[:,None]\n",
      "../src/zivkovic.py:135: RuntimeWarning: invalid value encountered in true_divide\n",
      "  j_vec = r[:,None]\n",
      "../src/zivkovic.py:64: RuntimeWarning: divide by zero encountered in true_divide\n",
      "  \n",
      "../src/zivkovic.py:34: RuntimeWarning: invalid value encountered in add\n",
      "  \n",
      "../src/zivkovic.py:34: RuntimeWarning: invalid value encountered in subtract\n",
      "  \n",
      "../src/zivkovic.py:145: RuntimeWarning: invalid value encountered in multiply\n",
      "  # k' = k = n\n",
      "../src/zivkovic.py:159: RuntimeWarning: divide by zero encountered in true_divide\n",
      "  A_kpk = prefactor_kpk * Ett_kpk\n",
      "../src/zivkovic.py:159: RuntimeWarning: invalid value encountered in true_divide\n",
      "  A_kpk = prefactor_kpk * Ett_kpk\n",
      "../src/zivkovic.py:30: RuntimeWarning: invalid value encountered in add\n",
      "  return lambda_inv(x,g) * (lambda_inv(y+x,g) - lambda_inv(x,g))\n",
      "../src/zivkovic.py:30: RuntimeWarning: invalid value encountered in subtract\n",
      "  return lambda_inv(x,g) * (lambda_inv(y+x,g) - lambda_inv(x,g))\n",
      "../src/zivkovic.py:173: RuntimeWarning: invalid value encountered in multiply\n",
      "  for j in range(1, n):\n",
      "../src/zivkovic.py:188: RuntimeWarning: divide by zero encountered in true_divide\n",
      "  r = np.arange(n+1)\n",
      "../src/zivkovic.py:188: RuntimeWarning: invalid value encountered in true_divide\n",
      "  r = np.arange(n+1)\n",
      "../src/zivkovic.py:222: RuntimeWarning: invalid value encountered in true_divide\n",
      "  Sigma_ij2 = sigma_ij2(n, Ett_kpk)\n"
     ]
    }
   ],
   "source": [
    "stats_exp = [stats(n, \"exponential\", g=g) for g in gs]"
   ]
  },
  {
   "cell_type": "code",
   "execution_count": 109,
   "metadata": {},
   "outputs": [],
   "source": [
    "stats_beta = [stats(n, \"beta\", alpha=a) for a in alphas]"
   ]
  },
  {
   "cell_type": "code",
   "execution_count": 196,
   "metadata": {},
   "outputs": [
    {
     "name": "stderr",
     "output_type": "stream",
     "text": [
      "/Users/dpr/miniconda3/envs/mmc_py35/lib/python3.5/site-packages/ipykernel_launcher.py:2: RuntimeWarning: divide by zero encountered in log2\n",
      "  \n",
      "/Users/dpr/miniconda3/envs/mmc_py35/lib/python3.5/site-packages/ipykernel_launcher.py:2: RuntimeWarning: invalid value encountered in multiply\n",
      "  \n"
     ]
    }
   ],
   "source": [
    "wpmi_kingman = wpmi(eta_kingman, eta2_kingman)\n",
    "wpmi_exp = [wpmi(eta, eta2) for eta, eta2 in stats_exp]\n",
    "wpmi_beta = [wpmi(eta, eta2) for eta, eta2 in stats_beta]"
   ]
  },
  {
   "cell_type": "code",
   "execution_count": 197,
   "metadata": {},
   "outputs": [
    {
     "data": {
      "image/png": "[encoded data removed]",
      "text/plain": [
       "<matplotlib.figure.Figure at 0x1209df908>"
      ]
     },
     "metadata": {},
     "output_type": "display_data"
    }
   ],
   "source": [
    "v = 0.02\n",
    "fig = plt.figure(figsize=(10,10))\n",
    "nrows = len(gs) + 1\n",
    "ncols = len(alphas) + 1\n",
    "ax = fig.add_subplot(nrows, ncols, 1)\n",
    "ax.pcolor(wpmi_kingman, cmap='PuOr', vmin=-v, vmax=v)\n",
    "\n",
    "for i, wpmi in enumerate(wpmi_exp):\n",
    "    ax = fig.add_subplot(nrows, ncols, 1+(ncols*(i+1)))\n",
    "    ax.pcolor(wpmi, cmap='PuOr', vmin=-v, vmax=v)\n",
    "\n",
    "for i, wpmi in enumerate(wpmi_beta[::-1]):\n",
    "    ax = fig.add_subplot(nrows, ncols,2+i)\n",
    "    ax.pcolor(wpmi, cmap='PuOr', vmin=-v, vmax=v)\n"
   ]
  },
  {
   "cell_type": "code",
   "execution_count": 113,
   "metadata": {},
   "outputs": [
    {
     "data": {
      "image/png": "[encoded data removed]",
      "text/plain": [
       "<matplotlib.figure.Figure at 0x11cc38b00>"
      ]
     },
     "metadata": {},
     "output_type": "display_data"
    }
   ],
   "source": [
    "v = 0.02\n",
    "mac = np.arange(1, n//2+1)\n",
    "plt.loglog(mac, eta_kingman)\n",
    "for i, (eta, _) in enumerate(stats_exp):\n",
    "    plt.loglog(mac, eta)"
   ]
  },
  {
   "cell_type": "code",
   "execution_count": 120,
   "metadata": {},
   "outputs": [
    {
     "name": "stdout",
     "output_type": "stream",
     "text": [
      "King\t-0.02564102564102566\n",
      "g=0.25\t-0.02012306511327222\n",
      "g=0.5\t-0.017004901210937562\n",
      "g=1.0\t-0.013301272412572729\n",
      "g=2.0\t-0.01273487544998031\n",
      "g=4.0\t-0.009588165211666944\n",
      "g=8.0\t-0.014369497715857604\n",
      "a=1.25\t0.04662015704478972\n",
      "a=1.35\t0.028125281168155603\n",
      "a=1.45\t0.013265511766807458\n",
      "a=1.55\t0.0014800500394676064\n",
      "a=1.65\t-0.007730084766743639\n",
      "a=1.75\t-0.014808554423553222\n"
     ]
    }
   ],
   "source": [
    "print(\"King\\t{}\".format(lohi_cov(eta_kingman, eta2_kingman)))\n",
    "for i, g in enumerate(gs):\n",
    "    print(\"g={}\\t{}\".format(g, lohi_cov(*stats_exp[i])))\n",
    "for i, a in enumerate(alphas):\n",
    "    print(\"a={}\\t{}\".format(a, lohi_cov(*stats_beta[i])))\n",
    "\n",
    "#for a in alphas:\n",
    "#    print(\"a={}\\t{}\".format(a, sd_pmi(alpha=a)))"
   ]
  },
  {
   "cell_type": "code",
   "execution_count": 127,
   "metadata": {},
   "outputs": [
    {
     "name": "stdout",
     "output_type": "stream",
     "text": [
      "King\t0.0\n",
      "g=0.25\t-0.057482644376623204\n",
      "g=0.5\t-0.1004553029047397\n",
      "g=1.0\t-0.16685055494845824\n",
      "g=2.0\t-0.26260872826054316\n",
      "g=4.0\t-0.3914941284870417\n",
      "g=8.0\t-0.5534728689950665\n",
      "a=1.25\t-0.6475675030953278\n",
      "a=1.35\t-0.5268970130219552\n",
      "a=1.45\t-0.41869812512438265\n",
      "a=1.55\t-0.32187386676378993\n",
      "a=1.65\t-0.23536996590351844\n",
      "a=1.75\t-0.1581858489143021\n"
     ]
    }
   ],
   "source": [
    "print(\"King\\t{}\".format(tajimasD(n, eta_kingman)))\n",
    "for i, g in enumerate(gs):\n",
    "    print(\"g={}\\t{}\".format(g, tajimasD(n, stats_exp[i][0])))\n",
    "for i, a in enumerate(alphas):\n",
    "    print(\"a={}\\t{}\".format(a, tajimasD(n, stats_beta[i][0])))\n",
    "\n",
    "#for a in alphas:\n",
    "#    print(\"a={}\\t{}\".format(a, sd_pmi(alpha=a)))"
   ]
  },
  {
   "cell_type": "code",
   "execution_count": 227,
   "metadata": {},
   "outputs": [
    {
     "name": "stderr",
     "output_type": "stream",
     "text": [
      "../src/zivkovic.py:17: RuntimeWarning: invalid value encountered in log\n",
      "  alpha[np.isnan(alpha)] = 0\n",
      "../src/zivkovic.py:17: RuntimeWarning: divide by zero encountered in log\n",
      "  alpha[np.isnan(alpha)] = 0\n",
      "../src/zivkovic.py:73: RuntimeWarning: divide by zero encountered in true_divide\n",
      "  \n",
      "../src/zivkovic.py:73: RuntimeWarning: invalid value encountered in true_divide\n",
      "  \n",
      "../src/zivkovic.py:54: RuntimeWarning: divide by zero encountered in true_divide\n",
      "  def marginal_leaf_prob(n):\n",
      "../src/zivkovic.py:135: RuntimeWarning: divide by zero encountered in true_divide\n",
      "  j_vec = r[:,None]\n",
      "../src/zivkovic.py:135: RuntimeWarning: invalid value encountered in true_divide\n",
      "  j_vec = r[:,None]\n",
      "../src/zivkovic.py:64: RuntimeWarning: divide by zero encountered in true_divide\n",
      "  \n",
      "../src/zivkovic.py:34: RuntimeWarning: invalid value encountered in add\n",
      "  \n",
      "../src/zivkovic.py:47: RuntimeWarning: invalid value encountered in greater\n",
      "  F = f(scaled_x[:,None], scaled_x[None,:])\n",
      "../src/zivkovic.py:34: RuntimeWarning: invalid value encountered in subtract\n",
      "  \n",
      "../src/zivkovic.py:145: RuntimeWarning: invalid value encountered in multiply\n",
      "  # k' = k = n\n",
      "../src/zivkovic.py:159: RuntimeWarning: divide by zero encountered in true_divide\n",
      "  A_kpk = prefactor_kpk * Ett_kpk\n",
      "../src/zivkovic.py:159: RuntimeWarning: invalid value encountered in true_divide\n",
      "  A_kpk = prefactor_kpk * Ett_kpk\n",
      "../src/zivkovic.py:30: RuntimeWarning: invalid value encountered in add\n",
      "  return lambda_inv(x,g) * (lambda_inv(y+x,g) - lambda_inv(x,g))\n",
      "../src/zivkovic.py:30: RuntimeWarning: invalid value encountered in subtract\n",
      "  return lambda_inv(x,g) * (lambda_inv(y+x,g) - lambda_inv(x,g))\n",
      "../src/zivkovic.py:173: RuntimeWarning: invalid value encountered in multiply\n",
      "  for j in range(1, n):\n",
      "../src/zivkovic.py:188: RuntimeWarning: divide by zero encountered in true_divide\n",
      "  r = np.arange(n+1)\n",
      "../src/zivkovic.py:188: RuntimeWarning: invalid value encountered in true_divide\n",
      "  r = np.arange(n+1)\n",
      "../src/zivkovic.py:222: RuntimeWarning: invalid value encountered in true_divide\n",
      "  Sigma_ij2 = sigma_ij2(n, Ett_kpk)\n"
     ]
    }
   ],
   "source": [
    "taus = [0.25,.5,1,2]\n",
    "fs = [0.5]\n",
    "stats_2ep = [stats(n, \"two-epoch\", tau=tau, f=f) for f in fs for tau in taus]"
   ]
  },
  {
   "cell_type": "code",
   "execution_count": 225,
   "metadata": {},
   "outputs": [
    {
     "name": "stdout",
     "output_type": "stream",
     "text": [
      "[0.5]\n"
     ]
    }
   ],
   "source": [
    "print(fs)"
   ]
  },
  {
   "cell_type": "code",
   "execution_count": 228,
   "metadata": {},
   "outputs": [
    {
     "name": "stdout",
     "output_type": "stream",
     "text": [
      "[ 1.53197201  0.72220282  0.45805137  0.32979704  0.25555326  0.2080659\n",
      "  0.17568605  0.1526141   0.13564829  0.1228845   0.11312563  0.10558649\n",
      "  0.09973528  0.09520327  0.09173096  0.08913485  0.08728642  0.08609867\n",
      "  0.0855177 ]\n",
      "[ 0.          0.7779585   0.42258214  0.26623872  0.18668964  0.14348688\n",
      "  0.11953034  0.1064549   0.09975891  0.09685602  0.09619045  0.09679567\n",
      "  0.09805785  0.09958161  0.10111046  0.10247804  0.10357751  0.10434218\n",
      "  0.10473337]\n",
      "[ 1.39569775  0.68172848  0.44530007  0.32823685  0.25891312  0.21345994\n",
      "  0.18165289  0.15838451  0.14082207  0.12727085  0.11665759  0.1082724\n",
      "  0.10162998  0.09639044  0.0923122   0.08922275  0.08700016  0.08556128\n",
      "  0.08485429]\n",
      "[ 0.          0.93156607  0.60932821  0.44970123  0.35513032  0.29310039\n",
      "  0.24967901  0.21790432  0.19391432  0.17539829  0.16089279  0.14942981\n",
      "  0.14034747  0.13318221  0.12760437  0.12337852  0.1203382   0.11836985\n",
      "  0.11740269]\n",
      "[ 1.22450065  0.61211963  0.40866395  0.3074715   0.24721722  0.20746425\n",
      "  0.17945788  0.15882449  0.14313809  0.13094707  0.12133196  0.11368447\n",
      "  0.10758861  0.10275302  0.09897048  0.09609303  0.09401605  0.09266818\n",
      "  0.09200493]\n",
      "[ 0.          0.73332727  0.49032759  0.369409    0.2973786   0.24983908\n",
      "  0.21633529  0.19164269  0.172863    0.15826214  0.14674187  0.13757569\n",
      "  0.13026683  0.12446733  0.1199297   0.11647715  0.11398469  0.11236702\n",
      "  0.11157096]\n",
      "[ 1.08769045  0.5534258   0.37589562  0.28757877  0.23497744  0.20026322\n",
      "  0.17579885  0.15776891  0.14405705  0.13339695  0.1249865   0.11829503\n",
      "  0.11295966  0.10872621  0.10541392  0.1028937   0.1010743   0.09989345\n",
      "  0.09931234]\n",
      "[ 0.          0.5863055   0.39837754  0.3048911   0.24920833  0.2124579\n",
      "  0.1865555   0.16746243  0.15293874  0.14164451  0.13273124  0.12563777\n",
      "  0.11998042  0.11549046  0.11197679  0.10930293  0.10737237  0.10611927\n",
      "  0.10550258]\n"
     ]
    },
    {
     "data": {
      "text/plain": [
       "<matplotlib.collections.LineCollection at 0x11f7fb828>"
      ]
     },
     "execution_count": 228,
     "metadata": {},
     "output_type": "execute_result"
    },
    {
     "data": {
      "image/png": "[encoded data removed]",
      "text/plain": [
       "<matplotlib.figure.Figure at 0x11d4a76d8>"
      ]
     },
     "metadata": {},
     "output_type": "display_data"
    }
   ],
   "source": [
    "cutoff = 1\n",
    "plt.plot(-tajimasD(n, eta_kingman), lohi_cov(eta_kingman, eta2_kingman, cutoff=cutoff), 'o', c='k')\n",
    "for i, g in enumerate(gs):\n",
    "    plt.plot(-tajimasD(n, stats_exp[i][0]), lohi_cov(*stats_exp[i], cutoff=cutoff), 'o', c='C1')\n",
    "for i, a in enumerate(alphas):\n",
    "    plt.plot(-tajimasD(n, stats_beta[i][0]), lohi_cov(*stats_beta[i], cutoff=cutoff), 'o', c='C0')\n",
    "for s in stats_2ep:\n",
    "    print(s[0])\n",
    "    print(s[1][0])\n",
    "    plt.plot(-tajimasD(n, s[0]), lohi_cov(*s, cutoff=cutoff), 's', c='C2')\n",
    "\n",
    "plt.hlines(0, 0, 0.7, linestyle='dashed')\n",
    "#for a in alphas:\n",
    "#    print(\"a={}\\t{}\".format(a, sd_pmi(alpha=a)))"
   ]
  },
  {
   "cell_type": "code",
   "execution_count": 124,
   "metadata": {},
   "outputs": [
    {
     "name": "stdout",
     "output_type": "stream",
     "text": [
      "1.0\n"
     ]
    },
    {
     "data": {
      "text/plain": [
       "0.0"
      ]
     },
     "execution_count": 124,
     "metadata": {},
     "output_type": "execute_result"
    }
   ],
   "source": [
    "tajimasD(n, eta_kingman)"
   ]
  },
  {
   "cell_type": "code",
   "execution_count": null,
   "metadata": {
    "collapsed": true
   },
   "outputs": [],
   "source": []
  }
 ],
 "metadata": {
  "kernelspec": {
   "display_name": "Python 3",
   "language": "python",
   "name": "python3"
  },
  "language_info": {
   "codemirror_mode": {
    "name": "ipython",
    "version": 3
   },
   "file_extension": ".py",
   "mimetype": "text/x-python",
   "name": "python",
   "nbconvert_exporter": "python",
   "pygments_lexer": "ipython3",
   "version": "3.5.3"
  }
 },
 "nbformat": 4,
 "nbformat_minor": 2
}
