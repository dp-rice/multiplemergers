{
 "cells": [
  {
   "cell_type": "code",
   "execution_count": 132,
   "metadata": {},
   "outputs": [],
   "source": [
    "import numpy as np\n",
    "import matplotlib.pyplot as plt\n",
    "import msprime\n",
    "from IPython.display import SVG"
   ]
  },
  {
   "cell_type": "code",
   "execution_count": 11,
   "metadata": {},
   "outputs": [],
   "source": [
    "import tskit"
   ]
  },
  {
   "cell_type": "code",
   "execution_count": 269,
   "metadata": {},
   "outputs": [],
   "source": [
    "def cross_correlation(X, Y, lim):\n",
    "    n_comps = X.shape[0] - lim\n",
    "    xy = np.correlate(X, Y[:-lim], 'valid') / n_comps\n",
    "    x = np.convolve(X, np.ones(n_comps), 'valid') / n_comps\n",
    "    y = np.nansum(Y[:-lim]) / n_comps\n",
    "    return (xy - x*y)"
   ]
  },
  {
   "cell_type": "code",
   "execution_count": 175,
   "metadata": {},
   "outputs": [
    {
     "data": {
      "text/plain": [
       "'0.7.0'"
      ]
     },
     "execution_count": 175,
     "metadata": {},
     "output_type": "execute_result"
    }
   ],
   "source": [
    "msprime.__version__"
   ]
  },
  {
   "cell_type": "code",
   "execution_count": 359,
   "metadata": {},
   "outputs": [],
   "source": [
    "np.random.seed(100)"
   ]
  },
  {
   "cell_type": "code",
   "execution_count": 467,
   "metadata": {},
   "outputs": [],
   "source": [
    "n = 100\n",
    "# r = 2e-8\n",
    "r = 2e-6\n",
    "mu = 3e-9\n",
    "pi = 1e-2\n",
    "T_2 = pi / mu\n",
    "d_c = 1/(r*T_2)\n",
    "num_reps = 100\n",
    "locus_length = int(1e3)"
   ]
  },
  {
   "cell_type": "code",
   "execution_count": 468,
   "metadata": {},
   "outputs": [],
   "source": [
    "simulations = msprime.simulate(\n",
    "                sample_size=n,\n",
    "                recombination_rate=r,\n",
    "                num_replicates=num_reps,\n",
    "#                 Ne=T_2/2,\n",
    "                length=locus_length,\n",
    "                model=msprime.BetaCoalescent(population_size=T_2/2, alpha=1.25))"
   ]
  },
  {
   "cell_type": "code",
   "execution_count": 469,
   "metadata": {},
   "outputs": [],
   "source": [
    "sfs_all = np.empty((num_reps, locus_length, n-1))\n",
    "for i, sim in enumerate(simulations):\n",
    "    sfs = tskit.BranchLengthStatCalculator(sim).site_frequency_spectrum(list(range(n)), np.arange(locus_length+1))\n",
    "    sfs_all[i] = np.array(sfs)[:,:-1]"
   ]
  },
  {
   "cell_type": "code",
   "execution_count": 470,
   "metadata": {},
   "outputs": [],
   "source": [
    "sfs_avg = np.mean(sfs_all, axis=(0,1))"
   ]
  },
  {
   "cell_type": "code",
   "execution_count": 471,
   "metadata": {},
   "outputs": [
    {
     "data": {
      "text/plain": [
       "[<matplotlib.lines.Line2D at 0x11d0dcb70>]"
      ]
     },
     "execution_count": 471,
     "metadata": {},
     "output_type": "execute_result"
    },
    {
     "data": {
      "image/png": "[encoded data removed]",
      "text/plain": [
       "<Figure size 432x288 with 1 Axes>"
      ]
     },
     "metadata": {
      "needs_background": "light"
     },
     "output_type": "display_data"
    }
   ],
   "source": [
    "plt.semilogy(np.arange(n-1)+1, mu*sfs_avg, '.')"
   ]
  },
  {
   "cell_type": "code",
   "execution_count": 480,
   "metadata": {},
   "outputs": [],
   "source": [
    "d_cutoff = locus_length//10\n",
    "f_cutoff = 1\n",
    "lhc = 0\n",
    "for sfs in sfs_all:\n",
    "    hi = np.sum(sfs[:, f_cutoff:-f_cutoff], axis=1)\n",
    "    lo = np.sum(sfs, axis=1) - hi\n",
    "    lhc += np.correlate(hi, lo[:-d_cutoff], 'valid') / (len(lo) - d_cutoff)\n",
    "lhc /= num_reps"
   ]
  },
  {
   "cell_type": "code",
   "execution_count": 481,
   "metadata": {},
   "outputs": [],
   "source": [
    "hi_tot = np.sum(sfs_avg[f_cutoff:-f_cutoff])\n",
    "lo_tot = np.sum(sfs_avg[:f_cutoff]+sfs_avg[-f_cutoff:])"
   ]
  },
  {
   "cell_type": "code",
   "execution_count": 482,
   "metadata": {},
   "outputs": [
    {
     "name": "stdout",
     "output_type": "stream",
     "text": [
      "0.001283996424633413\n"
     ]
    }
   ],
   "source": [
    "print(lo_tot*mu)"
   ]
  },
  {
   "cell_type": "code",
   "execution_count": 483,
   "metadata": {},
   "outputs": [
    {
     "data": {
      "text/plain": [
       "[<matplotlib.lines.Line2D at 0x11d28c518>]"
      ]
     },
     "execution_count": 483,
     "metadata": {},
     "output_type": "execute_result"
    },
    {
     "data": {
      "image/png": "[encoded data removed]",
      "text/plain": [
       "<Figure size 432x288 with 1 Axes>"
      ]
     },
     "metadata": {
      "needs_background": "light"
     },
     "output_type": "display_data"
    }
   ],
   "source": [
    "plt.semilogx(np.arange(d_cutoff+1)*r*T_2, np.log2(lhc / (hi_tot*lo_tot)))\n",
    "#plt.hlines(0,1,100)\n",
    "#plt.ylim([-0.11,0.11])"
   ]
  },
  {
   "cell_type": "code",
   "execution_count": null,
   "metadata": {},
   "outputs": [],
   "source": []
  }
 ],
 "metadata": {
  "kernelspec": {
   "display_name": "Python 3",
   "language": "python",
   "name": "python3"
  },
  "language_info": {
   "codemirror_mode": {
    "name": "ipython",
    "version": 3
   },
   "file_extension": ".py",
   "mimetype": "text/x-python",
   "name": "python",
   "nbconvert_exporter": "python",
   "pygments_lexer": "ipython3",
   "version": "3.6.8"
  }
 },
 "nbformat": 4,
 "nbformat_minor": 2
}
