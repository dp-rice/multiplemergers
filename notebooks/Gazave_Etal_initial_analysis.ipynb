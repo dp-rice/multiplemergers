{
 "cells": [
  {
   "cell_type": "markdown",
   "metadata": {},
   "source": [
    "# Gazave et al. 2014 neutral region data"
   ]
  },
  {
   "cell_type": "markdown",
   "metadata": {},
   "source": [
    "D. P. Rice\n",
    "\n",
    "3/14/18 - 3/15/18"
   ]
  },
  {
   "cell_type": "markdown",
   "metadata": {},
   "source": [
    "# Introduction\n",
    "\n",
    "This is an initial exploration of the data from Gazave et al. 2014, which sequenced ~500 European individuals to high coverage at 15 putatively neutral loci. The data consist of:\n",
    "1. __The target region definitions__ I've extracted these using `tesseract` OCR from Table S2\n",
    "2. __The SNVs__ I've downloaded a vcf from Alon Kleinan's website and extracted the allele counts relevant fields into a simple text file using `bcftools`\n",
    "\n",
    "The goal of this document is to perform the following quality checks:\n",
    "1. The numbers in the target regions should match those in table S2 (checking for OCR errors).\n",
    "2. Regions should make sense: target length = end - start, covered bases <= length.\n",
    "3. Region descriptive statistics should match main text and SI claims.\n",
    "4. SNV positions should be within target regions.\n",
    "5. Descriptive statistics of SNVs should match claims in the paper.\n",
    "6. Site frequency spectrum should match Fig. 2."
   ]
  },
  {
   "cell_type": "code",
   "execution_count": 2,
   "metadata": {
    "collapsed": true
   },
   "outputs": [],
   "source": [
    "import numpy as np\n",
    "import pandas as pd\n",
    "import matplotlib.pyplot as plt\n",
    "%matplotlib inline"
   ]
  },
  {
   "cell_type": "markdown",
   "metadata": {},
   "source": [
    "# Target regions"
   ]
  },
  {
   "cell_type": "code",
   "execution_count": 3,
   "metadata": {},
   "outputs": [
    {
     "data": {
      "text/html": [
       "<div>\n",
       "<style scoped>\n",
       "    .dataframe tbody tr th:only-of-type {\n",
       "        vertical-align: middle;\n",
       "    }\n",
       "\n",
       "    .dataframe tbody tr th {\n",
       "        vertical-align: top;\n",
       "    }\n",
       "\n",
       "    .dataframe thead th {\n",
       "        text-align: right;\n",
       "    }\n",
       "</style>\n",
       "<table border=\"1\" class=\"dataframe\">\n",
       "  <thead>\n",
       "    <tr style=\"text-align: right;\">\n",
       "      <th></th>\n",
       "      <th>chr</th>\n",
       "      <th>start</th>\n",
       "      <th>end</th>\n",
       "      <th>length</th>\n",
       "      <th>n20x_1_indiv</th>\n",
       "      <th>n20x_450_indiv</th>\n",
       "      <th>nSNVs</th>\n",
       "    </tr>\n",
       "  </thead>\n",
       "  <tbody>\n",
       "    <tr>\n",
       "      <th>0</th>\n",
       "      <td>1</td>\n",
       "      <td>237146097</td>\n",
       "      <td>237165997</td>\n",
       "      <td>19900</td>\n",
       "      <td>19902</td>\n",
       "      <td>19764</td>\n",
       "      <td>180</td>\n",
       "    </tr>\n",
       "    <tr>\n",
       "      <th>1</th>\n",
       "      <td>1</td>\n",
       "      <td>237360801</td>\n",
       "      <td>237380801</td>\n",
       "      <td>20000</td>\n",
       "      <td>20004</td>\n",
       "      <td>19539</td>\n",
       "      <td>197</td>\n",
       "    </tr>\n",
       "    <tr>\n",
       "      <th>2</th>\n",
       "      <td>4</td>\n",
       "      <td>164000000</td>\n",
       "      <td>164020000</td>\n",
       "      <td>20000</td>\n",
       "      <td>17962</td>\n",
       "      <td>16117</td>\n",
       "      <td>96</td>\n",
       "    </tr>\n",
       "    <tr>\n",
       "      <th>3</th>\n",
       "      <td>4</td>\n",
       "      <td>164115673</td>\n",
       "      <td>164135673</td>\n",
       "      <td>20000</td>\n",
       "      <td>19768</td>\n",
       "      <td>19443</td>\n",
       "      <td>119</td>\n",
       "    </tr>\n",
       "    <tr>\n",
       "      <th>4</th>\n",
       "      <td>6</td>\n",
       "      <td>165342001</td>\n",
       "      <td>165355001</td>\n",
       "      <td>13000</td>\n",
       "      <td>11098</td>\n",
       "      <td>10659</td>\n",
       "      <td>86</td>\n",
       "    </tr>\n",
       "  </tbody>\n",
       "</table>\n",
       "</div>"
      ],
      "text/plain": [
       "   chr      start        end  length  n20x_1_indiv  n20x_450_indiv  nSNVs\n",
       "0    1  237146097  237165997   19900         19902           19764    180\n",
       "1    1  237360801  237380801   20000         20004           19539    197\n",
       "2    4  164000000  164020000   20000         17962           16117     96\n",
       "3    4  164115673  164135673   20000         19768           19443    119\n",
       "4    6  165342001  165355001   13000         11098           10659     86"
      ]
     },
     "execution_count": 3,
     "metadata": {},
     "output_type": "execute_result"
    }
   ],
   "source": [
    "targets = pd.read_table('../data/GazaveEtal/gazave_targets.txt', delim_whitespace=True, thousands=',')\n",
    "targets.head()"
   ]
  },
  {
   "cell_type": "code",
   "execution_count": 4,
   "metadata": {},
   "outputs": [
    {
     "data": {
      "text/html": [
       "<div>\n",
       "<style scoped>\n",
       "    .dataframe tbody tr th:only-of-type {\n",
       "        vertical-align: middle;\n",
       "    }\n",
       "\n",
       "    .dataframe tbody tr th {\n",
       "        vertical-align: top;\n",
       "    }\n",
       "\n",
       "    .dataframe thead th {\n",
       "        text-align: right;\n",
       "    }\n",
       "</style>\n",
       "<table border=\"1\" class=\"dataframe\">\n",
       "  <thead>\n",
       "    <tr style=\"text-align: right;\">\n",
       "      <th></th>\n",
       "      <th>chr</th>\n",
       "      <th>start</th>\n",
       "      <th>end</th>\n",
       "      <th>length</th>\n",
       "      <th>n20x_1_indiv</th>\n",
       "      <th>n20x_450_indiv</th>\n",
       "      <th>nSNVs</th>\n",
       "    </tr>\n",
       "  </thead>\n",
       "  <tbody>\n",
       "    <tr>\n",
       "      <th>count</th>\n",
       "      <td>15.000000</td>\n",
       "      <td>1.500000e+01</td>\n",
       "      <td>1.500000e+01</td>\n",
       "      <td>15.000000</td>\n",
       "      <td>15.000000</td>\n",
       "      <td>15.000000</td>\n",
       "      <td>15.000000</td>\n",
       "    </tr>\n",
       "    <tr>\n",
       "      <th>mean</th>\n",
       "      <td>6.800000</td>\n",
       "      <td>1.364851e+08</td>\n",
       "      <td>1.364995e+08</td>\n",
       "      <td>14416.000000</td>\n",
       "      <td>13667.666667</td>\n",
       "      <td>13065.866667</td>\n",
       "      <td>122.266667</td>\n",
       "    </tr>\n",
       "    <tr>\n",
       "      <th>std</th>\n",
       "      <td>3.233751</td>\n",
       "      <td>5.854636e+07</td>\n",
       "      <td>5.854773e+07</td>\n",
       "      <td>5279.405811</td>\n",
       "      <td>4936.985411</td>\n",
       "      <td>4731.881019</td>\n",
       "      <td>35.531609</td>\n",
       "    </tr>\n",
       "    <tr>\n",
       "      <th>min</th>\n",
       "      <td>1.000000</td>\n",
       "      <td>4.956573e+07</td>\n",
       "      <td>4.957973e+07</td>\n",
       "      <td>5340.000000</td>\n",
       "      <td>5285.000000</td>\n",
       "      <td>5066.000000</td>\n",
       "      <td>79.000000</td>\n",
       "    </tr>\n",
       "    <tr>\n",
       "      <th>25%</th>\n",
       "      <td>5.000000</td>\n",
       "      <td>8.329806e+07</td>\n",
       "      <td>8.331206e+07</td>\n",
       "      <td>11500.000000</td>\n",
       "      <td>11051.000000</td>\n",
       "      <td>10831.500000</td>\n",
       "      <td>99.500000</td>\n",
       "    </tr>\n",
       "    <tr>\n",
       "      <th>50%</th>\n",
       "      <td>7.000000</td>\n",
       "      <td>1.332661e+08</td>\n",
       "      <td>1.332714e+08</td>\n",
       "      <td>14000.000000</td>\n",
       "      <td>12577.000000</td>\n",
       "      <td>12002.000000</td>\n",
       "      <td>117.000000</td>\n",
       "    </tr>\n",
       "    <tr>\n",
       "      <th>75%</th>\n",
       "      <td>10.000000</td>\n",
       "      <td>1.653777e+08</td>\n",
       "      <td>1.653902e+08</td>\n",
       "      <td>20000.000000</td>\n",
       "      <td>18865.000000</td>\n",
       "      <td>17197.500000</td>\n",
       "      <td>128.500000</td>\n",
       "    </tr>\n",
       "    <tr>\n",
       "      <th>max</th>\n",
       "      <td>10.000000</td>\n",
       "      <td>2.373608e+08</td>\n",
       "      <td>2.373808e+08</td>\n",
       "      <td>20000.000000</td>\n",
       "      <td>20004.000000</td>\n",
       "      <td>19764.000000</td>\n",
       "      <td>197.000000</td>\n",
       "    </tr>\n",
       "  </tbody>\n",
       "</table>\n",
       "</div>"
      ],
      "text/plain": [
       "             chr         start           end        length  n20x_1_indiv  \\\n",
       "count  15.000000  1.500000e+01  1.500000e+01     15.000000     15.000000   \n",
       "mean    6.800000  1.364851e+08  1.364995e+08  14416.000000  13667.666667   \n",
       "std     3.233751  5.854636e+07  5.854773e+07   5279.405811   4936.985411   \n",
       "min     1.000000  4.956573e+07  4.957973e+07   5340.000000   5285.000000   \n",
       "25%     5.000000  8.329806e+07  8.331206e+07  11500.000000  11051.000000   \n",
       "50%     7.000000  1.332661e+08  1.332714e+08  14000.000000  12577.000000   \n",
       "75%    10.000000  1.653777e+08  1.653902e+08  20000.000000  18865.000000   \n",
       "max    10.000000  2.373608e+08  2.373808e+08  20000.000000  20004.000000   \n",
       "\n",
       "       n20x_450_indiv       nSNVs  \n",
       "count       15.000000   15.000000  \n",
       "mean     13065.866667  122.266667  \n",
       "std       4731.881019   35.531609  \n",
       "min       5066.000000   79.000000  \n",
       "25%      10831.500000   99.500000  \n",
       "50%      12002.000000  117.000000  \n",
       "75%      17197.500000  128.500000  \n",
       "max      19764.000000  197.000000  "
      ]
     },
     "execution_count": 4,
     "metadata": {},
     "output_type": "execute_result"
    }
   ],
   "source": [
    "targets.describe()"
   ]
  },
  {
   "cell_type": "markdown",
   "metadata": {},
   "source": [
    "## Target lengths and locations"
   ]
  },
  {
   "cell_type": "markdown",
   "metadata": {},
   "source": [
    "The easiest way to check for OCR errors is to check the column sums against the *Total* row of table, which says the totals are:\n",
    "- length: 216,240\n",
    "- 20x in 1 indiv: 205,015\n",
    "- 20x in 450 indivs: 195,988\n",
    "- number of snvs: 1,834"
   ]
  },
  {
   "cell_type": "code",
   "execution_count": 5,
   "metadata": {},
   "outputs": [
    {
     "name": "stdout",
     "output_type": "stream",
     "text": [
      "length: 216240\n",
      "1 indiv: 205015\n",
      "450 ind: 195988\n",
      "n snvs: 1834\n"
     ]
    }
   ],
   "source": [
    "print('length:', targets.length.sum())\n",
    "print('1 indiv:', targets.n20x_1_indiv.sum())\n",
    "print('450 ind:', targets.n20x_450_indiv.sum())\n",
    "print('n snvs:', targets.nSNVs.sum())"
   ]
  },
  {
   "cell_type": "markdown",
   "metadata": {},
   "source": [
    "This checks out. There could be some subtle OCR errors, but that seems unlikely.\n",
    "\n",
    "Now, compare length to end - start:"
   ]
  },
  {
   "cell_type": "code",
   "execution_count": 6,
   "metadata": {},
   "outputs": [
    {
     "data": {
      "text/plain": [
       "0     True\n",
       "1     True\n",
       "2     True\n",
       "3     True\n",
       "4     True\n",
       "5     True\n",
       "6     True\n",
       "7     True\n",
       "8     True\n",
       "9     True\n",
       "10    True\n",
       "11    True\n",
       "12    True\n",
       "13    True\n",
       "14    True\n",
       "dtype: bool"
      ]
     },
     "execution_count": 6,
     "metadata": {},
     "output_type": "execute_result"
    }
   ],
   "source": [
    "targets.end - targets.start == targets.length"
   ]
  },
  {
   "cell_type": "markdown",
   "metadata": {},
   "source": [
    "This also checks out.\n",
    "\n",
    "The SI states that target lengths range from 5,340bp to 20,00bp."
   ]
  },
  {
   "cell_type": "code",
   "execution_count": 7,
   "metadata": {},
   "outputs": [
    {
     "data": {
      "text/plain": [
       "(5340, 20000)"
      ]
     },
     "execution_count": 7,
     "metadata": {},
     "output_type": "execute_result"
    }
   ],
   "source": [
    "(targets.length.min(), targets.length.max())"
   ]
  },
  {
   "cell_type": "markdown",
   "metadata": {},
   "source": [
    "Checks out.\n",
    "\n",
    "The SI states that the targets were selected in pairs and triplets so that they are in partial LD. It says:\n",
    ">duplets or triplets cover physical distance of 195 kb on average (range: 93 kb and 430 kb)\n",
    "\n",
    "We can try to identify the duplets and triplets by eye and check this."
   ]
  },
  {
   "cell_type": "code",
   "execution_count": 8,
   "metadata": {},
   "outputs": [
    {
     "name": "stdout",
     "output_type": "stream",
     "text": [
      "    chr      start        end\n",
      "0     1  237146097  237165997\n",
      "1     1  237360801  237380801\n",
      "2     4  164000000  164020000\n",
      "3     4  164115673  164135673\n",
      "4     6  165342001  165355001\n",
      "5     6  165413304  165425304\n",
      "6     6  165470500  165482500\n",
      "7     7   49565734   49579734\n",
      "8     7   49645200   49659200\n",
      "9    10   82981023   83001023\n",
      "10   10   83207715   83215715\n",
      "11   10   83388407   83408407\n",
      "12   10  133143109  133150109\n",
      "13   10  133231083  133242083\n",
      "14   10  133266053  133271393\n"
     ]
    }
   ],
   "source": [
    "print(targets[['chr', 'start', 'end']])"
   ]
  },
  {
   "cell_type": "markdown",
   "metadata": {},
   "source": [
    "These fall into 6 clear sets: Chr1, Chr4, Chr7, Chr10 around 83 Mb, and Chr10 around 133 Mb."
   ]
  },
  {
   "cell_type": "code",
   "execution_count": 9,
   "metadata": {},
   "outputs": [
    {
     "name": "stdout",
     "output_type": "stream",
     "text": [
      "[234704 135673 140499  93466 427384 128284]\n",
      "Min: 93466\n",
      "Max: 427384\n",
      "Avg: 193335.0\n"
     ]
    }
   ],
   "source": [
    "group_start = [0,2,4,7,9,12]\n",
    "group_end = [1,3,6,8,11,14]\n",
    "group_lengths = np.array(targets.end[group_end]) - np.array(targets.start[group_start])\n",
    "print(group_lengths)\n",
    "print('Min:', min(group_lengths))\n",
    "print('Max:', max(group_lengths))\n",
    "print('Avg:', np.mean(group_lengths))"
   ]
  },
  {
   "cell_type": "markdown",
   "metadata": {},
   "source": [
    "The minimum is correct, but the maximum and the average are both a little low. **Maybe should double check this.**"
   ]
  },
  {
   "cell_type": "markdown",
   "metadata": {},
   "source": [
    "## Coverage\n",
    "\n",
    "For each target, the length should be greater than the number of bases with 20x coverage in one sample, which should be greater than the number of bases with 20x coverage in 450 samples. "
   ]
  },
  {
   "cell_type": "code",
   "execution_count": 10,
   "metadata": {},
   "outputs": [
    {
     "data": {
      "text/plain": [
       "0     False\n",
       "1     False\n",
       "2      True\n",
       "3      True\n",
       "4      True\n",
       "5     False\n",
       "6      True\n",
       "7      True\n",
       "8      True\n",
       "9      True\n",
       "10    False\n",
       "11     True\n",
       "12    False\n",
       "13    False\n",
       "14     True\n",
       "dtype: bool"
      ]
     },
     "execution_count": 10,
     "metadata": {},
     "output_type": "execute_result"
    }
   ],
   "source": [
    "targets.length >= targets.n20x_1_indiv"
   ]
  },
  {
   "cell_type": "code",
   "execution_count": 11,
   "metadata": {},
   "outputs": [
    {
     "data": {
      "text/plain": [
       "0     True\n",
       "1     True\n",
       "2     True\n",
       "3     True\n",
       "4     True\n",
       "5     True\n",
       "6     True\n",
       "7     True\n",
       "8     True\n",
       "9     True\n",
       "10    True\n",
       "11    True\n",
       "12    True\n",
       "13    True\n",
       "14    True\n",
       "dtype: bool"
      ]
     },
     "execution_count": 11,
     "metadata": {},
     "output_type": "execute_result"
    }
   ],
   "source": [
    "targets.n20x_1_indiv >= targets.n20x_450_indiv"
   ]
  },
  {
   "cell_type": "code",
   "execution_count": 12,
   "metadata": {},
   "outputs": [
    {
     "data": {
      "text/plain": [
       "0      True\n",
       "1      True\n",
       "2      True\n",
       "3      True\n",
       "4      True\n",
       "5     False\n",
       "6      True\n",
       "7      True\n",
       "8      True\n",
       "9      True\n",
       "10     True\n",
       "11     True\n",
       "12    False\n",
       "13    False\n",
       "14     True\n",
       "dtype: bool"
      ]
     },
     "execution_count": 12,
     "metadata": {},
     "output_type": "execute_result"
    }
   ],
   "source": [
    "targets.length >= targets.n20x_450_indiv"
   ]
  },
  {
   "cell_type": "markdown",
   "metadata": {},
   "source": [
    "The counts for 20x coverage in at least 450 individuals are all less than the bp covered at 20x in at least 1 individual, as they should be. But there are sometimes more bases covered than the target length. Presumably, this is some sort of overhang. **I should investigate and understand this.**"
   ]
  },
  {
   "cell_type": "code",
   "execution_count": 13,
   "metadata": {},
   "outputs": [
    {
     "data": {
      "text/plain": [
       "0       -2\n",
       "1       -4\n",
       "2     2038\n",
       "3      232\n",
       "4     1902\n",
       "5       -2\n",
       "6        0\n",
       "7     1423\n",
       "8        0\n",
       "9      128\n",
       "10      -4\n",
       "11    5466\n",
       "12      -3\n",
       "13      -4\n",
       "14      55\n",
       "dtype: int64"
      ]
     },
     "execution_count": 13,
     "metadata": {},
     "output_type": "execute_result"
    }
   ],
   "source": [
    "targets.length - targets.n20x_1_indiv"
   ]
  },
  {
   "cell_type": "code",
   "execution_count": 14,
   "metadata": {},
   "outputs": [
    {
     "data": {
      "text/plain": [
       "0      136\n",
       "1      461\n",
       "2     3883\n",
       "3      557\n",
       "4     2341\n",
       "5       -2\n",
       "6        0\n",
       "7     2817\n",
       "8      221\n",
       "9     1722\n",
       "10     622\n",
       "11    7227\n",
       "12      -3\n",
       "13      -4\n",
       "14     274\n",
       "dtype: int64"
      ]
     },
     "execution_count": 14,
     "metadata": {},
     "output_type": "execute_result"
    }
   ],
   "source": [
    "targets.length - targets.n20x_450_indiv"
   ]
  },
  {
   "cell_type": "markdown",
   "metadata": {},
   "source": [
    "When considering only sites with 20x coverage in 450 individuals, there are never more than 4 extra bases, so we might be ok neglecting this."
   ]
  },
  {
   "cell_type": "markdown",
   "metadata": {},
   "source": [
    "# Single nucleotide variants"
   ]
  },
  {
   "cell_type": "markdown",
   "metadata": {},
   "source": [
    "We have the following information about the filtered list of SNVs:\n",
    "- there 1,834 high quality SNVs (main text p. 759, para. 1)\n",
    "- 95% of SNVs are genotyped in 450 individuals and these are the ones used in the SFS figures. (main text p. 759, para. 1)\n",
    "- the proportion of singletons among variant sites is 38.4% (main text p. 759, para. 3)\n",
    "- The Ti/Tv ratio is 2.22 (main text p. 759, para 1)"
   ]
  },
  {
   "cell_type": "code",
   "execution_count": 15,
   "metadata": {},
   "outputs": [
    {
     "data": {
      "text/html": [
       "<div>\n",
       "<style scoped>\n",
       "    .dataframe tbody tr th:only-of-type {\n",
       "        vertical-align: middle;\n",
       "    }\n",
       "\n",
       "    .dataframe tbody tr th {\n",
       "        vertical-align: top;\n",
       "    }\n",
       "\n",
       "    .dataframe thead th {\n",
       "        text-align: right;\n",
       "    }\n",
       "</style>\n",
       "<table border=\"1\" class=\"dataframe\">\n",
       "  <thead>\n",
       "    <tr style=\"text-align: right;\">\n",
       "      <th></th>\n",
       "      <th>CHROM</th>\n",
       "      <th>POS</th>\n",
       "      <th>REF</th>\n",
       "      <th>ALT</th>\n",
       "      <th>AN</th>\n",
       "      <th>AC</th>\n",
       "      <th>AF</th>\n",
       "    </tr>\n",
       "  </thead>\n",
       "  <tbody>\n",
       "    <tr>\n",
       "      <th>0</th>\n",
       "      <td>chr7</td>\n",
       "      <td>49565781</td>\n",
       "      <td>C</td>\n",
       "      <td>A</td>\n",
       "      <td>984</td>\n",
       "      <td>9</td>\n",
       "      <td>0.0091</td>\n",
       "    </tr>\n",
       "    <tr>\n",
       "      <th>1</th>\n",
       "      <td>chr7</td>\n",
       "      <td>49565844</td>\n",
       "      <td>G</td>\n",
       "      <td>A</td>\n",
       "      <td>984</td>\n",
       "      <td>1</td>\n",
       "      <td>0.0010</td>\n",
       "    </tr>\n",
       "    <tr>\n",
       "      <th>2</th>\n",
       "      <td>chr7</td>\n",
       "      <td>49565865</td>\n",
       "      <td>C</td>\n",
       "      <td>A</td>\n",
       "      <td>984</td>\n",
       "      <td>1</td>\n",
       "      <td>0.0010</td>\n",
       "    </tr>\n",
       "    <tr>\n",
       "      <th>3</th>\n",
       "      <td>chr7</td>\n",
       "      <td>49566127</td>\n",
       "      <td>G</td>\n",
       "      <td>A</td>\n",
       "      <td>984</td>\n",
       "      <td>356</td>\n",
       "      <td>0.3618</td>\n",
       "    </tr>\n",
       "    <tr>\n",
       "      <th>4</th>\n",
       "      <td>chr7</td>\n",
       "      <td>49566144</td>\n",
       "      <td>T</td>\n",
       "      <td>C</td>\n",
       "      <td>984</td>\n",
       "      <td>1</td>\n",
       "      <td>0.0010</td>\n",
       "    </tr>\n",
       "  </tbody>\n",
       "</table>\n",
       "</div>"
      ],
      "text/plain": [
       "  CHROM       POS REF ALT   AN   AC      AF\n",
       "0  chr7  49565781   C   A  984    9  0.0091\n",
       "1  chr7  49565844   G   A  984    1  0.0010\n",
       "2  chr7  49565865   C   A  984    1  0.0010\n",
       "3  chr7  49566127   G   A  984  356  0.3618\n",
       "4  chr7  49566144   T   C  984    1  0.0010"
      ]
     },
     "execution_count": 15,
     "metadata": {},
     "output_type": "execute_result"
    }
   ],
   "source": [
    "snvs = pd.read_table('../data/GazaveEtal/variants.txt', delim_whitespace=True)\n",
    "snvs.head()"
   ]
  },
  {
   "cell_type": "markdown",
   "metadata": {},
   "source": [
    "We need to make the CHROM column match the one from the target file."
   ]
  },
  {
   "cell_type": "code",
   "execution_count": 16,
   "metadata": {},
   "outputs": [
    {
     "data": {
      "text/html": [
       "<div>\n",
       "<style scoped>\n",
       "    .dataframe tbody tr th:only-of-type {\n",
       "        vertical-align: middle;\n",
       "    }\n",
       "\n",
       "    .dataframe tbody tr th {\n",
       "        vertical-align: top;\n",
       "    }\n",
       "\n",
       "    .dataframe thead th {\n",
       "        text-align: right;\n",
       "    }\n",
       "</style>\n",
       "<table border=\"1\" class=\"dataframe\">\n",
       "  <thead>\n",
       "    <tr style=\"text-align: right;\">\n",
       "      <th></th>\n",
       "      <th>CHROM</th>\n",
       "      <th>POS</th>\n",
       "      <th>REF</th>\n",
       "      <th>ALT</th>\n",
       "      <th>AN</th>\n",
       "      <th>AC</th>\n",
       "      <th>AF</th>\n",
       "    </tr>\n",
       "  </thead>\n",
       "  <tbody>\n",
       "    <tr>\n",
       "      <th>0</th>\n",
       "      <td>7</td>\n",
       "      <td>49565781</td>\n",
       "      <td>C</td>\n",
       "      <td>A</td>\n",
       "      <td>984</td>\n",
       "      <td>9</td>\n",
       "      <td>0.0091</td>\n",
       "    </tr>\n",
       "    <tr>\n",
       "      <th>1</th>\n",
       "      <td>7</td>\n",
       "      <td>49565844</td>\n",
       "      <td>G</td>\n",
       "      <td>A</td>\n",
       "      <td>984</td>\n",
       "      <td>1</td>\n",
       "      <td>0.0010</td>\n",
       "    </tr>\n",
       "    <tr>\n",
       "      <th>2</th>\n",
       "      <td>7</td>\n",
       "      <td>49565865</td>\n",
       "      <td>C</td>\n",
       "      <td>A</td>\n",
       "      <td>984</td>\n",
       "      <td>1</td>\n",
       "      <td>0.0010</td>\n",
       "    </tr>\n",
       "    <tr>\n",
       "      <th>3</th>\n",
       "      <td>7</td>\n",
       "      <td>49566127</td>\n",
       "      <td>G</td>\n",
       "      <td>A</td>\n",
       "      <td>984</td>\n",
       "      <td>356</td>\n",
       "      <td>0.3618</td>\n",
       "    </tr>\n",
       "    <tr>\n",
       "      <th>4</th>\n",
       "      <td>7</td>\n",
       "      <td>49566144</td>\n",
       "      <td>T</td>\n",
       "      <td>C</td>\n",
       "      <td>984</td>\n",
       "      <td>1</td>\n",
       "      <td>0.0010</td>\n",
       "    </tr>\n",
       "  </tbody>\n",
       "</table>\n",
       "</div>"
      ],
      "text/plain": [
       "   CHROM       POS REF ALT   AN   AC      AF\n",
       "0      7  49565781   C   A  984    9  0.0091\n",
       "1      7  49565844   G   A  984    1  0.0010\n",
       "2      7  49565865   C   A  984    1  0.0010\n",
       "3      7  49566127   G   A  984  356  0.3618\n",
       "4      7  49566144   T   C  984    1  0.0010"
      ]
     },
     "execution_count": 16,
     "metadata": {},
     "output_type": "execute_result"
    }
   ],
   "source": [
    "snvs.CHROM = snvs.CHROM.apply(lambda s: int(s[3:]))\n",
    "snvs.head()"
   ]
  },
  {
   "cell_type": "markdown",
   "metadata": {},
   "source": [
    "## Number of SNPVs and genotype counts"
   ]
  },
  {
   "cell_type": "code",
   "execution_count": 17,
   "metadata": {},
   "outputs": [
    {
     "data": {
      "text/plain": [
       "CHROM    1834\n",
       "POS      1834\n",
       "REF      1834\n",
       "ALT      1834\n",
       "AN       1834\n",
       "AC       1834\n",
       "AF       1834\n",
       "dtype: int64"
      ]
     },
     "execution_count": 17,
     "metadata": {},
     "output_type": "execute_result"
    }
   ],
   "source": [
    "snvs.count()"
   ]
  },
  {
   "cell_type": "markdown",
   "metadata": {},
   "source": [
    "There are 1,834 SNVs in the table, suggesting that these are the \"high quality\" SNVs."
   ]
  },
  {
   "cell_type": "code",
   "execution_count": 18,
   "metadata": {},
   "outputs": [
    {
     "data": {
      "text/plain": [
       "count    1834.000000\n",
       "mean      984.064340\n",
       "std         5.164633\n",
       "min       860.000000\n",
       "25%       984.000000\n",
       "50%       984.000000\n",
       "75%       984.000000\n",
       "max       986.000000\n",
       "Name: AN, dtype: float64"
      ]
     },
     "execution_count": 18,
     "metadata": {},
     "output_type": "execute_result"
    }
   ],
   "source": [
    "snvs.AN.describe()"
   ]
  },
  {
   "cell_type": "code",
   "execution_count": 19,
   "metadata": {},
   "outputs": [
    {
     "data": {
      "text/plain": [
       "<matplotlib.axes._subplots.AxesSubplot at 0x112e6c0b8>"
      ]
     },
     "execution_count": 19,
     "metadata": {},
     "output_type": "execute_result"
    },
    {
     "data": {
      "image/png": "[encoded data removed]",
      "text/plain": [
       "<matplotlib.figure.Figure at 0x112e6cf28>"
      ]
     },
     "metadata": {},
     "output_type": "display_data"
    }
   ],
   "source": [
    "snvs.AN.hist(cumulative=True, bins=np.arange(860,987,1))"
   ]
  },
  {
   "cell_type": "code",
   "execution_count": 20,
   "metadata": {},
   "outputs": [
    {
     "name": "stdout",
     "output_type": "stream",
     "text": [
      "SNVs with fewer than 450 genotypes 3\n",
      "Fraction with at least 450 genotypes 0.998364231189\n"
     ]
    }
   ],
   "source": [
    "print('SNVs with fewer than 450 genotypes', (snvs.AN < 900).sum())\n",
    "print('Fraction with at least 450 genotypes', (snvs.AN >= 900).sum() / snvs.AN.count())"
   ]
  },
  {
   "cell_type": "markdown",
   "metadata": {},
   "source": [
    "The proportion genotyped in at least 450 individuals is much larger than 95%. This suggests that this table was filtered after the the 95% number was calculated. On the other hand, the table cannot have been filtered on genotypes being greater than or equal to 900, because a few SNVs don't meet this criterion. This finding is potentially problematic, because it means that some of the \"unobserved\" sites are known to have variants. On the other hand, the number of variants is the same as reported in the main text, so something is odd here.\n",
    "\n",
    "One thing to check is that the AN field of the .vcf really corresponds to number of genotypes called. If this is the case, then AF should equal AC/AN:"
   ]
  },
  {
   "cell_type": "code",
   "execution_count": 21,
   "metadata": {},
   "outputs": [
    {
     "data": {
      "text/plain": [
       "count    1834.000000\n",
       "mean        0.000009\n",
       "std         0.000024\n",
       "min        -0.000050\n",
       "25%        -0.000008\n",
       "50%         0.000016\n",
       "75%         0.000020\n",
       "max         0.000050\n",
       "dtype: float64"
      ]
     },
     "execution_count": 21,
     "metadata": {},
     "output_type": "execute_result"
    }
   ],
   "source": [
    "freqs = snvs.AC / snvs.AN\n",
    "(freqs - snvs.AF).describe()"
   ]
  },
  {
   "cell_type": "markdown",
   "metadata": {},
   "source": [
    "The differences are all in the fifth decimal place, while the AF column is only recorded to four places, suggesting that the AF = AC/AN up to a rounding error."
   ]
  },
  {
   "cell_type": "markdown",
   "metadata": {},
   "source": [
    "## Singleton fraction"
   ]
  },
  {
   "cell_type": "code",
   "execution_count": 22,
   "metadata": {},
   "outputs": [
    {
     "data": {
      "text/plain": [
       "0.37786259541984735"
      ]
     },
     "execution_count": 22,
     "metadata": {},
     "output_type": "execute_result"
    }
   ],
   "source": [
    "(snvs.AC == 1).sum() / snvs.AC.count()"
   ]
  },
  {
   "cell_type": "code",
   "execution_count": 23,
   "metadata": {},
   "outputs": [
    {
     "data": {
      "text/plain": [
       "0.3784817039868924"
      ]
     },
     "execution_count": 23,
     "metadata": {},
     "output_type": "execute_result"
    }
   ],
   "source": [
    "((snvs.AC == 1) & (snvs.AN >= 900)).sum() / (snvs.AN >= 900).sum()"
   ]
  },
  {
   "cell_type": "markdown",
   "metadata": {},
   "source": [
    "The fraction of singletons is close to but not exactly 38.4%. This is true regardless of whether we filter on having 450 genotyped samples at the site. I see three possiblities:\n",
    "1. The 38.4% number refers to the downsampled frequencies. (I'll test this below.)\n",
    "2. The data file I've downloaded contains data that was collected after the paper was published.\n",
    "3. Filters were applied to individual genotypes *after* generating the file. I can probably filter the genotypes myself from the vcf file using `bcftools`.\n",
    "\n",
    "The relevant passage from SI p.9 on filtering individual genotypes:\n",
    "> Individual genotypes were marked as missing if they presented strong allelic imbalance (> 20%), a depth of coverage < 20x or a low individual genotype quality (QC < 30), resulting in only a small amount of missing data. We established that 95% of SNVs have successful calls for at least 900 individual chromosomes out of the possible 986."
   ]
  },
  {
   "cell_type": "markdown",
   "metadata": {},
   "source": [
    "## Transitions/Transversions"
   ]
  },
  {
   "cell_type": "code",
   "execution_count": 24,
   "metadata": {},
   "outputs": [
    {
     "data": {
      "text/plain": [
       "2.2231985940246046"
      ]
     },
     "execution_count": 24,
     "metadata": {},
     "output_type": "execute_result"
    }
   ],
   "source": [
    "base_table = {'A':'R', 'G':'R', 'C':'Y', 'T':'Y'}\n",
    "snvs['is_TI'] = snvs.REF.replace(base_table) == snvs.ALT.replace(base_table)\n",
    "snvs.is_TI.mean() / (1 - snvs.is_TI.mean())"
   ]
  },
  {
   "cell_type": "markdown",
   "metadata": {},
   "source": [
    "The Ti/Tv ratio is 2.22, as reported."
   ]
  },
  {
   "cell_type": "markdown",
   "metadata": {},
   "source": [
    "## SNV locations"
   ]
  },
  {
   "cell_type": "markdown",
   "metadata": {},
   "source": [
    "Here we want to check whether all the SNVs are within target regions. If so, we might be able to ignore the potential overhangs reported above in the Target Regions section."
   ]
  },
  {
   "cell_type": "code",
   "execution_count": 25,
   "metadata": {
    "collapsed": true
   },
   "outputs": [],
   "source": [
    "for index, row in targets.iterrows():\n",
    "    snvs['in_target{}'.format(index)] = (snvs.CHROM==row.chr) & (snvs.POS >= row.start) & (snvs.POS < row.end)"
   ]
  },
  {
   "cell_type": "code",
   "execution_count": 26,
   "metadata": {},
   "outputs": [
    {
     "data": {
      "text/plain": [
       "count    1834.0\n",
       "mean        1.0\n",
       "std         0.0\n",
       "min         1.0\n",
       "25%         1.0\n",
       "50%         1.0\n",
       "75%         1.0\n",
       "max         1.0\n",
       "dtype: float64"
      ]
     },
     "execution_count": 26,
     "metadata": {},
     "output_type": "execute_result"
    }
   ],
   "source": [
    "snvs[['in_target{}'.format(i) for i in range(len(targets))]].sum(axis=1).describe()"
   ]
  },
  {
   "cell_type": "markdown",
   "metadata": {},
   "source": [
    "All snvs are within exactly one target."
   ]
  },
  {
   "cell_type": "code",
   "execution_count": 29,
   "metadata": {},
   "outputs": [
    {
     "data": {
      "text/plain": [
       "CHROM                                                      11552\n",
       "POS                                                 259402467771\n",
       "REF            CGCGTGGCGATGTGCGAACACAACGAGGCAGGCGAGAAATAATGGT...\n",
       "ALT            AAAACAAACTCACATACGATTGTAAGAAATAATTGAGCGCGCGAAC...\n",
       "AN                                                       1804774\n",
       "AC                                                        195291\n",
       "AF                                                       198.518\n",
       "is_TI                                                       1265\n",
       "in_target0                                                   180\n",
       "in_target1                                                   197\n",
       "in_target2                                                    96\n",
       "in_target3                                                   119\n",
       "in_target4                                                    86\n",
       "in_target5                                                   103\n",
       "in_target6                                                   122\n",
       "in_target7                                                   115\n",
       "in_target8                                                   172\n",
       "in_target9                                                   126\n",
       "in_target10                                                   79\n",
       "in_target11                                                  131\n",
       "in_target12                                                   81\n",
       "in_target13                                                  117\n",
       "in_target14                                                  110\n",
       "dtype: object"
      ]
     },
     "execution_count": 29,
     "metadata": {},
     "output_type": "execute_result"
    }
   ],
   "source": [
    "snvs.sum()"
   ]
  },
  {
   "cell_type": "code",
   "execution_count": 32,
   "metadata": {},
   "outputs": [
    {
     "data": {
      "text/plain": [
       "0     180\n",
       "1     197\n",
       "2      96\n",
       "3     119\n",
       "4      86\n",
       "5     103\n",
       "6     122\n",
       "7     115\n",
       "8     172\n",
       "9     126\n",
       "10     79\n",
       "11    131\n",
       "12     81\n",
       "13    117\n",
       "14    110\n",
       "Name: nSNVs, dtype: int64"
      ]
     },
     "execution_count": 32,
     "metadata": {},
     "output_type": "execute_result"
    }
   ],
   "source": [
    "targets.nSNVs"
   ]
  },
  {
   "cell_type": "markdown",
   "metadata": {},
   "source": [
    "All targets have the right number of SNVs."
   ]
  },
  {
   "cell_type": "markdown",
   "metadata": {},
   "source": [
    "# Site frequency spectrum\n",
    "The SFS for figures is calculated according to a downsampling and binning procedure described on SI P. 23:\n",
    "- Remove SNVs with fewer than 900 genotyped chromosomes.\n",
    "- Downsample the remaining SNVs to 900 chromosomes according to a hypergeometric distribution.\n",
    "- Calculate the SFS as a histogram with bins: (1, 2, 3, 4, 5, 6-10, 11-20, 21-50, 51-100, 101-200, 201-450).\n",
    "- Normalize counts by width of each bin."
   ]
  },
  {
   "cell_type": "code",
   "execution_count": 26,
   "metadata": {
    "collapsed": true
   },
   "outputs": [],
   "source": [
    "# Define bin edges according to np.hist specification. Including 451 in the last bin to make sure the bin widths are correct.\n",
    "bins = np.array([1, 2, 3, 4, 5, 6, 11, 21, 51, 101, 201, 451])\n",
    "bin_widths = np.diff(bins)"
   ]
  },
  {
   "cell_type": "code",
   "execution_count": 27,
   "metadata": {
    "collapsed": true
   },
   "outputs": [],
   "source": [
    "from scipy.stats import hypergeom\n",
    "n_ds = 900\n",
    "counts = np.arange(n_ds+1, dtype=int)\n",
    "#ds_cdf = hypergeom(snvs.AN[snvs.AN>=900], n_ds, snvs.AC[snvs.AN>=900]).cdf(bins[:,None])\n",
    "ds_pmf = hypergeom(snvs.AN, n_ds, snvs.AC).pmf(counts[:,None])\n",
    "ds_cdf = np.cumsum(ds_pmf, axis=0)"
   ]
  },
  {
   "cell_type": "code",
   "execution_count": 28,
   "metadata": {
    "collapsed": true
   },
   "outputs": [],
   "source": [
    "binned_pmf = np.diff(ds_cdf[bins-1,:], axis=0)\n",
    "binned_sfs = np.nansum(binned_pmf, axis=1) / bin_widths\n",
    "binned_sfs /= (snvs.AN >= 900).sum()"
   ]
  },
  {
   "cell_type": "code",
   "execution_count": 29,
   "metadata": {},
   "outputs": [
    {
     "data": {
      "text/plain": [
       "[<matplotlib.lines.Line2D at 0x11a5fb198>]"
      ]
     },
     "execution_count": 29,
     "metadata": {},
     "output_type": "execute_result"
    },
    {
     "data": {
      "image/png": "[encoded data removed]",
      "text/plain": [
       "<matplotlib.figure.Figure at 0x1155f6a58>"
      ]
     },
     "metadata": {},
     "output_type": "display_data"
    }
   ],
   "source": [
    "# Figure 1 uses the right edges of bins where the width is more than one\n",
    "x = np.hstack((bins[:5], bins[6:]-1))\n",
    "plt.loglog(x, binned_sfs)"
   ]
  },
  {
   "cell_type": "code",
   "execution_count": 30,
   "metadata": {},
   "outputs": [
    {
     "name": "stdout",
     "output_type": "stream",
     "text": [
      "[ 0.35831355  0.0691217   0.02810674  0.01868535  0.0142401   0.01123913\n",
      "  0.00419944  0.00194824  0.001405    0.00074064  0.00042244]\n"
     ]
    }
   ],
   "source": [
    "print(binned_sfs)"
   ]
  },
  {
   "cell_type": "markdown",
   "metadata": {},
   "source": [
    "Here's what the SFS looks like in the paper:\n",
    "![Figure 2](img/gazave_fig2.png)"
   ]
  },
  {
   "cell_type": "markdown",
   "metadata": {},
   "source": [
    "We are correctly reproducing the shape of the SFS, including the \"bumps\" at 10 and 100. However, we are showing too few singletons: 35.8% of variants vs. almost 40%."
   ]
  },
  {
   "cell_type": "markdown",
   "metadata": {},
   "source": [
    "# Conclusions\n",
    "\n",
    "Overall, the data looks roughly as reported in the paper. Importantly, all SNVs are within target regions and we were able to reproduce the shape of the SFS. However there are a few inconsistencies:\n",
    "1. For some targets, the number of bases with called genotypes is larger than the target length. This is presumably due to some sort of overhang, where more bases were sequenced than targeted. However, this excess is never more than 4 bases and no SNVs were reprorted outside of the target regions. We will need to think about this a bit when making assumptions about masked vs. monomorphic sites.\n",
    "2. The maximum and average lengths of groups of nearby targets are slightly (~1%) different from what's reported in the SI. It would be nice to understand this, but I don't think it factors into our analysis at all.\n",
    "3. The fraction of SNVs with at least 450 called genotypes is higher than reported (99.8% vs. 95%). This may be because the SNVs in this file have not undergone the individual genotype filtering as reported on SI p. 9.\n",
    "4. The fraction of singletons sites is slightly lower than reported (37.8% vs. 38.4%). The discrepancy appears larger after downsampling (35.8%). This could be due to the differences in individual genotype filtering as in 3."
   ]
  }
 ],
 "metadata": {
  "kernelspec": {
   "display_name": "Python 3",
   "language": "python",
   "name": "python3"
  },
  "language_info": {
   "codemirror_mode": {
    "name": "ipython",
    "version": 3
   },
   "file_extension": ".py",
   "mimetype": "text/x-python",
   "name": "python",
   "nbconvert_exporter": "python",
   "pygments_lexer": "ipython3",
   "version": "3.5.3"
  }
 },
 "nbformat": 4,
 "nbformat_minor": 2
}
