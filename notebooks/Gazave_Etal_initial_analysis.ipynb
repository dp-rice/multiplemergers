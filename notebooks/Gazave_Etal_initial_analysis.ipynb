{
 "cells": [
  {
   "cell_type": "markdown",
   "metadata": {},
   "source": [
    "# Gazave et al. 2014 neutral region data"
   ]
  },
  {
   "cell_type": "markdown",
   "metadata": {},
   "source": [
    "D. P. Rice\n",
    "\n",
    "3/14/17"
   ]
  },
  {
   "cell_type": "markdown",
   "metadata": {},
   "source": [
    "# Introduction\n",
    "\n",
    "This is an initial exploration of the data from Gazave et al. 2014, which sequenced ~500 European individuals to high coverage at 15 putatively neutral loci. The data consist of:\n",
    "1. __The target region definitions__ I've extracted these using OCR from Table S2\n",
    "2. __The SNVs__ I've downloaded a vcf from Alon Kleinan's website and extracted the allele counts relevant fields into a simple text file using `bcftools`\n",
    "\n",
    "The goal of this document is to perform the following quality checks:\n",
    "1. The numbers in the target regions should match those in table S2 (checking for OCR errors).\n",
    "2. Regions should make sense: target length = end - start, covered bases <= length.\n",
    "3. Region descriptive statistics should match main text and SI claims.\n",
    "4. SNV positions should be within target regions.\n",
    "5. Descriptive statistics of SNVs should match claims in the paper.\n",
    "6. Site frequency spectrum should match Fig. 2."
   ]
  },
  {
   "cell_type": "code",
   "execution_count": 1,
   "metadata": {
    "collapsed": true
   },
   "outputs": [],
   "source": [
    "import numpy as np\n",
    "import pandas as pd\n",
    "import matplotlib.pyplot as plt\n",
    "%matplotlib inline"
   ]
  },
  {
   "cell_type": "markdown",
   "metadata": {},
   "source": [
    "# Target regions"
   ]
  },
  {
   "cell_type": "code",
   "execution_count": 8,
   "metadata": {},
   "outputs": [
    {
     "data": {
      "text/html": [
       "<div>\n",
       "<style scoped>\n",
       "    .dataframe tbody tr th:only-of-type {\n",
       "        vertical-align: middle;\n",
       "    }\n",
       "\n",
       "    .dataframe tbody tr th {\n",
       "        vertical-align: top;\n",
       "    }\n",
       "\n",
       "    .dataframe thead th {\n",
       "        text-align: right;\n",
       "    }\n",
       "</style>\n",
       "<table border=\"1\" class=\"dataframe\">\n",
       "  <thead>\n",
       "    <tr style=\"text-align: right;\">\n",
       "      <th></th>\n",
       "      <th>chr</th>\n",
       "      <th>start</th>\n",
       "      <th>end</th>\n",
       "      <th>length</th>\n",
       "      <th>n20x_1_indiv</th>\n",
       "      <th>n20x_450_indiv</th>\n",
       "      <th>nSNVs</th>\n",
       "    </tr>\n",
       "  </thead>\n",
       "  <tbody>\n",
       "    <tr>\n",
       "      <th>0</th>\n",
       "      <td>1</td>\n",
       "      <td>237146097</td>\n",
       "      <td>237165997</td>\n",
       "      <td>19900</td>\n",
       "      <td>19902</td>\n",
       "      <td>19764</td>\n",
       "      <td>180</td>\n",
       "    </tr>\n",
       "    <tr>\n",
       "      <th>1</th>\n",
       "      <td>1</td>\n",
       "      <td>237360801</td>\n",
       "      <td>237380801</td>\n",
       "      <td>20000</td>\n",
       "      <td>20004</td>\n",
       "      <td>19539</td>\n",
       "      <td>197</td>\n",
       "    </tr>\n",
       "    <tr>\n",
       "      <th>2</th>\n",
       "      <td>4</td>\n",
       "      <td>164000000</td>\n",
       "      <td>164020000</td>\n",
       "      <td>20000</td>\n",
       "      <td>17962</td>\n",
       "      <td>16117</td>\n",
       "      <td>96</td>\n",
       "    </tr>\n",
       "    <tr>\n",
       "      <th>3</th>\n",
       "      <td>4</td>\n",
       "      <td>164115673</td>\n",
       "      <td>164135673</td>\n",
       "      <td>20000</td>\n",
       "      <td>19768</td>\n",
       "      <td>19443</td>\n",
       "      <td>119</td>\n",
       "    </tr>\n",
       "    <tr>\n",
       "      <th>4</th>\n",
       "      <td>6</td>\n",
       "      <td>165342001</td>\n",
       "      <td>165355001</td>\n",
       "      <td>13000</td>\n",
       "      <td>11098</td>\n",
       "      <td>10659</td>\n",
       "      <td>86</td>\n",
       "    </tr>\n",
       "  </tbody>\n",
       "</table>\n",
       "</div>"
      ],
      "text/plain": [
       "   chr      start        end  length  n20x_1_indiv  n20x_450_indiv  nSNVs\n",
       "0    1  237146097  237165997   19900         19902           19764    180\n",
       "1    1  237360801  237380801   20000         20004           19539    197\n",
       "2    4  164000000  164020000   20000         17962           16117     96\n",
       "3    4  164115673  164135673   20000         19768           19443    119\n",
       "4    6  165342001  165355001   13000         11098           10659     86"
      ]
     },
     "execution_count": 8,
     "metadata": {},
     "output_type": "execute_result"
    }
   ],
   "source": [
    "targets = pd.read_table('../data/GazaveEtal/gazave_targets.txt', delim_whitespace=True, thousands=',')\n",
    "targets.head()"
   ]
  },
  {
   "cell_type": "code",
   "execution_count": 9,
   "metadata": {},
   "outputs": [
    {
     "data": {
      "text/html": [
       "<div>\n",
       "<style scoped>\n",
       "    .dataframe tbody tr th:only-of-type {\n",
       "        vertical-align: middle;\n",
       "    }\n",
       "\n",
       "    .dataframe tbody tr th {\n",
       "        vertical-align: top;\n",
       "    }\n",
       "\n",
       "    .dataframe thead th {\n",
       "        text-align: right;\n",
       "    }\n",
       "</style>\n",
       "<table border=\"1\" class=\"dataframe\">\n",
       "  <thead>\n",
       "    <tr style=\"text-align: right;\">\n",
       "      <th></th>\n",
       "      <th>chr</th>\n",
       "      <th>start</th>\n",
       "      <th>end</th>\n",
       "      <th>length</th>\n",
       "      <th>n20x_1_indiv</th>\n",
       "      <th>n20x_450_indiv</th>\n",
       "      <th>nSNVs</th>\n",
       "    </tr>\n",
       "  </thead>\n",
       "  <tbody>\n",
       "    <tr>\n",
       "      <th>count</th>\n",
       "      <td>15.000000</td>\n",
       "      <td>1.500000e+01</td>\n",
       "      <td>1.500000e+01</td>\n",
       "      <td>15.000000</td>\n",
       "      <td>15.000000</td>\n",
       "      <td>15.000000</td>\n",
       "      <td>15.000000</td>\n",
       "    </tr>\n",
       "    <tr>\n",
       "      <th>mean</th>\n",
       "      <td>6.800000</td>\n",
       "      <td>1.364851e+08</td>\n",
       "      <td>1.364995e+08</td>\n",
       "      <td>14416.000000</td>\n",
       "      <td>13667.666667</td>\n",
       "      <td>13065.866667</td>\n",
       "      <td>122.266667</td>\n",
       "    </tr>\n",
       "    <tr>\n",
       "      <th>std</th>\n",
       "      <td>3.233751</td>\n",
       "      <td>5.854636e+07</td>\n",
       "      <td>5.854773e+07</td>\n",
       "      <td>5279.405811</td>\n",
       "      <td>4936.985411</td>\n",
       "      <td>4731.881019</td>\n",
       "      <td>35.531609</td>\n",
       "    </tr>\n",
       "    <tr>\n",
       "      <th>min</th>\n",
       "      <td>1.000000</td>\n",
       "      <td>4.956573e+07</td>\n",
       "      <td>4.957973e+07</td>\n",
       "      <td>5340.000000</td>\n",
       "      <td>5285.000000</td>\n",
       "      <td>5066.000000</td>\n",
       "      <td>79.000000</td>\n",
       "    </tr>\n",
       "    <tr>\n",
       "      <th>25%</th>\n",
       "      <td>5.000000</td>\n",
       "      <td>8.329806e+07</td>\n",
       "      <td>8.331206e+07</td>\n",
       "      <td>11500.000000</td>\n",
       "      <td>11051.000000</td>\n",
       "      <td>10831.500000</td>\n",
       "      <td>99.500000</td>\n",
       "    </tr>\n",
       "    <tr>\n",
       "      <th>50%</th>\n",
       "      <td>7.000000</td>\n",
       "      <td>1.332661e+08</td>\n",
       "      <td>1.332714e+08</td>\n",
       "      <td>14000.000000</td>\n",
       "      <td>12577.000000</td>\n",
       "      <td>12002.000000</td>\n",
       "      <td>117.000000</td>\n",
       "    </tr>\n",
       "    <tr>\n",
       "      <th>75%</th>\n",
       "      <td>10.000000</td>\n",
       "      <td>1.653777e+08</td>\n",
       "      <td>1.653902e+08</td>\n",
       "      <td>20000.000000</td>\n",
       "      <td>18865.000000</td>\n",
       "      <td>17197.500000</td>\n",
       "      <td>128.500000</td>\n",
       "    </tr>\n",
       "    <tr>\n",
       "      <th>max</th>\n",
       "      <td>10.000000</td>\n",
       "      <td>2.373608e+08</td>\n",
       "      <td>2.373808e+08</td>\n",
       "      <td>20000.000000</td>\n",
       "      <td>20004.000000</td>\n",
       "      <td>19764.000000</td>\n",
       "      <td>197.000000</td>\n",
       "    </tr>\n",
       "  </tbody>\n",
       "</table>\n",
       "</div>"
      ],
      "text/plain": [
       "             chr         start           end        length  n20x_1_indiv  \\\n",
       "count  15.000000  1.500000e+01  1.500000e+01     15.000000     15.000000   \n",
       "mean    6.800000  1.364851e+08  1.364995e+08  14416.000000  13667.666667   \n",
       "std     3.233751  5.854636e+07  5.854773e+07   5279.405811   4936.985411   \n",
       "min     1.000000  4.956573e+07  4.957973e+07   5340.000000   5285.000000   \n",
       "25%     5.000000  8.329806e+07  8.331206e+07  11500.000000  11051.000000   \n",
       "50%     7.000000  1.332661e+08  1.332714e+08  14000.000000  12577.000000   \n",
       "75%    10.000000  1.653777e+08  1.653902e+08  20000.000000  18865.000000   \n",
       "max    10.000000  2.373608e+08  2.373808e+08  20000.000000  20004.000000   \n",
       "\n",
       "       n20x_450_indiv       nSNVs  \n",
       "count       15.000000   15.000000  \n",
       "mean     13065.866667  122.266667  \n",
       "std       4731.881019   35.531609  \n",
       "min       5066.000000   79.000000  \n",
       "25%      10831.500000   99.500000  \n",
       "50%      12002.000000  117.000000  \n",
       "75%      17197.500000  128.500000  \n",
       "max      19764.000000  197.000000  "
      ]
     },
     "execution_count": 9,
     "metadata": {},
     "output_type": "execute_result"
    }
   ],
   "source": [
    "targets.describe()"
   ]
  },
  {
   "cell_type": "markdown",
   "metadata": {},
   "source": [
    "## Target lengths and locations"
   ]
  },
  {
   "cell_type": "markdown",
   "metadata": {},
   "source": [
    "The easiest way to check for OCR errors is to check the column sums against the *Total* row of table, which says the totals are:\n",
    "- length: 216,240\n",
    "- 20x in 1 indiv: 205,015\n",
    "- 20x in 450 indivs: 195,988\n",
    "- number of snvs: 1,834"
   ]
  },
  {
   "cell_type": "code",
   "execution_count": 11,
   "metadata": {},
   "outputs": [
    {
     "name": "stdout",
     "output_type": "stream",
     "text": [
      "length: 216240\n",
      "1 indiv: 205015\n",
      "450 ind: 195988\n",
      "n snvs: 1834\n"
     ]
    }
   ],
   "source": [
    "print('length:', targets.length.sum())\n",
    "print('1 indiv:', targets.n20x_1_indiv.sum())\n",
    "print('450 ind:', targets.n20x_450_indiv.sum())\n",
    "print('n snvs:', targets.nSNVs.sum())"
   ]
  },
  {
   "cell_type": "markdown",
   "metadata": {},
   "source": [
    "This checks out. There could be some subtle OCR errors, but that seems unlikely.\n",
    "\n",
    "Now, compare length to end - start:"
   ]
  },
  {
   "cell_type": "code",
   "execution_count": 12,
   "metadata": {},
   "outputs": [
    {
     "data": {
      "text/plain": [
       "0     True\n",
       "1     True\n",
       "2     True\n",
       "3     True\n",
       "4     True\n",
       "5     True\n",
       "6     True\n",
       "7     True\n",
       "8     True\n",
       "9     True\n",
       "10    True\n",
       "11    True\n",
       "12    True\n",
       "13    True\n",
       "14    True\n",
       "dtype: bool"
      ]
     },
     "execution_count": 12,
     "metadata": {},
     "output_type": "execute_result"
    }
   ],
   "source": [
    "targets.end - targets.start == targets.length"
   ]
  },
  {
   "cell_type": "markdown",
   "metadata": {},
   "source": [
    "This also checks out.\n",
    "\n",
    "The SI states that target lengths range from 5,340bp to 20,00bp."
   ]
  },
  {
   "cell_type": "code",
   "execution_count": 22,
   "metadata": {},
   "outputs": [
    {
     "data": {
      "text/plain": [
       "(5340, 20000)"
      ]
     },
     "execution_count": 22,
     "metadata": {},
     "output_type": "execute_result"
    }
   ],
   "source": [
    "(targets.length.min(), targets.length.max())"
   ]
  },
  {
   "cell_type": "markdown",
   "metadata": {},
   "source": [
    "Checks out.\n",
    "\n",
    "The SI states that the targets were selected in pairs and triplets so that they are in partial LD. It says:\n",
    ">duplets or triplets cover physical distance of 195 kb on average (range: 93 kb and 430 kb)\n",
    "\n",
    "We can try to identify the duplets and triplets by eye and check this."
   ]
  },
  {
   "cell_type": "code",
   "execution_count": 26,
   "metadata": {},
   "outputs": [
    {
     "name": "stdout",
     "output_type": "stream",
     "text": [
      "    chr      start        end\n",
      "0     1  237146097  237165997\n",
      "1     1  237360801  237380801\n",
      "2     4  164000000  164020000\n",
      "3     4  164115673  164135673\n",
      "4     6  165342001  165355001\n",
      "5     6  165413304  165425304\n",
      "6     6  165470500  165482500\n",
      "7     7   49565734   49579734\n",
      "8     7   49645200   49659200\n",
      "9    10   82981023   83001023\n",
      "10   10   83207715   83215715\n",
      "11   10   83388407   83408407\n",
      "12   10  133143109  133150109\n",
      "13   10  133231083  133242083\n",
      "14   10  133266053  133271393\n"
     ]
    }
   ],
   "source": [
    "print(targets[['chr', 'start', 'end']])"
   ]
  },
  {
   "cell_type": "markdown",
   "metadata": {},
   "source": [
    "These fall into 6 clear sets: Chr1, Chr4, Chr7, Chr10 around 83 Mb, and Chr10 around 133 Mb."
   ]
  },
  {
   "cell_type": "code",
   "execution_count": 42,
   "metadata": {},
   "outputs": [
    {
     "name": "stdout",
     "output_type": "stream",
     "text": [
      "[234704 135673 140499  93466 427384 128284]\n",
      "Min: 93466\n",
      "Max: 427384\n",
      "Avg: 193335.0\n"
     ]
    }
   ],
   "source": [
    "group_start = [0,2,4,7,9,12]\n",
    "group_end = [1,3,6,8,11,14]\n",
    "group_lengths = np.array(targets.end[group_end]) - np.array(targets.start[group_start])\n",
    "print(group_lengths)\n",
    "print('Min:', min(group_lengths))\n",
    "print('Max:', max(group_lengths))\n",
    "print('Avg:', np.mean(group_lengths))"
   ]
  },
  {
   "cell_type": "markdown",
   "metadata": {},
   "source": [
    "The minimum is correct, but the maximum and the average are both a little low. **Maybe should double check this.**"
   ]
  },
  {
   "cell_type": "markdown",
   "metadata": {},
   "source": [
    "## Coverage\n",
    "\n",
    "For each target, the length should be greater than the number of bases with 20x coverage in one sample, which should be greater than the number of bases with 20x coverage in 450 samples. "
   ]
  },
  {
   "cell_type": "code",
   "execution_count": 13,
   "metadata": {},
   "outputs": [
    {
     "data": {
      "text/plain": [
       "0     False\n",
       "1     False\n",
       "2      True\n",
       "3      True\n",
       "4      True\n",
       "5     False\n",
       "6      True\n",
       "7      True\n",
       "8      True\n",
       "9      True\n",
       "10    False\n",
       "11     True\n",
       "12    False\n",
       "13    False\n",
       "14     True\n",
       "dtype: bool"
      ]
     },
     "execution_count": 13,
     "metadata": {},
     "output_type": "execute_result"
    }
   ],
   "source": [
    "targets.length >= targets.n20x_1_indiv"
   ]
  },
  {
   "cell_type": "code",
   "execution_count": 14,
   "metadata": {},
   "outputs": [
    {
     "data": {
      "text/plain": [
       "0     True\n",
       "1     True\n",
       "2     True\n",
       "3     True\n",
       "4     True\n",
       "5     True\n",
       "6     True\n",
       "7     True\n",
       "8     True\n",
       "9     True\n",
       "10    True\n",
       "11    True\n",
       "12    True\n",
       "13    True\n",
       "14    True\n",
       "dtype: bool"
      ]
     },
     "execution_count": 14,
     "metadata": {},
     "output_type": "execute_result"
    }
   ],
   "source": [
    "targets.n20x_1_indiv >= targets.n20x_450_indiv"
   ]
  },
  {
   "cell_type": "code",
   "execution_count": 17,
   "metadata": {},
   "outputs": [
    {
     "data": {
      "text/plain": [
       "0      True\n",
       "1      True\n",
       "2      True\n",
       "3      True\n",
       "4      True\n",
       "5     False\n",
       "6      True\n",
       "7      True\n",
       "8      True\n",
       "9      True\n",
       "10     True\n",
       "11     True\n",
       "12    False\n",
       "13    False\n",
       "14     True\n",
       "dtype: bool"
      ]
     },
     "execution_count": 17,
     "metadata": {},
     "output_type": "execute_result"
    }
   ],
   "source": [
    "targets.length >= targets.n20x_450_indiv"
   ]
  },
  {
   "cell_type": "markdown",
   "metadata": {},
   "source": [
    "The counts for 20x coverage in at least 450 individuals are all less than the bp covered at 20x in at least 1 individual, as they should be. But there are sometimes more bases covered than the target length. Presumably, this is some sort of overhang. **I should investigate and understand this.**"
   ]
  },
  {
   "cell_type": "code",
   "execution_count": 18,
   "metadata": {},
   "outputs": [
    {
     "data": {
      "text/plain": [
       "0       -2\n",
       "1       -4\n",
       "2     2038\n",
       "3      232\n",
       "4     1902\n",
       "5       -2\n",
       "6        0\n",
       "7     1423\n",
       "8        0\n",
       "9      128\n",
       "10      -4\n",
       "11    5466\n",
       "12      -3\n",
       "13      -4\n",
       "14      55\n",
       "dtype: int64"
      ]
     },
     "execution_count": 18,
     "metadata": {},
     "output_type": "execute_result"
    }
   ],
   "source": [
    "targets.length - targets.n20x_1_indiv"
   ]
  },
  {
   "cell_type": "code",
   "execution_count": 20,
   "metadata": {},
   "outputs": [
    {
     "data": {
      "text/plain": [
       "0      136\n",
       "1      461\n",
       "2     3883\n",
       "3      557\n",
       "4     2341\n",
       "5       -2\n",
       "6        0\n",
       "7     2817\n",
       "8      221\n",
       "9     1722\n",
       "10     622\n",
       "11    7227\n",
       "12      -3\n",
       "13      -4\n",
       "14     274\n",
       "dtype: int64"
      ]
     },
     "execution_count": 20,
     "metadata": {},
     "output_type": "execute_result"
    }
   ],
   "source": [
    "targets.length - targets.n20x_450_indiv"
   ]
  },
  {
   "cell_type": "markdown",
   "metadata": {},
   "source": [
    "When considering only sites with 20x coverage in 450 individuals, there are never more than 4 extra bases, so we might be ok neglecting this."
   ]
  },
  {
   "cell_type": "markdown",
   "metadata": {},
   "source": []
  },
  {
   "cell_type": "markdown",
   "metadata": {},
   "source": [
    "SNVs:\n",
    "- 1,834 high quality SNVs\n",
    "- genotyped in 450 individuals for 95% of SNVs (these are the ones used in the SFS figures.)\n",
    "- downsampled to 900 random chromosomes for figures\n",
    "- proportion of singletons = 38.4%\n",
    "- Ti/Tv ratio = 2.22"
   ]
  },
  {
   "cell_type": "markdown",
   "metadata": {},
   "source": [
    "SFS figures:\n",
    "- downsample to 900 chromosomes (hypergeomtric?); remove snps with fewer called genotypes\n",
    "- SFS bins: (1, 2, 3, 4, 5, 6-10, 11-20, 21-50, 51-100, 101-200, 201-450); normalize counts by number of categories"
   ]
  }
 ],
 "metadata": {
  "kernelspec": {
   "display_name": "Python 3",
   "language": "python",
   "name": "python3"
  },
  "language_info": {
   "codemirror_mode": {
    "name": "ipython",
    "version": 3
   },
   "file_extension": ".py",
   "mimetype": "text/x-python",
   "name": "python",
   "nbconvert_exporter": "python",
   "pygments_lexer": "ipython3",
   "version": "3.5.3"
  }
 },
 "nbformat": 4,
 "nbformat_minor": 2
}
