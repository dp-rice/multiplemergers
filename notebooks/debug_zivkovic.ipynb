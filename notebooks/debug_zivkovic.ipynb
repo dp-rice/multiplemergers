{
 "cells": [
  {
   "cell_type": "code",
   "execution_count": 2,
   "metadata": {
    "collapsed": true
   },
   "outputs": [],
   "source": [
    "import math\n",
    "import sys\n",
    "import numpy as np\n",
    "import matplotlib.pyplot as plt\n",
    "from scipy.special import binom\n",
    "%matplotlib inline"
   ]
  },
  {
   "cell_type": "code",
   "execution_count": 3,
   "metadata": {
    "collapsed": true
   },
   "outputs": [],
   "source": [
    "sys.path.insert(0, '../src/')\n",
    "import zivkovic as z\n",
    "import coalescentmoments as c"
   ]
  },
  {
   "cell_type": "code",
   "execution_count": 3,
   "metadata": {
    "collapsed": true
   },
   "outputs": [],
   "source": [
    "def fold(n, X):\n",
    "    i_max = n//2 + 1\n",
    "    multiplicity = 1 + (n == 2*np.arange(n+1)).astype(float)[:i_max]\n",
    "    if X.ndim == 1:\n",
    "        folded = (X + X[::-1])[:i_max]\n",
    "        divisor = multiplicity\n",
    "    elif X.ndim == 2:\n",
    "        folded = (X + X[:,::-1] + X[::-1,:] + X[::-1,::-1])[:i_max,:i_max]\n",
    "        folded[np.diag_indices(i_max)] = 0\n",
    "        divisor = np.outer(multiplicity, multiplicity)\n",
    "    return folded / divisor"
   ]
  },
  {
   "cell_type": "code",
   "execution_count": 39,
   "metadata": {
    "collapsed": true
   },
   "outputs": [],
   "source": [
    "n = 10\n",
    "g = 0\n",
    "alpha = 2"
   ]
  },
  {
   "cell_type": "code",
   "execution_count": 33,
   "metadata": {},
   "outputs": [
    {
     "name": "stderr",
     "output_type": "stream",
     "text": [
      "../src/zivkovic.py:15: RuntimeWarning: invalid value encountered in log\n",
      "  - loggamma(vec_n + vec_j)\n",
      "../src/zivkovic.py:15: RuntimeWarning: divide by zero encountered in log\n",
      "  - loggamma(vec_n + vec_j)\n",
      "../src/zivkovic.py:59: RuntimeWarning: divide by zero encountered in true_divide\n",
      "  p = binom(vec_n-vec_i-1, vec_k-2) / binom(vec_n-1, vec_k-1)\n",
      "../src/zivkovic.py:59: RuntimeWarning: invalid value encountered in true_divide\n",
      "  p = binom(vec_n-vec_i-1, vec_k-2) / binom(vec_n-1, vec_k-1)\n",
      "../src/zivkovic.py:94: RuntimeWarning: divide by zero encountered in true_divide\n",
      "  I1_j = 1 / B\n",
      "../src/zivkovic.py:122: RuntimeWarning: divide by zero encountered in true_divide\n",
      "  prefactor_ji = sign_ji * (B[:,None] - B[None,:]) / B[:,None]\n",
      "../src/zivkovic.py:122: RuntimeWarning: invalid value encountered in true_divide\n",
      "  prefactor_ji = sign_ji * (B[:,None] - B[None,:]) / B[:,None]\n",
      "../src/zivkovic.py:50: RuntimeWarning: divide by zero encountered in true_divide\n",
      "  scaled_x = lag_x[None,:] / x_scale[:,None]\n",
      "../src/zivkovic.py:30: RuntimeWarning: invalid value encountered in add\n",
      "  return lambda_inv(x,g) * (lambda_inv(y+x,g) - lambda_inv(x,g))\n",
      "../src/zivkovic.py:30: RuntimeWarning: invalid value encountered in subtract\n",
      "  return lambda_inv(x,g) * (lambda_inv(y+x,g) - lambda_inv(x,g))\n",
      "../src/zivkovic.py:126: RuntimeWarning: invalid value encountered in multiply\n",
      "  I_ji = prefactor_ji * G_ji\n",
      "../src/zivkovic.py:140: RuntimeWarning: divide by zero encountered in true_divide\n",
      "  prefactor_jk = (-1)**(j_vec+k_vec+1) * binom(k_vec+1, 2) / binom(j_vec, 2)\n",
      "../src/zivkovic.py:140: RuntimeWarning: invalid value encountered in true_divide\n",
      "  prefactor_jk = (-1)**(j_vec+k_vec+1) * binom(k_vec+1, 2) / binom(j_vec, 2)\n",
      "../src/zivkovic.py:27: RuntimeWarning: invalid value encountered in add\n",
      "  return (lambda_inv(y+x,g) - lambda_inv(x,g))**2\n",
      "../src/zivkovic.py:27: RuntimeWarning: invalid value encountered in subtract\n",
      "  return (lambda_inv(y+x,g) - lambda_inv(x,g))**2\n",
      "../src/zivkovic.py:145: RuntimeWarning: invalid value encountered in multiply\n",
      "  return np.nansum(G_jk*alpha_jk*prefactor_jk, axis=0)\n",
      "../src/zivkovic.py:159: RuntimeWarning: divide by zero encountered in true_divide\n",
      "  prefactor_kpk = (-1)**u * k_vec*(k_vec-1)/binom(kp_vec-1, k_vec-u)\n",
      "../src/zivkovic.py:159: RuntimeWarning: invalid value encountered in true_divide\n",
      "  prefactor_kpk = (-1)**u * k_vec*(k_vec-1)/binom(kp_vec-1, k_vec-u)\n",
      "../src/zivkovic.py:194: RuntimeWarning: invalid value encountered in true_divide\n",
      "  A_kpk = Ett_kpk * k * (k-1) / binom(kp-1, k-1)\n"
     ]
    }
   ],
   "source": [
    "sigma_i = z.sigma_i(n,g)\n",
    "sigma_ij = z.sigma_ij(n,g)"
   ]
  },
  {
   "cell_type": "code",
   "execution_count": 34,
   "metadata": {
    "collapsed": true
   },
   "outputs": [],
   "source": [
    "M1_fu, M2_fu = c.fu_moments(n)"
   ]
  },
  {
   "cell_type": "code",
   "execution_count": 35,
   "metadata": {},
   "outputs": [
    {
     "data": {
      "text/plain": [
       "[<matplotlib.lines.Line2D at 0x110d08278>]"
      ]
     },
     "execution_count": 35,
     "metadata": {},
     "output_type": "execute_result"
    },
    {
     "data": {
      "image/png": "[encoded data removed]",
      "text/plain": [
       "<matplotlib.figure.Figure at 0x110d08358>"
      ]
     },
     "metadata": {},
     "output_type": "display_data"
    }
   ],
   "source": [
    "plt.plot(np.arange(2, n), (M2_fu - np.outer(M1_fu, M1_fu))[0,1:])\n",
    "plt.plot(np.arange(2, n), sigma_ij[1,2:-1] / 4)"
   ]
  },
  {
   "cell_type": "code",
   "execution_count": 36,
   "metadata": {},
   "outputs": [
    {
     "data": {
      "text/plain": [
       "[<matplotlib.lines.Line2D at 0x110d057f0>]"
      ]
     },
     "execution_count": 36,
     "metadata": {},
     "output_type": "execute_result"
    },
    {
     "data": {
      "image/png": "[encoded data removed]",
      "text/plain": [
       "<matplotlib.figure.Figure at 0x1057fbb00>"
      ]
     },
     "metadata": {},
     "output_type": "display_data"
    }
   ],
   "source": [
    "plt.plot(np.arange(2, n), (M2_fu - np.outer(M1_fu, M1_fu))[0,1:])\n",
    "plt.plot(np.arange(2, n), sigma_ij[1,2:-1] / 4)"
   ]
  },
  {
   "cell_type": "code",
   "execution_count": 8,
   "metadata": {},
   "outputs": [
    {
     "name": "stderr",
     "output_type": "stream",
     "text": [
      "../src/zivkovic.py:15: RuntimeWarning: invalid value encountered in log\n",
      "  - loggamma(vec_n + vec_j)\n",
      "../src/zivkovic.py:15: RuntimeWarning: divide by zero encountered in log\n",
      "  - loggamma(vec_n + vec_j)\n",
      "../src/zivkovic.py:59: RuntimeWarning: divide by zero encountered in true_divide\n",
      "  p = binom(vec_n-vec_i-1, vec_k-2) / binom(vec_n-1, vec_k-1)\n",
      "../src/zivkovic.py:59: RuntimeWarning: invalid value encountered in true_divide\n",
      "  p = binom(vec_n-vec_i-1, vec_k-2) / binom(vec_n-1, vec_k-1)\n",
      "../src/zivkovic.py:40: RuntimeWarning: divide by zero encountered in true_divide\n",
      "  scaled_x = lag_x[:,None] / x_scale[None,:]\n",
      "../src/zivkovic.py:118: RuntimeWarning: divide by zero encountered in true_divide\n",
      "  prefactor_ji = sign_ji * (B[:,None] - B[None,:]) / B[:,None]\n",
      "../src/zivkovic.py:118: RuntimeWarning: invalid value encountered in true_divide\n",
      "  prefactor_ji = sign_ji * (B[:,None] - B[None,:]) / B[:,None]\n",
      "../src/zivkovic.py:50: RuntimeWarning: divide by zero encountered in true_divide\n",
      "  scaled_x = lag_x[None,:] / x_scale[:,None]\n",
      "../src/zivkovic.py:30: RuntimeWarning: invalid value encountered in add\n",
      "  return lambda_inv(x,g) * (lambda_inv(y+x,g) - lambda_inv(x,g))\n",
      "../src/zivkovic.py:30: RuntimeWarning: invalid value encountered in subtract\n",
      "  return lambda_inv(x,g) * (lambda_inv(y+x,g) - lambda_inv(x,g))\n",
      "../src/zivkovic.py:122: RuntimeWarning: invalid value encountered in multiply\n",
      "  I_ji = prefactor_ji * G_ji\n",
      "../src/zivkovic.py:136: RuntimeWarning: divide by zero encountered in true_divide\n",
      "  prefactor_jk = (-1)**(j_vec+k_vec+1) * binom(k_vec+1, 2) / binom(j_vec, 2)\n",
      "../src/zivkovic.py:136: RuntimeWarning: invalid value encountered in true_divide\n",
      "  prefactor_jk = (-1)**(j_vec+k_vec+1) * binom(k_vec+1, 2) / binom(j_vec, 2)\n",
      "../src/zivkovic.py:27: RuntimeWarning: invalid value encountered in add\n",
      "  return (lambda_inv(y+x,g) - lambda_inv(x,g))**2\n",
      "../src/zivkovic.py:27: RuntimeWarning: invalid value encountered in subtract\n",
      "  return (lambda_inv(y+x,g) - lambda_inv(x,g))**2\n",
      "../src/zivkovic.py:141: RuntimeWarning: invalid value encountered in multiply\n",
      "  return np.nansum(G_jk*alpha_jk*prefactor_jk, axis=0)\n",
      "../src/zivkovic.py:155: RuntimeWarning: divide by zero encountered in true_divide\n",
      "  prefactor_kpk = (-1)**u * k_vec*(k_vec-1)/binom(kp_vec-1, k_vec-u)\n",
      "../src/zivkovic.py:155: RuntimeWarning: invalid value encountered in true_divide\n",
      "  prefactor_kpk = (-1)**u * k_vec*(k_vec-1)/binom(kp_vec-1, k_vec-u)\n",
      "../src/zivkovic.py:190: RuntimeWarning: invalid value encountered in true_divide\n",
      "  A_kpk = Ett_kpk * k * (k-1) / binom(kp-1, k-1)\n"
     ]
    },
    {
     "data": {
      "image/png": "[encoded data removed]",
      "text/plain": [
       "<matplotlib.figure.Figure at 0x11b18bc18>"
      ]
     },
     "metadata": {},
     "output_type": "display_data"
    }
   ],
   "source": [
    "for n in range(35,45):\n",
    "    sigma_ij = z.sigma_ij(n,g)\n",
    "    M1_fu, M2_fu = c.fu_moments(n)\n",
    "    plt.plot(n, sigma_ij[1,2]/4 - (M2_fu - np.outer(M1_fu, M1_fu))[0,1], 'k.')"
   ]
  },
  {
   "cell_type": "code",
   "execution_count": 10,
   "metadata": {},
   "outputs": [
    {
     "data": {
      "text/plain": [
       "946.0"
      ]
     },
     "execution_count": 10,
     "metadata": {},
     "output_type": "execute_result"
    }
   ],
   "source": [
    "binom(44,2)"
   ]
  },
  {
   "cell_type": "code",
   "execution_count": 12,
   "metadata": {},
   "outputs": [
    {
     "name": "stderr",
     "output_type": "stream",
     "text": [
      "../src/zivkovic.py:15: RuntimeWarning: invalid value encountered in log\n",
      "  - loggamma(vec_n + vec_j)\n",
      "../src/zivkovic.py:15: RuntimeWarning: divide by zero encountered in log\n",
      "  - loggamma(vec_n + vec_j)\n",
      "../src/zivkovic.py:59: RuntimeWarning: divide by zero encountered in true_divide\n",
      "  p = binom(vec_n-vec_i-1, vec_k-2) / binom(vec_n-1, vec_k-1)\n",
      "../src/zivkovic.py:59: RuntimeWarning: invalid value encountered in true_divide\n",
      "  p = binom(vec_n-vec_i-1, vec_k-2) / binom(vec_n-1, vec_k-1)\n",
      "../src/zivkovic.py:40: RuntimeWarning: divide by zero encountered in true_divide\n",
      "  scaled_x = lag_x[:,None] / x_scale[None,:]\n"
     ]
    },
    {
     "data": {
      "image/png": "[encoded data removed]",
      "text/plain": [
       "<matplotlib.figure.Figure at 0x10bf87a90>"
      ]
     },
     "metadata": {},
     "output_type": "display_data"
    }
   ],
   "source": [
    "for n in range(30,45):\n",
    "    sigma_i = z.sigma_i(n,g)\n",
    "    M1_fu, M2_fu = c.fu_moments(n)\n",
    "    plt.plot(n, sigma_i[1]/2 - M1_fu[0], 'k.')"
   ]
  },
  {
   "cell_type": "code",
   "execution_count": 8,
   "metadata": {},
   "outputs": [
    {
     "name": "stderr",
     "output_type": "stream",
     "text": [
      "../src/zivkovic.py:15: RuntimeWarning: invalid value encountered in log\n",
      "  - loggamma(vec_n + vec_j)\n",
      "../src/zivkovic.py:15: RuntimeWarning: divide by zero encountered in log\n",
      "  - loggamma(vec_n + vec_j)\n",
      "../src/zivkovic.py:59: RuntimeWarning: divide by zero encountered in true_divide\n",
      "  p = binom(vec_n-vec_i-1, vec_k-2) / binom(vec_n-1, vec_k-1)\n",
      "../src/zivkovic.py:59: RuntimeWarning: invalid value encountered in true_divide\n",
      "  p = binom(vec_n-vec_i-1, vec_k-2) / binom(vec_n-1, vec_k-1)\n",
      "../src/zivkovic.py:94: RuntimeWarning: divide by zero encountered in true_divide\n",
      "  I1_j = 1 / B\n"
     ]
    },
    {
     "data": {
      "image/png": "[encoded data removed]",
      "text/plain": [
       "<matplotlib.figure.Figure at 0x10d62cc50>"
      ]
     },
     "metadata": {},
     "output_type": "display_data"
    }
   ],
   "source": [
    "for n in range(30,45):\n",
    "    sigma_i = z.sigma_i(n,g)\n",
    "    M1_fu, M2_fu = c.fu_moments(n)\n",
    "    plt.plot(n, sigma_i[1]/2 - M1_fu[0], 'k.')"
   ]
  },
  {
   "cell_type": "code",
   "execution_count": 5,
   "metadata": {},
   "outputs": [
    {
     "name": "stderr",
     "output_type": "stream",
     "text": [
      "../src/zivkovic.py:15: RuntimeWarning: invalid value encountered in log\n",
      "  - loggamma(vec_n + vec_j)\n",
      "../src/zivkovic.py:15: RuntimeWarning: divide by zero encountered in log\n",
      "  - loggamma(vec_n + vec_j)\n",
      "../src/zivkovic.py:59: RuntimeWarning: divide by zero encountered in true_divide\n",
      "  p = binom(vec_n-vec_i-1, vec_k-2) / binom(vec_n-1, vec_k-1)\n",
      "../src/zivkovic.py:59: RuntimeWarning: invalid value encountered in true_divide\n",
      "  p = binom(vec_n-vec_i-1, vec_k-2) / binom(vec_n-1, vec_k-1)\n",
      "../src/zivkovic.py:40: RuntimeWarning: divide by zero encountered in true_divide\n",
      "  scaled_x = lag_x[:,None] / x_scale[None,:]\n"
     ]
    },
    {
     "data": {
      "image/png": "[encoded data removed]",
      "text/plain": [
       "<matplotlib.figure.Figure at 0x10cbea1d0>"
      ]
     },
     "metadata": {},
     "output_type": "display_data"
    }
   ],
   "source": [
    "for n in range(30,45):\n",
    "    sigma_i = z.sigma_i(n,g)\n",
    "    M1_fu, M2_fu = c.fu_moments(n)\n",
    "    plt.plot(n, sigma_i[1]/2 - M1_fu[0], 'k.')"
   ]
  },
  {
   "cell_type": "code",
   "execution_count": 12,
   "metadata": {},
   "outputs": [
    {
     "name": "stderr",
     "output_type": "stream",
     "text": [
      "../src/zivkovic.py:15: RuntimeWarning: invalid value encountered in log\n",
      "  - loggamma(vec_n + vec_j)\n",
      "../src/zivkovic.py:15: RuntimeWarning: divide by zero encountered in log\n",
      "  - loggamma(vec_n + vec_j)\n",
      "../src/zivkovic.py:59: RuntimeWarning: divide by zero encountered in true_divide\n",
      "  p = binom(vec_n-vec_i-1, vec_k-2) / binom(vec_n-1, vec_k-1)\n",
      "../src/zivkovic.py:59: RuntimeWarning: invalid value encountered in true_divide\n",
      "  p = binom(vec_n-vec_i-1, vec_k-2) / binom(vec_n-1, vec_k-1)\n",
      "../src/zivkovic.py:40: RuntimeWarning: divide by zero encountered in true_divide\n",
      "  scaled_x = lag_x[:,None] / x_scale[None,:]\n"
     ]
    },
    {
     "name": "stdout",
     "output_type": "stream",
     "text": [
      "-8.99280649946e-14\n",
      "-8.74855743405e-14\n",
      "-8.48210390814e-14\n",
      "-8.20454815198e-14\n",
      "-8.08242361927e-14\n",
      "-9.73665592596e-14\n",
      "-1.84297022088e-13\n",
      "-7.57172102794e-14\n",
      "-1.9251267247e-13\n",
      "-2.975397706e-14\n",
      "-1.87738713464e-12\n",
      "3.63042929052e-13\n",
      "-1.92090787721e-12\n",
      "3.12083692222e-12\n",
      "2.50022225146e-13\n",
      "-2.26643148696e-11\n",
      "-1.04915409699e-10\n",
      "1.39426248324e-11\n",
      "5.23678878026e-11\n",
      "-5.59053248295e-10\n",
      "-7.23750948324e-10\n",
      "-2.56503330016e-09\n",
      "-4.7182592389e-09\n",
      "-2.95117375026e-10\n",
      "-1.36250095468e-08\n",
      "-1.55790604964e-08\n",
      "-5.7466565048e-08\n",
      "-1.34190596645e-07\n",
      "-2.35249972272e-08\n",
      "-1.06285943941e-06\n",
      "-1.21597213676e-06\n",
      "-2.3643269245e-06\n",
      "-4.22757704566e-06\n",
      "-8.5746972859e-06\n",
      "-3.79175829306e-05\n",
      "-8.09566837108e-05\n",
      "-0.00020639088782\n",
      "-0.000118290849763\n",
      "-0.000572458852517\n",
      "-0.00117234464107\n",
      "-0.00127050602322\n",
      "-0.00203497304209\n",
      "-0.00580400070267\n",
      "-0.0053906318035\n",
      "-0.0149261814345\n",
      "0.00218797477026\n"
     ]
    },
    {
     "data": {
      "image/png": "[encoded data removed]",
      "text/plain": [
       "<matplotlib.figure.Figure at 0x117719e10>"
      ]
     },
     "metadata": {},
     "output_type": "display_data"
    }
   ],
   "source": [
    "for n in range(4, 50):\n",
    "    sigma_i = z.sigma_i(n,g)\n",
    "    M1_fu, M2_fu = c.fu_moments(n)\n",
    "    print(np.log(sigma_i[1]/2 / M1_fu[0]))\n",
    "    plt.plot(n, np.log(sigma_i[1]/2 / M1_fu[0]), 'k.')"
   ]
  },
  {
   "cell_type": "code",
   "execution_count": 9,
   "metadata": {},
   "outputs": [
    {
     "name": "stderr",
     "output_type": "stream",
     "text": [
      "../src/zivkovic.py:15: RuntimeWarning: invalid value encountered in log\n",
      "  - loggamma(vec_n + vec_j)\n",
      "../src/zivkovic.py:15: RuntimeWarning: divide by zero encountered in log\n",
      "  - loggamma(vec_n + vec_j)\n",
      "../src/zivkovic.py:59: RuntimeWarning: divide by zero encountered in true_divide\n",
      "  p = binom(vec_n-vec_i-1, vec_k-2) / binom(vec_n-1, vec_k-1)\n",
      "../src/zivkovic.py:59: RuntimeWarning: invalid value encountered in true_divide\n",
      "  p = binom(vec_n-vec_i-1, vec_k-2) / binom(vec_n-1, vec_k-1)\n",
      "../src/zivkovic.py:94: RuntimeWarning: divide by zero encountered in true_divide\n",
      "  I1_j = 1 / B\n"
     ]
    },
    {
     "name": "stdout",
     "output_type": "stream",
     "text": [
      "-6.66133814775e-16\n",
      "1.99840144433e-15\n",
      "4.4408920985e-15\n",
      "7.77156117238e-15\n",
      "8.881784197e-15\n",
      "-7.9936057773e-15\n",
      "-9.42579347907e-14\n",
      "1.50990331349e-14\n",
      "-1.03361763593e-13\n",
      "6.01740879347e-14\n",
      "-1.79189996175e-12\n",
      "4.55191440096e-13\n",
      "-1.82343029565e-12\n",
      "3.19166915119e-12\n",
      "3.89910326248e-13\n",
      "-2.25457430505e-11\n",
      "-1.04492081659e-10\n",
      "1.41096023753e-11\n",
      "5.33642019448e-11\n",
      "-5.58598056855e-10\n",
      "-7.24335924836e-10\n",
      "-2.57031629644e-09\n",
      "-4.716786306e-09\n",
      "-3.01052405272e-10\n",
      "-1.36276977299e-08\n",
      "-1.56042833207e-08\n",
      "-5.75402381199e-08\n",
      "-1.34220046758e-07\n",
      "-2.32320311245e-08\n",
      "-1.06286768993e-06\n",
      "-1.21681253242e-06\n",
      "-2.36863106451e-06\n",
      "-4.22856617307e-06\n",
      "-8.56803154787e-06\n",
      "-3.79313419816e-05\n",
      "-8.09894060113e-05\n",
      "-0.000206395910499\n",
      "-0.00011834550955\n",
      "-0.000572563453752\n",
      "-0.00117245640613\n",
      "-0.00126991264517\n",
      "-0.00203225697408\n",
      "-0.00580749655855\n",
      "-0.00539830173302\n",
      "-0.0149356794019\n",
      "0.00220244648046\n"
     ]
    },
    {
     "data": {
      "image/png": "[encoded data removed]",
      "text/plain": [
       "<matplotlib.figure.Figure at 0x105837d68>"
      ]
     },
     "metadata": {},
     "output_type": "display_data"
    }
   ],
   "source": [
    "for n in range(4, 50):\n",
    "    sigma_i = z.sigma_i(n,g)\n",
    "    M1_fu, M2_fu = c.fu_moments(n)\n",
    "    print(np.log(sigma_i[1]/2 / M1_fu[0]))\n",
    "    plt.plot(n, np.log(sigma_i[1]/2 / M1_fu[0]), 'k.')"
   ]
  },
  {
   "cell_type": "code",
   "execution_count": 23,
   "metadata": {},
   "outputs": [
    {
     "name": "stderr",
     "output_type": "stream",
     "text": [
      "/Users/dpr/miniconda3/envs/mmc_py35/lib/python3.5/site-packages/numpy/polynomial/laguerre.py:1722: RuntimeWarning: overflow encountered in true_divide\n",
      "  w = 1/(fm * df)\n",
      "/Users/dpr/miniconda3/envs/mmc_py35/lib/python3.5/site-packages/numpy/polynomial/laguerre.py:1725: RuntimeWarning: invalid value encountered in true_divide\n",
      "  w /= w.sum()\n",
      "/Users/dpr/miniconda3/envs/mmc_py35/lib/python3.5/site-packages/numpy/polynomial/laguerre.py:1722: RuntimeWarning: divide by zero encountered in true_divide\n",
      "  w = 1/(fm * df)\n"
     ]
    },
    {
     "data": {
      "image/png": "[encoded data removed]",
      "text/plain": [
       "<matplotlib.figure.Figure at 0x116f971d0>"
      ]
     },
     "metadata": {},
     "output_type": "display_data"
    }
   ],
   "source": [
    "for d in np.arange(1, 200):\n",
    "    plt.plot(d, (z.laguerre_integral(lambda x: x, binom(50,2), degree=d) - 1/binom(50,2))*binom(50,2), '.k')"
   ]
  },
  {
   "cell_type": "code",
   "execution_count": 18,
   "metadata": {},
   "outputs": [
    {
     "data": {
      "text/plain": [
       "0.00081632653061224493"
      ]
     },
     "execution_count": 18,
     "metadata": {},
     "output_type": "execute_result"
    }
   ],
   "source": [
    "1/binom(50,2)"
   ]
  },
  {
   "cell_type": "code",
   "execution_count": 11,
   "metadata": {},
   "outputs": [
    {
     "name": "stderr",
     "output_type": "stream",
     "text": [
      "../src/zivkovic.py:15: RuntimeWarning: invalid value encountered in log\n",
      "  - loggamma(vec_n + vec_j)\n",
      "../src/zivkovic.py:15: RuntimeWarning: divide by zero encountered in log\n",
      "  - loggamma(vec_n + vec_j)\n",
      "../src/zivkovic.py:59: RuntimeWarning: divide by zero encountered in true_divide\n",
      "  p = binom(vec_n-vec_i-1, vec_k-2) / binom(vec_n-1, vec_k-1)\n",
      "../src/zivkovic.py:59: RuntimeWarning: invalid value encountered in true_divide\n",
      "  p = binom(vec_n-vec_i-1, vec_k-2) / binom(vec_n-1, vec_k-1)\n",
      "../src/zivkovic.py:94: RuntimeWarning: divide by zero encountered in true_divide\n",
      "  I1_j = 1 / B\n"
     ]
    },
    {
     "data": {
      "text/plain": [
       "[<matplotlib.lines.Line2D at 0x105c63748>]"
      ]
     },
     "execution_count": 11,
     "metadata": {},
     "output_type": "execute_result"
    },
    {
     "data": {
      "image/png": "[encoded data removed]",
      "text/plain": [
       "<matplotlib.figure.Figure at 0x105c425c0>"
      ]
     },
     "metadata": {},
     "output_type": "display_data"
    }
   ],
   "source": [
    "n = 50\n",
    "plt.loglog(np.arange(1,n), z.sigma_i(n, g=0)[1:-1])"
   ]
  },
  {
   "cell_type": "code",
   "execution_count": 12,
   "metadata": {},
   "outputs": [
    {
     "name": "stderr",
     "output_type": "stream",
     "text": [
      "../src/zivkovic.py:15: RuntimeWarning: invalid value encountered in log\n",
      "  - loggamma(vec_n + vec_j)\n",
      "../src/zivkovic.py:15: RuntimeWarning: divide by zero encountered in log\n",
      "  - loggamma(vec_n + vec_j)\n",
      "../src/zivkovic.py:59: RuntimeWarning: divide by zero encountered in true_divide\n",
      "  p = binom(vec_n-vec_i-1, vec_k-2) / binom(vec_n-1, vec_k-1)\n",
      "../src/zivkovic.py:59: RuntimeWarning: invalid value encountered in true_divide\n",
      "  p = binom(vec_n-vec_i-1, vec_k-2) / binom(vec_n-1, vec_k-1)\n",
      "../src/zivkovic.py:94: RuntimeWarning: divide by zero encountered in true_divide\n",
      "  I1_j = 1 / B\n"
     ]
    },
    {
     "data": {
      "text/plain": [
       "array([ 1.95986738,  0.97733997,  0.65372491,  0.49252509,  0.39564385,\n",
       "        0.3307811 ,  0.28421713,  0.24912424,  0.22171324,  0.19970698,\n",
       "        0.18165149,  0.16657315,  0.1537945 ,  0.14282908,  0.13331835,\n",
       "        0.12499215,  0.11764302,  0.11110907,  0.10526215,  0.09999951,\n",
       "        0.09523786,  0.09090898,  0.08695647,  0.08333331,  0.07999999,\n",
       "        0.07692307,  0.07407407,  0.07142857,  0.06896552,  0.06666667,\n",
       "        0.06451613,  0.0625    ,  0.06060606,  0.05882353,  0.05714286,\n",
       "        0.05555556,  0.05405405,  0.05263158,  0.05128205,  0.05      ,\n",
       "        0.04878049,  0.04761905,  0.04651163,  0.04545455,  0.04444444,\n",
       "        0.04347826,  0.04255319,  0.04166667,  0.04081633])"
      ]
     },
     "execution_count": 12,
     "metadata": {},
     "output_type": "execute_result"
    }
   ],
   "source": [
    "z.sigma_i(n, g=0)[1:-1]"
   ]
  },
  {
   "cell_type": "code",
   "execution_count": 14,
   "metadata": {},
   "outputs": [
    {
     "data": {
      "text/plain": [
       "array([ 2.        ,  1.        ,  0.66666667,  0.5       ,  0.4       ,\n",
       "        0.33333333,  0.28571429,  0.25      ,  0.22222222,  0.2       ,\n",
       "        0.18181818,  0.16666667,  0.15384615,  0.14285714,  0.13333333,\n",
       "        0.125     ,  0.11764706,  0.11111111,  0.10526316,  0.1       ,\n",
       "        0.0952381 ,  0.09090909,  0.08695652,  0.08333333,  0.08      ,\n",
       "        0.07692308,  0.07407407,  0.07142857,  0.06896552,  0.06666667,\n",
       "        0.06451613,  0.0625    ,  0.06060606,  0.05882353,  0.05714286,\n",
       "        0.05555556,  0.05405405,  0.05263158,  0.05128205,  0.05      ,\n",
       "        0.04878049,  0.04761905,  0.04651163,  0.04545455,  0.04444444,\n",
       "        0.04347826,  0.04255319,  0.04166667])"
      ]
     },
     "execution_count": 14,
     "metadata": {},
     "output_type": "execute_result"
    }
   ],
   "source": [
    "2 / np.arange(1,49)"
   ]
  },
  {
   "cell_type": "code",
   "execution_count": 31,
   "metadata": {},
   "outputs": [
    {
     "name": "stderr",
     "output_type": "stream",
     "text": [
      "../src/zivkovic.py:15: RuntimeWarning: invalid value encountered in log\n",
      "  - loggamma(vec_n + vec_j)\n",
      "../src/zivkovic.py:15: RuntimeWarning: divide by zero encountered in log\n",
      "  - loggamma(vec_n + vec_j)\n",
      "../src/zivkovic.py:59: RuntimeWarning: divide by zero encountered in true_divide\n",
      "  p = binom(vec_n-vec_i-1, vec_k-2) / binom(vec_n-1, vec_k-1)\n",
      "../src/zivkovic.py:59: RuntimeWarning: invalid value encountered in true_divide\n",
      "  p = binom(vec_n-vec_i-1, vec_k-2) / binom(vec_n-1, vec_k-1)\n",
      "../src/zivkovic.py:94: RuntimeWarning: divide by zero encountered in true_divide\n",
      "  I1_j = 1 / B\n"
     ]
    },
    {
     "data": {
      "text/plain": [
       "array([ 0.99979363,  0.99979148,  0.99984377,  0.99989706,  0.99993706,\n",
       "        0.99996342,  0.99997952,  0.99998888,  0.9999941 ,  0.99999694,\n",
       "        0.99999844,  0.99999921,  0.9999996 ,  0.9999998 ,  0.9999999 ,\n",
       "        0.99999995,  0.99999997,  0.99999998,  0.99999999,  0.99999999,\n",
       "        1.        ,  1.        ,  1.        ,  1.        ,  1.        ,\n",
       "        1.        ,  1.        ,  1.        ,  1.        ,  1.        ,\n",
       "        1.        ,  1.        ,  1.        ,  1.        ,  1.        ,\n",
       "        1.        ,  1.        ,  1.        ,  1.        ])"
      ]
     },
     "execution_count": 31,
     "metadata": {},
     "output_type": "execute_result"
    }
   ],
   "source": [
    "m = 40\n",
    "z.sigma_i(m, g=0)[1:-1] * np.arange(1,m)/2"
   ]
  },
  {
   "cell_type": "code",
   "execution_count": 40,
   "metadata": {},
   "outputs": [
    {
     "name": "stderr",
     "output_type": "stream",
     "text": [
      "../src/zivkovic.py:15: RuntimeWarning: invalid value encountered in log\n",
      "  - loggamma(vec_n + vec_j)\n",
      "../src/zivkovic.py:15: RuntimeWarning: divide by zero encountered in log\n",
      "  - loggamma(vec_n + vec_j)\n",
      "../src/zivkovic.py:122: RuntimeWarning: divide by zero encountered in true_divide\n",
      "  prefactor_ji = sign_ji * (B[:,None] - B[None,:]) / B[:,None]\n",
      "../src/zivkovic.py:122: RuntimeWarning: invalid value encountered in true_divide\n",
      "  prefactor_ji = sign_ji * (B[:,None] - B[None,:]) / B[:,None]\n",
      "../src/zivkovic.py:50: RuntimeWarning: divide by zero encountered in true_divide\n",
      "  scaled_x = lag_x[None,:] / x_scale[:,None]\n",
      "../src/zivkovic.py:30: RuntimeWarning: invalid value encountered in add\n",
      "  return lambda_inv(x,g) * (lambda_inv(y+x,g) - lambda_inv(x,g))\n",
      "../src/zivkovic.py:30: RuntimeWarning: invalid value encountered in subtract\n",
      "  return lambda_inv(x,g) * (lambda_inv(y+x,g) - lambda_inv(x,g))\n",
      "../src/zivkovic.py:126: RuntimeWarning: invalid value encountered in multiply\n",
      "  I_ji = prefactor_ji * G_ji\n",
      "../src/zivkovic.py:140: RuntimeWarning: divide by zero encountered in true_divide\n",
      "  prefactor_jk = (-1)**(j_vec+k_vec+1) * binom(k_vec+1, 2) / binom(j_vec, 2)\n",
      "../src/zivkovic.py:140: RuntimeWarning: invalid value encountered in true_divide\n",
      "  prefactor_jk = (-1)**(j_vec+k_vec+1) * binom(k_vec+1, 2) / binom(j_vec, 2)\n",
      "../src/zivkovic.py:27: RuntimeWarning: invalid value encountered in add\n",
      "  return (lambda_inv(y+x,g) - lambda_inv(x,g))**2\n",
      "../src/zivkovic.py:27: RuntimeWarning: invalid value encountered in subtract\n",
      "  return (lambda_inv(y+x,g) - lambda_inv(x,g))**2\n",
      "../src/zivkovic.py:145: RuntimeWarning: invalid value encountered in multiply\n",
      "  return np.nansum(G_jk*alpha_jk*prefactor_jk, axis=0)\n",
      "../src/zivkovic.py:59: RuntimeWarning: divide by zero encountered in true_divide\n",
      "  p = binom(vec_n-vec_i-1, vec_k-2) / binom(vec_n-1, vec_k-1)\n",
      "../src/zivkovic.py:59: RuntimeWarning: invalid value encountered in true_divide\n",
      "  p = binom(vec_n-vec_i-1, vec_k-2) / binom(vec_n-1, vec_k-1)\n",
      "../src/zivkovic.py:159: RuntimeWarning: divide by zero encountered in true_divide\n",
      "  prefactor_kpk = (-1)**u * k_vec*(k_vec-1)/binom(kp_vec-1, k_vec-u)\n",
      "../src/zivkovic.py:159: RuntimeWarning: invalid value encountered in true_divide\n",
      "  prefactor_kpk = (-1)**u * k_vec*(k_vec-1)/binom(kp_vec-1, k_vec-u)\n",
      "../src/zivkovic.py:194: RuntimeWarning: invalid value encountered in true_divide\n",
      "  A_kpk = Ett_kpk * k * (k-1) / binom(kp-1, k-1)\n"
     ]
    }
   ],
   "source": [
    "Ett_kpk = z.time_second_moments(n,g)\n",
    "Sigma_ij1 = z.sigma_ij1(n, Ett_kpk)\n",
    "Sigma_ij2 = z.sigma_ij2(n, Ett_kpk)\n",
    "Sigma_ij3 = z.sigma_ij3(n, Ett_kpk)"
   ]
  },
  {
   "cell_type": "code",
   "execution_count": 70,
   "metadata": {},
   "outputs": [
    {
     "name": "stderr",
     "output_type": "stream",
     "text": [
      "../src/zivkovic.py:15: RuntimeWarning: invalid value encountered in log\n",
      "  - loggamma(vec_n + vec_j)\n",
      "../src/zivkovic.py:15: RuntimeWarning: divide by zero encountered in log\n",
      "  - loggamma(vec_n + vec_j)\n",
      "../src/zivkovic.py:122: RuntimeWarning: divide by zero encountered in true_divide\n",
      "  prefactor_ji = sign_ji * (B[:,None] - B[None,:]) / B[:,None]\n",
      "../src/zivkovic.py:122: RuntimeWarning: invalid value encountered in true_divide\n",
      "  prefactor_ji = sign_ji * (B[:,None] - B[None,:]) / B[:,None]\n",
      "../src/zivkovic.py:50: RuntimeWarning: divide by zero encountered in true_divide\n",
      "  scaled_x = lag_x[None,:] / x_scale[:,None]\n",
      "../src/zivkovic.py:30: RuntimeWarning: invalid value encountered in add\n",
      "  return lambda_inv(x,g) * (lambda_inv(y+x,g) - lambda_inv(x,g))\n",
      "../src/zivkovic.py:30: RuntimeWarning: invalid value encountered in subtract\n",
      "  return lambda_inv(x,g) * (lambda_inv(y+x,g) - lambda_inv(x,g))\n",
      "../src/zivkovic.py:126: RuntimeWarning: invalid value encountered in multiply\n",
      "  I_ji = prefactor_ji * G_ji\n",
      "../src/zivkovic.py:140: RuntimeWarning: divide by zero encountered in true_divide\n",
      "  prefactor_jk = (-1)**(j_vec+k_vec+1) * binom(k_vec+1, 2) / binom(j_vec, 2)\n",
      "../src/zivkovic.py:140: RuntimeWarning: invalid value encountered in true_divide\n",
      "  prefactor_jk = (-1)**(j_vec+k_vec+1) * binom(k_vec+1, 2) / binom(j_vec, 2)\n",
      "../src/zivkovic.py:27: RuntimeWarning: invalid value encountered in add\n",
      "  return (lambda_inv(y+x,g) - lambda_inv(x,g))**2\n",
      "../src/zivkovic.py:27: RuntimeWarning: invalid value encountered in subtract\n",
      "  return (lambda_inv(y+x,g) - lambda_inv(x,g))**2\n",
      "../src/zivkovic.py:145: RuntimeWarning: invalid value encountered in multiply\n",
      "  return np.nansum(G_jk*alpha_jk*prefactor_jk, axis=0)\n",
      "/Users/dpr/miniconda3/envs/mmc_py35/lib/python3.5/site-packages/ipykernel_launcher.py:4: RuntimeWarning: divide by zero encountered in true_divide\n",
      "  after removing the cwd from sys.path.\n"
     ]
    },
    {
     "name": "stdout",
     "output_type": "stream",
     "text": [
      "10\t2.082910971513687e-15\n",
      "11\t1.3965291958152142e-15\n",
      "12\t3.025700965868214e-15\n",
      "13\t3.328738945084477e-15\n",
      "14\t8.618744823732372e-15\n",
      "15\t9.501161369571435e-15\n",
      "16\t2.0303966724863477e-14\n",
      "17\t4.014526678704211e-14\n",
      "18\t5.950207168491501e-14\n",
      "19\t1.7025408462399367e-13\n",
      "20\t3.040659000240451e-13\n",
      "21\t4.362361862570222e-13\n",
      "22\t1.0564344663140908e-12\n",
      "23\t1.5377541407018533e-12\n",
      "24\t4.810061621606638e-12\n",
      "25\t5.7417674002071015e-12\n",
      "26\t2.2947282764981852e-11\n",
      "27\t2.952071186932944e-11\n",
      "28\t9.665004867723392e-11\n",
      "29\t1.0517320113478152e-10\n",
      "30\t4.92888052171287e-10\n",
      "31\t4.785031105708745e-10\n",
      "32\t3.633394648021317e-09\n",
      "33\t3.217524352568527e-09\n",
      "34\t2.141267656709546e-08\n",
      "35\t2.1696458042571193e-08\n",
      "36\t1.3694376018761985e-07\n",
      "37\t1.37517479460366e-07\n",
      "38\t8.923267064776669e-07\n",
      "39\t1.0755969018421843e-06\n",
      "40\t6.031863288204626e-06\n",
      "41\t7.5362241992692745e-06\n",
      "42\t4.0529737279682216e-05\n",
      "43\t4.335936004306481e-05\n",
      "44\t0.00027131589809652293\n",
      "45\t0.0002188998362205354\n",
      "46\t0.0019561102166485013\n",
      "47\t0.001152135645313605\n",
      "48\t0.014697213618330979\n",
      "49\t0.007587950487422802\n",
      "50\t0.09549505916105785\n",
      "51\t0.051292250586266665\n",
      "52\t0.66217063974641\n",
      "53\t0.4063598494429051\n",
      "54\t5.2667766723939415\n",
      "55\t2.865284209433372\n",
      "56\t39.09551076754995\n",
      "57\t21.215982457518287\n",
      "58\t288.308519419561\n",
      "59\t142.84778964587233\n"
     ]
    },
    {
     "data": {
      "image/png": "[encoded data removed]",
      "text/plain": [
       "<matplotlib.figure.Figure at 0x1114df668>"
      ]
     },
     "metadata": {},
     "output_type": "display_data"
    }
   ],
   "source": [
    "for m in range(10, 60):\n",
    "    k = np.arange(m+1)\n",
    "    tsm = z.time_second_moments(m,g)\n",
    "    tsm[np.tril_indices(m+1)] -= 1/np.outer(binom(k,2), binom(k,2))[np.tril_indices(m+1)]\n",
    "    tsm[np.isinf(tsm)] = 0\n",
    "    tsm[np.diag_indices(m+1)] = 0\n",
    "    print(\"{}\\t{}\".format(m, np.mean(np.abs(tsm))))\n",
    "    plt.semilogy(m, np.mean(np.abs(tsm)), '.k')\n",
    "#plt.loglog(np.arange(10,60), np.arange(10,60)**4, '--k')"
   ]
  },
  {
   "cell_type": "code",
   "execution_count": 57,
   "metadata": {},
   "outputs": [
    {
     "data": {
      "text/plain": [
       "5.3568260938163803e-14"
      ]
     },
     "execution_count": 57,
     "metadata": {},
     "output_type": "execute_result"
    }
   ],
   "source": []
  },
  {
   "cell_type": "code",
   "execution_count": 52,
   "metadata": {},
   "outputs": [
    {
     "data": {
      "text/plain": [
       "array([[  0.00000000e+00,   0.00000000e+00,   0.00000000e+00,\n",
       "          0.00000000e+00,   0.00000000e+00,   0.00000000e+00,\n",
       "          0.00000000e+00,   0.00000000e+00,   0.00000000e+00,\n",
       "          0.00000000e+00,   0.00000000e+00],\n",
       "       [  0.00000000e+00,   0.00000000e+00,   0.00000000e+00,\n",
       "          0.00000000e+00,   0.00000000e+00,   0.00000000e+00,\n",
       "          0.00000000e+00,   0.00000000e+00,   0.00000000e+00,\n",
       "          0.00000000e+00,   0.00000000e+00],\n",
       "       [  0.00000000e+00,   0.00000000e+00,   1.00000000e+00,\n",
       "          0.00000000e+00,   0.00000000e+00,   0.00000000e+00,\n",
       "          0.00000000e+00,   0.00000000e+00,   0.00000000e+00,\n",
       "          0.00000000e+00,   0.00000000e+00],\n",
       "       [  0.00000000e+00,   0.00000000e+00,  -5.35682609e-14,\n",
       "          1.11111111e-01,   0.00000000e+00,   0.00000000e+00,\n",
       "          0.00000000e+00,   0.00000000e+00,   0.00000000e+00,\n",
       "          0.00000000e+00,   0.00000000e+00],\n",
       "       [  0.00000000e+00,   0.00000000e+00,   2.96984659e-15,\n",
       "          1.58206781e-15,   2.77777778e-02,   0.00000000e+00,\n",
       "          0.00000000e+00,   0.00000000e+00,   0.00000000e+00,\n",
       "          0.00000000e+00,   0.00000000e+00],\n",
       "       [  0.00000000e+00,   0.00000000e+00,  -2.87825319e-14,\n",
       "         -9.44383460e-15,  -5.16600651e-15,   1.00000000e-02,\n",
       "          0.00000000e+00,   0.00000000e+00,   0.00000000e+00,\n",
       "          0.00000000e+00,   0.00000000e+00],\n",
       "       [  0.00000000e+00,   0.00000000e+00,  -5.35266276e-14,\n",
       "         -1.47347412e-14,  -8.47759363e-15,  -5.56412555e-15,\n",
       "          4.44444444e-03,   0.00000000e+00,   0.00000000e+00,\n",
       "          0.00000000e+00,   0.00000000e+00],\n",
       "       [  0.00000000e+00,   0.00000000e+00,  -2.14828155e-14,\n",
       "         -6.27276009e-15,  -4.46864767e-15,  -2.23779328e-15,\n",
       "         -1.48232121e-15,   2.26757370e-03,   0.00000000e+00,\n",
       "          0.00000000e+00,   0.00000000e+00],\n",
       "       [  0.00000000e+00,   0.00000000e+00,  -1.07830411e-14,\n",
       "         -3.59434704e-15,  -1.79717352e-15,  -1.01177747e-15,\n",
       "         -5.63785130e-16,  -5.42751608e-16,   1.27551020e-03,\n",
       "          0.00000000e+00,   0.00000000e+00],\n",
       "       [  0.00000000e+00,   0.00000000e+00,  -3.53883589e-15,\n",
       "         -1.67921232e-15,  -5.89805982e-16,  -2.32019265e-16,\n",
       "         -2.33320308e-16,  -1.73472348e-16,  -1.30104261e-16,\n",
       "          7.71604938e-04,   0.00000000e+00],\n",
       "       [  0.00000000e+00,   0.00000000e+00,  -4.37497261e-15,\n",
       "         -1.24553146e-15,  -1.89084859e-16,  -4.26308294e-16,\n",
       "         -6.09104781e-16,  -2.77338916e-16,  -1.67183975e-16,\n",
       "         -1.13082287e-16,   4.93827160e-04]])"
      ]
     },
     "execution_count": 52,
     "metadata": {},
     "output_type": "execute_result"
    }
   ],
   "source": [
    "Ett_kpk"
   ]
  },
  {
   "cell_type": "code",
   "execution_count": 4,
   "metadata": {},
   "outputs": [
    {
     "name": "stderr",
     "output_type": "stream",
     "text": [
      "/Users/dpr/miniconda3/envs/mmc_py35/lib/python3.5/site-packages/ipykernel_launcher.py:3: RuntimeWarning: divide by zero encountered in true_divide\n",
      "  This is separate from the ipykernel package so we can avoid doing imports until\n",
      "/Users/dpr/miniconda3/envs/mmc_py35/lib/python3.5/site-packages/ipykernel_launcher.py:8: RuntimeWarning: divide by zero encountered in true_divide\n",
      "  \n",
      "../src/zivkovic.py:59: RuntimeWarning: divide by zero encountered in true_divide\n",
      "  p = binom(vec_n-vec_i-1, vec_k-2) / binom(vec_n-1, vec_k-1)\n",
      "../src/zivkovic.py:59: RuntimeWarning: invalid value encountered in true_divide\n",
      "  p = binom(vec_n-vec_i-1, vec_k-2) / binom(vec_n-1, vec_k-1)\n",
      "../src/zivkovic.py:156: RuntimeWarning: divide by zero encountered in true_divide\n",
      "  prefactor_kpk = (-1)**u * k_vec*(k_vec-1)/binom(kp_vec-1, k_vec-u)\n",
      "../src/zivkovic.py:156: RuntimeWarning: invalid value encountered in true_divide\n",
      "  prefactor_kpk = (-1)**u * k_vec*(k_vec-1)/binom(kp_vec-1, k_vec-u)\n",
      "../src/zivkovic.py:191: RuntimeWarning: invalid value encountered in true_divide\n",
      "  A_kpk = Ett_kpk * k * (k-1) / binom(kp-1, k-1)\n"
     ]
    }
   ],
   "source": [
    "n = 40\n",
    "k = np.arange(n+1)\n",
    "sigma_i_fake = 1 / k\n",
    "sigma_i_fake[0] = 0\n",
    "sigma_i_fake[-1] = 0\n",
    "\n",
    "\n",
    "tsm_fake = 1 / np.outer(binom(k,2), binom(k,2))\n",
    "tsm_fake[np.diag_indices(n+1)] *= 2\n",
    "tsm_fake[:,:2] = 0\n",
    "tsm_fake[:2,:] = 0\n",
    "tsm_fake[np.triu_indices(n+1, 1)] = 0\n",
    "\n",
    "Sigma_ij1 = z.sigma_ij1(n, tsm_fake)\n",
    "Sigma_ij2 = z.sigma_ij2(n, tsm_fake)\n",
    "Sigma_ij3 = z.sigma_ij3(n, tsm_fake)\n",
    "xi_ij = Sigma_ij1 + Sigma_ij2 + Sigma_ij3\n",
    "xi_ij += xi_ij.T"
   ]
  },
  {
   "cell_type": "code",
   "execution_count": 10,
   "metadata": {},
   "outputs": [
    {
     "name": "stderr",
     "output_type": "stream",
     "text": [
      "../src/zivkovic.py:15: RuntimeWarning: invalid value encountered in log\n",
      "  - loggamma(vec_n + vec_j)\n",
      "../src/zivkovic.py:15: RuntimeWarning: divide by zero encountered in log\n",
      "  - loggamma(vec_n + vec_j)\n",
      "../src/zivkovic.py:119: RuntimeWarning: divide by zero encountered in true_divide\n",
      "  prefactor_ji = sign_ji * (B[:,None] - B[None,:]) / B[:,None]\n",
      "../src/zivkovic.py:119: RuntimeWarning: invalid value encountered in true_divide\n",
      "  prefactor_ji = sign_ji * (B[:,None] - B[None,:]) / B[:,None]\n",
      "../src/zivkovic.py:50: RuntimeWarning: divide by zero encountered in true_divide\n",
      "  scaled_x = lag_x[None,:] / x_scale[:,None]\n",
      "../src/zivkovic.py:30: RuntimeWarning: invalid value encountered in add\n",
      "  return lambda_inv(x,g) * (lambda_inv(y+x,g) - lambda_inv(x,g))\n",
      "../src/zivkovic.py:30: RuntimeWarning: invalid value encountered in subtract\n",
      "  return lambda_inv(x,g) * (lambda_inv(y+x,g) - lambda_inv(x,g))\n",
      "../src/zivkovic.py:123: RuntimeWarning: invalid value encountered in multiply\n",
      "  I_ji = prefactor_ji * G_ji\n",
      "../src/zivkovic.py:137: RuntimeWarning: divide by zero encountered in true_divide\n",
      "  prefactor_jk = (-1)**(j_vec+k_vec+1) * binom(k_vec+1, 2) / binom(j_vec, 2)\n",
      "../src/zivkovic.py:137: RuntimeWarning: invalid value encountered in true_divide\n",
      "  prefactor_jk = (-1)**(j_vec+k_vec+1) * binom(k_vec+1, 2) / binom(j_vec, 2)\n",
      "../src/zivkovic.py:27: RuntimeWarning: invalid value encountered in add\n",
      "  return (lambda_inv(y+x,g) - lambda_inv(x,g))**2\n",
      "../src/zivkovic.py:27: RuntimeWarning: invalid value encountered in subtract\n",
      "  return (lambda_inv(y+x,g) - lambda_inv(x,g))**2\n",
      "../src/zivkovic.py:142: RuntimeWarning: invalid value encountered in multiply\n",
      "  return np.nansum(G_jk*alpha_jk*prefactor_jk, axis=0)\n",
      "../src/zivkovic.py:59: RuntimeWarning: divide by zero encountered in true_divide\n",
      "  p = binom(vec_n-vec_i-1, vec_k-2) / binom(vec_n-1, vec_k-1)\n",
      "../src/zivkovic.py:59: RuntimeWarning: invalid value encountered in true_divide\n",
      "  p = binom(vec_n-vec_i-1, vec_k-2) / binom(vec_n-1, vec_k-1)\n",
      "../src/zivkovic.py:156: RuntimeWarning: divide by zero encountered in true_divide\n",
      "  prefactor_kpk = (-1)**u * k_vec*(k_vec-1)/binom(kp_vec-1, k_vec-u)\n",
      "../src/zivkovic.py:156: RuntimeWarning: invalid value encountered in true_divide\n",
      "  prefactor_kpk = (-1)**u * k_vec*(k_vec-1)/binom(kp_vec-1, k_vec-u)\n",
      "../src/zivkovic.py:191: RuntimeWarning: invalid value encountered in true_divide\n",
      "  A_kpk = Ett_kpk * k * (k-1) / binom(kp-1, k-1)\n"
     ]
    }
   ],
   "source": [
    "tsm_real = z.time_second_moments(n,0)\n",
    "Sigma_ij1 = z.sigma_ij1(n, tsm_real)\n",
    "Sigma_ij2 = z.sigma_ij2(n, tsm_real)\n",
    "Sigma_ij3 = z.sigma_ij3(n, tsm_real)\n",
    "xi_ij2 = Sigma_ij1 + Sigma_ij2 + Sigma_ij3\n",
    "xi_ij2 += xi_ij2.T"
   ]
  },
  {
   "cell_type": "code",
   "execution_count": 11,
   "metadata": {},
   "outputs": [
    {
     "name": "stdout",
     "output_type": "stream",
     "text": [
      "[[  0.00000000e+00   1.95938895e+00   1.30785655e+00 ...,   1.07171949e-01\n",
      "    1.04363473e-01   2.38847271e-01]\n",
      " [  1.95938895e+00   0.00000000e+00   6.41189883e-01 ...,   5.31178952e-02\n",
      "    1.86125552e-01   4.06110484e-02]\n",
      " [  1.30785655e+00   6.41189883e-01   0.00000000e+00 ...,   1.67266450e-01\n",
      "    2.54767839e-02   2.54767839e-02]\n",
      " ..., \n",
      " [  1.07171949e-01   5.31178952e-02   1.67266450e-01 ...,   0.00000000e+00\n",
      "    9.36158831e-04   9.36158831e-04]\n",
      " [  1.04363473e-01   1.86125552e-01   2.54767839e-02 ...,   9.36158831e-04\n",
      "    0.00000000e+00   8.99685110e-04]\n",
      " [  2.38847271e-01   4.06110484e-02   2.54767839e-02 ...,   9.36158831e-04\n",
      "    8.99685110e-04   0.00000000e+00]]\n"
     ]
    }
   ],
   "source": [
    "print(xi_ij[1:-1,1:-1])"
   ]
  },
  {
   "cell_type": "code",
   "execution_count": 12,
   "metadata": {},
   "outputs": [
    {
     "name": "stdout",
     "output_type": "stream",
     "text": [
      "[[  0.00000000e+00   1.95938895e+00   1.30785655e+00 ...,   1.07171949e-01\n",
      "    1.04363473e-01   2.38847271e-01]\n",
      " [  1.95938895e+00   0.00000000e+00   6.41189883e-01 ...,   5.31178952e-02\n",
      "    1.86125552e-01   4.06110484e-02]\n",
      " [  1.30785655e+00   6.41189883e-01   0.00000000e+00 ...,   1.67266450e-01\n",
      "    2.54767839e-02   2.54767839e-02]\n",
      " ..., \n",
      " [  1.07171949e-01   5.31178952e-02   1.67266450e-01 ...,   0.00000000e+00\n",
      "    9.36158831e-04   9.36158831e-04]\n",
      " [  1.04363473e-01   1.86125552e-01   2.54767839e-02 ...,   9.36158831e-04\n",
      "    0.00000000e+00   8.99685110e-04]\n",
      " [  2.38847271e-01   4.06110484e-02   2.54767839e-02 ...,   9.36158831e-04\n",
      "    8.99685110e-04   0.00000000e+00]]\n"
     ]
    }
   ],
   "source": [
    "print(4*c.fu_moments(n)[1])"
   ]
  },
  {
   "cell_type": "code",
   "execution_count": 13,
   "metadata": {},
   "outputs": [
    {
     "name": "stdout",
     "output_type": "stream",
     "text": [
      "[[  0.00000000e+00   2.00296404e+00   1.33356475e+00 ...,   1.07151371e-01\n",
      "    1.04343075e-01   2.38826470e-01]\n",
      " [  2.00296404e+00   0.00000000e+00   6.55414616e-01 ...,   5.31074104e-02\n",
      "    1.86114902e-01   4.06012753e-02]\n",
      " [  1.33356475e+00   6.55414616e-01   0.00000000e+00 ...,   1.67261040e-01\n",
      "    2.54718440e-02   2.54717603e-02]\n",
      " ..., \n",
      " [  1.07151371e-01   5.31074104e-02   1.67261040e-01 ...,   0.00000000e+00\n",
      "    9.36158831e-04   9.36158831e-04]\n",
      " [  1.04343075e-01   1.86114902e-01   2.54718440e-02 ...,   9.36158831e-04\n",
      "    0.00000000e+00   8.99685110e-04]\n",
      " [  2.38826470e-01   4.06012753e-02   2.54717603e-02 ...,   9.36158831e-04\n",
      "    8.99685110e-04   0.00000000e+00]]\n"
     ]
    }
   ],
   "source": [
    "print(xi_ij2[1:-1,1:-1])"
   ]
  },
  {
   "cell_type": "markdown",
   "metadata": {},
   "source": [
    "# Alternating sums"
   ]
  },
  {
   "cell_type": "code",
   "execution_count": 10,
   "metadata": {},
   "outputs": [
    {
     "name": "stderr",
     "output_type": "stream",
     "text": [
      "../src/zivkovic.py:59: RuntimeWarning: divide by zero encountered in true_divide\n",
      "  p = binom(vec_n-vec_i-1, vec_k-2) / binom(vec_n-1, vec_k-1)\n",
      "../src/zivkovic.py:59: RuntimeWarning: invalid value encountered in true_divide\n",
      "  p = binom(vec_n-vec_i-1, vec_k-2) / binom(vec_n-1, vec_k-1)\n",
      "../src/zivkovic.py:15: RuntimeWarning: invalid value encountered in log\n",
      "  - loggamma(vec_n + vec_j)\n",
      "../src/zivkovic.py:15: RuntimeWarning: divide by zero encountered in log\n",
      "  - loggamma(vec_n + vec_j)\n",
      "/Users/dpr/miniconda3/envs/mmc_py35/lib/python3.5/site-packages/ipykernel_launcher.py:7: RuntimeWarning: divide by zero encountered in true_divide\n",
      "  import sys\n"
     ]
    },
    {
     "name": "stdout",
     "output_type": "stream",
     "text": [
      "[ 0.          1.95986738  0.97733997  0.65372491  0.49252509  0.39564385\n",
      "  0.3307811   0.28421713  0.24912424  0.22171324  0.19970698  0.18165149\n",
      "  0.16657315  0.1537945   0.14282908  0.13331835  0.12499215  0.11764302\n",
      "  0.11110907  0.10526215  0.09999951  0.09523786  0.09090898  0.08695647\n",
      "  0.08333331  0.07999999  0.07692307  0.07407407  0.07142857  0.06896552\n",
      "  0.06666667  0.06451613  0.0625      0.06060606  0.05882353  0.05714286\n",
      "  0.05555556  0.05405405  0.05263158  0.05128205  0.05        0.04878049\n",
      "  0.04761905  0.04651163  0.04545455  0.04444444  0.04347826  0.04255319\n",
      "  0.04166667  0.04081633  0.        ]\n"
     ]
    }
   ],
   "source": [
    "n = 50\n",
    "p_nki = z.marginal_leaf_prob(n)\n",
    "alpha = z.zivkovic_alpha(n)\n",
    "K = np.arange(n+1)\n",
    "B = binom(K,2)\n",
    "#I1_j = laguerre_integral(partial(lambda_inv, g=g), B)\n",
    "I1_j = 1/B\n",
    "I1_j[np.isinf(I1_j)] = 0\n",
    "I1_j[np.isnan(I1_j)] = 0\n",
    "sign_jk = z.diagonal_signs(n)\n",
    "alpha_jk = alpha[n]\n",
    "T_k = I1_j @ (sign_jk*alpha_jk)\n",
    "T_k[:2] = 0\n",
    "p_ki = p_nki[n]\n",
    "print((K*T_k) @ p_ki)"
   ]
  },
  {
   "cell_type": "code",
   "execution_count": 82,
   "metadata": {},
   "outputs": [
    {
     "data": {
      "text/plain": [
       "dtype('float64')"
      ]
     },
     "execution_count": 82,
     "metadata": {},
     "output_type": "execute_result"
    }
   ],
   "source": [
    "alpha_jk.dtype"
   ]
  },
  {
   "cell_type": "code",
   "execution_count": 72,
   "metadata": {},
   "outputs": [
    {
     "name": "stdout",
     "output_type": "stream",
     "text": [
      "[  0.00000000e+00   0.00000000e+00   1.00000000e+00   3.33333333e-01\n",
      "   1.66666667e-01   1.00000000e-01   6.66666661e-02   4.76190495e-02\n",
      "   3.57142759e-02   2.77778597e-02   2.22217291e-02   1.81828612e-02\n",
      "   1.51411452e-02   1.28382301e-02   1.09607771e-02   9.55003594e-03\n",
      "   8.21104579e-03   6.91875562e-03   6.16843704e-03   4.79047050e-03\n",
      "   5.89649616e-03  -7.66550120e-05   7.32498189e-03   4.26366347e-03\n",
      "   3.71032410e-03   2.76645100e-03   2.95833956e-03   2.88242794e-03\n",
      "   1.27562060e-03   3.84071030e-03   1.20510241e-03   2.14294647e-03\n",
      "   2.06110732e-03   1.96626951e-03   1.73469319e-03   1.72745438e-03\n",
      "   1.57459281e-03   1.51156004e-03   1.42490183e-03   1.34983918e-03\n",
      "   1.28214900e-03   1.21951629e-03   1.16145299e-03   1.10742024e-03\n",
      "   1.05708332e-03   1.01010103e-03   9.66183578e-04   9.25069380e-04\n",
      "   8.86524823e-04   8.50340136e-04   8.16326531e-04]\n"
     ]
    }
   ],
   "source": [
    "print(T_k)"
   ]
  },
  {
   "cell_type": "code",
   "execution_count": 73,
   "metadata": {},
   "outputs": [
    {
     "name": "stdout",
     "output_type": "stream",
     "text": [
      "[        nan         inf  2.          1.          0.66666667  0.5         0.4\n",
      "  0.33333333  0.28571429  0.25        0.22222222  0.2         0.18181818\n",
      "  0.16666667  0.15384615  0.14285714  0.13333333  0.125       0.11764706\n",
      "  0.11111111  0.10526316  0.1         0.0952381   0.09090909  0.08695652\n",
      "  0.08333333  0.08        0.07692308  0.07407407  0.07142857  0.06896552\n",
      "  0.06666667  0.06451613  0.0625      0.06060606  0.05882353  0.05714286\n",
      "  0.05555556  0.05405405  0.05263158  0.05128205  0.05        0.04878049\n",
      "  0.04761905  0.04651163  0.04545455  0.04444444  0.04347826  0.04255319\n",
      "  0.04166667  0.04081633]\n"
     ]
    },
    {
     "name": "stderr",
     "output_type": "stream",
     "text": [
      "/Users/dpr/miniconda3/envs/mmc_py35/lib/python3.5/site-packages/ipykernel_launcher.py:1: RuntimeWarning: divide by zero encountered in true_divide\n",
      "  \"\"\"Entry point for launching an IPython kernel.\n",
      "/Users/dpr/miniconda3/envs/mmc_py35/lib/python3.5/site-packages/ipykernel_launcher.py:1: RuntimeWarning: invalid value encountered in true_divide\n",
      "  \"\"\"Entry point for launching an IPython kernel.\n"
     ]
    }
   ],
   "source": [
    "print(K/binom(K,2))"
   ]
  },
  {
   "cell_type": "code",
   "execution_count": 74,
   "metadata": {},
   "outputs": [
    {
     "name": "stdout",
     "output_type": "stream",
     "text": [
      "[        inf  2.          1.          0.66666667  0.5         0.4\n",
      "  0.33333333  0.28571429  0.25        0.22222222  0.2         0.18181818\n",
      "  0.16666667  0.15384615  0.14285714  0.13333333  0.125       0.11764706\n",
      "  0.11111111  0.10526316  0.1         0.0952381   0.09090909  0.08695652\n",
      "  0.08333333  0.08        0.07692308  0.07407407  0.07142857  0.06896552\n",
      "  0.06666667  0.06451613  0.0625      0.06060606  0.05882353  0.05714286\n",
      "  0.05555556  0.05405405  0.05263158  0.05128205  0.05        0.04878049\n",
      "  0.04761905  0.04651163  0.04545455  0.04444444  0.04347826  0.04255319\n",
      "  0.04166667  0.04081633  0.04      ]\n"
     ]
    },
    {
     "name": "stderr",
     "output_type": "stream",
     "text": [
      "/Users/dpr/miniconda3/envs/mmc_py35/lib/python3.5/site-packages/ipykernel_launcher.py:1: RuntimeWarning: divide by zero encountered in true_divide\n",
      "  \"\"\"Entry point for launching an IPython kernel.\n"
     ]
    }
   ],
   "source": [
    "print(2/K)"
   ]
  },
  {
   "cell_type": "code",
   "execution_count": 42,
   "metadata": {},
   "outputs": [
    {
     "data": {
      "text/plain": [
       "[<matplotlib.lines.Line2D at 0x11e313f28>,\n",
       " <matplotlib.lines.Line2D at 0x11e31b3c8>,\n",
       " <matplotlib.lines.Line2D at 0x11e31b5f8>,\n",
       " <matplotlib.lines.Line2D at 0x11e31b828>,\n",
       " <matplotlib.lines.Line2D at 0x11e31ba58>,\n",
       " <matplotlib.lines.Line2D at 0x11e31bc88>,\n",
       " <matplotlib.lines.Line2D at 0x11e31beb8>,\n",
       " <matplotlib.lines.Line2D at 0x11e330128>,\n",
       " <matplotlib.lines.Line2D at 0x11e330358>,\n",
       " <matplotlib.lines.Line2D at 0x11e330588>,\n",
       " <matplotlib.lines.Line2D at 0x11e3307b8>,\n",
       " <matplotlib.lines.Line2D at 0x11e3309e8>,\n",
       " <matplotlib.lines.Line2D at 0x11e330c18>,\n",
       " <matplotlib.lines.Line2D at 0x11e330e48>,\n",
       " <matplotlib.lines.Line2D at 0x11e32a0b8>,\n",
       " <matplotlib.lines.Line2D at 0x11e32a2e8>,\n",
       " <matplotlib.lines.Line2D at 0x11e32a518>,\n",
       " <matplotlib.lines.Line2D at 0x11e32a748>,\n",
       " <matplotlib.lines.Line2D at 0x11e32a978>,\n",
       " <matplotlib.lines.Line2D at 0x11e32aba8>,\n",
       " <matplotlib.lines.Line2D at 0x11e299278>,\n",
       " <matplotlib.lines.Line2D at 0x11e32afd0>,\n",
       " <matplotlib.lines.Line2D at 0x11e348278>,\n",
       " <matplotlib.lines.Line2D at 0x11e3484a8>,\n",
       " <matplotlib.lines.Line2D at 0x11e3486d8>,\n",
       " <matplotlib.lines.Line2D at 0x11e348908>,\n",
       " <matplotlib.lines.Line2D at 0x11e348b38>,\n",
       " <matplotlib.lines.Line2D at 0x11e348d68>,\n",
       " <matplotlib.lines.Line2D at 0x11e348f60>,\n",
       " <matplotlib.lines.Line2D at 0x11e3381d0>,\n",
       " <matplotlib.lines.Line2D at 0x11e32add8>,\n",
       " <matplotlib.lines.Line2D at 0x11e338630>,\n",
       " <matplotlib.lines.Line2D at 0x11e338860>,\n",
       " <matplotlib.lines.Line2D at 0x11e338a90>,\n",
       " <matplotlib.lines.Line2D at 0x11e338cc0>,\n",
       " <matplotlib.lines.Line2D at 0x11e338ef0>,\n",
       " <matplotlib.lines.Line2D at 0x11e33d160>,\n",
       " <matplotlib.lines.Line2D at 0x11e33d390>,\n",
       " <matplotlib.lines.Line2D at 0x11e33d5c0>,\n",
       " <matplotlib.lines.Line2D at 0x11e33d7f0>,\n",
       " <matplotlib.lines.Line2D at 0x11e338400>]"
      ]
     },
     "execution_count": 42,
     "metadata": {},
     "output_type": "execute_result"
    },
    {
     "data": {
      "image/png": "[encoded data removed]",
      "text/plain": [
       "<matplotlib.figure.Figure at 0x11e07dbe0>"
      ]
     },
     "metadata": {},
     "output_type": "display_data"
    }
   ],
   "source": [
    "plt.semilogy(p_ki)"
   ]
  },
  {
   "cell_type": "code",
   "execution_count": 75,
   "metadata": {},
   "outputs": [
    {
     "data": {
      "text/plain": [
       "[<matplotlib.lines.Line2D at 0x11e3f2198>]"
      ]
     },
     "execution_count": 75,
     "metadata": {},
     "output_type": "execute_result"
    },
    {
     "data": {
      "image/png": "[encoded data removed]",
      "text/plain": [
       "<matplotlib.figure.Figure at 0x121976d68>"
      ]
     },
     "metadata": {},
     "output_type": "display_data"
    }
   ],
   "source": [
    "plt.semilogy(p_ki[:,1])"
   ]
  },
  {
   "cell_type": "code",
   "execution_count": 96,
   "metadata": {},
   "outputs": [
    {
     "data": {
      "text/plain": [
       "[<matplotlib.lines.Line2D at 0x121e7ce10>]"
      ]
     },
     "execution_count": 96,
     "metadata": {},
     "output_type": "execute_result"
    },
    {
     "data": {
      "image/png": "[encoded data removed]",
      "text/plain": [
       "<matplotlib.figure.Figure at 0x11642ea58>"
      ]
     },
     "metadata": {},
     "output_type": "display_data"
    }
   ],
   "source": [
    "plt.semilogy(K * T_k)\n",
    "plt.semilogy(21, 1/10, 'xk')"
   ]
  },
  {
   "cell_type": "code",
   "execution_count": 77,
   "metadata": {},
   "outputs": [
    {
     "data": {
      "text/plain": [
       "[<matplotlib.lines.Line2D at 0x122199eb8>]"
      ]
     },
     "execution_count": 77,
     "metadata": {},
     "output_type": "execute_result"
    },
    {
     "data": {
      "image/png": "[encoded data removed]",
      "text/plain": [
       "<matplotlib.figure.Figure at 0x12206cd30>"
      ]
     },
     "metadata": {},
     "output_type": "display_data"
    }
   ],
   "source": [
    "plt.plot(K * T_k * p_ki[:,1])"
   ]
  },
  {
   "cell_type": "code",
   "execution_count": 78,
   "metadata": {},
   "outputs": [
    {
     "data": {
      "text/plain": [
       "[<matplotlib.lines.Line2D at 0x11e2efc50>]"
      ]
     },
     "execution_count": 78,
     "metadata": {},
     "output_type": "execute_result"
    },
    {
     "data": {
      "image/png": "[encoded data removed]",
      "text/plain": [
       "<matplotlib.figure.Figure at 0x122237b70>"
      ]
     },
     "metadata": {},
     "output_type": "display_data"
    }
   ],
   "source": [
    "plt.semilogy(K*p_ki[:,1]*T_k)"
   ]
  },
  {
   "cell_type": "code",
   "execution_count": 79,
   "metadata": {},
   "outputs": [
    {
     "data": {
      "text/plain": [
       "1.9598673792013657"
      ]
     },
     "execution_count": 79,
     "metadata": {},
     "output_type": "execute_result"
    }
   ],
   "source": [
    "np.sum(K*p_ki[:,1]*T_k)"
   ]
  },
  {
   "cell_type": "code",
   "execution_count": 80,
   "metadata": {},
   "outputs": [
    {
     "data": {
      "text/plain": [
       "1.9598673792013657"
      ]
     },
     "execution_count": 80,
     "metadata": {},
     "output_type": "execute_result"
    }
   ],
   "source": [
    "np.sum(p_ki[:,1]*T_k*K)"
   ]
  },
  {
   "cell_type": "code",
   "execution_count": 53,
   "metadata": {},
   "outputs": [
    {
     "data": {
      "text/plain": [
       "1.9995872507753432"
      ]
     },
     "execution_count": 53,
     "metadata": {},
     "output_type": "execute_result"
    }
   ],
   "source": [
    "x = p_ki[:,1]*T_k*K\n",
    "np.sum(x)"
   ]
  },
  {
   "cell_type": "code",
   "execution_count": 54,
   "metadata": {},
   "outputs": [
    {
     "data": {
      "text/plain": [
       "1.9995872507753434"
      ]
     },
     "execution_count": 54,
     "metadata": {},
     "output_type": "execute_result"
    }
   ],
   "source": [
    "np.sum(x[::-1])"
   ]
  },
  {
   "cell_type": "code",
   "execution_count": 55,
   "metadata": {},
   "outputs": [
    {
     "name": "stdout",
     "output_type": "stream",
     "text": [
      "[ 0.          0.          0.05128205  0.05128205  0.05128205  0.05128205\n",
      "  0.05128205  0.05128205  0.05128204  0.05128204  0.05128189  0.05128169\n",
      "  0.05128225  0.05128231  0.05127991  0.05128088  0.0512731   0.05125259\n",
      "  0.05123521  0.05126482  0.05120175  0.05123426  0.05123001  0.05119666\n",
      "  0.05125637  0.05127124  0.05127387  0.05128278  0.05128267  0.05128458\n",
      "  0.05128157  0.05128201  0.05128202  0.05128206  0.05128205  0.05128205\n",
      "  0.05128205  0.05128205  0.05128205  0.05128205  0.05128205]\n"
     ]
    }
   ],
   "source": [
    "print(x)"
   ]
  },
  {
   "cell_type": "code",
   "execution_count": 63,
   "metadata": {
    "collapsed": true
   },
   "outputs": [],
   "source": [
    "y = np.arange(1,1e6+1)\n",
    "z = 1/y"
   ]
  },
  {
   "cell_type": "code",
   "execution_count": 64,
   "metadata": {},
   "outputs": [
    {
     "data": {
      "text/plain": [
       "1000000.0"
      ]
     },
     "execution_count": 64,
     "metadata": {},
     "output_type": "execute_result"
    }
   ],
   "source": [
    "np.sum(y*z)"
   ]
  },
  {
   "cell_type": "code",
   "execution_count": 68,
   "metadata": {},
   "outputs": [
    {
     "name": "stdout",
     "output_type": "stream",
     "text": [
      "\u001b[H\u001b[2J"
     ]
    }
   ],
   "source": [
    "clear(z)"
   ]
  },
  {
   "cell_type": "code",
   "execution_count": 93,
   "metadata": {},
   "outputs": [
    {
     "data": {
      "text/plain": [
       "[<matplotlib.lines.Line2D at 0x1162bed30>]"
      ]
     },
     "execution_count": 93,
     "metadata": {},
     "output_type": "execute_result"
    },
    {
     "data": {
      "image/png": "[encoded data removed]",
      "text/plain": [
       "<matplotlib.figure.Figure at 0x1162159b0>"
      ]
     },
     "metadata": {},
     "output_type": "display_data"
    }
   ],
   "source": [
    "plt.plot(T_k*binom(K,2))"
   ]
  },
  {
   "cell_type": "code",
   "execution_count": null,
   "metadata": {
    "collapsed": true
   },
   "outputs": [],
   "source": [
    "T_k = I1_j @ (sign_jk*alpha_jk)\n"
   ]
  },
  {
   "cell_type": "code",
   "execution_count": 85,
   "metadata": {},
   "outputs": [
    {
     "data": {
      "text/plain": [
       "-8.2056331718899367e-05"
      ]
     },
     "execution_count": 85,
     "metadata": {},
     "output_type": "execute_result"
    }
   ],
   "source": [
    "np.sum(I1_j * (sign_jk[:,21]*alpha_jk[:,21]))"
   ]
  },
  {
   "cell_type": "code",
   "execution_count": 86,
   "metadata": {
    "collapsed": true
   },
   "outputs": [],
   "source": [
    "x = I1_j * (sign_jk[:,21]*alpha_jk[:,21])"
   ]
  },
  {
   "cell_type": "code",
   "execution_count": 87,
   "metadata": {},
   "outputs": [
    {
     "data": {
      "text/plain": [
       "18796526015.124557"
      ]
     },
     "execution_count": 87,
     "metadata": {},
     "output_type": "execute_result"
    }
   ],
   "source": [
    "np.max(x)"
   ]
  },
  {
   "cell_type": "code",
   "execution_count": 88,
   "metadata": {},
   "outputs": [
    {
     "data": {
      "text/plain": [
       "-19792727887.576538"
      ]
     },
     "execution_count": 88,
     "metadata": {},
     "output_type": "execute_result"
    }
   ],
   "source": [
    "np.min(x)"
   ]
  },
  {
   "cell_type": "code",
   "execution_count": 89,
   "metadata": {},
   "outputs": [
    {
     "data": {
      "text/plain": [
       "[<matplotlib.lines.Line2D at 0x115f85080>]"
      ]
     },
     "execution_count": 89,
     "metadata": {},
     "output_type": "execute_result"
    },
    {
     "data": {
      "image/png": "[encoded data removed]",
      "text/plain": [
       "<matplotlib.figure.Figure at 0x10ed45dd8>"
      ]
     },
     "metadata": {},
     "output_type": "display_data"
    }
   ],
   "source": [
    "plt.plot(x)"
   ]
  },
  {
   "cell_type": "code",
   "execution_count": 114,
   "metadata": {},
   "outputs": [
    {
     "data": {
      "text/plain": [
       "[<matplotlib.lines.Line2D at 0x116bf5c18>]"
      ]
     },
     "execution_count": 114,
     "metadata": {},
     "output_type": "execute_result"
    },
    {
     "data": {
      "image/png": "[encoded data removed]",
      "text/plain": [
       "<matplotlib.figure.Figure at 0x116a9f4e0>"
      ]
     },
     "metadata": {},
     "output_type": "display_data"
    }
   ],
   "source": [
    "plt.plot(x[1::2] + x[:-1:2])"
   ]
  },
  {
   "cell_type": "code",
   "execution_count": 117,
   "metadata": {},
   "outputs": [
    {
     "data": {
      "text/plain": [
       "0.24936962127685547"
      ]
     },
     "execution_count": 117,
     "metadata": {},
     "output_type": "execute_result"
    }
   ],
   "source": [
    "np.sum(np.sort(x[1::2] + x[:-1:2]))"
   ]
  },
  {
   "cell_type": "code",
   "execution_count": 104,
   "metadata": {
    "collapsed": true
   },
   "outputs": [],
   "source": [
    "x_prime = x[:-1:2] + x[1::2]"
   ]
  },
  {
   "cell_type": "code",
   "execution_count": 105,
   "metadata": {},
   "outputs": [
    {
     "data": {
      "text/plain": [
       "0.24936868616879337"
      ]
     },
     "execution_count": 105,
     "metadata": {},
     "output_type": "execute_result"
    }
   ],
   "source": [
    "np.sum(x_prime)"
   ]
  },
  {
   "cell_type": "code",
   "execution_count": 106,
   "metadata": {},
   "outputs": [
    {
     "data": {
      "text/plain": [
       "0.24936962127685547"
      ]
     },
     "execution_count": 106,
     "metadata": {},
     "output_type": "execute_result"
    }
   ],
   "source": [
    "np.sum(np.sort(x_prime))"
   ]
  },
  {
   "cell_type": "code",
   "execution_count": 109,
   "metadata": {},
   "outputs": [
    {
     "name": "stdout",
     "output_type": "stream",
     "text": [
      "4950\n",
      "4950\n"
     ]
    }
   ],
   "source": [
    "y = np.arange(100)\n",
    "print(np.sum(y))\n",
    "print(np.sum(y[:-1:2] + y[1::2]))"
   ]
  },
  {
   "cell_type": "code",
   "execution_count": 120,
   "metadata": {},
   "outputs": [
    {
     "data": {
      "text/plain": [
       "[<matplotlib.lines.Line2D at 0x116a6fdd8>]"
      ]
     },
     "execution_count": 120,
     "metadata": {},
     "output_type": "execute_result"
    },
    {
     "data": {
      "image/png": "[encoded data removed]",
      "text/plain": [
       "<matplotlib.figure.Figure at 0x116b68e80>"
      ]
     },
     "metadata": {},
     "output_type": "display_data"
    }
   ],
   "source": [
    "plt.plot(x[np.argsort(np.abs(x))])"
   ]
  },
  {
   "cell_type": "code",
   "execution_count": 125,
   "metadata": {},
   "outputs": [
    {
     "data": {
      "text/plain": [
       "-7.62939453125e-05"
      ]
     },
     "execution_count": 125,
     "metadata": {},
     "output_type": "execute_result"
    }
   ],
   "source": [
    "np.sum(x[np.argsort(np.abs(x))])"
   ]
  },
  {
   "cell_type": "code",
   "execution_count": 129,
   "metadata": {},
   "outputs": [
    {
     "data": {
      "text/plain": [
       "[<matplotlib.lines.Line2D at 0x1169c4048>]"
      ]
     },
     "execution_count": 129,
     "metadata": {},
     "output_type": "execute_result"
    },
    {
     "data": {
      "image/png": "[encoded data removed]",
      "text/plain": [
       "<matplotlib.figure.Figure at 0x1169c4fd0>"
      ]
     },
     "metadata": {},
     "output_type": "display_data"
    }
   ],
   "source": [
    "plt.plot(x)\n",
    "plt.plot(np.cumsum(x))"
   ]
  },
  {
   "cell_type": "code",
   "execution_count": 133,
   "metadata": {
    "collapsed": true
   },
   "outputs": [],
   "source": [
    "y = I1_j * (sign_jk[:,5]*alpha_jk[:,5])"
   ]
  },
  {
   "cell_type": "code",
   "execution_count": 134,
   "metadata": {},
   "outputs": [
    {
     "name": "stdout",
     "output_type": "stream",
     "text": [
      "0.10000000015\n"
     ]
    }
   ],
   "source": [
    "print(np.sum(y))"
   ]
  },
  {
   "cell_type": "code",
   "execution_count": 135,
   "metadata": {},
   "outputs": [
    {
     "data": {
      "text/plain": [
       "0.10000000000000001"
      ]
     },
     "execution_count": 135,
     "metadata": {},
     "output_type": "execute_result"
    }
   ],
   "source": [
    "1/binom(5,2)"
   ]
  },
  {
   "cell_type": "code",
   "execution_count": 136,
   "metadata": {},
   "outputs": [
    {
     "data": {
      "text/plain": [
       "[<matplotlib.lines.Line2D at 0x116b2bfd0>]"
      ]
     },
     "execution_count": 136,
     "metadata": {},
     "output_type": "execute_result"
    },
    {
     "data": {
      "image/png": "[encoded data removed]",
      "text/plain": [
       "<matplotlib.figure.Figure at 0x116b2bf98>"
      ]
     },
     "metadata": {},
     "output_type": "display_data"
    }
   ],
   "source": [
    "plt.plot(y)\n",
    "plt.plot(np.cumsum(y))"
   ]
  },
  {
   "cell_type": "markdown",
   "metadata": {},
   "source": [
    "# fsum"
   ]
  },
  {
   "cell_type": "code",
   "execution_count": 4,
   "metadata": {
    "collapsed": true
   },
   "outputs": [],
   "source": [
    "?math.fsum"
   ]
  },
  {
   "cell_type": "code",
   "execution_count": 8,
   "metadata": {},
   "outputs": [
    {
     "data": {
      "text/plain": [
       "0.0"
      ]
     },
     "execution_count": 8,
     "metadata": {},
     "output_type": "execute_result"
    }
   ],
   "source": [
    "sum([1e16,1,-1e16])"
   ]
  },
  {
   "cell_type": "code",
   "execution_count": 9,
   "metadata": {},
   "outputs": [
    {
     "data": {
      "text/plain": [
       "1.0"
      ]
     },
     "execution_count": 9,
     "metadata": {},
     "output_type": "execute_result"
    }
   ],
   "source": [
    "math.fsum([1e16,1,-1e16])"
   ]
  },
  {
   "cell_type": "code",
   "execution_count": 22,
   "metadata": {
    "collapsed": true
   },
   "outputs": [],
   "source": [
    "k = 25\n",
    "x = I1_j * sign_jk[:,k]*alpha_jk[:,k]"
   ]
  },
  {
   "cell_type": "code",
   "execution_count": 13,
   "metadata": {},
   "outputs": [
    {
     "data": {
      "text/plain": [
       "[<matplotlib.lines.Line2D at 0x1188c9fd0>]"
      ]
     },
     "execution_count": 13,
     "metadata": {},
     "output_type": "execute_result"
    },
    {
     "data": {
      "image/png": "[encoded data removed]",
      "text/plain": [
       "<matplotlib.figure.Figure at 0x10f99a710>"
      ]
     },
     "metadata": {},
     "output_type": "display_data"
    }
   ],
   "source": [
    "plt.plot(x)"
   ]
  },
  {
   "cell_type": "code",
   "execution_count": 14,
   "metadata": {},
   "outputs": [
    {
     "data": {
      "text/plain": [
       "[<matplotlib.lines.Line2D at 0x11891f080>]"
      ]
     },
     "execution_count": 14,
     "metadata": {},
     "output_type": "execute_result"
    },
    {
     "data": {
      "image/png": "[encoded data removed]",
      "text/plain": [
       "<matplotlib.figure.Figure at 0x11889d6a0>"
      ]
     },
     "metadata": {},
     "output_type": "display_data"
    }
   ],
   "source": [
    "plt.semilogy(np.abs(x))"
   ]
  },
  {
   "cell_type": "code",
   "execution_count": 17,
   "metadata": {},
   "outputs": [
    {
     "data": {
      "text/plain": [
       "0.0033333333333333335"
      ]
     },
     "execution_count": 17,
     "metadata": {},
     "output_type": "execute_result"
    }
   ],
   "source": [
    "1/binom(k,2)"
   ]
  },
  {
   "cell_type": "code",
   "execution_count": 16,
   "metadata": {},
   "outputs": [
    {
     "data": {
      "text/plain": [
       "0.0027647305813047751"
      ]
     },
     "execution_count": 16,
     "metadata": {},
     "output_type": "execute_result"
    }
   ],
   "source": [
    "sum(x)"
   ]
  },
  {
   "cell_type": "code",
   "execution_count": 18,
   "metadata": {},
   "outputs": [
    {
     "data": {
      "text/plain": [
       "0.002765696595645295"
      ]
     },
     "execution_count": 18,
     "metadata": {},
     "output_type": "execute_result"
    }
   ],
   "source": [
    "math.fsum(x)"
   ]
  },
  {
   "cell_type": "code",
   "execution_count": 19,
   "metadata": {},
   "outputs": [
    {
     "data": {
      "text/plain": [
       "0.0027636467546585664"
      ]
     },
     "execution_count": 19,
     "metadata": {},
     "output_type": "execute_result"
    }
   ],
   "source": [
    "np.sum(x)"
   ]
  },
  {
   "cell_type": "code",
   "execution_count": 21,
   "metadata": {
    "collapsed": true
   },
   "outputs": [],
   "source": [
    "k2 = 5\n",
    "x2 = I1_j * sign_jk[:,k2]*alpha_jk[:,k2]"
   ]
  },
  {
   "cell_type": "code",
   "execution_count": 24,
   "metadata": {},
   "outputs": [
    {
     "data": {
      "text/plain": [
       "0.10000000015096704"
      ]
     },
     "execution_count": 24,
     "metadata": {},
     "output_type": "execute_result"
    }
   ],
   "source": [
    "sum(x2)"
   ]
  },
  {
   "cell_type": "code",
   "execution_count": 25,
   "metadata": {},
   "outputs": [
    {
     "data": {
      "text/plain": [
       "0.10000000000000001"
      ]
     },
     "execution_count": 25,
     "metadata": {},
     "output_type": "execute_result"
    }
   ],
   "source": [
    "1/binom(k2,2)"
   ]
  },
  {
   "cell_type": "code",
   "execution_count": 26,
   "metadata": {},
   "outputs": [
    {
     "data": {
      "text/plain": [
       "0.10000000015043035"
      ]
     },
     "execution_count": 26,
     "metadata": {},
     "output_type": "execute_result"
    }
   ],
   "source": [
    "np.sum(x2)"
   ]
  },
  {
   "cell_type": "code",
   "execution_count": 27,
   "metadata": {},
   "outputs": [
    {
     "data": {
      "text/plain": [
       "0.1000000001508942"
      ]
     },
     "execution_count": 27,
     "metadata": {},
     "output_type": "execute_result"
    }
   ],
   "source": [
    "math.fsum(x2)"
   ]
  },
  {
   "cell_type": "code",
   "execution_count": 29,
   "metadata": {},
   "outputs": [
    {
     "data": {
      "text/plain": [
       "1.2252633163681652e-08"
      ]
     },
     "execution_count": 29,
     "metadata": {},
     "output_type": "execute_result"
    }
   ],
   "source": [
    "np.sum(sign_jk[:,k2]*alpha_jk[:,k2])"
   ]
  },
  {
   "cell_type": "code",
   "execution_count": 37,
   "metadata": {},
   "outputs": [
    {
     "data": {
      "text/plain": [
       "[<matplotlib.lines.Line2D at 0x118db6588>]"
      ]
     },
     "execution_count": 37,
     "metadata": {},
     "output_type": "execute_result"
    },
    {
     "data": {
      "image/png": "[encoded data removed]",
      "text/plain": [
       "<matplotlib.figure.Figure at 0x118d9e358>"
      ]
     },
     "metadata": {},
     "output_type": "display_data"
    }
   ],
   "source": [
    "plt.plot(np.sum(sign_jk*alpha_jk, axis=0))"
   ]
  },
  {
   "cell_type": "code",
   "execution_count": 31,
   "metadata": {},
   "outputs": [
    {
     "data": {
      "text/plain": [
       "[<matplotlib.lines.Line2D at 0x118d43e10>]"
      ]
     },
     "execution_count": 31,
     "metadata": {},
     "output_type": "execute_result"
    },
    {
     "data": {
      "image/png": "[encoded data removed]",
      "text/plain": [
       "<matplotlib.figure.Figure at 0x1189da2b0>"
      ]
     },
     "metadata": {},
     "output_type": "display_data"
    }
   ],
   "source": [
    "plt.plot(np.cumsum(sign_jk[:,k2]*alpha_jk[:,k2]))"
   ]
  },
  {
   "cell_type": "code",
   "execution_count": 50,
   "metadata": {},
   "outputs": [
    {
     "name": "stderr",
     "output_type": "stream",
     "text": [
      "/Users/dpr/miniconda3/envs/mmc_py35/lib/python3.5/site-packages/ipykernel_launcher.py:1: RuntimeWarning: divide by zero encountered in log\n",
      "  \"\"\"Entry point for launching an IPython kernel.\n",
      "/Users/dpr/miniconda3/envs/mmc_py35/lib/python3.5/site-packages/ipykernel_launcher.py:2: RuntimeWarning: divide by zero encountered in log\n",
      "  \n"
     ]
    },
    {
     "data": {
      "text/plain": [
       "(24, 51)"
      ]
     },
     "execution_count": 50,
     "metadata": {},
     "output_type": "execute_result"
    },
    {
     "data": {
      "image/png": "[encoded data removed]",
      "text/plain": [
       "<matplotlib.figure.Figure at 0x1193f4f28>"
      ]
     },
     "metadata": {},
     "output_type": "display_data"
    }
   ],
   "source": [
    "plt.plot(np.log(alpha_jk[:,k]), '.')\n",
    "plt.plot(np.log(binom(np.arange(n+1),2)), '.')\n",
    "plt.xlim([k-1,n+1])"
   ]
  },
  {
   "cell_type": "code",
   "execution_count": 84,
   "metadata": {},
   "outputs": [
    {
     "data": {
      "text/plain": [
       "1.2252633163681652e-08"
      ]
     },
     "execution_count": 84,
     "metadata": {},
     "output_type": "execute_result"
    }
   ],
   "source": [
    "np.sum(sign_jk[:,k2]*alpha_jk[:,k2])"
   ]
  },
  {
   "cell_type": "code",
   "execution_count": 42,
   "metadata": {},
   "outputs": [
    {
     "data": {
      "text/plain": [
       "0.0"
      ]
     },
     "execution_count": 42,
     "metadata": {},
     "output_type": "execute_result"
    }
   ],
   "source": [
    "np.sum([1e16,1,-1e16])"
   ]
  },
  {
   "cell_type": "code",
   "execution_count": 43,
   "metadata": {},
   "outputs": [
    {
     "data": {
      "text/plain": [
       "array([ 36.84136149,   0.        ,  36.84136149])"
      ]
     },
     "execution_count": 43,
     "metadata": {},
     "output_type": "execute_result"
    }
   ],
   "source": [
    "np.log([1e16,1,1e16])"
   ]
  },
  {
   "cell_type": "code",
   "execution_count": 44,
   "metadata": {},
   "outputs": [
    {
     "data": {
      "text/plain": [
       "1.0"
      ]
     },
     "execution_count": 44,
     "metadata": {},
     "output_type": "execute_result"
    }
   ],
   "source": [
    "1 + 1e-16"
   ]
  },
  {
   "cell_type": "code",
   "execution_count": 109,
   "metadata": {
    "collapsed": true
   },
   "outputs": [],
   "source": [
    "from scipy.special import gammaln"
   ]
  },
  {
   "cell_type": "code",
   "execution_count": 80,
   "metadata": {},
   "outputs": [
    {
     "name": "stderr",
     "output_type": "stream",
     "text": [
      "/Users/dpr/miniconda3/envs/mmc_py35/lib/python3.5/site-packages/numpy/core/numeric.py:531: ComplexWarning: Casting complex values to real discards the imaginary part\n",
      "  return array(a, dtype, copy=False, order=order)\n"
     ]
    },
    {
     "data": {
      "text/plain": [
       "[<matplotlib.lines.Line2D at 0x11a107278>]"
      ]
     },
     "execution_count": 80,
     "metadata": {},
     "output_type": "execute_result"
    },
    {
     "data": {
      "image/png": "[encoded data removed]",
      "text/plain": [
       "<matplotlib.figure.Figure at 0x11a0390f0>"
      ]
     },
     "metadata": {},
     "output_type": "display_data"
    }
   ],
   "source": [
    "J = np.arange(k, n+1)\n",
    "plt.plot(J, np.log(2*J-1))\n",
    "plt.plot(J, loggamma(k+J-1))\n",
    "plt.plot(J, loggamma(J-k+1))\n",
    "plt.plot(J, loggamma(n-J+1))\n",
    "plt.plot(J, loggamma(n+J))"
   ]
  },
  {
   "cell_type": "code",
   "execution_count": 83,
   "metadata": {},
   "outputs": [
    {
     "name": "stderr",
     "output_type": "stream",
     "text": [
      "/Users/dpr/miniconda3/envs/mmc_py35/lib/python3.5/site-packages/numpy/core/numeric.py:531: ComplexWarning: Casting complex values to real discards the imaginary part\n",
      "  return array(a, dtype, copy=False, order=order)\n"
     ]
    },
    {
     "data": {
      "text/plain": [
       "[<matplotlib.lines.Line2D at 0x11a055eb8>]"
      ]
     },
     "execution_count": 83,
     "metadata": {},
     "output_type": "execute_result"
    },
    {
     "data": {
      "image/png": "[encoded data removed]",
      "text/plain": [
       "<matplotlib.figure.Figure at 0x11a055b38>"
      ]
     },
     "metadata": {},
     "output_type": "display_data"
    }
   ],
   "source": [
    "plt.plot(J, np.log(2*J-1) + loggamma(n+1) + loggamma(k+J-1) - loggamma(n+J))\n",
    "plt.plot(J, loggamma(J-k+1) + loggamma(n-J+1))"
   ]
  },
  {
   "cell_type": "code",
   "execution_count": 75,
   "metadata": {},
   "outputs": [
    {
     "data": {
      "text/plain": [
       "(144.56574394634487+0j)"
      ]
     },
     "execution_count": 75,
     "metadata": {},
     "output_type": "execute_result"
    }
   ],
   "source": [
    "loggamma(n)"
   ]
  },
  {
   "cell_type": "code",
   "execution_count": 76,
   "metadata": {},
   "outputs": [
    {
     "data": {
      "text/plain": [
       "(54.784729398112319+0j)"
      ]
     },
     "execution_count": 76,
     "metadata": {},
     "output_type": "execute_result"
    }
   ],
   "source": [
    "loggamma(k)"
   ]
  },
  {
   "cell_type": "code",
   "execution_count": 87,
   "metadata": {},
   "outputs": [
    {
     "data": {
      "text/plain": [
       "7.916707545518875e-05"
      ]
     },
     "execution_count": 87,
     "metadata": {},
     "output_type": "execute_result"
    }
   ],
   "source": [
    "math.fsum(sign_jk[:,40]*alpha_jk[:,40])"
   ]
  },
  {
   "cell_type": "code",
   "execution_count": 93,
   "metadata": {},
   "outputs": [
    {
     "name": "stderr",
     "output_type": "stream",
     "text": [
      "../src/zivkovic.py:15: RuntimeWarning: invalid value encountered in log\n",
      "  - loggamma(vec_n + vec_j)\n",
      "../src/zivkovic.py:15: RuntimeWarning: divide by zero encountered in log\n",
      "  - loggamma(vec_n + vec_j)\n"
     ]
    }
   ],
   "source": [
    "n2 = 10\n",
    "alpha_jk2 = z.zivkovic_alpha(n2)[n2]\n",
    "sign_jk2 = z.diagonal_signs(n2)"
   ]
  },
  {
   "cell_type": "code",
   "execution_count": 94,
   "metadata": {},
   "outputs": [
    {
     "data": {
      "text/plain": [
       "array([  0.00000000e+00,   2.35580869e-15,   5.25829380e-14,\n",
       "         1.66866521e-13,   3.95683486e-13,  -5.22248911e-13,\n",
       "        -1.15463195e-12,  -3.55271368e-13,  -1.33226763e-13,\n",
       "         3.55271368e-14,   1.00000000e+00])"
      ]
     },
     "execution_count": 94,
     "metadata": {},
     "output_type": "execute_result"
    }
   ],
   "source": [
    "np.sum(sign_jk2*alpha_jk2, axis=0)"
   ]
  },
  {
   "cell_type": "code",
   "execution_count": 97,
   "metadata": {},
   "outputs": [
    {
     "data": {
      "text/plain": [
       "[<matplotlib.lines.Line2D at 0x11a4fba20>]"
      ]
     },
     "execution_count": 97,
     "metadata": {},
     "output_type": "execute_result"
    },
    {
     "data": {
      "image/png": "[encoded data removed]",
      "text/plain": [
       "<matplotlib.figure.Figure at 0x11a4df550>"
      ]
     },
     "metadata": {},
     "output_type": "display_data"
    }
   ],
   "source": [
    "plt.semilogy(alpha_jk2[:,5])"
   ]
  },
  {
   "cell_type": "code",
   "execution_count": 101,
   "metadata": {},
   "outputs": [
    {
     "data": {
      "text/plain": [
       "[<matplotlib.lines.Line2D at 0x11ab7f828>]"
      ]
     },
     "execution_count": 101,
     "metadata": {},
     "output_type": "execute_result"
    },
    {
     "data": {
      "image/png": "[encoded data removed]",
      "text/plain": [
       "<matplotlib.figure.Figure at 0x11a6fe208>"
      ]
     },
     "metadata": {},
     "output_type": "display_data"
    }
   ],
   "source": [
    "plt.semilogy(alpha_jk[:,k], '.')"
   ]
  },
  {
   "cell_type": "code",
   "execution_count": 99,
   "metadata": {},
   "outputs": [
    {
     "data": {
      "text/plain": [
       "dtype('float64')"
      ]
     },
     "execution_count": 99,
     "metadata": {},
     "output_type": "execute_result"
    }
   ],
   "source": [
    "alpha_jk[:,k].dtype"
   ]
  },
  {
   "cell_type": "code",
   "execution_count": 102,
   "metadata": {},
   "outputs": [
    {
     "data": {
      "text/plain": [
       "finfo(resolution=1e-18, min=-1.18973149536e+4932, max=1.18973149536e+4932, dtype=float128)"
      ]
     },
     "execution_count": 102,
     "metadata": {},
     "output_type": "execute_result"
    }
   ],
   "source": [
    "np.finfo(np.longdouble)"
   ]
  },
  {
   "cell_type": "code",
   "execution_count": 104,
   "metadata": {},
   "outputs": [
    {
     "data": {
      "text/plain": [
       "finfo(resolution=1e-15, min=-1.7976931348623157e+308, max=1.7976931348623157e+308, dtype=float64)"
      ]
     },
     "execution_count": 104,
     "metadata": {},
     "output_type": "execute_result"
    }
   ],
   "source": [
    "np.finfo(np.float64)"
   ]
  },
  {
   "cell_type": "code",
   "execution_count": null,
   "metadata": {
    "collapsed": true
   },
   "outputs": [],
   "source": []
  },
  {
   "cell_type": "code",
   "execution_count": 111,
   "metadata": {
    "collapsed": true
   },
   "outputs": [],
   "source": [
    "def alpha2(n):\n",
    "    r = np.arange(n+1)\n",
    "    vec_n = r[:,None,None]\n",
    "    vec_j = r[None,:,None]\n",
    "    vec_k = r[None,None,:]\n",
    "    ln_alpha = np.log(2*vec_j - 1) + np.log(vec_n) + 2*gammaln(vec_n) \\\n",
    "                + gammaln(vec_k + vec_j - 1) - gammaln(vec_j - vec_k + 1) \\\n",
    "                - np.log(vec_k) - 2*gammaln(vec_k) - gammaln(vec_n - vec_j + 1) \\\n",
    "                - gammaln(vec_n + vec_j)\n",
    "    alpha = np.exp(np.real(ln_alpha))\n",
    "    alpha[np.isnan(alpha)] = 0\n",
    "    return alpha"
   ]
  },
  {
   "cell_type": "code",
   "execution_count": 113,
   "metadata": {},
   "outputs": [
    {
     "name": "stdout",
     "output_type": "stream",
     "text": [
      "[ 0.          1.92759603  0.95712704  0.6416155   0.48550618  0.39167987\n",
      "  0.32858973  0.28302757  0.24848882  0.22137878  0.19953338  0.18156263\n",
      "  0.16652831  0.15377222  0.1428182   0.13331316  0.12498973  0.11764193\n",
      "  0.11110861  0.10526196  0.09999945  0.09523785  0.09090898  0.08695648\n",
      "  0.08333331  0.07999999  0.07692307  0.07407407  0.07142857  0.06896552\n",
      "  0.06666667  0.06451613  0.0625      0.06060606  0.05882353  0.05714286\n",
      "  0.05555556  0.05405405  0.05263158  0.05128205  0.05        0.04878049\n",
      "  0.04761905  0.04651163  0.04545455  0.04444444  0.04347826  0.04255319\n",
      "  0.04166667  0.04081633  0.        ]\n"
     ]
    },
    {
     "name": "stderr",
     "output_type": "stream",
     "text": [
      "../src/zivkovic.py:59: RuntimeWarning: divide by zero encountered in true_divide\n",
      "  p = binom(vec_n-vec_i-1, vec_k-2) / binom(vec_n-1, vec_k-1)\n",
      "../src/zivkovic.py:59: RuntimeWarning: invalid value encountered in true_divide\n",
      "  p = binom(vec_n-vec_i-1, vec_k-2) / binom(vec_n-1, vec_k-1)\n",
      "/Users/dpr/miniconda3/envs/mmc_py35/lib/python3.5/site-packages/ipykernel_launcher.py:6: RuntimeWarning: invalid value encountered in log\n",
      "  \n",
      "/Users/dpr/miniconda3/envs/mmc_py35/lib/python3.5/site-packages/ipykernel_launcher.py:6: RuntimeWarning: divide by zero encountered in log\n",
      "  \n",
      "/Users/dpr/miniconda3/envs/mmc_py35/lib/python3.5/site-packages/ipykernel_launcher.py:6: RuntimeWarning: invalid value encountered in add\n",
      "  \n",
      "/Users/dpr/miniconda3/envs/mmc_py35/lib/python3.5/site-packages/ipykernel_launcher.py:6: RuntimeWarning: invalid value encountered in subtract\n",
      "  \n",
      "/Users/dpr/miniconda3/envs/mmc_py35/lib/python3.5/site-packages/ipykernel_launcher.py:7: RuntimeWarning: divide by zero encountered in true_divide\n",
      "  import sys\n"
     ]
    }
   ],
   "source": [
    "n = 50\n",
    "p_nki = z.marginal_leaf_prob(n)\n",
    "alpha = alpha2(n)\n",
    "K = np.arange(n+1)\n",
    "B = binom(K,2)\n",
    "#I1_j = laguerre_integral(partial(lambda_inv, g=g), B)\n",
    "I1_j = 1/B\n",
    "I1_j[np.isinf(I1_j)] = 0\n",
    "I1_j[np.isnan(I1_j)] = 0\n",
    "sign_jk = z.diagonal_signs(n)\n",
    "alpha_jk = alpha[n]\n",
    "T_k = I1_j @ (sign_jk*alpha_jk)\n",
    "T_k[:2] = 0\n",
    "p_ki = p_nki[n]\n",
    "print((K*T_k) @ p_ki)"
   ]
  },
  {
   "cell_type": "code",
   "execution_count": 116,
   "metadata": {},
   "outputs": [
    {
     "data": {
      "text/plain": [
       "[<matplotlib.lines.Line2D at 0x11acd5198>]"
      ]
     },
     "execution_count": 116,
     "metadata": {},
     "output_type": "execute_result"
    },
    {
     "data": {
      "image/png": "[encoded data removed]",
      "text/plain": [
       "<matplotlib.figure.Figure at 0x11a94fa58>"
      ]
     },
     "metadata": {},
     "output_type": "display_data"
    }
   ],
   "source": [
    "plt.semilogy(T_k)\n",
    "#plt.semilogy((K*T_k) @ p_ki)"
   ]
  },
  {
   "cell_type": "code",
   "execution_count": 107,
   "metadata": {
    "collapsed": true
   },
   "outputs": [],
   "source": [
    "x = np.arange(25, dtype=np.longdouble)"
   ]
  },
  {
   "cell_type": "code",
   "execution_count": 110,
   "metadata": {},
   "outputs": [
    {
     "ename": "TypeError",
     "evalue": "ufunc '_gammaln' not supported for the input types, and the inputs could not be safely coerced to any supported types according to the casting rule ''safe''",
     "output_type": "error",
     "traceback": [
      "\u001b[0;31m---------------------------------------------------------------------------\u001b[0m",
      "\u001b[0;31mTypeError\u001b[0m                                 Traceback (most recent call last)",
      "\u001b[0;32m<ipython-input-110-aa80e94b0508>\u001b[0m in \u001b[0;36m<module>\u001b[0;34m()\u001b[0m\n\u001b[0;32m----> 1\u001b[0;31m \u001b[0mgammaln\u001b[0m\u001b[0;34m(\u001b[0m\u001b[0mx\u001b[0m\u001b[0;34m)\u001b[0m\u001b[0;34m\u001b[0m\u001b[0m\n\u001b[0m",
      "\u001b[0;32m~/miniconda3/envs/mmc_py35/lib/python3.5/site-packages/scipy/special/basic.py\u001b[0m in \u001b[0;36mgammaln\u001b[0;34m(x)\u001b[0m\n\u001b[1;32m    179\u001b[0m                        \"scipy.special.loggamma instead.\"),\n\u001b[1;32m    180\u001b[0m                       DeprecationWarning)\n\u001b[0;32m--> 181\u001b[0;31m     \u001b[0;32mreturn\u001b[0m \u001b[0m_gammaln\u001b[0m\u001b[0;34m(\u001b[0m\u001b[0mx\u001b[0m\u001b[0;34m)\u001b[0m\u001b[0;34m\u001b[0m\u001b[0m\n\u001b[0m\u001b[1;32m    182\u001b[0m \u001b[0;34m\u001b[0m\u001b[0m\n\u001b[1;32m    183\u001b[0m \u001b[0;34m\u001b[0m\u001b[0m\n",
      "\u001b[0;31mTypeError\u001b[0m: ufunc '_gammaln' not supported for the input types, and the inputs could not be safely coerced to any supported types according to the casting rule ''safe''"
     ]
    }
   ],
   "source": [
    "gammaln(x)"
   ]
  },
  {
   "cell_type": "code",
   "execution_count": 117,
   "metadata": {},
   "outputs": [
    {
     "name": "stderr",
     "output_type": "stream",
     "text": [
      "/Users/dpr/miniconda3/envs/mmc_py35/lib/python3.5/site-packages/ipykernel_launcher.py:6: RuntimeWarning: invalid value encountered in log\n",
      "  \n",
      "/Users/dpr/miniconda3/envs/mmc_py35/lib/python3.5/site-packages/ipykernel_launcher.py:6: RuntimeWarning: divide by zero encountered in log\n",
      "  \n",
      "/Users/dpr/miniconda3/envs/mmc_py35/lib/python3.5/site-packages/ipykernel_launcher.py:6: RuntimeWarning: invalid value encountered in add\n",
      "  \n",
      "/Users/dpr/miniconda3/envs/mmc_py35/lib/python3.5/site-packages/ipykernel_launcher.py:6: RuntimeWarning: invalid value encountered in subtract\n",
      "  \n",
      "/Users/dpr/miniconda3/envs/mmc_py35/lib/python3.5/site-packages/ipykernel_launcher.py:6: RuntimeWarning: divide by zero encountered in true_divide\n",
      "  \n"
     ]
    },
    {
     "data": {
      "text/plain": [
       "[<matplotlib.lines.Line2D at 0x11b1d9d30>]"
      ]
     },
     "execution_count": 117,
     "metadata": {},
     "output_type": "execute_result"
    },
    {
     "data": {
      "image/png": "[encoded data removed]",
      "text/plain": [
       "<matplotlib.figure.Figure at 0x11ae37d68>"
      ]
     },
     "metadata": {},
     "output_type": "display_data"
    }
   ],
   "source": [
    "n = 50\n",
    "alpha = alpha2(n)\n",
    "K = np.arange(n+1)\n",
    "B = binom(K,2)\n",
    "\n",
    "I1_j = 1/B\n",
    "I1_j[np.isinf(I1_j)] = 0\n",
    "I1_j[np.isnan(I1_j)] = 0\n",
    "\n",
    "sign_jk = z.diagonal_signs(n)\n",
    "alpha_jk = alpha[n]\n",
    "\n",
    "T_k = I1_j @ (sign_jk*alpha_jk)\n",
    "T_k[:2] = 0\n",
    "plt.semilogy(T_k)"
   ]
  },
  {
   "cell_type": "code",
   "execution_count": 131,
   "metadata": {},
   "outputs": [
    {
     "name": "stderr",
     "output_type": "stream",
     "text": [
      "/Users/dpr/miniconda3/envs/mmc_py35/lib/python3.5/site-packages/ipykernel_launcher.py:5: RuntimeWarning: divide by zero encountered in true_divide\n",
      "  \"\"\"\n",
      "../src/zivkovic.py:15: RuntimeWarning: invalid value encountered in log\n",
      "  - loggamma(vec_n + vec_j)\n",
      "../src/zivkovic.py:15: RuntimeWarning: divide by zero encountered in log\n",
      "  - loggamma(vec_n + vec_j)\n"
     ]
    },
    {
     "data": {
      "text/plain": [
       "[<matplotlib.lines.Line2D at 0x11b8a5ef0>]"
      ]
     },
     "execution_count": 131,
     "metadata": {},
     "output_type": "execute_result"
    },
    {
     "data": {
      "image/png": "[encoded data removed]",
      "text/plain": [
       "<matplotlib.figure.Figure at 0x11b6d7978>"
      ]
     },
     "metadata": {},
     "output_type": "display_data"
    }
   ],
   "source": [
    "n = 50\n",
    "K = np.arange(n+1)\n",
    "B = binom(K,2)\n",
    "\n",
    "I1_j = 1/B\n",
    "I1_j[np.isinf(I1_j)] = 0\n",
    "I1_j[np.isnan(I1_j)] = 0\n",
    "\n",
    "sign_jk = z.diagonal_signs(n)\n",
    "\n",
    "alpha_jk = z.zivkovic_alpha(n)[n]\n",
    "T_k = I1_j @ (sign_jk*alpha_jk)\n",
    "T_k[:2] = 0\n",
    "plt.semilogy(T_k)"
   ]
  },
  {
   "cell_type": "code",
   "execution_count": 121,
   "metadata": {},
   "outputs": [
    {
     "data": {
      "text/plain": [
       "(array([ 0.        ,  0.        ,  0.        ,  0.        ,  0.        ,\n",
       "         0.        ,  0.        ,  0.        ,  0.        ,  0.        ,\n",
       "         0.        ,  0.        ,  0.        ,  0.        ,  0.        ,\n",
       "         0.        ,  0.        ,  0.        ,  0.        ,  0.        ,\n",
       "         0.        ,  0.        ,  0.        ,  0.        ,  0.        ,\n",
       "         0.84897957,  0.9020408 ,  0.92508054,  0.60934382,  0.57887663,\n",
       "         0.84417259,  0.98188718,  0.9344919 ,  0.74075577,  0.99046621,\n",
       "         0.56344645,  0.54877405,  0.91851798,  0.66166269,  0.82046174,\n",
       "         0.87393003,  0.79649319,  0.61726363,  0.80620429,  0.87607587,\n",
       "         0.77799136,  0.55025291,  0.59642798,  0.93067636,  0.93087629,\n",
       "         0.89671217]),\n",
       " array([ 0,  0,  0,  0,  0,  0,  0,  0,  0,  0,  0,  0,  0,  0,  0,  0,  0,\n",
       "         0,  0,  0,  0,  0,  0,  0,  0, 28, 32, 35, 38, 40, 41, 42, 43, 44,\n",
       "        44, 45, 45, 44, 44, 43, 42, 41, 40, 38, 36, 34, 32, 29, 25, 21, 16], dtype=int32))"
      ]
     },
     "execution_count": 121,
     "metadata": {},
     "output_type": "execute_result"
    }
   ],
   "source": [
    "np.frexp(alpha_jk[:,25])"
   ]
  },
  {
   "cell_type": "code",
   "execution_count": 122,
   "metadata": {
    "collapsed": true
   },
   "outputs": [],
   "source": [
    "?gammaln"
   ]
  },
  {
   "cell_type": "code",
   "execution_count": 123,
   "metadata": {},
   "outputs": [
    {
     "data": {
      "text/plain": [
       "(array([ 0.        ,  0.        ,  0.        ,  0.        ,  0.        ,\n",
       "         0.        ,  0.        ,  0.        ,  0.        ,  0.        ,\n",
       "         0.        ,  0.        ,  0.        ,  0.        ,  0.        ,\n",
       "         0.        ,  0.        ,  0.        ,  0.        ,  0.        ,\n",
       "         0.        ,  0.        ,  0.        ,  0.        ,  0.        ,\n",
       "         0.16731352,  0.84412003,  0.91503906,  0.93707275,  0.59179688,\n",
       "         0.48999023,  0.92919922,  0.03417969,  0.31640625,  0.35742188,\n",
       "         0.28125   ,  0.9375    ,  0.203125  ,  0.98046875,  0.43164062,\n",
       "         0.82666016,  0.64575195,  0.4375    ,  0.65090942,  0.22019196,\n",
       "         0.61491966,  0.53401375,  0.16670829,  0.53257676,  0.06787992,\n",
       "         0.92864133]),\n",
       " array([  0.00000000e+00,   0.00000000e+00,   0.00000000e+00,\n",
       "          0.00000000e+00,   0.00000000e+00,   0.00000000e+00,\n",
       "          0.00000000e+00,   0.00000000e+00,   0.00000000e+00,\n",
       "          0.00000000e+00,   0.00000000e+00,   0.00000000e+00,\n",
       "          0.00000000e+00,   0.00000000e+00,   0.00000000e+00,\n",
       "          0.00000000e+00,   0.00000000e+00,   0.00000000e+00,\n",
       "          0.00000000e+00,   0.00000000e+00,   0.00000000e+00,\n",
       "          0.00000000e+00,   0.00000000e+00,   0.00000000e+00,\n",
       "          0.00000000e+00,   2.27896219e+08,   3.87423572e+09,\n",
       "          3.17855253e+10,   1.67495154e+11,   6.36481584e+11,\n",
       "          1.85635515e+12,   4.31838549e+12,   8.21987767e+12,\n",
       "          1.30315134e+13,   1.74244659e+13,   1.98245096e+13,\n",
       "          1.93082704e+13,   1.61587392e+13,   1.16400932e+13,\n",
       "          7.21685778e+12,   3.84358493e+12,   1.75150706e+12,\n",
       "          6.78688542e+11,   2.21607748e+11,   6.02034751e+10,\n",
       "          1.33657898e+10,   2.36331825e+09,   3.20204833e+08,\n",
       "          3.12283160e+07,   1.95218900e+06,   5.87660000e+04]))"
      ]
     },
     "execution_count": 123,
     "metadata": {},
     "output_type": "execute_result"
    }
   ],
   "source": [
    "np.modf(alpha_jk[:,25])"
   ]
  },
  {
   "cell_type": "code",
   "execution_count": 128,
   "metadata": {},
   "outputs": [
    {
     "data": {
      "text/plain": [
       "-0.0024170192192044396"
      ]
     },
     "execution_count": 128,
     "metadata": {},
     "output_type": "execute_result"
    }
   ],
   "source": [
    "np.dot(sign_jk[:,25]*np.modf(alpha_jk[:,25])[0],I1_j)"
   ]
  },
  {
   "cell_type": "code",
   "execution_count": 125,
   "metadata": {},
   "outputs": [
    {
     "data": {
      "text/plain": [
       "0.0033333333333333335"
      ]
     },
     "execution_count": 125,
     "metadata": {},
     "output_type": "execute_result"
    }
   ],
   "source": [
    "1/binom(25,2)"
   ]
  },
  {
   "cell_type": "code",
   "execution_count": 129,
   "metadata": {},
   "outputs": [
    {
     "data": {
      "text/plain": [
       "0.00112152099609375"
      ]
     },
     "execution_count": 129,
     "metadata": {},
     "output_type": "execute_result"
    }
   ],
   "source": [
    "np.dot(sign_jk[:,25]*alpha_jk[:,25], I1_j)"
   ]
  },
  {
   "cell_type": "code",
   "execution_count": 130,
   "metadata": {},
   "outputs": [
    {
     "data": {
      "text/plain": [
       "-1.9599999999999085"
      ]
     },
     "execution_count": 130,
     "metadata": {},
     "output_type": "execute_result"
    }
   ],
   "source": [
    "np.dot(sign_jk[:,1]*alpha_jk[:,1], I1_j)"
   ]
  },
  {
   "cell_type": "code",
   "execution_count": 135,
   "metadata": {},
   "outputs": [
    {
     "data": {
      "text/plain": [
       "0.33333333332959525"
      ]
     },
     "execution_count": 135,
     "metadata": {},
     "output_type": "execute_result"
    }
   ],
   "source": [
    "T_k[3]"
   ]
  },
  {
   "cell_type": "code",
   "execution_count": 136,
   "metadata": {},
   "outputs": [
    {
     "data": {
      "text/plain": [
       "0.43062443732887812"
      ]
     },
     "execution_count": 136,
     "metadata": {},
     "output_type": "execute_result"
    }
   ],
   "source": [
    "np.dot(sign_jk[:,3]*np.modf(alpha_jk[:,3])[0],I1_j)"
   ]
  },
  {
   "cell_type": "code",
   "execution_count": 137,
   "metadata": {},
   "outputs": [
    {
     "data": {
      "text/plain": [
       "0.33333333332961956"
      ]
     },
     "execution_count": 137,
     "metadata": {},
     "output_type": "execute_result"
    }
   ],
   "source": [
    "np.dot(sign_jk[:,3]*alpha_jk[:,3],I1_j)"
   ]
  },
  {
   "cell_type": "code",
   "execution_count": 138,
   "metadata": {},
   "outputs": [
    {
     "data": {
      "text/plain": [
       "-0.097291103999268103"
      ]
     },
     "execution_count": 138,
     "metadata": {},
     "output_type": "execute_result"
    }
   ],
   "source": [
    "np.dot(sign_jk[:,3]*np.modf(alpha_jk[:,3])[1],I1_j)"
   ]
  },
  {
   "cell_type": "code",
   "execution_count": 139,
   "metadata": {},
   "outputs": [
    {
     "data": {
      "text/plain": [
       "0.33333333332961002"
      ]
     },
     "execution_count": 139,
     "metadata": {},
     "output_type": "execute_result"
    }
   ],
   "source": [
    "np.dot(sign_jk[:,3]*np.modf(alpha_jk[:,3])[0],I1_j) + np.dot(sign_jk[:,3]*np.modf(alpha_jk[:,3])[1],I1_j)"
   ]
  },
  {
   "cell_type": "code",
   "execution_count": 140,
   "metadata": {},
   "outputs": [
    {
     "data": {
      "text/plain": [
       "0.0052947998046875"
      ]
     },
     "execution_count": 140,
     "metadata": {},
     "output_type": "execute_result"
    }
   ],
   "source": [
    "np.dot(sign_jk[:,25]*np.modf(alpha_jk[:,25])[1],I1_j)"
   ]
  },
  {
   "cell_type": "code",
   "execution_count": 141,
   "metadata": {},
   "outputs": [
    {
     "data": {
      "text/plain": [
       "359.1342053695754"
      ]
     },
     "execution_count": 141,
     "metadata": {},
     "output_type": "execute_result"
    }
   ],
   "source": [
    "gammaln(100)"
   ]
  },
  {
   "cell_type": "code",
   "execution_count": 142,
   "metadata": {},
   "outputs": [
    {
     "data": {
      "text/plain": [
       "144.56574394634487"
      ]
     },
     "execution_count": 142,
     "metadata": {},
     "output_type": "execute_result"
    }
   ],
   "source": [
    "gammaln(50)"
   ]
  },
  {
   "cell_type": "code",
   "execution_count": 143,
   "metadata": {
    "collapsed": true
   },
   "outputs": [],
   "source": [
    "import mpmath"
   ]
  },
  {
   "cell_type": "code",
   "execution_count": 144,
   "metadata": {},
   "outputs": [
    {
     "name": "stderr",
     "output_type": "stream",
     "text": [
      "/Users/dpr/miniconda3/envs/mmc_py35/lib/python3.5/site-packages/ipykernel_launcher.py:5: RuntimeWarning: divide by zero encountered in true_divide\n",
      "  \"\"\"\n",
      "../src/zivkovic.py:15: RuntimeWarning: invalid value encountered in log\n",
      "  - loggamma(vec_n + vec_j)\n",
      "../src/zivkovic.py:15: RuntimeWarning: divide by zero encountered in log\n",
      "  - loggamma(vec_n + vec_j)\n"
     ]
    },
    {
     "data": {
      "text/plain": [
       "[<matplotlib.lines.Line2D at 0x11bd1fda0>]"
      ]
     },
     "execution_count": 144,
     "metadata": {},
     "output_type": "execute_result"
    },
    {
     "data": {
      "image/png": "[encoded data removed]",
      "text/plain": [
       "<matplotlib.figure.Figure at 0x11bcfdf98>"
      ]
     },
     "metadata": {},
     "output_type": "display_data"
    }
   ],
   "source": [
    "n = 100\n",
    "K = np.arange(n+1)\n",
    "B = binom(K,2)\n",
    "\n",
    "I1_j = 1/B\n",
    "I1_j[np.isinf(I1_j)] = 0\n",
    "I1_j[np.isnan(I1_j)] = 0\n",
    "\n",
    "sign_jk = z.diagonal_signs(n)\n",
    "\n",
    "alpha_jk = z.zivkovic_alpha(n)[n]\n",
    "T_k = I1_j @ (sign_jk*alpha_jk)\n",
    "T_k[:2] = 0\n",
    "plt.semilogy(T_k)"
   ]
  },
  {
   "cell_type": "code",
   "execution_count": 149,
   "metadata": {},
   "outputs": [
    {
     "name": "stderr",
     "output_type": "stream",
     "text": [
      "/Users/dpr/miniconda3/envs/mmc_py35/lib/python3.5/site-packages/ipykernel_launcher.py:2: RuntimeWarning: divide by zero encountered in true_divide\n",
      "  \n"
     ]
    },
    {
     "data": {
      "text/plain": [
       "[<matplotlib.lines.Line2D at 0x11b2a9be0>]"
      ]
     },
     "execution_count": 149,
     "metadata": {},
     "output_type": "execute_result"
    },
    {
     "data": {
      "image/png": "[encoded data removed]",
      "text/plain": [
       "<matplotlib.figure.Figure at 0x11decc4e0>"
      ]
     },
     "metadata": {},
     "output_type": "display_data"
    }
   ],
   "source": [
    "plt.semilogy(T_k[:15])\n",
    "plt.semilogy(1/binom(np.arange(15),2))"
   ]
  },
  {
   "cell_type": "code",
   "execution_count": 152,
   "metadata": {},
   "outputs": [
    {
     "data": {
      "text/plain": [
       "[<matplotlib.lines.Line2D at 0x11e705ba8>]"
      ]
     },
     "execution_count": 152,
     "metadata": {},
     "output_type": "execute_result"
    },
    {
     "data": {
      "image/png": "[encoded data removed]",
      "text/plain": [
       "<matplotlib.figure.Figure at 0x11e7054e0>"
      ]
     },
     "metadata": {},
     "output_type": "display_data"
    }
   ],
   "source": [
    "plt.semilogy(T_k[-10:])\n",
    "plt.semilogy(1/binom(np.arange(90,100),2))"
   ]
  },
  {
   "cell_type": "code",
   "execution_count": null,
   "metadata": {
    "collapsed": true
   },
   "outputs": [],
   "source": []
  }
 ],
 "metadata": {
  "kernelspec": {
   "display_name": "Python 3",
   "language": "python",
   "name": "python3"
  },
  "language_info": {
   "codemirror_mode": {
    "name": "ipython",
    "version": 3
   },
   "file_extension": ".py",
   "mimetype": "text/x-python",
   "name": "python",
   "nbconvert_exporter": "python",
   "pygments_lexer": "ipython3",
   "version": "3.5.3"
  }
 },
 "nbformat": 4,
 "nbformat_minor": 2
}
