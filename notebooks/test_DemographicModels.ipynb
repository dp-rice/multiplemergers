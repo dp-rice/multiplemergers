{
 "cells": [
  {
   "cell_type": "code",
   "execution_count": 1,
   "metadata": {
    "collapsed": true
   },
   "outputs": [],
   "source": [
    "import numpy as np\n",
    "import matplotlib.pyplot as plt\n",
    "%matplotlib inline"
   ]
  },
  {
   "cell_type": "code",
   "execution_count": 2,
   "metadata": {},
   "outputs": [],
   "source": [
    "import sys\n",
    "import os\n",
    "module_path = os.path.abspath(os.path.join('../src'))\n",
    "if module_path not in sys.path:\n",
    "    sys.path.append(module_path)"
   ]
  },
  {
   "cell_type": "code",
   "execution_count": 3,
   "metadata": {},
   "outputs": [
    {
     "name": "stdout",
     "output_type": "stream",
     "text": [
      "['', '/Users/dpr/miniconda3/envs/mmc_py35/lib/python35.zip', '/Users/dpr/miniconda3/envs/mmc_py35/lib/python3.5', '/Users/dpr/miniconda3/envs/mmc_py35/lib/python3.5/plat-darwin', '/Users/dpr/miniconda3/envs/mmc_py35/lib/python3.5/lib-dynload', '/Users/dpr/miniconda3/envs/mmc_py35/lib/python3.5/site-packages', '/Users/dpr/miniconda3/envs/mmc_py35/lib/python3.5/site-packages/cycler-0.10.0-py3.5.egg', '/Users/dpr/miniconda3/envs/mmc_py35/lib/python3.5/site-packages/pysftp-0.2.9-py3.5.egg', '/Users/dpr/miniconda3/envs/mmc_py35/lib/python3.5/site-packages/python_dateutil-2.3-py3.5.egg', '/Users/dpr/miniconda3/envs/mmc_py35/lib/python3.5/site-packages/svgwrite-1.1.6-py3.5.egg', '/Users/dpr/miniconda3/envs/mmc_py35/lib/python3.5/site-packages/urllib3-1.12-py3.5.egg', '/Users/dpr/miniconda3/envs/mmc_py35/lib/python3.5/site-packages/IPython/extensions', '/Users/dpr/.ipython', '/Users/dpr/mmc_genomics/src']\n"
     ]
    }
   ],
   "source": [
    "print(sys.path)"
   ]
  },
  {
   "cell_type": "code",
   "execution_count": 4,
   "metadata": {},
   "outputs": [],
   "source": [
    "from demographicmodel import DemographicModel"
   ]
  },
  {
   "cell_type": "code",
   "execution_count": 7,
   "metadata": {
    "collapsed": true
   },
   "outputs": [],
   "source": [
    "model_fn = '../fastNeutrino/examples/model1ExponentialEpochInferredParams.txt'\n",
    "model = DemographicModel()\n",
    "model.read_fastNeutrino_output(model_fn)"
   ]
  },
  {
   "cell_type": "code",
   "execution_count": 9,
   "metadata": {},
   "outputs": [
    {
     "data": {
      "text/plain": [
       "[<matplotlib.lines.Line2D at 0x1097718d0>]"
      ]
     },
     "execution_count": 9,
     "metadata": {},
     "output_type": "execute_result"
    },
    {
     "data": {
      "image/png": "[encoded data removed]",
      "text/plain": [
       "<matplotlib.figure.Figure at 0x1099826a0>"
      ]
     },
     "metadata": {},
     "output_type": "display_data"
    }
   ],
   "source": [
    "t = np.arange(100000)\n",
    "plt.hlines(model.sizes, 1, 1e5, linestyle='dashed', color='0.5')\n",
    "plt.vlines(model.times, 10, 1e7, linestyle='dotted', color='0.5')\n",
    "plt.loglog(t, model.population_size(t), lw=2)"
   ]
  },
  {
   "cell_type": "code",
   "execution_count": null,
   "metadata": {
    "collapsed": true
   },
   "outputs": [],
   "source": []
  }
 ],
 "metadata": {
  "kernelspec": {
   "display_name": "Python 3",
   "language": "python",
   "name": "python3"
  },
  "language_info": {
   "codemirror_mode": {
    "name": "ipython",
    "version": 3
   },
   "file_extension": ".py",
   "mimetype": "text/x-python",
   "name": "python",
   "nbconvert_exporter": "python",
   "pygments_lexer": "ipython3",
   "version": "3.5.3"
  }
 },
 "nbformat": 4,
 "nbformat_minor": 2
}
