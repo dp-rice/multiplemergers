{
 "cells": [
  {
   "cell_type": "markdown",
   "metadata": {},
   "source": [
    "# A first pass at the two-site SFS in the Nelson *et al*. 2012 dataset"
   ]
  },
  {
   "cell_type": "markdown",
   "metadata": {},
   "source": [
    "Daniel P. Rice\n",
    "\n",
    "1 March 2018"
   ]
  },
  {
   "cell_type": "markdown",
   "metadata": {},
   "source": [
    "# Introduction"
   ]
  },
  {
   "cell_type": "markdown",
   "metadata": {},
   "source": [
    "While there are some concerns about the definitions of the target regions in the Nelson *et al.* data file S1, we would still like to be able to use the variants in file S2 to calculate the 1- and 2-site frequency spectra. In this document we'll take the coarsest possible approach: treating each target as a linked locus, ignoring missing data, and using all variant types (e.g. synonymous, nonsynonymous, intron) simultaneously. Later, we'll refine the analysis by stratifying by type, calculating statistics as a function of distance, and treating missing data more carefully."
   ]
  },
  {
   "cell_type": "markdown",
   "metadata": {},
   "source": [
    "## Importing the data"
   ]
  },
  {
   "cell_type": "code",
   "execution_count": 1,
   "metadata": {
    "collapsed": true
   },
   "outputs": [],
   "source": [
    "import numpy as np\n",
    "import pandas as pd\n",
    "import matplotlib.pyplot as plt\n",
    "%matplotlib inline"
   ]
  },
  {
   "cell_type": "markdown",
   "metadata": {},
   "source": [
    "Import targets, renaming the start and stop bases of the whole target to the simpler \"Start\" and \"Stop\""
   ]
  },
  {
   "cell_type": "code",
   "execution_count": 2,
   "metadata": {},
   "outputs": [
    {
     "data": {
      "text/html": [
       "<div>\n",
       "<style scoped>\n",
       "    .dataframe tbody tr th:only-of-type {\n",
       "        vertical-align: middle;\n",
       "    }\n",
       "\n",
       "    .dataframe tbody tr th {\n",
       "        vertical-align: top;\n",
       "    }\n",
       "\n",
       "    .dataframe thead th {\n",
       "        text-align: right;\n",
       "    }\n",
       "</style>\n",
       "<table border=\"1\" class=\"dataframe\">\n",
       "  <thead>\n",
       "    <tr style=\"text-align: right;\">\n",
       "      <th></th>\n",
       "      <th>Gene</th>\n",
       "      <th>Gene37</th>\n",
       "      <th>Chromosome</th>\n",
       "      <th>Exon.NCBI.36.Start</th>\n",
       "      <th>Exon.NCBI.36.Stop</th>\n",
       "      <th>Start</th>\n",
       "      <th>Stop</th>\n",
       "      <th>Entrez.Gene.ID</th>\n",
       "      <th>Transcript</th>\n",
       "      <th>Ensembl.Gene.ID</th>\n",
       "      <th>...</th>\n",
       "      <th>intron</th>\n",
       "      <th>upstream</th>\n",
       "      <th>downstream</th>\n",
       "      <th>code.cover</th>\n",
       "      <th>utr.cover</th>\n",
       "      <th>intron.cover</th>\n",
       "      <th>upstream.cover</th>\n",
       "      <th>downstream.cover</th>\n",
       "      <th>TargetLength</th>\n",
       "      <th>CoverLength</th>\n",
       "    </tr>\n",
       "  </thead>\n",
       "  <tbody>\n",
       "    <tr>\n",
       "      <th>0</th>\n",
       "      <td>ABCB1</td>\n",
       "      <td>ABCB1</td>\n",
       "      <td>7</td>\n",
       "      <td>86970884</td>\n",
       "      <td>86971701</td>\n",
       "      <td>86970834</td>\n",
       "      <td>86971751</td>\n",
       "      <td>5243</td>\n",
       "      <td>NM_000927</td>\n",
       "      <td>ENSG00000085563</td>\n",
       "      <td>...</td>\n",
       "      <td>50</td>\n",
       "      <td>0</td>\n",
       "      <td>50</td>\n",
       "      <td>207</td>\n",
       "      <td>611</td>\n",
       "      <td>50</td>\n",
       "      <td>0</td>\n",
       "      <td>50</td>\n",
       "      <td>918</td>\n",
       "      <td>918</td>\n",
       "    </tr>\n",
       "    <tr>\n",
       "      <th>1</th>\n",
       "      <td>ABCB1</td>\n",
       "      <td>ABCB1</td>\n",
       "      <td>7</td>\n",
       "      <td>86973149</td>\n",
       "      <td>86973295</td>\n",
       "      <td>86973099</td>\n",
       "      <td>86973345</td>\n",
       "      <td>5243</td>\n",
       "      <td>NM_000927</td>\n",
       "      <td>ENSG00000085563</td>\n",
       "      <td>...</td>\n",
       "      <td>100</td>\n",
       "      <td>0</td>\n",
       "      <td>0</td>\n",
       "      <td>147</td>\n",
       "      <td>0</td>\n",
       "      <td>100</td>\n",
       "      <td>0</td>\n",
       "      <td>0</td>\n",
       "      <td>247</td>\n",
       "      <td>247</td>\n",
       "    </tr>\n",
       "    <tr>\n",
       "      <th>2</th>\n",
       "      <td>ABCB1</td>\n",
       "      <td>ABCB1</td>\n",
       "      <td>7</td>\n",
       "      <td>86976527</td>\n",
       "      <td>86976733</td>\n",
       "      <td>86976477</td>\n",
       "      <td>86976783</td>\n",
       "      <td>5243</td>\n",
       "      <td>NM_000927</td>\n",
       "      <td>ENSG00000085563</td>\n",
       "      <td>...</td>\n",
       "      <td>100</td>\n",
       "      <td>0</td>\n",
       "      <td>0</td>\n",
       "      <td>207</td>\n",
       "      <td>0</td>\n",
       "      <td>100</td>\n",
       "      <td>0</td>\n",
       "      <td>0</td>\n",
       "      <td>307</td>\n",
       "      <td>307</td>\n",
       "    </tr>\n",
       "    <tr>\n",
       "      <th>3</th>\n",
       "      <td>ABCB1</td>\n",
       "      <td>ABCB1</td>\n",
       "      <td>7</td>\n",
       "      <td>86982483</td>\n",
       "      <td>86982680</td>\n",
       "      <td>86982433</td>\n",
       "      <td>86982730</td>\n",
       "      <td>5243</td>\n",
       "      <td>NM_000927</td>\n",
       "      <td>ENSG00000085563</td>\n",
       "      <td>...</td>\n",
       "      <td>100</td>\n",
       "      <td>0</td>\n",
       "      <td>0</td>\n",
       "      <td>198</td>\n",
       "      <td>0</td>\n",
       "      <td>100</td>\n",
       "      <td>0</td>\n",
       "      <td>0</td>\n",
       "      <td>298</td>\n",
       "      <td>298</td>\n",
       "    </tr>\n",
       "    <tr>\n",
       "      <th>4</th>\n",
       "      <td>ABCB1</td>\n",
       "      <td>ABCB1</td>\n",
       "      <td>7</td>\n",
       "      <td>86983761</td>\n",
       "      <td>86983917</td>\n",
       "      <td>86983711</td>\n",
       "      <td>86983967</td>\n",
       "      <td>5243</td>\n",
       "      <td>NM_000927</td>\n",
       "      <td>ENSG00000085563</td>\n",
       "      <td>...</td>\n",
       "      <td>100</td>\n",
       "      <td>0</td>\n",
       "      <td>0</td>\n",
       "      <td>157</td>\n",
       "      <td>0</td>\n",
       "      <td>100</td>\n",
       "      <td>0</td>\n",
       "      <td>0</td>\n",
       "      <td>257</td>\n",
       "      <td>257</td>\n",
       "    </tr>\n",
       "  </tbody>\n",
       "</table>\n",
       "<p>5 rows × 23 columns</p>\n",
       "</div>"
      ],
      "text/plain": [
       "    Gene Gene37 Chromosome  Exon.NCBI.36.Start  Exon.NCBI.36.Stop     Start  \\\n",
       "0  ABCB1  ABCB1          7            86970884           86971701  86970834   \n",
       "1  ABCB1  ABCB1          7            86973149           86973295  86973099   \n",
       "2  ABCB1  ABCB1          7            86976527           86976733  86976477   \n",
       "3  ABCB1  ABCB1          7            86982483           86982680  86982433   \n",
       "4  ABCB1  ABCB1          7            86983761           86983917  86983711   \n",
       "\n",
       "       Stop  Entrez.Gene.ID Transcript  Ensembl.Gene.ID     ...      intron  \\\n",
       "0  86971751            5243  NM_000927  ENSG00000085563     ...          50   \n",
       "1  86973345            5243  NM_000927  ENSG00000085563     ...         100   \n",
       "2  86976783            5243  NM_000927  ENSG00000085563     ...         100   \n",
       "3  86982730            5243  NM_000927  ENSG00000085563     ...         100   \n",
       "4  86983967            5243  NM_000927  ENSG00000085563     ...         100   \n",
       "\n",
       "   upstream  downstream  code.cover  utr.cover  intron.cover  upstream.cover  \\\n",
       "0         0          50         207        611            50               0   \n",
       "1         0           0         147          0           100               0   \n",
       "2         0           0         207          0           100               0   \n",
       "3         0           0         198          0           100               0   \n",
       "4         0           0         157          0           100               0   \n",
       "\n",
       "   downstream.cover  TargetLength  CoverLength  \n",
       "0                50           918          918  \n",
       "1                 0           247          247  \n",
       "2                 0           307          307  \n",
       "3                 0           298          298  \n",
       "4                 0           257          257  \n",
       "\n",
       "[5 rows x 23 columns]"
      ]
     },
     "execution_count": 2,
     "metadata": {},
     "output_type": "execute_result"
    }
   ],
   "source": [
    "targets = pd.read_table('../data/NelsonEtal/S1_targets.txt')\n",
    "targets = targets.rename(columns={'Exon.plus.50.bp.flanking.sequence.NCBI.36.Start': 'Start', 'Exon.plus.50.bp.flanking.sequence.NCBI.36.Stop': 'Stop'})\n",
    "targets.head()"
   ]
  },
  {
   "cell_type": "code",
   "execution_count": 3,
   "metadata": {},
   "outputs": [
    {
     "name": "stderr",
     "output_type": "stream",
     "text": [
      "/Users/dpr/miniconda3/envs/mmc_py35/lib/python3.5/site-packages/IPython/core/interactiveshell.py:2698: DtypeWarning: Columns (4) have mixed types. Specify dtype option on import or set low_memory=False.\n",
      "  interactivity=interactivity, compiler=compiler, result=result)\n"
     ]
    },
    {
     "data": {
      "text/html": [
       "<div>\n",
       "<style scoped>\n",
       "    .dataframe tbody tr th:only-of-type {\n",
       "        vertical-align: middle;\n",
       "    }\n",
       "\n",
       "    .dataframe tbody tr th {\n",
       "        vertical-align: top;\n",
       "    }\n",
       "\n",
       "    .dataframe thead th {\n",
       "        text-align: right;\n",
       "    }\n",
       "</style>\n",
       "<table border=\"1\" class=\"dataframe\">\n",
       "  <thead>\n",
       "    <tr style=\"text-align: right;\">\n",
       "      <th></th>\n",
       "      <th>local_identifier</th>\n",
       "      <th>NCBI_ss</th>\n",
       "      <th>VARIANT_ID</th>\n",
       "      <th>RSID</th>\n",
       "      <th>CHROMOSOME</th>\n",
       "      <th>POSITION</th>\n",
       "      <th>GENE</th>\n",
       "      <th>REF_ALLELE</th>\n",
       "      <th>REF_ALLELE_COUNT</th>\n",
       "      <th>VARIANT</th>\n",
       "      <th>...</th>\n",
       "      <th>African_American.NOBS</th>\n",
       "      <th>African_American.FREQ</th>\n",
       "      <th>UN_Southern_Asia.MA_COUNT</th>\n",
       "      <th>UN_Southern_Asia.NOBS</th>\n",
       "      <th>UN_Southern_Asia.FREQ</th>\n",
       "      <th>POLYPHEN_PREDICTION</th>\n",
       "      <th>PSIC</th>\n",
       "      <th>SIFT_PREDICTION</th>\n",
       "      <th>SIFT_SCORE</th>\n",
       "      <th>PHYLOP</th>\n",
       "    </tr>\n",
       "  </thead>\n",
       "  <tbody>\n",
       "    <tr>\n",
       "      <th>0</th>\n",
       "      <td>chr1_17217782</td>\n",
       "      <td>491232555</td>\n",
       "      <td>chr1_17217782</td>\n",
       "      <td>NaN</td>\n",
       "      <td>1</td>\n",
       "      <td>17217782</td>\n",
       "      <td>SDHB</td>\n",
       "      <td>C</td>\n",
       "      <td>15563</td>\n",
       "      <td>T</td>\n",
       "      <td>...</td>\n",
       "      <td>848</td>\n",
       "      <td>0.001179</td>\n",
       "      <td>0</td>\n",
       "      <td>610</td>\n",
       "      <td>0.000000</td>\n",
       "      <td>NaN</td>\n",
       "      <td>NaN</td>\n",
       "      <td>NaN</td>\n",
       "      <td>NaN</td>\n",
       "      <td>-0.203</td>\n",
       "    </tr>\n",
       "    <tr>\n",
       "      <th>1</th>\n",
       "      <td>chr1_17217811</td>\n",
       "      <td>491232557</td>\n",
       "      <td>chr1_17217811</td>\n",
       "      <td>NaN</td>\n",
       "      <td>1</td>\n",
       "      <td>17217811</td>\n",
       "      <td>SDHB</td>\n",
       "      <td>T</td>\n",
       "      <td>18807</td>\n",
       "      <td>G</td>\n",
       "      <td>...</td>\n",
       "      <td>986</td>\n",
       "      <td>0.000000</td>\n",
       "      <td>0</td>\n",
       "      <td>748</td>\n",
       "      <td>0.000000</td>\n",
       "      <td>NaN</td>\n",
       "      <td>NaN</td>\n",
       "      <td>NaN</td>\n",
       "      <td>NaN</td>\n",
       "      <td>0.036</td>\n",
       "    </tr>\n",
       "    <tr>\n",
       "      <th>2</th>\n",
       "      <td>chr1_17217813</td>\n",
       "      <td>491232558</td>\n",
       "      <td>chr1_17217813</td>\n",
       "      <td>NaN</td>\n",
       "      <td>1</td>\n",
       "      <td>17217813</td>\n",
       "      <td>SDHB</td>\n",
       "      <td>T</td>\n",
       "      <td>19197</td>\n",
       "      <td>C</td>\n",
       "      <td>...</td>\n",
       "      <td>1002</td>\n",
       "      <td>0.000000</td>\n",
       "      <td>4</td>\n",
       "      <td>768</td>\n",
       "      <td>0.005208</td>\n",
       "      <td>NaN</td>\n",
       "      <td>NaN</td>\n",
       "      <td>NaN</td>\n",
       "      <td>NaN</td>\n",
       "      <td>-0.010</td>\n",
       "    </tr>\n",
       "    <tr>\n",
       "      <th>3</th>\n",
       "      <td>chr1_17217820</td>\n",
       "      <td>491232559</td>\n",
       "      <td>chr1_17217820</td>\n",
       "      <td>NaN</td>\n",
       "      <td>1</td>\n",
       "      <td>17217820</td>\n",
       "      <td>SDHB</td>\n",
       "      <td>A</td>\n",
       "      <td>20528</td>\n",
       "      <td>G</td>\n",
       "      <td>...</td>\n",
       "      <td>1052</td>\n",
       "      <td>0.000000</td>\n",
       "      <td>0</td>\n",
       "      <td>826</td>\n",
       "      <td>0.000000</td>\n",
       "      <td>NaN</td>\n",
       "      <td>NaN</td>\n",
       "      <td>NaN</td>\n",
       "      <td>NaN</td>\n",
       "      <td>1.030</td>\n",
       "    </tr>\n",
       "    <tr>\n",
       "      <th>4</th>\n",
       "      <td>chr1_17217853</td>\n",
       "      <td>491232560</td>\n",
       "      <td>chr1_17217853</td>\n",
       "      <td>NaN</td>\n",
       "      <td>1</td>\n",
       "      <td>17217853</td>\n",
       "      <td>SDHB</td>\n",
       "      <td>A</td>\n",
       "      <td>25125</td>\n",
       "      <td>G</td>\n",
       "      <td>...</td>\n",
       "      <td>1166</td>\n",
       "      <td>0.000000</td>\n",
       "      <td>0</td>\n",
       "      <td>1054</td>\n",
       "      <td>0.000000</td>\n",
       "      <td>NaN</td>\n",
       "      <td>NaN</td>\n",
       "      <td>NaN</td>\n",
       "      <td>NaN</td>\n",
       "      <td>-0.133</td>\n",
       "    </tr>\n",
       "  </tbody>\n",
       "</table>\n",
       "<p>5 rows × 59 columns</p>\n",
       "</div>"
      ],
      "text/plain": [
       "  local_identifier    NCBI_ss     VARIANT_ID RSID CHROMOSOME  POSITION  GENE  \\\n",
       "0    chr1_17217782  491232555  chr1_17217782  NaN          1  17217782  SDHB   \n",
       "1    chr1_17217811  491232557  chr1_17217811  NaN          1  17217811  SDHB   \n",
       "2    chr1_17217813  491232558  chr1_17217813  NaN          1  17217813  SDHB   \n",
       "3    chr1_17217820  491232559  chr1_17217820  NaN          1  17217820  SDHB   \n",
       "4    chr1_17217853  491232560  chr1_17217853  NaN          1  17217853  SDHB   \n",
       "\n",
       "  REF_ALLELE  REF_ALLELE_COUNT VARIANT   ...    African_American.NOBS  \\\n",
       "0          C             15563       T   ...                      848   \n",
       "1          T             18807       G   ...                      986   \n",
       "2          T             19197       C   ...                     1002   \n",
       "3          A             20528       G   ...                     1052   \n",
       "4          A             25125       G   ...                     1166   \n",
       "\n",
       "   African_American.FREQ UN_Southern_Asia.MA_COUNT UN_Southern_Asia.NOBS  \\\n",
       "0               0.001179                         0                   610   \n",
       "1               0.000000                         0                   748   \n",
       "2               0.000000                         4                   768   \n",
       "3               0.000000                         0                   826   \n",
       "4               0.000000                         0                  1054   \n",
       "\n",
       "   UN_Southern_Asia.FREQ POLYPHEN_PREDICTION PSIC SIFT_PREDICTION  SIFT_SCORE  \\\n",
       "0               0.000000                 NaN  NaN             NaN         NaN   \n",
       "1               0.000000                 NaN  NaN             NaN         NaN   \n",
       "2               0.005208                 NaN  NaN             NaN         NaN   \n",
       "3               0.000000                 NaN  NaN             NaN         NaN   \n",
       "4               0.000000                 NaN  NaN             NaN         NaN   \n",
       "\n",
       "   PHYLOP  \n",
       "0  -0.203  \n",
       "1   0.036  \n",
       "2  -0.010  \n",
       "3   1.030  \n",
       "4  -0.133  \n",
       "\n",
       "[5 rows x 59 columns]"
      ]
     },
     "execution_count": 3,
     "metadata": {},
     "output_type": "execute_result"
    }
   ],
   "source": [
    "variants = pd.read_table('../data/NelsonEtal/S2_variants.txt')\n",
    "variants.head()"
   ]
  },
  {
   "cell_type": "markdown",
   "metadata": {},
   "source": [
    "In the variant file, the chromosomes are coded as a mixture of strings and ints. Convert them all to strings and rename the column to match the chromosomes in the variant file."
   ]
  },
  {
   "cell_type": "code",
   "execution_count": 4,
   "metadata": {},
   "outputs": [
    {
     "name": "stdout",
     "output_type": "stream",
     "text": [
      "['1', '2', '3', '4', '5', '6', '7', '8', '9', '10', '11', '12', '13', '14', '15', '16', '17', '18', '19', '20', '21', '22', 'X']\n"
     ]
    }
   ],
   "source": [
    "variants = variants.rename(columns={'CHROMOSOME':'Chromosome'})\n",
    "variants.Chromosome = variants.Chromosome.apply(str)\n",
    "print(sorted(variants.Chromosome.unique(), key=lambda c: 23 if c=='X' else int(c)))"
   ]
  },
  {
   "cell_type": "markdown",
   "metadata": {},
   "source": [
    "# Classifying variants by target"
   ]
  },
  {
   "cell_type": "markdown",
   "metadata": {},
   "source": [
    "We're going to assign each variant to the sequencing target region where it is located, which we will treat as a \"locus.\" First, we need to make sure that these targets are non-overlapping."
   ]
  },
  {
   "cell_type": "code",
   "execution_count": 5,
   "metadata": {},
   "outputs": [
    {
     "name": "stdout",
     "output_type": "stream",
     "text": [
      "['1', '2', '3', '4', '5', '6', '7', '8', '9', '10', '11', '12', '13', '14', '15', '16', '17', '18', '19', '20', '21', '22', 'X']\n"
     ]
    }
   ],
   "source": [
    "chroms = sorted(targets.Chromosome.unique(), key=lambda c: 23 if c=='X' else int(c))\n",
    "print(chroms)"
   ]
  },
  {
   "cell_type": "code",
   "execution_count": 6,
   "metadata": {},
   "outputs": [
    {
     "name": "stdout",
     "output_type": "stream",
     "text": [
      "1 6.0\n",
      "2 3.0\n",
      "3 4.0\n",
      "4 11.0\n",
      "5 6.0\n",
      "6 73.0\n",
      "7 17.0\n",
      "8 4.0\n",
      "9 7.0\n",
      "10 61.0\n",
      "11 11.0\n",
      "12 2.0\n",
      "13 35.0\n",
      "14 134.0\n",
      "15 15.0\n",
      "16 279.0\n",
      "17 4.0\n",
      "18 195.0\n",
      "19 10.0\n",
      "20 14.0\n",
      "21 626.0\n",
      "22 90.0\n",
      "X 3.0\n"
     ]
    }
   ],
   "source": [
    "for c in chroms:\n",
    "    targs = targets[targets.Chromosome == c].sort_values('Start')\n",
    "    targs['NextStart'] = targs['Start'].shift(-1)\n",
    "    targs['Diff'] = targs['NextStart'] - targs['Stop']\n",
    "    print(c, targs.Diff.min())"
   ]
  },
  {
   "cell_type": "markdown",
   "metadata": {},
   "source": [
    "All targets begin at least three basepairs after the previous target ends. That is, there is no overlap. So we can proceed to assign variants to targets."
   ]
  },
  {
   "cell_type": "code",
   "execution_count": 7,
   "metadata": {},
   "outputs": [],
   "source": [
    "varMAC = []\n",
    "varNOBS = []\n",
    "varFREQ = []\n",
    "for row in targets[['Chromosome', 'Start', 'Stop']].itertuples():\n",
    "    in_target = (variants.Chromosome==row.Chromosome) & (variants.POSITION >= row.Start) & (variants.POSITION <= row.Stop)\n",
    "    # Only take mutations segregating in the european sample\n",
    "    segregating = variants['Eur.MA_COUNT']>0\n",
    "    target_vars = variants[in_target & segregating]\n",
    "    varMAC.append(list(target_vars['Eur.MA_COUNT']))\n",
    "    varNOBS.append(list(target_vars['Eur.NOBS']))\n",
    "    varFREQ.append(list(target_vars['Eur.FREQ']))\n",
    "targets['varMAC'] = varMAC\n",
    "targets['varNOBS'] = varNOBS\n",
    "targets['varFREQ'] = varFREQ"
   ]
  },
  {
   "cell_type": "markdown",
   "metadata": {},
   "source": [
    "## Number of segregating sites per target"
   ]
  },
  {
   "cell_type": "markdown",
   "metadata": {},
   "source": [
    "Having assigned variants to targets, let's look at some basic summaries of the number of segregating sites in each target."
   ]
  },
  {
   "cell_type": "code",
   "execution_count": 21,
   "metadata": {},
   "outputs": [],
   "source": [
    "targets['nseg'] = targets['varMAC'].apply(len)"
   ]
  },
  {
   "cell_type": "code",
   "execution_count": 22,
   "metadata": {},
   "outputs": [
    {
     "data": {
      "text/plain": [
       "count    1989.000000\n",
       "mean       19.374057\n",
       "std        30.129363\n",
       "min         0.000000\n",
       "25%         7.000000\n",
       "50%        11.000000\n",
       "75%        18.000000\n",
       "max       288.000000\n",
       "Name: nseg, dtype: float64"
      ]
     },
     "execution_count": 22,
     "metadata": {},
     "output_type": "execute_result"
    }
   ],
   "source": [
    "targets.nseg.describe()"
   ]
  },
  {
   "cell_type": "markdown",
   "metadata": {},
   "source": [
    "The number of segregating variants in each target should be linear in the number of bases covered."
   ]
  },
  {
   "cell_type": "code",
   "execution_count": 23,
   "metadata": {},
   "outputs": [
    {
     "name": "stdout",
     "output_type": "stream",
     "text": [
      "Overall fraction of sites segregating in Europeans: 0.0484330126251\n"
     ]
    }
   ],
   "source": [
    "fseg_eur = targets.nseg.sum() / targets.CoverLength.sum()\n",
    "print('Overall fraction of sites segregating in Europeans:', fseg_eur)"
   ]
  },
  {
   "cell_type": "code",
   "execution_count": 24,
   "metadata": {},
   "outputs": [
    {
     "data": {
      "text/plain": [
       "<matplotlib.text.Text at 0x10cf08cc0>"
      ]
     },
     "execution_count": 24,
     "metadata": {},
     "output_type": "execute_result"
    },
    {
     "data": {
      "image/png": "[encoded data removed]",
      "text/plain": [
       "<matplotlib.figure.Figure at 0x113782828>"
      ]
     },
     "metadata": {},
     "output_type": "display_data"
    }
   ],
   "source": [
    "targets.plot(x='CoverLength', y='nseg', style='.', alpha=0.25, legend=False)\n",
    "plt.plot(np.arange(6000), np.arange(6000)*fseg_eur, '--k')\n",
    "plt.xlabel('Number of covered bases')\n",
    "plt.ylabel('Number of segregating variants')"
   ]
  },
  {
   "cell_type": "code",
   "execution_count": 25,
   "metadata": {},
   "outputs": [
    {
     "data": {
      "text/plain": [
       "(0, 60)"
      ]
     },
     "execution_count": 25,
     "metadata": {},
     "output_type": "execute_result"
    },
    {
     "data": {
      "image/png": "[encoded data removed]",
      "text/plain": [
       "<matplotlib.figure.Figure at 0x1162918d0>"
      ]
     },
     "metadata": {},
     "output_type": "display_data"
    }
   ],
   "source": [
    "targets.plot(x='CoverLength', y='nseg', style='.', alpha=0.25, legend=False)\n",
    "plt.plot(np.arange(6000), np.arange(6000)*fseg_eur, '--k')\n",
    "plt.xlabel('Number of covered bases')\n",
    "plt.ylabel('Number of segregating variants')\n",
    "plt.xlim([0,1e3])\n",
    "plt.ylim([0,60])"
   ]
  },
  {
   "cell_type": "code",
   "execution_count": 26,
   "metadata": {},
   "outputs": [
    {
     "data": {
      "image/png": "[encoded data removed]",
      "text/plain": [
       "<matplotlib.figure.Figure at 0x116d8e898>"
      ]
     },
     "metadata": {},
     "output_type": "display_data"
    }
   ],
   "source": [
    "targets.plot(x='CoverLength', y='nseg', style='.', alpha=0.25, legend=False)\n",
    "plt.plot(np.arange(50, 6000), np.arange(50, 6000)*fseg_eur, '--k')\n",
    "plt.xlabel('Number of covered bases')\n",
    "plt.ylabel('Number of segregating variants')\n",
    "plt.xscale('log')\n",
    "plt.yscale('log')"
   ]
  },
  {
   "cell_type": "markdown",
   "metadata": {},
   "source": [
    "## Coverage in European samples."
   ]
  },
  {
   "cell_type": "markdown",
   "metadata": {},
   "source": [
    "Here, we'll look at the number of European samples observed for each variant. We know from the paper that 12,514 European diploid samples were sequenced."
   ]
  },
  {
   "cell_type": "code",
   "execution_count": 37,
   "metadata": {},
   "outputs": [
    {
     "name": "stdout",
     "output_type": "stream",
     "text": [
      "25028\n"
     ]
    }
   ],
   "source": [
    "n_eur = 12514 * 2\n",
    "print(n_eur)"
   ]
  },
  {
   "cell_type": "code",
   "execution_count": 38,
   "metadata": {},
   "outputs": [
    {
     "data": {
      "text/plain": [
       "count    47675.000000\n",
       "mean     24046.065653\n",
       "std       1994.835280\n",
       "min      11010.000000\n",
       "25%      24230.000000\n",
       "50%      24860.000000\n",
       "75%      24990.000000\n",
       "max      25030.000000\n",
       "Name: Eur.NOBS, dtype: float64"
      ]
     },
     "execution_count": 38,
     "metadata": {},
     "output_type": "execute_result"
    }
   ],
   "source": [
    "variants['Eur.NOBS'].describe()"
   ]
  },
  {
   "cell_type": "code",
   "execution_count": 53,
   "metadata": {},
   "outputs": [
    {
     "data": {
      "text/plain": [
       "<matplotlib.axes._subplots.AxesSubplot at 0x1221e6d30>"
      ]
     },
     "execution_count": 53,
     "metadata": {},
     "output_type": "execute_result"
    },
    {
     "data": {
      "image/png": "[encoded data removed]",
      "text/plain": [
       "<matplotlib.figure.Figure at 0x122408048>"
      ]
     },
     "metadata": {},
     "output_type": "display_data"
    }
   ],
   "source": [
    "bins=np.arange(variants['Eur.NOBS'].min(), variants['Eur.NOBS'].max()+100, 100)\n",
    "variants['Eur.NOBS'].hist(bins=bins, histtype='step', cumulative=False)\n",
    "#plt.yscale('log')\n",
    "#plt.xscale('log')"
   ]
  },
  {
   "cell_type": "markdown",
   "metadata": {},
   "source": [
    "The number of European samples per variant is strongly clustered around n_eur. This suggests that we can largely treat the downsampling effects as minimal."
   ]
  },
  {
   "cell_type": "code",
   "execution_count": 56,
   "metadata": {},
   "outputs": [
    {
     "data": {
      "text/plain": [
       "1627"
      ]
     },
     "execution_count": 56,
     "metadata": {},
     "output_type": "execute_result"
    }
   ],
   "source": [
    "(variants['Eur.NOBS'] > n_eur).sum()"
   ]
  },
  {
   "cell_type": "markdown",
   "metadata": {},
   "source": [
    "It's curious that there are 1627 variants with n_obs in Europeans larger than the European sample size. I wonder what's going on here."
   ]
  },
  {
   "cell_type": "code",
   "execution_count": 57,
   "metadata": {},
   "outputs": [
    {
     "data": {
      "text/plain": [
       "0"
      ]
     },
     "execution_count": 57,
     "metadata": {},
     "output_type": "execute_result"
    }
   ],
   "source": [
    "(variants['Eur.NOBS'].apply(int)%2 == 1).sum()"
   ]
  },
  {
   "cell_type": "markdown",
   "metadata": {},
   "source": [
    "There are no odd numbers in Eur.NOBS, which implies that the individual genotypes are always called as diploids."
   ]
  },
  {
   "cell_type": "markdown",
   "metadata": {},
   "source": [
    "# The allele frequency spectrum"
   ]
  },
  {
   "cell_type": "markdown",
   "metadata": {},
   "source": [
    "Before turning to the two-site frequency spectrum, we'll look at the one-site frequency spectrum to make sure that it looks roughly like the published results."
   ]
  },
  {
   "cell_type": "markdown",
   "metadata": {},
   "source": [
    "## Coarse summary"
   ]
  },
  {
   "cell_type": "markdown",
   "metadata": {},
   "source": [
    "Table S5A gives the counts of mutations in various frequency bins. Let's try to verify these results. First, there should be 38535 variants in the European sample and 9140 that are present in the entire sample but missing from the European sequences."
   ]
  },
  {
   "cell_type": "code",
   "execution_count": 65,
   "metadata": {},
   "outputs": [
    {
     "name": "stdout",
     "output_type": "stream",
     "text": [
      "Non-European: 9140\n",
      "European: 38535\n"
     ]
    }
   ],
   "source": [
    "n_noneur = np.sum(variants['Eur.FREQ'] == 0)\n",
    "n_eur = len(variants) - n_noneur\n",
    "print('Non-European:', n_noneur)\n",
    "print('European:', n_eur)"
   ]
  },
  {
   "cell_type": "markdown",
   "metadata": {},
   "source": [
    "These numbers check out. Now we'll check singletons and doubletons, which should be 23,244 and 5,339 respectively."
   ]
  },
  {
   "cell_type": "code",
   "execution_count": 66,
   "metadata": {},
   "outputs": [
    {
     "name": "stdout",
     "output_type": "stream",
     "text": [
      "Singleton: 23244\n",
      "Doubleton: 5339\n"
     ]
    }
   ],
   "source": [
    "n_sing = np.sum(variants['Eur.MA_COUNT'] == 1)\n",
    "n_doub = np.sum(variants['Eur.MA_COUNT'] == 2)\n",
    "print('Singleton:', n_sing)\n",
    "print('Doubleton:', n_doub)"
   ]
  },
  {
   "cell_type": "markdown",
   "metadata": {},
   "source": [
    "These also check out. The rest of the table separates the variants by frequncy bins:"
   ]
  },
  {
   "cell_type": "code",
   "execution_count": 95,
   "metadata": {},
   "outputs": [
    {
     "name": "stdout",
     "output_type": "stream",
     "text": [
      "[[6889 1188  557  280 1038]\n",
      " [7228 1189  557  280 1031]]\n"
     ]
    }
   ],
   "source": [
    "f_bins = np.array([0.0001, 0.001, 0.005, 0.02, 0.05, 0.50])\n",
    "s5a_counts = np.array([6889, 1188, 557, 280, 1038])\n",
    "counts = np.histogram(variants['Eur.FREQ'], bins=f_bins)[0]\n",
    "print(np.vstack([s5a_counts, counts]))"
   ]
  },
  {
   "cell_type": "markdown",
   "metadata": {},
   "source": [
    "The two bins match, but the three do not. The numpy histogram function uses bins that are half-open to the right, while the SI uses bins that are half-open to the left. Also, the SI says that the lowest frequency bin excludes doubletons that happen to fall into this bin due to missing samples. We'll try to correct for this:"
   ]
  },
  {
   "cell_type": "code",
   "execution_count": 99,
   "metadata": {},
   "outputs": [
    {
     "name": "stdout",
     "output_type": "stream",
     "text": [
      "6889\n",
      "1188\n"
     ]
    }
   ],
   "source": [
    "true_lowest_bin = (variants['Eur.FREQ'] > 0.0001) & (variants['Eur.FREQ'] <= 0.001) & (variants['Eur.MA_COUNT'] != 2)\n",
    "true_second_bin = (variants['Eur.FREQ'] > 0.001) & (variants['Eur.FREQ'] <= 0.005)\n",
    "print(true_lowest_bin.sum())\n",
    "print(true_second_bin.sum())"
   ]
  },
  {
   "cell_type": "markdown",
   "metadata": {},
   "source": [
    "That works and reproduces the correct values.\n",
    "\n",
    "For the upper bin, we're missing seven mutations. The mismatch in the size of the European sample suggests that there may be variants with MAF larger than 0.5."
   ]
  },
  {
   "cell_type": "code",
   "execution_count": 100,
   "metadata": {},
   "outputs": [
    {
     "data": {
      "text/plain": [
       "count    47675.000000\n",
       "mean         0.005088\n",
       "std          0.036998\n",
       "min          0.000000\n",
       "25%          0.000040\n",
       "50%          0.000040\n",
       "75%          0.000081\n",
       "max          0.524300\n",
       "Name: Eur.FREQ, dtype: float64"
      ]
     },
     "execution_count": 100,
     "metadata": {},
     "output_type": "execute_result"
    }
   ],
   "source": [
    "variants['Eur.FREQ'].describe()"
   ]
  },
  {
   "cell_type": "code",
   "execution_count": 102,
   "metadata": {},
   "outputs": [
    {
     "name": "stdout",
     "output_type": "stream",
     "text": [
      "1038\n"
     ]
    }
   ],
   "source": [
    "true_highest_bin = variants['Eur.FREQ'] > 0.05\n",
    "print(true_highest_bin.sum())"
   ]
  },
  {
   "cell_type": "markdown",
   "metadata": {},
   "source": [
    "There are in fact seven mutations with frequencies greater than 0.5. Including them, gives the correct count."
   ]
  },
  {
   "cell_type": "markdown",
   "metadata": {},
   "source": [
    "## Downsampled European SFS"
   ]
  },
  {
   "cell_type": "markdown",
   "metadata": {},
   "source": [
    "To calculate allele frequency spectra, the authors downsample the European mutations to a sample size of 11,000, which they say leads to 84.6% of target sites being included (p. S14). They then use a hypergeometric model to calculate the expected downsampled sfs from the observed sfs."
   ]
  },
  {
   "cell_type": "code",
   "execution_count": 114,
   "metadata": {},
   "outputs": [
    {
     "name": "stdout",
     "output_type": "stream",
     "text": [
      "0.90045097011\n"
     ]
    }
   ],
   "source": [
    "n_ds = 11000*2\n",
    "include = variants['Eur.NOBS'] >= n_ds\n",
    "print(include.sum() / len(variants))"
   ]
  },
  {
   "cell_type": "markdown",
   "metadata": {},
   "source": [
    "Among variant sites, 90.0% meet the coverage criterion, compared with 84.6% of targeted sites. We can use the latter number to compute the total (monomorphic and polymorphic) sites to include:"
   ]
  },
  {
   "cell_type": "code",
   "execution_count": 128,
   "metadata": {},
   "outputs": [
    {
     "name": "stdout",
     "output_type": "stream",
     "text": [
      "722996.0\n"
     ]
    }
   ],
   "source": [
    "fraction_target_included = 0.846\n",
    "included_sites = np.ceil(targets.TargetLength.sum()*fraction_target_included)\n",
    "print(included_sites)"
   ]
  },
  {
   "cell_type": "code",
   "execution_count": 120,
   "metadata": {
    "collapsed": true
   },
   "outputs": [],
   "source": [
    "from scipy.stats import hypergeom"
   ]
  },
  {
   "cell_type": "code",
   "execution_count": 125,
   "metadata": {},
   "outputs": [],
   "source": [
    "f = np.arange(1, n_ds//2)\n",
    "SFS = np.zeros_like(f, dtype=float)"
   ]
  },
  {
   "cell_type": "code",
   "execution_count": 126,
   "metadata": {},
   "outputs": [],
   "source": [
    "for row in variants[include][['Eur.NOBS', 'Eur.MA_COUNT']].itertuples():\n",
    "    SFS += hypergeom(row[1], n_ds, row[2]).pmf(f)"
   ]
  },
  {
   "cell_type": "markdown",
   "metadata": {},
   "source": [
    "Now, we can plot the downsampled site frequency spectrum. We'll chose the axis bounds, etc. to match Fig. 1A in the main text of the paper. They also plot the $1/f$ site frequency spectrum for two different estimates of $\\theta$. We'll do the same."
   ]
  },
  {
   "cell_type": "code",
   "execution_count": 127,
   "metadata": {
    "collapsed": true
   },
   "outputs": [],
   "source": [
    "sfs_neut = (1/f) + 1/(n_ds-f)"
   ]
  },
  {
   "cell_type": "code",
   "execution_count": 135,
   "metadata": {},
   "outputs": [],
   "source": [
    "variable_fraction = np.sum(SFS) / included_sites\n",
    "theta_w = variable_fraction / np.sum(1/np.arange(1,n_ds))"
   ]
  },
  {
   "cell_type": "code",
   "execution_count": 136,
   "metadata": {},
   "outputs": [],
   "source": [
    "pi_weights = 2*f*(n_ds-f) / (n_ds*(n_ds-1))\n",
    "theta_pi = np.dot(SFS, pi_weights) / included_sites"
   ]
  },
  {
   "cell_type": "code",
   "execution_count": 137,
   "metadata": {
    "collapsed": true
   },
   "outputs": [],
   "source": [
    "sfs_obs = SFS/included_sites"
   ]
  },
  {
   "cell_type": "code",
   "execution_count": 138,
   "metadata": {},
   "outputs": [
    {
     "data": {
      "text/plain": [
       "<matplotlib.text.Text at 0x11f307438>"
      ]
     },
     "execution_count": 138,
     "metadata": {},
     "output_type": "execute_result"
    },
    {
     "data": {
      "image/png": "[encoded data removed]",
      "text/plain": [
       "<matplotlib.figure.Figure at 0x11f297908>"
      ]
     },
     "metadata": {},
     "output_type": "display_data"
    }
   ],
   "source": [
    "plt.figure(figsize=(4,4))\n",
    "plt.loglog(f, sfs_obs*1e3, lw=2)\n",
    "plt.loglog(f, sfs_neut*theta_w*1e3, color='0.5', lw=2, label='$\\\\theta_w = {0:.4f}$'.format(theta_w))\n",
    "plt.loglog(f, sfs_neut*theta_pi*1e3, color='0.25', lw=2, label='$\\\\theta_{{\\pi}} = {0:.4f}$'.format(theta_pi))\n",
    "\n",
    "plt.legend()\n",
    "plt.ylim([1e-5,1e2])\n",
    "plt.xlim([1,1e4])\n",
    "plt.xlabel('Minor allele count')\n",
    "plt.ylabel('Variant count per kb')"
   ]
  },
  {
   "cell_type": "markdown",
   "metadata": {},
   "source": [
    "The overall diversity is lower than in Fig. 1A, but this is probably because we're looking at the European subset and 1A plots the SFS for the whole data. Otherwise, there is qualitative agreement: $\\theta_w \\gg \\theta_{\\pi}$, and there is an excess of low-frequency mutations compared to the constant $N$ prediction. The other difference between this figure and 1A is that we're not breaking the mutations out by category, and we're including the (relatively few) upstream and downstream mutations.\n",
    "\n",
    "The main text claims that the Europeans have 1 variant per 21 bp. We can calculate this two ways:\n",
    "1. Total bases covered divided by total European variants\n",
    "2. The inverse of our variable fraction estimate taking into account downsampling"
   ]
  },
  {
   "cell_type": "code",
   "execution_count": 141,
   "metadata": {},
   "outputs": [
    {
     "name": "stdout",
     "output_type": "stream",
     "text": [
      "20.6470740885\n",
      "22.2906856823\n"
     ]
    }
   ],
   "source": [
    "print(targets.CoverLength.sum() / (variants['Eur.MA_COUNT']>0).sum())\n",
    "print(1/variable_fraction)"
   ]
  },
  {
   "cell_type": "markdown",
   "metadata": {},
   "source": [
    "The total bases/total variants ratio matches the claim of the paper. The other estimate gives slightly less diversity."
   ]
  },
  {
   "cell_type": "markdown",
   "metadata": {},
   "source": [
    "# Two-site frequency spectrum"
   ]
  },
  {
   "cell_type": "markdown",
   "metadata": {},
   "source": [
    "Ideally, we would calculate the 2-site frequency spectrum as a function of distance for each of the feature categories. This would require more information than we currently have because we don't know the n_obs or features for monomorphic sites. We'll begin by treating all the sites equivalently and calculating the reduced SFS for each target."
   ]
  },
  {
   "cell_type": "markdown",
   "metadata": {},
   "source": [
    "In order to calculate the high/low-frequency counts, we need to chose a cutoff. To start with, we'll chose a minor allele count of 10. Then we'll classify each covered allele by it's European minor allele frequency: high, low, or zero."
   ]
  },
  {
   "cell_type": "code",
   "execution_count": 145,
   "metadata": {
    "collapsed": true
   },
   "outputs": [],
   "source": [
    "cutoff = 10 / n_eur"
   ]
  },
  {
   "cell_type": "code",
   "execution_count": null,
   "metadata": {
    "collapsed": true
   },
   "outputs": [],
   "source": [
    "targets['n_zero'] = targets['varFREQ'].apply()"
   ]
  },
  {
   "cell_type": "markdown",
   "metadata": {},
   "source": [
    "# Misc."
   ]
  },
  {
   "cell_type": "code",
   "execution_count": null,
   "metadata": {
    "collapsed": true
   },
   "outputs": [],
   "source": []
  },
  {
   "cell_type": "markdown",
   "metadata": {},
   "source": [
    "# Conclusions"
   ]
  },
  {
   "cell_type": "markdown",
   "metadata": {},
   "source": [
    "I've identified 4 types of inconsistencies in supplimentary data file S1:\n",
    "1. There are fewer total bases in targets and fewer coding bases per gene than reported in the SI.\n",
    "2. The right flanking region of some targets extends more than 50bp beyond the exon stop position.\n",
    "3. For some targets, the number of coding and UTR bases excedes the exon length and even the target length.\n",
    "4. For some targets, the number of intron bases is negative.\n",
    "\n",
    "The first inconsistency could be due to file S1 excluding some targets that were used to calculate the numbers reported in the SI. The second could be due to either an error in identifying exons, or the fact that some targets truly extend beyond 50bp past the exon for an unknown reason.\n",
    "\n",
    "The third and fourth inconsistencies are potentially more problematic. I believe that either: (1) coding and UTR bases are not mutually exclusive, (2) these bases were misidentified/misreported, or (3) the target regions were misreported. In any case, the negative values for intron bases are an error. A further complication is that the total number of coding and UTR bases match the numbers reported in the main text.\n",
    "\n",
    "The next step will be to compare the exon start positions with an Ensembl BioMart query to check consistency with that database."
   ]
  }
 ],
 "metadata": {
  "kernelspec": {
   "display_name": "Python 3",
   "language": "python",
   "name": "python3"
  },
  "language_info": {
   "codemirror_mode": {
    "name": "ipython",
    "version": 3
   },
   "file_extension": ".py",
   "mimetype": "text/x-python",
   "name": "python",
   "nbconvert_exporter": "python",
   "pygments_lexer": "ipython3",
   "version": "3.5.3"
  }
 },
 "nbformat": 4,
 "nbformat_minor": 2
}
