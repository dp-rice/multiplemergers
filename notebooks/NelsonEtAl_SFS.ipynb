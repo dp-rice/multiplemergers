{
 "cells": [
  {
   "cell_type": "markdown",
   "metadata": {},
   "source": [
    "# The 2-site frequency spectrum of 200 genes in 1,000 European samples"
   ]
  },
  {
   "cell_type": "markdown",
   "metadata": {},
   "source": [
    "The goal of this notebook is to calculate the 1- and 2-site frequency spectrum from the Nelson et al. dataset, which includes ~1K European samples sequenced to high coverage at ~200 genes. We're doing this because it is one of two data sets used as examples by the fastNeutrino paper. The next step will be to use msprime to calculate the 2-site frequency spectrum in msprime simulations of the best-fit fastNeutrino demographic model.\n",
    "\n",
    "Here we will:\n",
    "- Apply the coverage filters to the variants in the variant file (S2).\n",
    "- Calculate the gene-by-gene SFS for four-fold degenerate sites and compare to those reported in file S3. (This is purely a sanity check. We're not interested in gene-by-gene SFS.)\n",
    "- Calculate the overall 1- and 2-site frequency spectra across genes. We will coarse-grain the 2-SFS into high- and low-frequency snps.\n",
    "- Test the sensitivity of the 2-site frequency spectrum to:\n",
    "    - The cutoff frequency between high and low frequency\n",
    "    - The cutoff distance between snps for inclusion in the 2-site frequency spectrum."
   ]
  },
  {
   "cell_type": "markdown",
   "metadata": {},
   "source": [
    "## Importing the data"
   ]
  },
  {
   "cell_type": "code",
   "execution_count": 1,
   "metadata": {
    "collapsed": true
   },
   "outputs": [],
   "source": [
    "import pandas as pd\n",
    "import numpy as np\n",
    "import matplotlib.pyplot as plt\n",
    "%matplotlib inline"
   ]
  },
  {
   "cell_type": "code",
   "execution_count": 12,
   "metadata": {},
   "outputs": [
    {
     "data": {
      "text/html": [
       "<div>\n",
       "<style scoped>\n",
       "    .dataframe tbody tr th:only-of-type {\n",
       "        vertical-align: middle;\n",
       "    }\n",
       "\n",
       "    .dataframe tbody tr th {\n",
       "        vertical-align: top;\n",
       "    }\n",
       "\n",
       "    .dataframe thead th {\n",
       "        text-align: right;\n",
       "    }\n",
       "</style>\n",
       "<table border=\"1\" class=\"dataframe\">\n",
       "  <thead>\n",
       "    <tr style=\"text-align: right;\">\n",
       "      <th></th>\n",
       "      <th>Gene</th>\n",
       "      <th>Gene37</th>\n",
       "      <th>Chromosome</th>\n",
       "      <th>Exon.NCBI.36.Start</th>\n",
       "      <th>Exon.NCBI.36.Stop</th>\n",
       "      <th>Exon.plus.50.bp.flanking.sequence.NCBI.36.Start</th>\n",
       "      <th>Exon.plus.50.bp.flanking.sequence.NCBI.36.Stop</th>\n",
       "      <th>Entrez.Gene.ID</th>\n",
       "      <th>Transcript</th>\n",
       "      <th>Ensembl.Gene.ID</th>\n",
       "      <th>...</th>\n",
       "      <th>intron</th>\n",
       "      <th>upstream</th>\n",
       "      <th>downstream</th>\n",
       "      <th>code.cover</th>\n",
       "      <th>utr.cover</th>\n",
       "      <th>intron.cover</th>\n",
       "      <th>upstream.cover</th>\n",
       "      <th>downstream.cover</th>\n",
       "      <th>TargetLength</th>\n",
       "      <th>CoverLength</th>\n",
       "    </tr>\n",
       "  </thead>\n",
       "  <tbody>\n",
       "    <tr>\n",
       "      <th>0</th>\n",
       "      <td>ABCB1</td>\n",
       "      <td>ABCB1</td>\n",
       "      <td>7</td>\n",
       "      <td>86970884</td>\n",
       "      <td>86971701</td>\n",
       "      <td>86970834</td>\n",
       "      <td>86971751</td>\n",
       "      <td>5243</td>\n",
       "      <td>NM_000927</td>\n",
       "      <td>ENSG00000085563</td>\n",
       "      <td>...</td>\n",
       "      <td>50</td>\n",
       "      <td>0</td>\n",
       "      <td>50</td>\n",
       "      <td>207</td>\n",
       "      <td>611</td>\n",
       "      <td>50</td>\n",
       "      <td>0</td>\n",
       "      <td>50</td>\n",
       "      <td>918</td>\n",
       "      <td>918</td>\n",
       "    </tr>\n",
       "    <tr>\n",
       "      <th>1</th>\n",
       "      <td>ABCB1</td>\n",
       "      <td>ABCB1</td>\n",
       "      <td>7</td>\n",
       "      <td>86973149</td>\n",
       "      <td>86973295</td>\n",
       "      <td>86973099</td>\n",
       "      <td>86973345</td>\n",
       "      <td>5243</td>\n",
       "      <td>NM_000927</td>\n",
       "      <td>ENSG00000085563</td>\n",
       "      <td>...</td>\n",
       "      <td>100</td>\n",
       "      <td>0</td>\n",
       "      <td>0</td>\n",
       "      <td>147</td>\n",
       "      <td>0</td>\n",
       "      <td>100</td>\n",
       "      <td>0</td>\n",
       "      <td>0</td>\n",
       "      <td>247</td>\n",
       "      <td>247</td>\n",
       "    </tr>\n",
       "    <tr>\n",
       "      <th>2</th>\n",
       "      <td>ABCB1</td>\n",
       "      <td>ABCB1</td>\n",
       "      <td>7</td>\n",
       "      <td>86976527</td>\n",
       "      <td>86976733</td>\n",
       "      <td>86976477</td>\n",
       "      <td>86976783</td>\n",
       "      <td>5243</td>\n",
       "      <td>NM_000927</td>\n",
       "      <td>ENSG00000085563</td>\n",
       "      <td>...</td>\n",
       "      <td>100</td>\n",
       "      <td>0</td>\n",
       "      <td>0</td>\n",
       "      <td>207</td>\n",
       "      <td>0</td>\n",
       "      <td>100</td>\n",
       "      <td>0</td>\n",
       "      <td>0</td>\n",
       "      <td>307</td>\n",
       "      <td>307</td>\n",
       "    </tr>\n",
       "    <tr>\n",
       "      <th>3</th>\n",
       "      <td>ABCB1</td>\n",
       "      <td>ABCB1</td>\n",
       "      <td>7</td>\n",
       "      <td>86982483</td>\n",
       "      <td>86982680</td>\n",
       "      <td>86982433</td>\n",
       "      <td>86982730</td>\n",
       "      <td>5243</td>\n",
       "      <td>NM_000927</td>\n",
       "      <td>ENSG00000085563</td>\n",
       "      <td>...</td>\n",
       "      <td>100</td>\n",
       "      <td>0</td>\n",
       "      <td>0</td>\n",
       "      <td>198</td>\n",
       "      <td>0</td>\n",
       "      <td>100</td>\n",
       "      <td>0</td>\n",
       "      <td>0</td>\n",
       "      <td>298</td>\n",
       "      <td>298</td>\n",
       "    </tr>\n",
       "    <tr>\n",
       "      <th>4</th>\n",
       "      <td>ABCB1</td>\n",
       "      <td>ABCB1</td>\n",
       "      <td>7</td>\n",
       "      <td>86983761</td>\n",
       "      <td>86983917</td>\n",
       "      <td>86983711</td>\n",
       "      <td>86983967</td>\n",
       "      <td>5243</td>\n",
       "      <td>NM_000927</td>\n",
       "      <td>ENSG00000085563</td>\n",
       "      <td>...</td>\n",
       "      <td>100</td>\n",
       "      <td>0</td>\n",
       "      <td>0</td>\n",
       "      <td>157</td>\n",
       "      <td>0</td>\n",
       "      <td>100</td>\n",
       "      <td>0</td>\n",
       "      <td>0</td>\n",
       "      <td>257</td>\n",
       "      <td>257</td>\n",
       "    </tr>\n",
       "  </tbody>\n",
       "</table>\n",
       "<p>5 rows × 23 columns</p>\n",
       "</div>"
      ],
      "text/plain": [
       "    Gene Gene37 Chromosome  Exon.NCBI.36.Start  Exon.NCBI.36.Stop  \\\n",
       "0  ABCB1  ABCB1          7            86970884           86971701   \n",
       "1  ABCB1  ABCB1          7            86973149           86973295   \n",
       "2  ABCB1  ABCB1          7            86976527           86976733   \n",
       "3  ABCB1  ABCB1          7            86982483           86982680   \n",
       "4  ABCB1  ABCB1          7            86983761           86983917   \n",
       "\n",
       "   Exon.plus.50.bp.flanking.sequence.NCBI.36.Start  \\\n",
       "0                                         86970834   \n",
       "1                                         86973099   \n",
       "2                                         86976477   \n",
       "3                                         86982433   \n",
       "4                                         86983711   \n",
       "\n",
       "   Exon.plus.50.bp.flanking.sequence.NCBI.36.Stop  Entrez.Gene.ID Transcript  \\\n",
       "0                                        86971751            5243  NM_000927   \n",
       "1                                        86973345            5243  NM_000927   \n",
       "2                                        86976783            5243  NM_000927   \n",
       "3                                        86982730            5243  NM_000927   \n",
       "4                                        86983967            5243  NM_000927   \n",
       "\n",
       "   Ensembl.Gene.ID     ...      intron  upstream  downstream  code.cover  \\\n",
       "0  ENSG00000085563     ...          50         0          50         207   \n",
       "1  ENSG00000085563     ...         100         0           0         147   \n",
       "2  ENSG00000085563     ...         100         0           0         207   \n",
       "3  ENSG00000085563     ...         100         0           0         198   \n",
       "4  ENSG00000085563     ...         100         0           0         157   \n",
       "\n",
       "   utr.cover  intron.cover  upstream.cover  downstream.cover  TargetLength  \\\n",
       "0        611            50               0                50           918   \n",
       "1          0           100               0                 0           247   \n",
       "2          0           100               0                 0           307   \n",
       "3          0           100               0                 0           298   \n",
       "4          0           100               0                 0           257   \n",
       "\n",
       "   CoverLength  \n",
       "0          918  \n",
       "1          247  \n",
       "2          307  \n",
       "3          298  \n",
       "4          257  \n",
       "\n",
       "[5 rows x 23 columns]"
      ]
     },
     "execution_count": 12,
     "metadata": {},
     "output_type": "execute_result"
    }
   ],
   "source": [
    "targets = pd.read_table('../data/NelsonEtal/S1_targets.txt')\n",
    "targets.head()"
   ]
  },
  {
   "cell_type": "code",
   "execution_count": 17,
   "metadata": {},
   "outputs": [
    {
     "data": {
      "text/html": [
       "<div>\n",
       "<style scoped>\n",
       "    .dataframe tbody tr th:only-of-type {\n",
       "        vertical-align: middle;\n",
       "    }\n",
       "\n",
       "    .dataframe tbody tr th {\n",
       "        vertical-align: top;\n",
       "    }\n",
       "\n",
       "    .dataframe thead th {\n",
       "        text-align: right;\n",
       "    }\n",
       "</style>\n",
       "<table border=\"1\" class=\"dataframe\">\n",
       "  <thead>\n",
       "    <tr style=\"text-align: right;\">\n",
       "      <th></th>\n",
       "      <th>code</th>\n",
       "      <th>code.cover</th>\n",
       "    </tr>\n",
       "  </thead>\n",
       "  <tbody>\n",
       "    <tr>\n",
       "      <th>count</th>\n",
       "      <td>1989.000000</td>\n",
       "      <td>1989.000000</td>\n",
       "    </tr>\n",
       "    <tr>\n",
       "      <th>mean</th>\n",
       "      <td>176.598291</td>\n",
       "      <td>167.959779</td>\n",
       "    </tr>\n",
       "    <tr>\n",
       "      <th>std</th>\n",
       "      <td>249.279071</td>\n",
       "      <td>243.721186</td>\n",
       "    </tr>\n",
       "    <tr>\n",
       "      <th>min</th>\n",
       "      <td>0.000000</td>\n",
       "      <td>0.000000</td>\n",
       "    </tr>\n",
       "    <tr>\n",
       "      <th>25%</th>\n",
       "      <td>84.000000</td>\n",
       "      <td>80.000000</td>\n",
       "    </tr>\n",
       "    <tr>\n",
       "      <th>50%</th>\n",
       "      <td>128.000000</td>\n",
       "      <td>125.000000</td>\n",
       "    </tr>\n",
       "    <tr>\n",
       "      <th>75%</th>\n",
       "      <td>185.000000</td>\n",
       "      <td>177.000000</td>\n",
       "    </tr>\n",
       "    <tr>\n",
       "      <th>max</th>\n",
       "      <td>4795.000000</td>\n",
       "      <td>4795.000000</td>\n",
       "    </tr>\n",
       "  </tbody>\n",
       "</table>\n",
       "</div>"
      ],
      "text/plain": [
       "              code   code.cover\n",
       "count  1989.000000  1989.000000\n",
       "mean    176.598291   167.959779\n",
       "std     249.279071   243.721186\n",
       "min       0.000000     0.000000\n",
       "25%      84.000000    80.000000\n",
       "50%     128.000000   125.000000\n",
       "75%     185.000000   177.000000\n",
       "max    4795.000000  4795.000000"
      ]
     },
     "execution_count": 17,
     "metadata": {},
     "output_type": "execute_result"
    }
   ],
   "source": [
    "targets[['code', 'code.cover']].describe()"
   ]
  },
  {
   "cell_type": "code",
   "execution_count": 35,
   "metadata": {},
   "outputs": [
    {
     "data": {
      "text/plain": [
       "<matplotlib.axes._subplots.AxesSubplot at 0x120387198>"
      ]
     },
     "execution_count": 35,
     "metadata": {},
     "output_type": "execute_result"
    },
    {
     "data": {
      "image/png": "[encoded data removed]",
      "text/plain": [
       "<matplotlib.figure.Figure at 0x120392a90>"
      ]
     },
     "metadata": {},
     "output_type": "display_data"
    }
   ],
   "source": [
    "targets['code'].hist(bins=np.arange(0,1500,50))"
   ]
  },
  {
   "cell_type": "code",
   "execution_count": 32,
   "metadata": {},
   "outputs": [
    {
     "data": {
      "text/plain": [
       "<matplotlib.axes._subplots.AxesSubplot at 0x11c20a9e8>"
      ]
     },
     "execution_count": 32,
     "metadata": {},
     "output_type": "execute_result"
    },
    {
     "data": {
      "image/png": "[encoded data removed]",
      "text/plain": [
       "<matplotlib.figure.Figure at 0x11b687dd8>"
      ]
     },
     "metadata": {},
     "output_type": "display_data"
    }
   ],
   "source": [
    "grouped = targets.groupby('Gene')\n",
    "gene_lengths = grouped['Exon.NCBI.36.Start'].max() - grouped['Exon.NCBI.36.Start'].min()\n",
    "gene_lengths.describe()\n",
    "gene_lengths.hist(bins=np.arange(0,4e5,10000))"
   ]
  },
  {
   "cell_type": "markdown",
   "metadata": {},
   "source": [
    "Import variant data."
   ]
  },
  {
   "cell_type": "code",
   "execution_count": 90,
   "metadata": {},
   "outputs": [
    {
     "name": "stderr",
     "output_type": "stream",
     "text": [
      "/Users/dpr/miniconda3/envs/mmc_py35/lib/python3.5/site-packages/IPython/core/interactiveshell.py:2698: DtypeWarning: Columns (4) have mixed types. Specify dtype option on import or set low_memory=False.\n",
      "  interactivity=interactivity, compiler=compiler, result=result)\n"
     ]
    }
   ],
   "source": [
    "columns = ['CHROMOSOME','POSITION','GENE','FEATURE','AA1','AA2','Eur.MA_COUNT','Eur.NOBS','Eur.FREQ']\n",
    "variants = pd.read_table('../data/NelsonEtal/S2_variants.txt', usecols=columns)"
   ]
  },
  {
   "cell_type": "markdown",
   "metadata": {},
   "source": [
    "Not sure which columns are giving this error.\n",
    "\n",
    "We only want variants that are (1) segregating in the european sample, and (2) sufficiently well-covered."
   ]
  },
  {
   "cell_type": "code",
   "execution_count": 92,
   "metadata": {
    "collapsed": true
   },
   "outputs": [],
   "source": [
    "n_cutoff = 11000\n",
    "variants = variants[(variants['Eur.MA_COUNT']>0) & (variants['Eur.NOBS']>=2*n_cutoff)]"
   ]
  },
  {
   "cell_type": "markdown",
   "metadata": {},
   "source": [
    "We're going to want to focus (at least in part) on 4-fold degenerate sites."
   ]
  },
  {
   "cell_type": "code",
   "execution_count": 103,
   "metadata": {},
   "outputs": [
    {
     "name": "stdout",
     "output_type": "stream",
     "text": [
      "['A', 'G', 'P', 'V', 'T']\n"
     ]
    }
   ],
   "source": [
    "degenerate_aas = list('AGPVT')\n",
    "print(degenerate_aas)"
   ]
  },
  {
   "cell_type": "code",
   "execution_count": 104,
   "metadata": {
    "collapsed": true
   },
   "outputs": [],
   "source": [
    "degenerate_vars = variants[(variants['FEATURE'] == 'Synonymous') & (variants['AA1'].isin(degenerate_aas))]"
   ]
  },
  {
   "cell_type": "code",
   "execution_count": 138,
   "metadata": {},
   "outputs": [
    {
     "data": {
      "text/html": [
       "<div>\n",
       "<style scoped>\n",
       "    .dataframe tbody tr th:only-of-type {\n",
       "        vertical-align: middle;\n",
       "    }\n",
       "\n",
       "    .dataframe tbody tr th {\n",
       "        vertical-align: top;\n",
       "    }\n",
       "\n",
       "    .dataframe thead th {\n",
       "        text-align: right;\n",
       "    }\n",
       "</style>\n",
       "<table border=\"1\" class=\"dataframe\">\n",
       "  <thead>\n",
       "    <tr style=\"text-align: right;\">\n",
       "      <th></th>\n",
       "      <th>CHROMOSOME</th>\n",
       "      <th>POSITION</th>\n",
       "      <th>GENE</th>\n",
       "      <th>AA1</th>\n",
       "      <th>AA2</th>\n",
       "      <th>Eur.MA_COUNT</th>\n",
       "      <th>Eur.NOBS</th>\n",
       "      <th>Eur.FREQ</th>\n",
       "    </tr>\n",
       "    <tr>\n",
       "      <th>FEATURE</th>\n",
       "      <th></th>\n",
       "      <th></th>\n",
       "      <th></th>\n",
       "      <th></th>\n",
       "      <th></th>\n",
       "      <th></th>\n",
       "      <th></th>\n",
       "      <th></th>\n",
       "    </tr>\n",
       "  </thead>\n",
       "  <tbody>\n",
       "    <tr>\n",
       "      <th>Downstream</th>\n",
       "      <td>162</td>\n",
       "      <td>162</td>\n",
       "      <td>162</td>\n",
       "      <td>0</td>\n",
       "      <td>0</td>\n",
       "      <td>162</td>\n",
       "      <td>162</td>\n",
       "      <td>162</td>\n",
       "    </tr>\n",
       "    <tr>\n",
       "      <th>ESSENTIAL_SPLICE_SITE</th>\n",
       "      <td>20</td>\n",
       "      <td>20</td>\n",
       "      <td>20</td>\n",
       "      <td>20</td>\n",
       "      <td>20</td>\n",
       "      <td>20</td>\n",
       "      <td>20</td>\n",
       "      <td>20</td>\n",
       "    </tr>\n",
       "    <tr>\n",
       "      <th>Intron</th>\n",
       "      <td>7474</td>\n",
       "      <td>7474</td>\n",
       "      <td>7474</td>\n",
       "      <td>125</td>\n",
       "      <td>56</td>\n",
       "      <td>7474</td>\n",
       "      <td>7474</td>\n",
       "      <td>7474</td>\n",
       "    </tr>\n",
       "    <tr>\n",
       "      <th>NonSynonymous</th>\n",
       "      <td>8585</td>\n",
       "      <td>8585</td>\n",
       "      <td>8585</td>\n",
       "      <td>8585</td>\n",
       "      <td>8585</td>\n",
       "      <td>8585</td>\n",
       "      <td>8585</td>\n",
       "      <td>8585</td>\n",
       "    </tr>\n",
       "    <tr>\n",
       "      <th>Nonsense</th>\n",
       "      <td>233</td>\n",
       "      <td>233</td>\n",
       "      <td>233</td>\n",
       "      <td>233</td>\n",
       "      <td>233</td>\n",
       "      <td>233</td>\n",
       "      <td>233</td>\n",
       "      <td>233</td>\n",
       "    </tr>\n",
       "    <tr>\n",
       "      <th>Readthrough</th>\n",
       "      <td>9</td>\n",
       "      <td>9</td>\n",
       "      <td>9</td>\n",
       "      <td>9</td>\n",
       "      <td>9</td>\n",
       "      <td>9</td>\n",
       "      <td>9</td>\n",
       "      <td>9</td>\n",
       "    </tr>\n",
       "    <tr>\n",
       "      <th>SPLICE_SITE</th>\n",
       "      <td>249</td>\n",
       "      <td>249</td>\n",
       "      <td>249</td>\n",
       "      <td>249</td>\n",
       "      <td>249</td>\n",
       "      <td>249</td>\n",
       "      <td>249</td>\n",
       "      <td>249</td>\n",
       "    </tr>\n",
       "    <tr>\n",
       "      <th>Synonymous</th>\n",
       "      <td>5412</td>\n",
       "      <td>5412</td>\n",
       "      <td>5412</td>\n",
       "      <td>5412</td>\n",
       "      <td>5412</td>\n",
       "      <td>5412</td>\n",
       "      <td>5412</td>\n",
       "      <td>5412</td>\n",
       "    </tr>\n",
       "    <tr>\n",
       "      <th>UTR</th>\n",
       "      <td>12406</td>\n",
       "      <td>12406</td>\n",
       "      <td>12406</td>\n",
       "      <td>39</td>\n",
       "      <td>22</td>\n",
       "      <td>12406</td>\n",
       "      <td>12406</td>\n",
       "      <td>12406</td>\n",
       "    </tr>\n",
       "    <tr>\n",
       "      <th>Upstream</th>\n",
       "      <td>216</td>\n",
       "      <td>216</td>\n",
       "      <td>216</td>\n",
       "      <td>0</td>\n",
       "      <td>0</td>\n",
       "      <td>216</td>\n",
       "      <td>216</td>\n",
       "      <td>216</td>\n",
       "    </tr>\n",
       "  </tbody>\n",
       "</table>\n",
       "</div>"
      ],
      "text/plain": [
       "                       CHROMOSOME  POSITION   GENE   AA1   AA2  Eur.MA_COUNT  \\\n",
       "FEATURE                                                                        \n",
       "Downstream                    162       162    162     0     0           162   \n",
       "ESSENTIAL_SPLICE_SITE          20        20     20    20    20            20   \n",
       "Intron                       7474      7474   7474   125    56          7474   \n",
       "NonSynonymous                8585      8585   8585  8585  8585          8585   \n",
       "Nonsense                      233       233    233   233   233           233   \n",
       "Readthrough                     9         9      9     9     9             9   \n",
       "SPLICE_SITE                   249       249    249   249   249           249   \n",
       "Synonymous                   5412      5412   5412  5412  5412          5412   \n",
       "UTR                         12406     12406  12406    39    22         12406   \n",
       "Upstream                      216       216    216     0     0           216   \n",
       "\n",
       "                       Eur.NOBS  Eur.FREQ  \n",
       "FEATURE                                    \n",
       "Downstream                  162       162  \n",
       "ESSENTIAL_SPLICE_SITE        20        20  \n",
       "Intron                     7474      7474  \n",
       "NonSynonymous              8585      8585  \n",
       "Nonsense                    233       233  \n",
       "Readthrough                   9         9  \n",
       "SPLICE_SITE                 249       249  \n",
       "Synonymous                 5412      5412  \n",
       "UTR                       12406     12406  \n",
       "Upstream                    216       216  "
      ]
     },
     "execution_count": 138,
     "metadata": {},
     "output_type": "execute_result"
    }
   ],
   "source": [
    "variants.groupby('FEATURE').agg('count')"
   ]
  },
  {
   "cell_type": "code",
   "execution_count": 105,
   "metadata": {},
   "outputs": [
    {
     "data": {
      "text/plain": [
       "(2165, 9)"
      ]
     },
     "execution_count": 105,
     "metadata": {},
     "output_type": "execute_result"
    }
   ],
   "source": [
    "\n",
    "degenerate_vars.shape"
   ]
  },
  {
   "cell_type": "markdown",
   "metadata": {},
   "source": [
    "## Allele frequency spectra"
   ]
  },
  {
   "cell_type": "markdown",
   "metadata": {},
   "source": [
    "Compare the sfs for 4-fold degenerate, all synonymous, and non-synonymous mutations:"
   ]
  },
  {
   "cell_type": "code",
   "execution_count": 135,
   "metadata": {},
   "outputs": [
    {
     "data": {
      "text/plain": [
       "[<matplotlib.lines.Line2D at 0x12a8da2e8>]"
      ]
     },
     "execution_count": 135,
     "metadata": {},
     "output_type": "execute_result"
    },
    {
     "data": {
      "image/png": "[encoded data removed]",
      "text/plain": [
       "<matplotlib.figure.Figure at 0x12a3147b8>"
      ]
     },
     "metadata": {},
     "output_type": "display_data"
    }
   ],
   "source": [
    "x = np.arange(1,n_cutoff+1,0.5)\n",
    "sfs_syn = np.histogram(variants[variants['FEATURE']=='Synonymous']['Eur.FREQ'],bins=x/n_cutoff)[0]\n",
    "sfs_non = np.histogram(variants[variants['FEATURE']=='NonSynonymous']['Eur.FREQ'],bins=x/n_cutoff)[0]\n",
    "sfs_4d = np.histogram(degenerate_vars['Eur.FREQ'],bins=x/n_cutoff)[0]\n",
    "plt.semilogx(x[:-1], np.cumsum(sfs_4d)/np.sum(sfs_4d))\n",
    "plt.semilogx(x[:-1], np.cumsum(sfs_syn)/np.sum(sfs_syn))\n",
    "plt.semilogx(x[:-1], np.cumsum(sfs_non)/np.sum(sfs_non))"
   ]
  },
  {
   "cell_type": "code",
   "execution_count": 191,
   "metadata": {},
   "outputs": [
    {
     "data": {
      "text/plain": [
       "[<matplotlib.lines.Line2D at 0x127622898>]"
      ]
     },
     "execution_count": 191,
     "metadata": {},
     "output_type": "execute_result"
    },
    {
     "data": {
      "image/png": "[encoded data removed]",
      "text/plain": [
       "<matplotlib.figure.Figure at 0x12ef94080>"
      ]
     },
     "metadata": {},
     "output_type": "display_data"
    }
   ],
   "source": [
    "plt.semilogx(x[:-1], np.cumsum(sfs_4d))\n",
    "plt.semilogx(x[:-1], np.cumsum(sfs_syn))\n",
    "plt.semilogx(x[:-1], np.cumsum(sfs_non))"
   ]
  },
  {
   "cell_type": "code",
   "execution_count": 148,
   "metadata": {},
   "outputs": [
    {
     "data": {
      "text/plain": [
       "<matplotlib.axes._subplots.AxesSubplot at 0x12e4e4fd0>"
      ]
     },
     "execution_count": 148,
     "metadata": {},
     "output_type": "execute_result"
    },
    {
     "data": {
      "image/png": "[encoded data removed]",
      "text/plain": [
       "<matplotlib.figure.Figure at 0x12a9cadd8>"
      ]
     },
     "metadata": {},
     "output_type": "display_data"
    }
   ],
   "source": [
    "degenerate_vars.groupby('GENE').size().hist()"
   ]
  },
  {
   "cell_type": "code",
   "execution_count": 196,
   "metadata": {},
   "outputs": [
    {
     "data": {
      "text/plain": [
       "<matplotlib.text.Text at 0x12f1d3c18>"
      ]
     },
     "execution_count": 196,
     "metadata": {},
     "output_type": "execute_result"
    },
    {
     "data": {
      "image/png": "[encoded data removed]",
      "text/plain": [
       "<matplotlib.figure.Figure at 0x12c122a20>"
      ]
     },
     "metadata": {},
     "output_type": "display_data"
    }
   ],
   "source": [
    "grouped = degenerate_vars.groupby('GENE')\n",
    "for d_cutoff in np.arange(10,300,10):\n",
    "    n_comps = 0\n",
    "    for g, muts in grouped:\n",
    "        #muts = grouped.get_group(g)\n",
    "        pos = muts['POSITION']\n",
    "        p_diff = np.abs(pos[:,None]-pos[None,:])\n",
    "        n_comps += np.sum((p_diff>0) & (p_diff<=d_cutoff))\n",
    "    plt.plot(d_cutoff, n_comps, '.k')\n",
    "plt.ylim([0,5000])\n",
    "plt.xlabel('Distance cutoff')\n",
    "plt.ylabel('Number of pairs of snps')\n",
    "plt.title('Pairs of snps at 4-fold degenerate sites')"
   ]
  },
  {
   "cell_type": "code",
   "execution_count": 198,
   "metadata": {},
   "outputs": [
    {
     "data": {
      "text/plain": [
       "<matplotlib.text.Text at 0x12f389358>"
      ]
     },
     "execution_count": 198,
     "metadata": {},
     "output_type": "execute_result"
    },
    {
     "data": {
      "image/png": "[encoded data removed]",
      "text/plain": [
       "<matplotlib.figure.Figure at 0x12c122f60>"
      ]
     },
     "metadata": {},
     "output_type": "display_data"
    }
   ],
   "source": [
    "grouped = variants[variants['FEATURE']=='Synonymous'].groupby('GENE')\n",
    "for d_cutoff in np.arange(10,300,10):\n",
    "    n_comps = 0\n",
    "    for g, muts in grouped:\n",
    "        #muts = grouped.get_group(g)\n",
    "        pos = muts['POSITION']\n",
    "        p_diff = np.abs(pos[:,None]-pos[None,:])\n",
    "        n_comps += np.sum((p_diff>0) & (p_diff<=d_cutoff))\n",
    "    plt.plot(d_cutoff, n_comps, '.k')\n",
    "#plt.ylim([0,5000])\n",
    "plt.xlabel('Distance cutoff')\n",
    "plt.ylabel('Number of pairs of snps')\n",
    "plt.title('Pairs of synonymous snps')"
   ]
  },
  {
   "cell_type": "code",
   "execution_count": 193,
   "metadata": {},
   "outputs": [
    {
     "ename": "AttributeError",
     "evalue": "'DataFrameGroupBy' object has no attribute 'getgroups'",
     "output_type": "error",
     "traceback": [
      "\u001b[0;31m---------------------------------------------------------------------------\u001b[0m",
      "\u001b[0;31mAttributeError\u001b[0m                            Traceback (most recent call last)",
      "\u001b[0;32m<ipython-input-193-bc42e890fa73>\u001b[0m in \u001b[0;36m<module>\u001b[0;34m()\u001b[0m\n\u001b[0;32m----> 1\u001b[0;31m \u001b[0mgrouped\u001b[0m\u001b[0;34m.\u001b[0m\u001b[0mgetgroups\u001b[0m\u001b[0;34m(\u001b[0m\u001b[0;34m)\u001b[0m\u001b[0;34m\u001b[0m\u001b[0m\n\u001b[0m",
      "\u001b[0;32m~/miniconda3/envs/mmc_py35/lib/python3.5/site-packages/pandas/core/groupby.py\u001b[0m in \u001b[0;36m__getattr__\u001b[0;34m(self, attr)\u001b[0m\n\u001b[1;32m    674\u001b[0m \u001b[0;34m\u001b[0m\u001b[0m\n\u001b[1;32m    675\u001b[0m         raise AttributeError(\"%r object has no attribute %r\" %\n\u001b[0;32m--> 676\u001b[0;31m                              (type(self).__name__, attr))\n\u001b[0m\u001b[1;32m    677\u001b[0m \u001b[0;34m\u001b[0m\u001b[0m\n\u001b[1;32m    678\u001b[0m     \u001b[0mplot\u001b[0m \u001b[0;34m=\u001b[0m \u001b[0mproperty\u001b[0m\u001b[0;34m(\u001b[0m\u001b[0mGroupByPlot\u001b[0m\u001b[0;34m)\u001b[0m\u001b[0;34m\u001b[0m\u001b[0m\n",
      "\u001b[0;31mAttributeError\u001b[0m: 'DataFrameGroupBy' object has no attribute 'getgroups'"
     ]
    }
   ],
   "source": [
    "grouped.getgroups()"
   ]
  },
  {
   "cell_type": "code",
   "execution_count": 195,
   "metadata": {},
   "outputs": [
    {
     "name": "stdout",
     "output_type": "stream",
     "text": [
      "Object `pd.DataFrameGroupBy` not found.\n"
     ]
    }
   ],
   "source": []
  },
  {
   "cell_type": "code",
   "execution_count": null,
   "metadata": {
    "collapsed": true
   },
   "outputs": [],
   "source": []
  }
 ],
 "metadata": {
  "kernelspec": {
   "display_name": "Python 3",
   "language": "python",
   "name": "python3"
  },
  "language_info": {
   "codemirror_mode": {
    "name": "ipython",
    "version": 3
   },
   "file_extension": ".py",
   "mimetype": "text/x-python",
   "name": "python",
   "nbconvert_exporter": "python",
   "pygments_lexer": "ipython3",
   "version": "3.5.3"
  }
 },
 "nbformat": 4,
 "nbformat_minor": 2
}
