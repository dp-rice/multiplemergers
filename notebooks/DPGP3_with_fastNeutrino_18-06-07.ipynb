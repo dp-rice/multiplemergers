{
 "cells": [
  {
   "cell_type": "markdown",
   "metadata": {},
   "source": [
    "# DPGP3 diversity analysis"
   ]
  },
  {
   "cell_type": "markdown",
   "metadata": {},
   "source": [
    "The goal of this notebook is to analyze the DPGP3 data, looking at the coarse-grained two-site frequency spectrum for signatures of non-Kingman coalescence."
   ]
  },
  {
   "cell_type": "code",
   "execution_count": 1,
   "metadata": {},
   "outputs": [
    {
     "ename": "ImportError",
     "evalue": "No module named 'helpers'",
     "output_type": "error",
     "traceback": [
      "\u001b[0;31m---------------------------------------------------------------------------\u001b[0m",
      "\u001b[0;31mImportError\u001b[0m                               Traceback (most recent call last)",
      "\u001b[0;32m<ipython-input-1-555a72edc0a1>\u001b[0m in \u001b[0;36m<module>\u001b[0;34m()\u001b[0m\n\u001b[1;32m      5\u001b[0m \u001b[0;32mimport\u001b[0m \u001b[0msys\u001b[0m\u001b[0;34m\u001b[0m\u001b[0m\n\u001b[1;32m      6\u001b[0m \u001b[0msys\u001b[0m\u001b[0;34m.\u001b[0m\u001b[0mpath\u001b[0m\u001b[0;34m.\u001b[0m\u001b[0minsert\u001b[0m\u001b[0;34m(\u001b[0m\u001b[0;36m0\u001b[0m\u001b[0;34m,\u001b[0m \u001b[0;34m\"/home/dpr/mmc_genomics/src\"\u001b[0m\u001b[0;34m)\u001b[0m\u001b[0;34m\u001b[0m\u001b[0m\n\u001b[0;32m----> 7\u001b[0;31m \u001b[0;32mimport\u001b[0m \u001b[0mhelpers\u001b[0m \u001b[0;32mas\u001b[0m \u001b[0mh\u001b[0m\u001b[0;34m\u001b[0m\u001b[0m\n\u001b[0m",
      "\u001b[0;31mImportError\u001b[0m: No module named 'helpers'"
     ]
    }
   ],
   "source": [
    "import numpy as np\n",
    "import matplotlib.pyplot as plt\n",
    "import pandas as pd\n",
    "%matplotlib inline\n",
    "import sys\n",
    "sys.path.insert(0, \"/home/dpr/mmc_genomics/src\")\n",
    "import helpers as h"
   ]
  },
  {
   "cell_type": "markdown",
   "metadata": {},
   "source": [
    "# Data"
   ]
  },
  {
   "cell_type": "markdown",
   "metadata": {},
   "source": [
    "## Diversity"
   ]
  },
  {
   "cell_type": "code",
   "execution_count": null,
   "metadata": {
    "collapsed": true
   },
   "outputs": [],
   "source": [
    "data_dir = '/project/jnovembre/data/external_public/DPGP3/'\n",
    "chromosomes = ['2L', '2R', '3L', '3R']\n",
    "files = {c : data_dir + 'Chr' + c + '.mac.txt.gz' for c in chromosomes}\n",
    "chrom_lengths = {'2L':23011544,\n",
    "                 '2R':21146708,\n",
    "                 '3L':24543557,\n",
    "                 '3R':27905053}\n",
    "#files = [data_dir + 'Chr' + c + '.mac.txt.gz' for c in chromosomes]\n",
    "#chrom_lengths = [23011544, 21146708, 24543557, 27905053]"
   ]
  },
  {
   "cell_type": "code",
   "execution_count": null,
   "metadata": {
    "collapsed": true
   },
   "outputs": [],
   "source": [
    "data = {c : h.loadints(files[c], chrom_lengths[c], 2) for c in chromosomes}"
   ]
  },
  {
   "cell_type": "code",
   "execution_count": null,
   "metadata": {
    "collapsed": true
   },
   "outputs": [],
   "source": [
    "nobs = {c:data[c][:,0] for c in chromosomes}\n",
    "mac = {c:data[c][:,1] for c in chromosomes}"
   ]
  },
  {
   "cell_type": "markdown",
   "metadata": {},
   "source": [
    "## 4-fold degenerate sites"
   ]
  },
  {
   "cell_type": "code",
   "execution_count": null,
   "metadata": {},
   "outputs": [],
   "source": [
    "fourD_sites = pd.read_table('../data/dmel-4Dsites.txt', header=None, names=['chr', 'pos'])\n",
    "fourD_sites.head()"
   ]
  },
  {
   "cell_type": "code",
   "execution_count": null,
   "metadata": {
    "collapsed": true
   },
   "outputs": [],
   "source": [
    "#Convert from one-index to zero-index\n",
    "fourD_pos = {chrom : np.array(fourD_sites.pos[fourD_sites.chr == chrom] - 1) for chrom in chromosomes}"
   ]
  },
  {
   "cell_type": "code",
   "execution_count": null,
   "metadata": {},
   "outputs": [],
   "source": [
    "print('Fraction of sites that are 4-fold degenerate:')\n",
    "for chrom in chromosomes:\n",
    "    print('{}\\t{:.3f}'.format(chrom, len(fourD_pos[chrom]) / data[chrom].shape[0]))"
   ]
  },
  {
   "cell_type": "markdown",
   "metadata": {},
   "source": [
    "## Exomes"
   ]
  },
  {
   "cell_type": "markdown",
   "metadata": {},
   "source": [
    "To-do."
   ]
  },
  {
   "cell_type": "markdown",
   "metadata": {},
   "source": [
    "# Coverage and diversity"
   ]
  },
  {
   "cell_type": "code",
   "execution_count": null,
   "metadata": {
    "collapsed": true
   },
   "outputs": [],
   "source": []
  },
  {
   "cell_type": "code",
   "execution_count": null,
   "metadata": {},
   "outputs": [],
   "source": [
    "window_size = 1000\n",
    "\n",
    "plt.figure(figsize=(15,10))\n",
    "for i, chrom in enumerate(chromosomes):\n",
    "    n_w = chrom_lengths[chrom] // window_size\n",
    "    pos = np.arange(n_w)*window_size / 1e6\n",
    "    nobs_w = np.mean(nobs[chrom][:n_w*window_size].reshape(n_w, window_size), axis=1)\n",
    "                                 \n",
    "    plt.subplot(2,2,i+1)\n",
    "    plt.plot(pos, nobs_w, '.', ms=1, alpha=0.1)#, linestyle='steps-pre')\n",
    "\n",
    "    plt.title(chrom)\n",
    "    if i%2 == 0:\n",
    "        plt.ylabel('Avg. number of called genotypes')\n",
    "    if i >= 2:\n",
    "        plt.xlabel('Position (Mb)')\n",
    "plt.show()"
   ]
  },
  {
   "cell_type": "code",
   "execution_count": null,
   "metadata": {},
   "outputs": [],
   "source": [
    "window_size = 10000\n",
    "\n",
    "plt.figure(figsize=(15,10))\n",
    "for i, chrom in enumerate(chromosomes):\n",
    "    n_w = chrom_lengths[chrom] // window_size\n",
    "    pos = np.arange(n_w)*window_size / 1e6\n",
    "    nobs_w = np.mean(nobs[chrom][:n_w*window_size].reshape(n_w, window_size), axis=1)\n",
    "                                 \n",
    "    plt.subplot(2,2,i+1)\n",
    "    plt.plot(pos, nobs_w, '.', ms=1, alpha=1)#, linestyle='steps-pre')\n",
    "    plt.ylim([85,101])\n",
    "    plt.title(chrom)\n",
    "    if i%2 == 0:\n",
    "        plt.ylabel('Avg. number of called genotypes')\n",
    "    if i >= 2:\n",
    "        plt.xlabel('Position (Mb)')\n",
    "plt.show()"
   ]
  },
  {
   "cell_type": "code",
   "execution_count": null,
   "metadata": {},
   "outputs": [],
   "source": [
    "window_size = 10000\n",
    "\n",
    "plt.figure(figsize=(15,10))\n",
    "for i, chrom in enumerate(chromosomes):\n",
    "    n_w = chrom_lengths[chrom] // window_size\n",
    "    pos = np.arange(n_w)*window_size / 1e6\n",
    "\n",
    "    hascov = nobs[chrom] > 0\n",
    "    hascov_w = np.sum(hascov[:n_w*window_size].reshape(n_w, window_size), axis=1)\n",
    "\n",
    "    poly = mac[chrom] > 0\n",
    "    poly_w = np.sum(poly[:n_w*window_size].reshape(n_w, window_size), axis=1)\n",
    "                             \n",
    "    plt.subplot(2,2,i+1)\n",
    "    plt.plot(pos, poly_w/hascov_w, '.', ms=1, alpha=1)#, linestyle='steps-pre')\n",
    "    plt.ylim([-0.005,0.145])\n",
    "    plt.title(chrom)\n",
    "    if i%2 == 0:\n",
    "        plt.ylabel('Fraction of polymorphic sites')\n",
    "    if i >= 2:\n",
    "        plt.xlabel('Position (Mb)')\n",
    "plt.show()"
   ]
  },
  {
   "cell_type": "code",
   "execution_count": null,
   "metadata": {},
   "outputs": [],
   "source": [
    "window_size = 10000\n",
    "\n",
    "plt.figure(figsize=(15,10))\n",
    "for i, chrom in enumerate(chromosomes):\n",
    "    n_w = chrom_lengths[chrom] // window_size\n",
    "    pos = np.arange(n_w)*window_size / 1e6\n",
    "    \n",
    "    hascov = nobs[chrom] > 0\n",
    "    hascov_w = np.sum(hascov[:n_w*window_size].reshape(n_w, window_size), axis=1)\n",
    "    \n",
    "    pi = h.pairwise_diversity(mac[chrom], nobs[chrom])\n",
    "    pi_w = np.nansum(pi[:n_w*window_size].reshape(n_w, window_size), axis=1)\n",
    "                             \n",
    "    plt.subplot(2,2,i+1)\n",
    "    plt.plot(pos, pi_w/hascov_w, '.', ms=1, alpha=1)#, linestyle='steps-pre')\n",
    "\n",
    "    plt.ylim([-0.001, 0.021])\n",
    "    plt.title(chrom)\n",
    "    if i%2 == 0:\n",
    "        plt.ylabel('Average pairwise diversity')\n",
    "    if i >= 2:\n",
    "        plt.xlabel('Position (Mb)')\n",
    "plt.show()"
   ]
  },
  {
   "cell_type": "code",
   "execution_count": null,
   "metadata": {
    "collapsed": true
   },
   "outputs": [],
   "source": [
    "start = {'2L':int(1e6),\n",
    "        '2R':int(6e6),\n",
    "        '3L':int(1e6),\n",
    "        '3R':int(10e6)}\n",
    "end = {'2L':int(17e6),\n",
    "        '2R':int(19e6),\n",
    "        '3L':int(17e6),\n",
    "        '3R':int(26e6)}"
   ]
  },
  {
   "cell_type": "code",
   "execution_count": null,
   "metadata": {},
   "outputs": [],
   "source": [
    "window_size = 10000\n",
    "\n",
    "plt.figure(figsize=(15,10))\n",
    "for i, chrom in enumerate(chromosomes):\n",
    "    n_w = chrom_lengths[chrom] // window_size\n",
    "    pos = np.arange(n_w)*window_size / 1e6\n",
    "    \n",
    "    hascov = nobs[chrom] > 0\n",
    "    hascov_w = np.sum(hascov[:n_w*window_size].reshape(n_w, window_size), axis=1)\n",
    "    \n",
    "    pi = h.pairwise_diversity(mac[chrom], nobs[chrom])\n",
    "    pi_w = np.nansum(pi[:n_w*window_size].reshape(n_w, window_size), axis=1)\n",
    "                             \n",
    "    plt.subplot(2,2,i+1)\n",
    "    plt.plot(pos, pi_w/hascov_w, '.', ms=1, alpha=1)#, linestyle='steps-pre')\n",
    "    plt.vlines([start[chrom]/1e6,end[chrom]/1e6], -0.001, 0.021)\n",
    "    \n",
    "    plt.ylim([-0.001, 0.021])\n",
    "\n",
    "    plt.title(chrom)\n",
    "    if i%2 == 0:\n",
    "        plt.ylabel('Average pairwise diversity')\n",
    "    if i >= 2:\n",
    "        plt.xlabel('Position (Mb)')\n",
    "plt.show()"
   ]
  },
  {
   "cell_type": "code",
   "execution_count": null,
   "metadata": {},
   "outputs": [],
   "source": [
    "window_size = 10000\n",
    "\n",
    "plt.figure(figsize=(15,10))\n",
    "for i, chrom in enumerate(chromosomes):\n",
    "    n_w = chrom_lengths[chrom] // window_size\n",
    "    pos = np.arange(n_w)*window_size / 1e6\n",
    "    nobs_w = np.mean(nobs[chrom][:n_w*window_size].reshape(n_w, window_size), axis=1)\n",
    "                                 \n",
    "    plt.subplot(2,2,i+1)\n",
    "    plt.plot(pos, nobs_w, '.', ms=1, alpha=1)#, linestyle='steps-pre')\n",
    "    \n",
    "    plt.vlines([start[chrom]/1e6,end[chrom]/1e6], 0, 100)\n",
    "\n",
    "    plt.title(chrom)\n",
    "    if i%2 == 0:\n",
    "        plt.ylabel('Avg. number of called genotypes')\n",
    "    if i >= 2:\n",
    "        plt.xlabel('Position (Mb)')\n",
    "plt.show()"
   ]
  },
  {
   "cell_type": "code",
   "execution_count": null,
   "metadata": {
    "collapsed": true
   },
   "outputs": [],
   "source": []
  },
  {
   "cell_type": "markdown",
   "metadata": {},
   "source": [
    "# Coverage statistics in the \"central regions\""
   ]
  },
  {
   "cell_type": "code",
   "execution_count": null,
   "metadata": {
    "collapsed": true
   },
   "outputs": [],
   "source": [
    "nobs_c = {c:nobs[c][start[c]:end[c]] for c in chromosomes}\n",
    "mac_c = {c:mac[c][start[c]:end[c]] for c in chromosomes}"
   ]
  },
  {
   "cell_type": "code",
   "execution_count": null,
   "metadata": {},
   "outputs": [],
   "source": [
    "plt.figure(figsize=(15,10))\n",
    "for i, chrom in enumerate(chromosomes):\n",
    "    plt.subplot(2,2,i+1)\n",
    "    plt.hist(nobs_c[chrom], bins=np.arange(0,101,1), cumulative=True, histtype='step')\n",
    "    plt.xlim([0,100])\n",
    "    plt.title(chrom)\n",
    "    if i%2 == 0:\n",
    "        plt.ylabel('Number of sites')\n",
    "    if i >= 2:\n",
    "        plt.xlabel('Number of genotypes')\n",
    "plt.show()"
   ]
  },
  {
   "cell_type": "code",
   "execution_count": null,
   "metadata": {},
   "outputs": [],
   "source": [
    "cov_cutoff = 90\n",
    "print('Fraction of sites with >= 90 genotypes')\n",
    "print('Chrom.\\tAll\\tPolymorphic')\n",
    "for c in chromosomes:\n",
    "    f_suf = np.mean(nobs_c[c] >= cov_cutoff)\n",
    "    f_seg_suf = np.sum((nobs_c[c] >= cov_cutoff) & (mac_c[c]>0)) / np.sum(mac_c[c]>0)\n",
    "    print('{}\\t{:.3f}\\t{:.3f}'.format(c, f_suf, f_seg_suf))"
   ]
  },
  {
   "cell_type": "code",
   "execution_count": null,
   "metadata": {
    "collapsed": true
   },
   "outputs": [],
   "source": [
    "sufficient_cov = {c:(nobs_c[c] >= cov_cutoff) for c in chromosomes}"
   ]
  },
  {
   "cell_type": "code",
   "execution_count": null,
   "metadata": {
    "collapsed": true
   },
   "outputs": [],
   "source": [
    "lag_max = 5000\n",
    "sc_corr = {c: np.correlate(sufficient_cov[c].astype(int), sufficient_cov[c][:-lag_max].astype(int)) / len(sufficient_cov[c] - lag_max)\n",
    "           for c in chromosomes}"
   ]
  },
  {
   "cell_type": "code",
   "execution_count": null,
   "metadata": {},
   "outputs": [],
   "source": [
    "plt.figure(figsize=(15,10))\n",
    "for i, c in enumerate(chromosomes):\n",
    "    plt.subplot(2,2,i+1)\n",
    "    y = sc_corr[c] - np.mean(sufficient_cov[c])**2\n",
    "    plt.plot(np.arange(1,lag_max+1), y[1:]/y[0])\n",
    "    plt.ylim([0,1])\n",
    "    plt.xscale('log')\n",
    "    plt.title(c)\n",
    "    if i%2 == 0:\n",
    "        plt.ylabel('Sufficient cov. autocorr.')\n",
    "    if i >= 2:\n",
    "        plt.xlabel('Distance (bp)')\n",
    "plt.show()"
   ]
  },
  {
   "cell_type": "markdown",
   "metadata": {},
   "source": [
    "It looks like there are two scales: order 10 bp and 1 Kb. The are the same for all chromosomes."
   ]
  },
  {
   "cell_type": "code",
   "execution_count": null,
   "metadata": {},
   "outputs": [],
   "source": [
    "window_size = 10\n",
    "\n",
    "plt.figure(figsize=(15,10))\n",
    "for i, chrom in enumerate(chromosomes):\n",
    "    n_w = (end[chrom] - start[chrom]) // window_size\n",
    "    sc_w = np.sum(sufficient_cov[chrom][:n_w*window_size].reshape(n_w, window_size), axis=1)\n",
    "\n",
    "    plt.subplot(2,2,i+1)\n",
    "    plt.hist(sc_w, bins=np.arange(0,window_size+1,1))\n",
    "\n",
    "    plt.title(chrom)\n",
    "    #if i%2 == 0:\n",
    "    #    plt.ylabel('Avg. number of called genotypes')\n",
    "   # if i >= 2:\n",
    "    #    plt.xlabel('Position (Mb)')\n",
    "plt.show()"
   ]
  },
  {
   "cell_type": "code",
   "execution_count": null,
   "metadata": {},
   "outputs": [],
   "source": [
    "window_size = 100\n",
    "\n",
    "plt.figure(figsize=(15,10))\n",
    "for i, chrom in enumerate(chromosomes):\n",
    "    n_w = (end[chrom] - start[chrom]) // window_size\n",
    "    sc_w = np.sum(sufficient_cov[chrom][:n_w*window_size].reshape(n_w, window_size), axis=1)\n",
    "\n",
    "    plt.subplot(2,2,i+1)\n",
    "    plt.hist(sc_w, bins=np.arange(0,window_size+1,1))\n",
    "\n",
    "    plt.title(chrom)\n",
    "    #if i%2 == 0:\n",
    "    #    plt.ylabel('Avg. number of called genotypes')\n",
    "   # if i >= 2:\n",
    "    #    plt.xlabel('Position (Mb)')\n",
    "plt.show()"
   ]
  },
  {
   "cell_type": "markdown",
   "metadata": {},
   "source": [
    "The second mode around 95 suggests that there are ~5bp elements that are being masked by the calling pipeline. This is probably contributing to the first (short) autocorrelation scale."
   ]
  },
  {
   "cell_type": "code",
   "execution_count": null,
   "metadata": {},
   "outputs": [],
   "source": [
    "window_size = 1000\n",
    "\n",
    "plt.figure(figsize=(15,10))\n",
    "for i, chrom in enumerate(chromosomes):\n",
    "    n_w = (end[chrom] - start[chrom]) // window_size\n",
    "    sc_w = np.sum(sufficient_cov[chrom][:n_w*window_size].reshape(n_w, window_size), axis=1)\n",
    "\n",
    "    plt.subplot(2,2,i+1)\n",
    "    plt.hist(sc_w, bins=np.arange(0,window_size+1,10))\n",
    "\n",
    "    plt.title(chrom)\n",
    "    #if i%2 == 0:\n",
    "    #    plt.ylabel('Avg. number of called genotypes')\n",
    "   # if i >= 2:\n",
    "    #    plt.xlabel('Position (Mb)')\n",
    "plt.show()"
   ]
  },
  {
   "cell_type": "markdown",
   "metadata": {},
   "source": [
    "We may want to mask 1 Kb windows with fewer that 800 sufficent sites, but I'm not going to for now."
   ]
  },
  {
   "cell_type": "markdown",
   "metadata": {},
   "source": [
    "# Diversity correlations"
   ]
  },
  {
   "cell_type": "code",
   "execution_count": null,
   "metadata": {},
   "outputs": [],
   "source": [
    "nobs_suf = {}\n",
    "mac_suf = {}\n",
    "maf = {}\n",
    "pi = {}\n",
    "for c in chromosomes:\n",
    "    n = np.zeros_like(nobs_c[c])\n",
    "    n[sufficient_cov[c]] = nobs_c[c][sufficient_cov[c]]\n",
    "    nobs_suf[c] = n\n",
    "    \n",
    "    m = np.zeros_like(mac_c[c])\n",
    "    m[sufficient_cov[c]] = mac_c[c][sufficient_cov[c]]\n",
    "    mac_suf[c] = m\n",
    "    \n",
    "    f = m/n\n",
    "    f[np.isnan(f)] = 0\n",
    "    maf[c] = f\n",
    "    \n",
    "    p = h.pairwise_diversity(m,n)\n",
    "    p[np.isnan(p)] = 0\n",
    "    pi[c] = p"
   ]
  },
  {
   "cell_type": "code",
   "execution_count": null,
   "metadata": {},
   "outputs": [],
   "source": [
    "for c in chromosomes:\n",
    "    print('{}\\t{:.4f}\\t{:.3f}'.format(c,\n",
    "                                      np.sum(pi[c])/np.sum(sufficient_cov[c]),\n",
    "                                      np.sum(mac_suf[c]>0)/np.sum(sufficient_cov[c])))"
   ]
  },
  {
   "cell_type": "code",
   "execution_count": null,
   "metadata": {},
   "outputs": [],
   "source": [
    "sufcov4d = {}\n",
    "nobs4d = {}\n",
    "mac4d = {}\n",
    "maf4d = {}\n",
    "pi4d = {}\n",
    "for c in chromosomes:\n",
    "    # Adjust the positions\n",
    "    pos4d = fourD_pos[c][(fourD_pos[c]>start[c]) & (fourD_pos[c]<end[c])] - start[c]\n",
    "    is4d = np.zeros_like(sufficient_cov[c])\n",
    "    is4d[pos4d] = True\n",
    "    print(np.mean(is4d))\n",
    "    \n",
    "    # This holds boolean values: True for sufficient coverage and 4d\n",
    "    s = np.zeros_like(sufficient_cov[c])\n",
    "    s[is4d] = sufficient_cov[c][is4d]\n",
    "    sufcov4d[c] = s.astype(int)\n",
    "    \n",
    "    n = np.zeros_like(nobs_c[c])\n",
    "    n[s] = nobs_c[c][s]\n",
    "    nobs4d[c] = n\n",
    "    \n",
    "    m = np.zeros_like(mac_c[c])\n",
    "    m[s] = mac_c[c][s]\n",
    "    mac4d[c] = m\n",
    "    \n",
    "    f = m/n\n",
    "    f[np.isnan(f)] = 0\n",
    "    maf4d[c] = f\n",
    "    \n",
    "    p = h.pairwise_diversity(m,n)\n",
    "    p[np.isnan(p)] = 0\n",
    "    pi4d[c] = p\n",
    "#    n = np.zeros_like(nobs_suf[c])\n",
    "#    n[is4d] = nobs_suf[c][is4d]\n",
    "#    nobs4d[c] = n\n",
    "#    sufcov4d[c] = n>0\n",
    "    \n",
    "#    m = np.zeros_like(mac_suf[c])\n",
    "#    m[is4d] = mac_suf[c][is4d]\n",
    "#    mac4d[c] = m\n",
    "    \n",
    "#    f = m/n\n",
    "#    f[np.isnan(f)] = 0\n",
    "#    maf4d[c] = f\n",
    "    \n",
    "#    p = h.pairwise_diversity(m,n)\n",
    "#    p[np.isnan(p)] = 0\n",
    "#    pi4d[c] = p"
   ]
  },
  {
   "cell_type": "code",
   "execution_count": null,
   "metadata": {},
   "outputs": [],
   "source": [
    "for c in chromosomes:\n",
    "    print('{}\\t{:.4f}\\t{:.3f}'.format(c,\n",
    "                                      np.sum(pi4d[c])/np.sum(sufcov4d[c]),\n",
    "                                      np.sum(mac4d[c]>0)/np.sum(sufcov4d[c])))"
   ]
  },
  {
   "cell_type": "code",
   "execution_count": null,
   "metadata": {
    "collapsed": true
   },
   "outputs": [],
   "source": [
    "lag_max = 10000\n",
    "comparisons4d = {}\n",
    "for c in chromosomes:\n",
    "    comparisons4d[c] = np.correlate(sufcov4d[c], sufcov4d[c][:-lag_max])"
   ]
  },
  {
   "cell_type": "code",
   "execution_count": null,
   "metadata": {},
   "outputs": [],
   "source": [
    "print(comparisons4d)"
   ]
  },
  {
   "cell_type": "code",
   "execution_count": null,
   "metadata": {},
   "outputs": [],
   "source": [
    "pi_mean = {c: np.sum(pi4d[c])/np.sum(sufcov4d[c])\n",
    "           for c in chromosomes}\n",
    "print(pi_mean)"
   ]
  },
  {
   "cell_type": "code",
   "execution_count": null,
   "metadata": {
    "collapsed": true
   },
   "outputs": [],
   "source": [
    "pi_corr4d = {c: np.correlate(pi4d[c], pi4d[c][:-lag_max])\n",
    "           for c in chromosomes}"
   ]
  },
  {
   "cell_type": "code",
   "execution_count": null,
   "metadata": {
    "collapsed": true
   },
   "outputs": [],
   "source": [
    "for c in chromosomes:\n",
    "    plt.semilogx(np.arange(3,lag_max,3), (pi_corr4d[c][3::3]/comparisons4d[c][3::3] /pi_mean[c]**2) - 1, '.')\n",
    "    plt.hlines(0, 1, lag_max, linestyle='dashed')\n",
    "    plt.show()"
   ]
  },
  {
   "cell_type": "code",
   "execution_count": null,
   "metadata": {
    "collapsed": true
   },
   "outputs": [],
   "source": [
    "for c in chromosomes:\n",
    "    plt.semilogx(np.arange(3,lag_max,3), (pi_corr4d[c][3::3]/comparisons4d[c][3::3] /pi_mean[c]**2) - 1, '.')\n",
    "    plt.hlines(0, 1, lag_max, linestyle='dashed')\n",
    "    plt.show()"
   ]
  },
  {
   "cell_type": "code",
   "execution_count": null,
   "metadata": {
    "collapsed": true
   },
   "outputs": [],
   "source": [
    "freq_cutoff = 0.05\n",
    "hi_freq4d = {c: ((mac4d[c]>0) & (maf4d[c] > freq_cutoff)).astype(int) for c in chromosomes}\n",
    "lo_freq4d = {c: ((mac4d[c]>0) & (maf4d[c] <= freq_cutoff)).astype(int) for c in chromosomes}"
   ]
  },
  {
   "cell_type": "code",
   "execution_count": null,
   "metadata": {
    "collapsed": true
   },
   "outputs": [],
   "source": [
    "f_hi4d = {c: np.sum(hi_freq4d[c]) / np.sum(sufcov4d[c]) for c in chromosomes}\n",
    "f_lo4d = {c: np.sum(lo_freq4d[c]) / np.sum(sufcov4d[c]) for c in chromosomes}\n",
    "print(f_lo4d, f_hi4d)"
   ]
  },
  {
   "cell_type": "code",
   "execution_count": null,
   "metadata": {
    "collapsed": true
   },
   "outputs": [],
   "source": [
    "hilo_corr4d = {c: np.correlate(hi_freq4d[c], lo_freq4d[c][:-lag_max]) for c in chromosomes}"
   ]
  },
  {
   "cell_type": "code",
   "execution_count": null,
   "metadata": {
    "collapsed": true
   },
   "outputs": [],
   "source": [
    "for c in chromosomes:\n",
    "    plt.semilogx(np.arange(3,lag_max,3), hilo_corr4d[c][3::3]/comparisons4d[c][3::3]/(f_lo4d[c]*f_hi4d[c]) - 1, '.')\n",
    "    plt.hlines(0, 1, lag_max, linestyle='dashed')\n",
    "    plt.show()"
   ]
  },
  {
   "cell_type": "code",
   "execution_count": null,
   "metadata": {
    "collapsed": true
   },
   "outputs": [],
   "source": []
  }
 ],
 "metadata": {
  "kernelspec": {
   "display_name": "Python 3",
   "language": "python",
   "name": "python3"
  },
  "language_info": {
   "codemirror_mode": {
    "name": "ipython",
    "version": 3
   },
   "file_extension": ".py",
   "mimetype": "text/x-python",
   "name": "python",
   "nbconvert_exporter": "python",
   "pygments_lexer": "ipython3",
   "version": "3.5.3"
  }
 },
 "nbformat": 4,
 "nbformat_minor": 2
}
