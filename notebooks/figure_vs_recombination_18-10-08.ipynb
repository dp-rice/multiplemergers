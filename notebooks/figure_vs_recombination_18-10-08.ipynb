{
 "cells": [
  {
   "cell_type": "code",
   "execution_count": 1,
   "metadata": {
    "collapsed": true
   },
   "outputs": [],
   "source": [
    "import numpy as np\n",
    "import matplotlib as mpl\n",
    "import matplotlib.pyplot as plt\n",
    "import sys\n",
    "import gzip\n",
    "sys.path.insert(0, '../src/')\n",
    "import helpers as h\n",
    "%matplotlib inline"
   ]
  },
  {
   "cell_type": "code",
   "execution_count": 2,
   "metadata": {
    "collapsed": true
   },
   "outputs": [],
   "source": [
    "n_samples = 100\n",
    "n_samples_fold = (n_samples+1)//2\n",
    "mac = np.arange(1, n_samples_fold+1)"
   ]
  },
  {
   "cell_type": "markdown",
   "metadata": {},
   "source": [
    "# msprime"
   ]
  },
  {
   "cell_type": "markdown",
   "metadata": {},
   "source": [
    "## Import data"
   ]
  },
  {
   "cell_type": "code",
   "execution_count": 3,
   "metadata": {
    "collapsed": true
   },
   "outputs": [],
   "source": [
    "def get_data(file_list, r_list, n_samples):\n",
    "    data = h.import_msprime_corr(file_list, n_samples)\n",
    "    pi, sfs, jsfs, pi_corr, lolo_corr, lohi_corr, hihi_corr = data\n",
    "    return r_list, sfs/pi[:,None], pi, pi_corr, lohi_corr"
   ]
  },
  {
   "cell_type": "code",
   "execution_count": 4,
   "metadata": {
    "collapsed": true
   },
   "outputs": [],
   "source": [
    "# Recombination rates\n",
    "r_list = np.insert(np.logspace(-1,3,13), 0, 0.0)\n",
    "# Beta coalescent alpha parameter\n",
    "a_list = [2.0, 1.75, 1.5, 1.25]\n",
    "# Exp growth parameter\n",
    "g_list = [1.0, 2.0, 4.0, 8.0]\n",
    "# Piecewise-constant growth time and factor\n",
    "t_list = [0.01, 0.1, 1.0]\n",
    "s_list = [0.2, 0.1, 0.05, 0.01]\n",
    "# Migration\n",
    "m_list1 = np.logspace(-1,1,5)[2:]\n",
    "m_list2 = np.logspace(-1,1,5)[:2]"
   ]
  },
  {
   "cell_type": "code",
   "execution_count": 5,
   "metadata": {
    "collapsed": true
   },
   "outputs": [],
   "source": [
    "head = '../simulations/msprime/jsfs_n-{}_'.format(n_samples)"
   ]
  },
  {
   "cell_type": "code",
   "execution_count": 6,
   "metadata": {
    "collapsed": true
   },
   "outputs": [],
   "source": [
    "a_kingman = 2.0\n",
    "a_beta = 1.5\n",
    "g = 4.0"
   ]
  },
  {
   "cell_type": "code",
   "execution_count": 7,
   "metadata": {
    "collapsed": true
   },
   "outputs": [],
   "source": [
    "r_list_kingman = r_list[:-3]\n",
    "r_list_beta = r_list[:-3]\n",
    "r_list_exp = r_list[:-3]\n",
    "\n",
    "file_list_kingman = [head + 'a-{}_r-{}.txt'.format(a_kingman, r) for r in r_list_kingman]\n",
    "file_list_beta = [head + 'a-{}_r-{}.txt'.format(a_beta, r) for r in r_list_beta]\n",
    "file_list_exp = [head + 'g-{}_r-{}.txt'.format(g, r) for r in r_list_exp]\n",
    "\n",
    "data_kingman = h.import_msprime_corr(file_list_kingman, n_samples)\n",
    "data_beta = h.import_msprime_corr(file_list_beta, n_samples)\n",
    "data_exp = h.import_msprime_corr(file_list_exp, n_samples)"
   ]
  },
  {
   "cell_type": "code",
   "execution_count": 8,
   "metadata": {},
   "outputs": [
    {
     "name": "stdout",
     "output_type": "stream",
     "text": [
      "[  0.00000000e+00   9.99882981e-02   2.15176804e-01   4.64798780e-01\n",
      "   1.00106326e+00   2.15625131e+00   4.64379505e+00   1.00079303e+01\n",
      "   2.15330978e+01   4.64791850e+01   1.00126161e+02]\n",
      "[  0.00000000e+00   9.99212718e-02   2.15752373e-01   4.63928942e-01\n",
      "   1.00414203e+00   2.14957938e+00   4.63621031e+00   9.99076503e+00\n",
      "   2.15642660e+01   4.63250219e+01   1.00500728e+02]\n",
      "[  0.00000000e+00   3.35027186e-02   7.21949278e-02   1.55534240e-01\n",
      "   3.35067718e-01   7.22407256e-01   1.55505434e+00   3.35196341e+00\n",
      "   7.22143293e+00   1.55482834e+01   3.35443394e+01]\n"
     ]
    }
   ],
   "source": [
    "print(r_list_kingman * data_kingman[0]/2)\n",
    "print(r_list_beta * data_beta[0]/2)\n",
    "print(r_list_exp * data_exp[0]/2)"
   ]
  },
  {
   "cell_type": "code",
   "execution_count": 9,
   "metadata": {
    "collapsed": true
   },
   "outputs": [],
   "source": [
    "def wpmi(pi, sfs, sfs2):\n",
    "    return (sfs2/pi**2) * np.log2(sfs2 / np.outer(sfs, sfs))"
   ]
  },
  {
   "cell_type": "code",
   "execution_count": 10,
   "metadata": {
    "collapsed": true
   },
   "outputs": [],
   "source": [
    "chroms = ['Chr'+x for x in ['2L','2R','3L','3R']]\n",
    "file_list_fastNeutrino = ['../simulations/msprime/jsfs_fastNeutrino_n-{}_{}_3EpochConstConst_r-{}.txt'.format(n_samples, ch, r)\n",
    "                          for ch in chroms for r in r_list]\n",
    "data_fastNeutrino = get_data(file_list_fastNeutrino, r_list, n_samples)"
   ]
  },
  {
   "cell_type": "code",
   "execution_count": 11,
   "metadata": {
    "collapsed": true
   },
   "outputs": [],
   "source": [
    "r_list_beta = r_list[:-3]\n",
    "file_list_beta = [head + 'a-{}_r-{}.txt'.format(a, r) for a in a_list for r in r_list_beta]\n",
    "data_beta = get_data(file_list_beta, r_list_beta, n_samples)\n",
    "\n",
    "r_list_kingman = r_list_beta\n",
    "lrb = len(r_list_beta)\n",
    "\n",
    "sfs_kingman = data_beta[1][:lrb]\n",
    "pi_kingman = data_beta[2][:lrb]\n",
    "pic_kingman = data_beta[3][:lrb]\n",
    "lhc_kingman = data_beta[4][:lrb]\n",
    "\n",
    "d_kingman = r_list_kingman*pi_kingman/2"
   ]
  },
  {
   "cell_type": "code",
   "execution_count": null,
   "metadata": {
    "collapsed": true
   },
   "outputs": [],
   "source": []
  },
  {
   "cell_type": "code",
   "execution_count": 12,
   "metadata": {
    "collapsed": true
   },
   "outputs": [],
   "source": [
    "r_list_exp = r_list[:-3]\n",
    "file_list_exp = [head + 'g-{}_r-{}.txt'.format(g, r) for g in g_list for r in r_list_exp]\n",
    "data_exp = get_data(file_list_exp, r_list_exp, n_samples)"
   ]
  },
  {
   "cell_type": "code",
   "execution_count": 13,
   "metadata": {
    "collapsed": true
   },
   "outputs": [],
   "source": [
    "r_list_pwc = r_list\n",
    "data_pwc = []\n",
    "for i_t, t in enumerate(t_list):\n",
    "    fl = [head + 'T-{}_S-{}_r-{}.txt'.format(t,s,r) for s in s_list for r in r_list_pwc]\n",
    "    data = get_data(fl, r_list_pwc, n_samples)\n",
    "    data_pwc.append(data)"
   ]
  },
  {
   "cell_type": "code",
   "execution_count": 14,
   "metadata": {
    "collapsed": true
   },
   "outputs": [],
   "source": [
    "r_list_mig1 = r_list[:-2]\n",
    "file_list_mig1 = [head + 'd-2_M-{}_r-{}.txt'.format(m, r) for m in m_list1 for r in r_list_mig1]\n",
    "data_mig1 = get_data(file_list_mig1, r_list_mig1, n_samples)"
   ]
  },
  {
   "cell_type": "code",
   "execution_count": 15,
   "metadata": {
    "collapsed": true
   },
   "outputs": [],
   "source": [
    "r_list_mig2 = r_list[:-2]/10\n",
    "file_list_mig2 = [head + 'd-2_M-{}_r-{}.txt'.format(m, r) for m in m_list2 for r in r_list_mig2]\n",
    "data_mig2 = get_data(file_list_mig2, r_list_mig2, n_samples)"
   ]
  },
  {
   "cell_type": "markdown",
   "metadata": {},
   "source": [
    "## Make plots"
   ]
  },
  {
   "cell_type": "code",
   "execution_count": 16,
   "metadata": {
    "collapsed": true
   },
   "outputs": [],
   "source": [
    "def tajimasD(n, eta):\n",
    "    theta_pi = h.sfs2pi(eta, n)\n",
    "    theta_w  = np.sum(eta) / np.sum(1/np.arange(1,n))\n",
    "    return theta_pi - theta_w"
   ]
  },
  {
   "cell_type": "code",
   "execution_count": 17,
   "metadata": {
    "collapsed": true
   },
   "outputs": [],
   "source": [
    "def plot_row(axes, r_list, sfs, pi, pic, lhc, cutoffs, n_samples=100, x_lohi='d'):\n",
    "    '''\n",
    "    Take a set of axes and plot the various data on them\n",
    "    '''\n",
    "    # The axis limits\n",
    "    d_lim = [8e-2, (1/8)*1e3]\n",
    "    pic_lim = [-0.01, 0.31]\n",
    "    lhc_lim = [-0.11,0.11]\n",
    "    #lhc_lim = [-0.021,0.021]\n",
    "    sfs_lim = [2e-3, 2e1]\n",
    "\n",
    "    step = len(r_list)\n",
    "    n_steps = sfs.shape[0]//step\n",
    "    \n",
    "    for i in range(n_steps):\n",
    "        tajD = tajimasD(n_samples, np.mean(sfs[i*step:(i+1)*step],axis=0))\n",
    "        color = plt.get_cmap('viridis')(-tajD)\n",
    "        \n",
    "        d = r_list*pi[i*step:(i+1)*step]/2\n",
    "\n",
    "        y1 = pic[i*step:(i+1)*step]\n",
    "        \n",
    "        # Plot LoHi-Correlations for different cutoffs\n",
    "        for j, cutoff in enumerate(cutoffs):\n",
    "            ax = axes[j]\n",
    "            y = lhc[i*step:(i+1)*step, cutoff-1]\n",
    "            if x_lohi == 'd':\n",
    "                x = d\n",
    "                ax.semilogx(x,y, color=color)\n",
    "                ax.semilogx(d_kingman, lhc_kingman[:,cutoff-1], ':', color='k')\n",
    "                ax.hlines(0, d_lim[0], d_lim[1], linestyle='dashed', color='.5')\n",
    "                ax.set_xlim(d_lim)\n",
    "            elif x_lohi == 'pic':\n",
    "                x = y1\n",
    "                ax.plot(x,y, color=color)\n",
    "                ax.plot(pic_kingman, lhc_kingman[:,cutoff-1], ':', color='0.5')\n",
    "                ax.hlines(0, pic_lim[0], pic_lim[1])\n",
    "                ax.set_xlim(pic_lim)\n",
    "            ax.set_ylim(lhc_lim)\n",
    "            \n",
    "            ax.set_yticks([-0.1,0,0.1])\n",
    "            if j > 0:\n",
    "                ax.set_yticklabels([])\n",
    "    return axes"
   ]
  },
  {
   "cell_type": "code",
   "execution_count": 18,
   "metadata": {
    "collapsed": true
   },
   "outputs": [],
   "source": [
    "def plot_row_slim(axes, d, sfs, pic, lhc, cutoffs, n_samples=100, x_lohi='d'):\n",
    "    '''\n",
    "    Take a set of axes and plot the various data on them\n",
    "    '''\n",
    "    # The axis limits\n",
    "    d_lim = [8e-2, (1/8)*1e3]\n",
    "    pic_lim = [-0.01, 0.31]\n",
    "    lhc_lim = [-0.11,0.11]\n",
    "\n",
    "    sfs_lim = [2e-3, 2e1]\n",
    "    \n",
    "    tajD = tajimasD(n_samples, sfs)\n",
    "    color = plt.get_cmap('viridis')(tajD)\n",
    "\n",
    "    # Plot Pi-correlation\n",
    "    x1 = d\n",
    "    y1 = pic\n",
    "\n",
    "    # Plot LoHi-Correlations for different cutoffs\n",
    "    for j, cutoff in enumerate(cutoffs):\n",
    "        ax = axes[j]\n",
    "        y = h.smooth(lhc[cutoff-1], 101)\n",
    "        if x_lohi == 'd':\n",
    "            x = d\n",
    "            ax.semilogx(x,y, color=color)\n",
    "            ax.semilogx(d_kingman, lhc_kingman[:,cutoff-1], ':', color='k')\n",
    "            ax.hlines(0, d_lim[0], d_lim[1], linestyle='dashed', color='.5')\n",
    "            ax.set_xlim(d_lim)\n",
    "        elif x_lohi == 'pic':\n",
    "            x = y1\n",
    "            # Don't use the d=0 bin\n",
    "            ax.plot(x[1:],y[1:], color=color)\n",
    "            ax.plot(pic_kingman, lhc_kingman[:,cutoff-1], ':', color='0.5')\n",
    "            ax.hlines(0, pic_lim[0], pic_lim[1])\n",
    "            ax.set_xlim(pic_lim)\n",
    "        ax.set_ylim(lhc_lim)\n",
    "        \n",
    "        ax.set_yticks([-0.1,0,0.1])\n",
    "        if j > 0:\n",
    "            ax.set_yticklabels([])\n",
    "    \n",
    "    return axes\n"
   ]
  },
  {
   "cell_type": "code",
   "execution_count": 19,
   "metadata": {
    "collapsed": true
   },
   "outputs": [],
   "source": [
    "single_col_width = 3.5\n",
    "# mpl.rcParams['lines.linewidth'] = 2\n",
    "mpl.rcParams['font.size'] = 10\n",
    "mpl.rcParams['axes.titlesize'] = 10\n",
    "mpl.rcParams['text.usetex'] = True\n",
    "mpl.rcParams['font.family'] ='serif'"
   ]
  },
  {
   "cell_type": "markdown",
   "metadata": {
    "collapsed": true
   },
   "source": [
    "# SLiM"
   ]
  },
  {
   "cell_type": "markdown",
   "metadata": {},
   "source": [
    "## Import data"
   ]
  },
  {
   "cell_type": "code",
   "execution_count": 21,
   "metadata": {
    "collapsed": true
   },
   "outputs": [],
   "source": [
    "r_slim = 1e-8\n",
    "mu = 1e-7\n",
    "N = 1e3\n",
    "L = int(1e8)\n",
    "w = int(1e3)\n",
    "lim = L//(10*w)\n",
    "dist = w*np.arange(lim + 1)\n",
    "fsels_sweeps = np.array([0.0, 1e-6, 1e-5, 1e-4, 1e-3])[:-1]\n",
    "fsels_bgsel = np.logspace(-2,0,3)"
   ]
  },
  {
   "cell_type": "code",
   "execution_count": 22,
   "metadata": {
    "collapsed": true
   },
   "outputs": [],
   "source": [
    "fn_pattern = '../simulations/slim/{}_fsel-{}_corrmerged.txt.gz'"
   ]
  },
  {
   "cell_type": "code",
   "execution_count": 23,
   "metadata": {
    "collapsed": true
   },
   "outputs": [],
   "source": [
    "def get_data_slim(fn):\n",
    "    data = h.readcorr_normed(fn, n_samples)\n",
    "    pi, sfs, pic, _, lhc, _ = data\n",
    "    sfs /= pi\n",
    "    d = dist*r_slim*pi / (2*mu)\n",
    "    return d, sfs, pic, lhc"
   ]
  },
  {
   "cell_type": "code",
   "execution_count": 24,
   "metadata": {
    "collapsed": true
   },
   "outputs": [],
   "source": [
    "fn = fn_pattern.format('sweeps', '0.0')\n",
    "data_neut = get_data_slim(fn)"
   ]
  },
  {
   "cell_type": "code",
   "execution_count": 26,
   "metadata": {
    "scrolled": false
   },
   "outputs": [
    {
     "data": {
      "image/png": "[encoded data removed]",
      "text/plain": [
       "<Figure size 378x378 with 13 Axes>"
      ]
     },
     "metadata": {},
     "output_type": "display_data"
    }
   ],
   "source": [
    "cutoffs = [4, 20, 40]\n",
    "n_rows = 4\n",
    "n_cols = len(cutoffs)\n",
    "x_lohi = 'd'\n",
    "\n",
    "xscale = 1.5\n",
    "yscale = 1.5\n",
    "fig = plt.figure(figsize=(xscale*single_col_width, yscale*single_col_width))\n",
    "\n",
    "x_text = 0.025 / xscale\n",
    "x_panel = 0.25\n",
    "x_cb = 0.9\n",
    "panel_size = 0.265\n",
    "panel_buffer = 0.05\n",
    "panel_bottom = 0.1\n",
    "panel_width = panel_size / xscale\n",
    "panel_height = panel_size / yscale\n",
    "panel_xbuffer = panel_buffer / xscale\n",
    "panel_ybuffer = panel_buffer / yscale    \n",
    "\n",
    "# EXP\n",
    "axes = [fig.add_axes([x_panel + i*(panel_width+panel_xbuffer),\n",
    "                      panel_bottom + 3*(panel_height+panel_ybuffer),\n",
    "                      panel_width,\n",
    "                      panel_height]) for i in range(n_cols)]\n",
    "axes[0].set_title('Cutoff, $i_c = 4$')\n",
    "axes[1].set_title('$i_c = 20$')\n",
    "axes[2].set_title('$i_c = 40$')\n",
    "\n",
    "axes = plot_row(axes, *data_exp, cutoffs, x_lohi=x_lohi)\n",
    "axes[-1].lines[-1].set_label('Constant-$N$')\n",
    "axes[-1].legend(frameon=False, loc=(0.1,0.75))\n",
    "\n",
    "# PWC\n",
    "axes = [fig.add_axes([x_panel + i*(panel_width+panel_xbuffer),\n",
    "                  panel_bottom + 2*(panel_height+panel_ybuffer),\n",
    "                  panel_width,\n",
    "                  panel_height]) for i in range(n_cols)]\n",
    "    #axes = [fig.add_subplot(n_rows, n_cols, n_cols+i+1) for i in range(n_cols)]\n",
    "for i_t, t in enumerate(t_list):\n",
    "    axes = plot_row(axes, *data_pwc[i_t], cutoffs, x_lohi=x_lohi)\n",
    "\n",
    "# BETA\n",
    "axes = [fig.add_axes([x_panel + i*(panel_width+panel_xbuffer),\n",
    "                  panel_bottom + 1*(panel_height+panel_ybuffer),\n",
    "                  panel_width,\n",
    "                  panel_height]) for i in range(n_cols)]\n",
    "axes = plot_row(axes, *data_beta, cutoffs, x_lohi=x_lohi)\n",
    "# Remove the redundant Kingman line\n",
    "for ax in axes:\n",
    "    ax.lines.pop(0)\n",
    "\n",
    "for ax in fig.get_axes():\n",
    "    ax.set_xticklabels([])\n",
    "    \n",
    "# Sweeps\n",
    "axes = [fig.add_axes([x_panel + i*(panel_width+panel_xbuffer),\n",
    "                  panel_bottom,\n",
    "                  panel_width,\n",
    "                  panel_height]) for i in range(n_cols)]\n",
    "for fsel in fsels_sweeps:\n",
    "    data = get_data_slim(fn_pattern.format('sweeps', fsel))\n",
    "    axes = plot_row_slim(axes, *data, cutoffs, x_lohi=x_lohi)\n",
    "axes[1].set_xlabel(r'Genomic distance, $d\\,r \\left< T_2 \\right>$')\n",
    "    \n",
    "for ax in fig.get_axes():\n",
    "    ax.spines['right'].set_visible(False)\n",
    "    ax.spines['top'].set_visible(False)\n",
    "    \n",
    "ax = fig.add_axes([x_cb,0.33,0.05,0.33])\n",
    "v = 1\n",
    "norm = mpl.colors.Normalize(vmin=-v, vmax=v)\n",
    "gradient = np.linspace(-v, v, 256)\n",
    "gradient = np.vstack((gradient, gradient))\n",
    "ax.imshow(gradient.T, aspect=0.1, norm=norm, cmap=plt.get_cmap('viridis_r'))\n",
    "ax.set_xticks([])\n",
    "ax.set_yticks([0,256//2,256])\n",
    "ax.set_yticklabels([-1.0, -0.5, 0.0])\n",
    "ax.set_ylim([0,256])\n",
    "ax.set_title(\"Normalized\\nTajima's D\")\n",
    "\n",
    "\n",
    "fig.text(x_text, panel_bottom + panel_height/2 + 3*(panel_height+panel_ybuffer), \"Exponential\\ngrowth\", va='center')\n",
    "fig.text(x_text, panel_bottom + panel_height/2 + 2*(panel_height+panel_ybuffer), \"2-epoch\\ngrowth\", va='center')\n",
    "fig.text(x_text, panel_bottom + panel_height/2 + (panel_height+panel_ybuffer), \"Beta\\ncoalescent\", va='center')\n",
    "fig.text(x_text, panel_bottom + panel_height/2, \"Linked\\nsweeps\", va='center')\n",
    "\n",
    "fig.text(0.15, panel_bottom + 2*panel_height + 1.5*panel_ybuffer, r\"hiloPMI$(d;i_c)$\", rotation=90, va=\"center\")\n",
    "fig.savefig('../manuscript/figures/hilopmi_vs_distance.pdf')\n"
   ]
  },
  {
   "cell_type": "code",
   "execution_count": null,
   "metadata": {
    "collapsed": true
   },
   "outputs": [],
   "source": []
  }
 ],
 "metadata": {
  "kernelspec": {
   "display_name": "Python 3",
   "language": "python",
   "name": "python3"
  },
  "language_info": {
   "codemirror_mode": {
    "name": "ipython",
    "version": 3
   },
   "file_extension": ".py",
   "mimetype": "text/x-python",
   "name": "python",
   "nbconvert_exporter": "python",
   "pygments_lexer": "ipython3",
   "version": "3.5.3"
  }
 },
 "nbformat": 4,
 "nbformat_minor": 2
}
